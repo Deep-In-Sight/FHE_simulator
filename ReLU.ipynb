{
 "cells": [
  {
   "cell_type": "markdown",
   "id": "19238ae7-e763-4e98-81f9-4a7ae01cebaf",
   "metadata": {},
   "source": [
    "# Minimax approximate polynomial for homomorphic comparison\n",
    "\n",
    "Approximation function?\n"
   ]
  },
  {
   "cell_type": "code",
   "execution_count": 4,
   "id": "9c05fa27-496e-4228-a0ef-7449bbaafca8",
   "metadata": {},
   "outputs": [
    {
     "ename": "ModuleNotFoundError",
     "evalue": "No module named 'cipher'",
     "output_type": "error",
     "traceback": [
      "\u001b[0;31m---------------------------------------------------------------------------\u001b[0m",
      "\u001b[0;31mModuleNotFoundError\u001b[0m                       Traceback (most recent call last)",
      "Cell \u001b[0;32mIn [4], line 7\u001b[0m\n\u001b[1;32m      4\u001b[0m \u001b[38;5;28;01mimport\u001b[39;00m \u001b[38;5;21;01mmatplotlib\u001b[39;00m\u001b[38;5;21;01m.\u001b[39;00m\u001b[38;5;21;01mpyplot\u001b[39;00m \u001b[38;5;28;01mas\u001b[39;00m \u001b[38;5;21;01mplt\u001b[39;00m \n\u001b[1;32m      5\u001b[0m \u001b[38;5;28;01mimport\u001b[39;00m \u001b[38;5;21;01mmath\u001b[39;00m\n\u001b[0;32m----> 7\u001b[0m \u001b[38;5;28;01mfrom\u001b[39;00m \u001b[38;5;21;01mcipher\u001b[39;00m \u001b[38;5;28;01mimport\u001b[39;00m \u001b[38;5;241m*\u001b[39m\n\u001b[1;32m      8\u001b[0m \u001b[38;5;28;01mfrom\u001b[39;00m \u001b[38;5;21;01mciphertext\u001b[39;00m \u001b[38;5;28;01mimport\u001b[39;00m Plaintext\n\u001b[1;32m      9\u001b[0m \u001b[38;5;28;01mfrom\u001b[39;00m \u001b[38;5;21;01mscheme\u001b[39;00m \u001b[38;5;28;01mimport\u001b[39;00m \u001b[38;5;241m*\u001b[39m\n",
      "\u001b[0;31mModuleNotFoundError\u001b[0m: No module named 'cipher'"
     ]
    }
   ],
   "source": [
    "import numpy as np\n",
    "from math import sqrt, ceil\n",
    "from numpy import polynomial as P\n",
    "import matplotlib.pyplot as plt \n",
    "import math\n",
    "\n",
    "from cipher import *\n",
    "from ciphertext import Plaintext\n",
    "from scheme import *\n",
    "from algorithms import Algorithms \n",
    "from stats import Statistics\n",
    "from context import set_all\n",
    "\n"
   ]
  },
  {
   "cell_type": "code",
   "execution_count": 14,
   "id": "81615f2e-a12f-48b0-931f-1d4d950bdb35",
   "metadata": {},
   "outputs": [],
   "source": [
    "def relu(arr):\n",
    "    _arr = arr.copy()\n",
    "    _arr[_arr<0]=0\n",
    "    return _arr"
   ]
  },
  {
   "cell_type": "code",
   "execution_count": 16,
   "id": "b9cbff72-6761-4f76-93d7-f7093bf5f4e1",
   "metadata": {},
   "outputs": [
    {
     "data": {
      "text/plain": [
       "<matplotlib.collections.PathCollection at 0x2b014e18d30>"
      ]
     },
     "execution_count": 16,
     "metadata": {},
     "output_type": "execute_result"
    },
    {
     "data": {
      "image/png": "[encoded data removed]",
      "text/plain": [
       "<Figure size 432x288 with 1 Axes>"
      ]
     },
     "metadata": {
      "needs_background": "light"
     },
     "output_type": "display_data"
    }
   ],
   "source": [
    "arr = np.random.rand(100) - 0.5\n",
    "plt.scatter(arr, relu(arr))"
   ]
  },
  {
   "cell_type": "code",
   "execution_count": 13,
   "id": "4e908091-5410-4569-93b2-ed340d6a6583",
   "metadata": {},
   "outputs": [],
   "source": [
    "# Ordinary funcitons\n",
    "def get_depth(degree:int):\n",
    "    if degree > 1:\n",
    "        return ceil(np.log2(degree))\n",
    "    elif degree == 1:\n",
    "        return 0"
   ]
  },
  {
   "cell_type": "code",
   "execution_count": 14,
   "id": "bf5225c0-a5f6-4bfe-9848-9ad67990d568",
   "metadata": {},
   "outputs": [
    {
     "name": "stdout",
     "output_type": "stream",
     "text": [
      "2\n",
      "3\n",
      "4\n",
      "5\n",
      "6\n",
      "7\n",
      "8\n",
      "9\n"
     ]
    }
   ],
   "source": [
    "for degree in range(2,10):\n",
    "    print(degree, )"
   ]
  },
  {
   "cell_type": "code",
   "execution_count": 140,
   "id": "eef42a4c-0fbc-4bc4-a3f7-5c1a271e04e4",
   "metadata": {},
   "outputs": [],
   "source": [
    "# degrees from i=1 to k\n",
    "# from Eunsang Lee+21\n",
    "\n",
    "\n",
    "MINIMUM_MULT = {4:[3,3,5],\n",
    "                5:[5,5,5],\n",
    "                6:[3,5,5,5],\n",
    "                7:[3,3,5,5,5],\n",
    "                8:[5,5,5,5,9],\n",
    "                9:[5,5,5,5,5,5],\n",
    "               10:[5,5,5,5,5,9],\n",
    "               11:[3,5,5,5,5,5,5],\n",
    "               12:[3,5,5,5,5,5,9],\n",
    "               13:[3,5,5,5,5,5,5,5],\n",
    "               14:[3,3,5,5,5,5,5,5,5],\n",
    "               15:[3,3,5,5,5,5,5,5,9],\n",
    "               16:[3,3,5,5,5,5,5,5,5,5],\n",
    "               17:[5,5,5,5,5,5,5,5,5,5],\n",
    "               18:[3,3,5,5,5,5,5,5,5,5,5],\n",
    "               19:[5,5,5,5,5,5,5,5,5,5,5],\n",
    "               20:[5,5,5,5,5,5,5,5,5,5,9]}\n",
    "\n",
    "MINIMUM_DEPTH = {4:[27],\n",
    "                 5:[7,13],\n",
    "                 6:[15,15],\n",
    "                 7:[7,7,13],\n",
    "                 8:[7,15,15],\n",
    "                 9:[7,7,7,13],\n",
    "                10:[7,7,13,15],\n",
    "                11:[7,15,15,15],\n",
    "                12:[15,15,15,15],\n",
    "                13:[15,15,15,31],\n",
    "                14:[7,7,15,15,27],\n",
    "                15:[7,15,15,15,27],\n",
    "                16:[15,15,15,15,27],\n",
    "                17:[15,15,15,29,29],\n",
    "                18:[15,15,29,29,31],\n",
    "                19:[15,29,31,31,31],\n",
    "                20:[29,31,31,31,31]}\n",
    "\n",
    "def poly_eval(ctxt, coeff):\n",
    "    \"\"\"Evaluate polynomial expression of coefficients \"coeff\"\n",
    "    \n",
    "    parameters\n",
    "    ----------\n",
    "    ctxt: Ciphertext\n",
    "    coeff: Coefficients of polynomial starting from 0-th degree\n",
    "    \n",
    "    \n",
    "    exmaple\n",
    "    -------\n",
    "        y = ax + bx**2 + cx**3 + d\n",
    "        y_fhe = poly_eval(ctxt, [d,a,b,c])\n",
    "    \n",
    "    \"\"\"\n",
    "    degree = len(coeff)\n",
    "    logp = ctxt.logp\n",
    "    \n",
    "    cpows = ev.powerExtended(ctxt, logp, degree) # compute x, x**2, x**3, x**4\n",
    "    aixi = Ciphertext()\n",
    "    res = Ciphertext()\n",
    "    for cpw, coef in zip(cpows, coeff[1:]):\n",
    "        ev.ev.mult_by_plain(aixi, cpw, coef, logp) ## aixi gets the output. It's logp is maintained and updated.\n",
    "        bits_down = res.logq - aixi.logq # rescale only if res.logp > aixi.logp\n",
    "        ev.rescale_by(res, bits_down, inplace=True)\n",
    "        ev.add(res, aixi)\n",
    "    return res\n",
    "\n",
    "def sgn(ctxt, alpha:int, min_mult=True, min_depth=False):\n",
    "    \"\"\"approximate sign function\n",
    "    \n",
    "    parameters\n",
    "    ----------\n",
    "    ctxt: Ciphertext\n",
    "    alpha: positive int, tolerance parameter. err <= 2**alpha\n",
    "    \"\"\"\n",
    "    assert alpha > 3 and isinstance(alpha, int), \"alpha: only positive int > 3 are allowed\"\n",
    "    \n",
    "    _ctxt = ctxt.copy()\n",
    "    \n",
    "    # f_a(x), f_b(x), f_c(x), f_d(x), ..., f_x(x) of lower degrees\n",
    "    approx_poly_degrees = MINIMUM_MULT[alpha]\n",
    "    \n",
    "    # f_x(...(f_d(f_c(f_b(f_a(x))))))\n",
    "    for degree in approx_poly_degrees:\n",
    "        #coeff = minimax(-1, 1.0001, degree)\n",
    "        #_ctxt = poly_eval(_ctxt, coeff) # auto rescaled, but not auto bootstrapped\n",
    "    \n",
    "        #max_depth = get_depth(degree)\n",
    "    \n",
    "        fun = minimax(-1.1, 1.11, degree)\n",
    "        _ctxt = fun(_ctxt)\n",
    "        print(\"degree\", degree)\n",
    "        print(_ctxt)\n",
    "        plt.plot(_ctxt)\n",
    "        \n",
    "    return _ctxt\n",
    "    \n",
    "def relu_fhe(ctxt, alpha:int):\n",
    "    \"\"\"approximate relu function\n",
    "    \n",
    "    parameters\n",
    "    ----------\n",
    "    ctxt: Ciphertext\n",
    "    alpha: tolerance parameter. err <= 2**alpha\n",
    "    \"\"\"\n",
    "    is_positive = sgn(ctxt.copy())\n",
    "    \n",
    "    return ev.mult(ctxt, is_positive, alpha)\n",
    "    \n",
    "    \n",
    "from numpy import polynomial as P\n",
    "def signv(x):\n",
    "    ret = np.ones(len(x))\n",
    "    ret[x<0] = -1\n",
    "    return ret\n",
    "\n",
    "def minimax(xl1, xr1, xl2, xr2, deg, npoints = 100):\n",
    "    xx = np.concatenate((np.linspace(xl1,xr1,npoints), \n",
    "                         np.linspace(xl2,xr2,npoints)))\n",
    "    chev = P.chebyshev.Chebyshev.fit(xx, signv(xx), deg=deg) # F.elu\n",
    "    power = chev.convert(kind=P.Polynomial)\n",
    "    return power"
   ]
  },
  {
   "cell_type": "code",
   "execution_count": 142,
   "id": "04c82008",
   "metadata": {},
   "outputs": [
    {
     "data": {
      "text/plain": [
       "[<matplotlib.lines.Line2D at 0x7fe7589c8f70>]"
      ]
     },
     "execution_count": 142,
     "metadata": {},
     "output_type": "execute_result"
    },
    {
     "data": {
      "image/png": "[encoded data removed]",
      "text/plain": [
       "<Figure size 640x480 with 1 Axes>"
      ]
     },
     "metadata": {},
     "output_type": "display_data"
    }
   ],
   "source": [
    "fun = minimax(-1.0, -0.001, 0.01, 1.001, 9)\n",
    "\n",
    "plt.plot(xx2, fun(xx2))"
   ]
  },
  {
   "cell_type": "code",
   "execution_count": 52,
   "id": "16169e7b",
   "metadata": {},
   "outputs": [],
   "source": [
    "degrees = MINIMUM_DEPTH[12]"
   ]
  },
  {
   "cell_type": "code",
   "execution_count": 190,
   "id": "cf7a82b1",
   "metadata": {},
   "outputs": [],
   "source": [
    "def _appr_sign_funs(degrees, margin = 0.01, eps=0.02): \n",
    "    xin = np.linspace(-0.999, 1.001, 100000)\n",
    "\n",
    "    funs=[]\n",
    "    for deg in degrees:\n",
    "        print(deg, eps, xin.min()-margin, -eps+margin, eps-margin, xin.max()+margin)\n",
    "        fun = minimax(xin.min()-margin, -eps+margin, eps-margin, xin.max()+margin, deg, npoints = 2*deg+1)\n",
    "        xin = fun(xin)\n",
    "        eps = 1-(1-2*eps)**2\n",
    "        funs.append(fun)\n",
    "    return funs\n",
    "                    \n",
    "def appr_sign(xin, funs):\n",
    "    for fun in funs:\n",
    "        xin = fun(xin)\n",
    "    return xin\n"
   ]
  },
  {
   "cell_type": "code",
   "execution_count": 191,
   "id": "150fe428",
   "metadata": {},
   "outputs": [
    {
     "name": "stdout",
     "output_type": "stream",
     "text": [
      "15 0.02 -1.009 -0.01 0.01 1.011\n",
      "15 0.07840000000000003 -1.1931301679451465 -0.06840000000000003 0.06840000000000003 1.1944333325999297\n",
      "15 0.2890137600000001 -1.1589583495795004 -0.2790137600000001 0.2790137600000001 1.1595640753441199\n",
      "15 0.8219392261226498 -1.0210020494719052 -0.8119392261226498 0.8119392261226498 1.0210368948813757\n"
     ]
    },
    {
     "data": {
      "text/plain": [
       "[<matplotlib.lines.Line2D at 0x7fe757af9cf0>]"
      ]
     },
     "execution_count": 191,
     "metadata": {},
     "output_type": "execute_result"
    },
    {
     "data": {
      "image/png": "[encoded data removed]",
      "text/plain": [
       "<Figure size 640x480 with 1 Axes>"
      ]
     },
     "metadata": {},
     "output_type": "display_data"
    }
   ],
   "source": [
    "xin = np.linspace(-0.999, 1.001, 100000)\n",
    "\n",
    "out = xin.copy()\n",
    "funs = _appr_sign_funs(MINIMUM_DEPTH[12])\n",
    "out = appr_sign(xin, funs)\n",
    "plt.plot(xin, out)"
   ]
  },
  {
   "cell_type": "code",
   "execution_count": null,
   "id": "a74c4692",
   "metadata": {},
   "outputs": [],
   "source": []
  },
  {
   "cell_type": "code",
   "execution_count": 152,
   "id": "60b7fa35",
   "metadata": {},
   "outputs": [
    {
     "data": {
      "text/plain": [
       "<matplotlib.legend.Legend at 0x7fe758715c60>"
      ]
     },
     "execution_count": 152,
     "metadata": {},
     "output_type": "execute_result"
    },
    {
     "data": {
      "image/png": "[encoded data removed]",
      "text/plain": [
       "<Figure size 640x480 with 1 Axes>"
      ]
     },
     "metadata": {},
     "output_type": "display_data"
    }
   ],
   "source": [
    "fun = minimax(-1.0, -0.01, 0.01, 1.001, degrees[0], npoints=2*degrees[0]+1)\n",
    "xx22 = fun(xx2)\n",
    "fun2 = minimax(-, -0.1, 0.1, 1.35, degrees[1], npoints=2*degrees[1]+1)\n",
    "xx33 = fun2(xx22)\n",
    "fun3 = minimax(xx33.min()-margin, -0.5, 0.5, xx33.max()+margin, degrees[2], npoints=2*degrees[2]+1)\n",
    "xx44 = fun3(xx33)\n",
    "fun4 = minimax(xx44.min()-margin, -0.7, 0.7, xx44.max()+margin, degrees[3], npoints=2*degrees[3]+1)\n",
    "\n",
    "plt.plot(xx2, fun(xx2), label=\"fun 1\")\n",
    "plt.plot(xx2, fun2(fun(xx2)), label=\"fun 2\")\n",
    "#plt.plot(xx2, fun3(xx2))\n",
    "#plt.plot(xx2, fun4(xx2))\n",
    "out = fun4(fun3(fun2(fun(xx2))))\n",
    "plt.plot(xx2, fun4(fun3(fun2(fun(xx2)))), label=\"fun 4\")\n",
    "plt.legend()"
   ]
  },
  {
   "cell_type": "code",
   "execution_count": 153,
   "id": "7d351fd6",
   "metadata": {},
   "outputs": [],
   "source": [
    "ans = signv(xx2)"
   ]
  },
  {
   "cell_type": "code",
   "execution_count": 188,
   "id": "28d75072",
   "metadata": {},
   "outputs": [
    {
     "data": {
      "text/plain": [
       "0.99832"
      ]
     },
     "execution_count": 188,
     "metadata": {},
     "output_type": "execute_result"
    }
   ],
   "source": [
    "np.sum(np.isclose(out, ans, atol=2**-12)) / len(out)"
   ]
  },
  {
   "cell_type": "code",
   "execution_count": 194,
   "id": "391ba14d",
   "metadata": {},
   "outputs": [],
   "source": [
    "def relu_custom(xin, degrees):\n",
    "    funs = _appr_sign_funs(degrees)\n",
    "    out = appr_sign(xin, funs)\n",
    "\n",
    "    return xin * (out+1)/2\n"
   ]
  },
  {
   "cell_type": "code",
   "execution_count": 201,
   "id": "e6ce6f32",
   "metadata": {},
   "outputs": [],
   "source": [
    "def relu(xin):\n",
    "    xin_ = xin.copy()\n",
    "    xin_[xin_<0] = 0\n",
    "    return xin_"
   ]
  },
  {
   "cell_type": "code",
   "execution_count": 205,
   "id": "37f584ca",
   "metadata": {},
   "outputs": [
    {
     "name": "stdout",
     "output_type": "stream",
     "text": [
      "15 0.02 -1.009 -0.01 0.01 1.011\n",
      "15 0.07840000000000003 -1.1931301679451465 -0.06840000000000003 0.06840000000000003 1.1944333325999297\n",
      "15 0.2890137600000001 -1.1589583495795004 -0.2790137600000001 0.2790137600000001 1.1595640753441199\n",
      "15 0.8219392261226498 -1.0210020494719052 -0.8119392261226498 0.8119392261226498 1.0210368948813757\n"
     ]
    },
    {
     "data": {
      "image/png": "[encoded data removed]",
      "text/plain": [
       "<Figure size 640x480 with 1 Axes>"
      ]
     },
     "metadata": {},
     "output_type": "display_data"
    }
   ],
   "source": [
    "xin = np.linspace(-0.999, 1.001, 100000)\n",
    "\n",
    "rappx = relu_custom(xin, MINIMUM_DEPTH[12])\n",
    "rans = relu(xin)\n",
    "\n",
    "plt.plot(xin, rappx, label=\"apprx\")\n",
    "plt.plot(xin, rans, label=\"correct\")\n",
    "plt.show()"
   ]
  },
  {
   "cell_type": "code",
   "execution_count": 206,
   "id": "28c10b2b",
   "metadata": {},
   "outputs": [
    {
     "data": {
      "text/plain": [
       "1.0"
      ]
     },
     "execution_count": 206,
     "metadata": {},
     "output_type": "execute_result"
    }
   ],
   "source": [
    "np.sum(np.isclose(rappx, rans, atol=2**-12)) / len(rans)"
   ]
  },
  {
   "cell_type": "code",
   "execution_count": null,
   "id": "657d342f",
   "metadata": {},
   "outputs": [],
   "source": []
  },
  {
   "cell_type": "code",
   "execution_count": 2,
   "id": "fc8a0fee",
   "metadata": {},
   "outputs": [],
   "source": [
    "def sign(x):\n",
    "    if x < 0:\n",
    "        return -1\n",
    "    else:\n",
    "        return 1"
   ]
  },
  {
   "cell_type": "code",
   "execution_count": 5,
   "id": "bfec309c",
   "metadata": {},
   "outputs": [],
   "source": [
    "deg = 7\n",
    "ch = Chebyshev(-1,1.01,deg, sign)"
   ]
  },
  {
   "cell_type": "code",
   "execution_count": 8,
   "id": "aba98000",
   "metadata": {},
   "outputs": [
    {
     "data": {
      "text/plain": [
       "<bound method Chebyshev.eval of <__main__.Chebyshev object at 0x7fe7a7ba94e0>>"
      ]
     },
     "execution_count": 8,
     "metadata": {},
     "output_type": "execute_result"
    }
   ],
   "source": [
    "ch.eval"
   ]
  },
  {
   "cell_type": "code",
   "execution_count": 17,
   "id": "35fae004-3e9e-47ed-bd66-6ca11c02d701",
   "metadata": {},
   "outputs": [],
   "source": [
    "context, ev, encoder, encryptor, decryptor = set_all(30, 150, 12)\n",
    "nslots = context.params.nslots"
   ]
  },
  {
   "cell_type": "code",
   "execution_count": null,
   "id": "648eb0c9-0427-42f8-ad1a-e8202764bcbe",
   "metadata": {},
   "outputs": [],
   "source": []
  },
  {
   "cell_type": "markdown",
   "id": "7d6f4b1a-4581-460d-8184-0d9c6976a429",
   "metadata": {},
   "source": [
    "## Inlined version"
   ]
  },
  {
   "cell_type": "code",
   "execution_count": null,
   "id": "376368b1-31fa-48fd-95bb-9f7d8251a949",
   "metadata": {},
   "outputs": [],
   "source": [
    "alpha = 4\n",
    "min_mult = True\n",
    "\n",
    "## sgn()\n",
    "_ctxt = ctxt.copy()\n",
    "\n",
    "approx_poly_degrees = [3,3,5]\n",
    "\n",
    "degree = 3\n",
    "coeff = minimax(3)\n",
    "# coeff = [a,b,c,d] (float)\n",
    "max_depth = get_depth(3) # == 2\n",
    "\n",
    "## poly_eval()\n",
    "\n",
    "\n"
   ]
  }
 ],
 "metadata": {
  "kernelspec": {
   "display_name": "Python 3 (ipykernel)",
   "language": "python",
   "name": "python3"
  },
  "language_info": {
   "codemirror_mode": {
    "name": "ipython",
    "version": 3
   },
   "file_extension": ".py",
   "mimetype": "text/x-python",
   "name": "python",
   "nbconvert_exporter": "python",
   "pygments_lexer": "ipython3",
   "version": "3.10.4"
  }
 },
 "nbformat": 4,
 "nbformat_minor": 5
}
