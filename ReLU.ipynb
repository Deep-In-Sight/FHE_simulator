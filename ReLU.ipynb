{
 "cells": [
  {
   "cell_type": "markdown",
   "id": "19238ae7-e763-4e98-81f9-4a7ae01cebaf",
   "metadata": {},
   "source": [
    "# Minimax approximate polynomial for homomorphic comparison"
   ]
  },
  {
   "cell_type": "code",
   "execution_count": 1,
   "id": "9c05fa27-496e-4228-a0ef-7449bbaafca8",
   "metadata": {},
   "outputs": [],
   "source": [
    "import numpy as np\n",
    "from math import sqrt, ceil\n",
    "from numpy import polynomial as P\n",
    "import matplotlib.pyplot as plt \n",
    "\n",
    "from cipher import *\n",
    "from ciphertext import Plaintext\n",
    "from scheme import *\n",
    "from algorithms import Algorithms \n",
    "from stats import Statistics\n",
    "from context import set_all"
   ]
  },
  {
   "cell_type": "code",
   "execution_count": 2,
   "id": "81615f2e-a12f-48b0-931f-1d4d950bdb35",
   "metadata": {},
   "outputs": [],
   "source": [
    "def relu(arr):\n",
    "    _arr = arr.copy()\n",
    "    _arr[_arr<0]=0\n",
    "    return _arr"
   ]
  },
  {
   "cell_type": "code",
   "execution_count": 3,
   "id": "b9cbff72-6761-4f76-93d7-f7093bf5f4e1",
   "metadata": {},
   "outputs": [
    {
     "data": {
      "text/plain": [
       "<matplotlib.collections.PathCollection at 0x7f62608ac040>"
      ]
     },
     "execution_count": 3,
     "metadata": {},
     "output_type": "execute_result"
    },
    {
     "data": {
      "image/png": "[encoded data removed]",
      "text/plain": [
       "<Figure size 432x288 with 1 Axes>"
      ]
     },
     "metadata": {
      "needs_background": "light"
     },
     "output_type": "display_data"
    }
   ],
   "source": [
    "arr = np.random.rand(100) - 0.5\n",
    "plt.scatter(arr, relu(arr))"
   ]
  },
  {
   "cell_type": "code",
   "execution_count": null,
   "id": "4e908091-5410-4569-93b2-ed340d6a6583",
   "metadata": {},
   "outputs": [],
   "source": [
    "# Ordinary funcitons\n",
    "def minimax(degree):\n",
    "    poly\n",
    "    \n",
    "    \n",
    "def get_depth(degree:int):\n",
    "    if degree > 1:\n",
    "        return ceil(np.log2(degree))\n",
    "    elif degree == 1:\n",
    "        return 0"
   ]
  },
  {
   "cell_type": "code",
   "execution_count": 29,
   "id": "eef42a4c-0fbc-4bc4-a3f7-5c1a271e04e4",
   "metadata": {},
   "outputs": [],
   "source": [
    "# degrees from i=1 to k\n",
    "# from Eunsang Lee+21\n",
    "MINIMUM_MULT = {4:[3,3,5],\n",
    "                5:[5,5,5],\n",
    "                6:[3,5,5,5],\n",
    "                7:[3,3,5,5,5],\n",
    "                8:[5,5,5,5,9],\n",
    "                9:[5,5,5,5,5,5],\n",
    "               10:[5,5,5,5,5,9],\n",
    "               11:[3,5,5,5,5,5,5],\n",
    "               12:[3,5,5,5,5,5,9],\n",
    "               13:[3,5,5,5,5,5,5,5],\n",
    "               14:[3,3,5,5,5,5,5,5,5],\n",
    "               15:[3,3,5,5,5,5,5,5,9],\n",
    "               16:[3,3,5,5,5,5,5,5,5,5],\n",
    "               17:[5,5,5,5,5,5,5,5,5,5],\n",
    "               18:[3,3,5,5,5,5,5,5,5,5,5],\n",
    "               19:[5,5,5,5,5,5,5,5,5,5,5],\n",
    "               20:[5,5,5,5,5,5,5,5,5,5,9]}\n",
    "\n",
    "MINIMUM_DEPTH = {4:[27],\n",
    "                 5:[7,13],\n",
    "                 6:[15,15],\n",
    "                 7:[7,7,13],\n",
    "                 8:[7,15,15],\n",
    "                 9:[7,7,7,13],\n",
    "                10:[7,7,13,15],\n",
    "                11:[7,15,15,15],\n",
    "                12:[15,15,15,15],\n",
    "                13:[15,15,15,31],\n",
    "                14:[7,7,15,15,27],\n",
    "                15:[7,15,15,15,27],\n",
    "                16:[15,15,15,15,27],\n",
    "                17:[15,15,15,29,29],\n",
    "                18:[15,15,29,29,31],\n",
    "                19:[15,29,31,31,31],\n",
    "                20:[29,31,31,31,31]}\n",
    "\n",
    "def poly_eval(ctxt, coeff):\n",
    "    \"\"\"Evaluate polynomial expression of coefficients \"coeff\"\n",
    "    \n",
    "    parameters\n",
    "    ----------\n",
    "    ctxt: Ciphertext\n",
    "    coeff: Coefficients of polynomial starting from 0-th degree\n",
    "    \n",
    "    \n",
    "    exmaple\n",
    "    -------\n",
    "        y = ax + bx**2 + cx**3 + d\n",
    "        y_fhe = poly_eval(ctxt, [d,a,b,c])\n",
    "    \n",
    "    \"\"\"\n",
    "    degree = len(coeff)\n",
    "    logp = ctxt.logp\n",
    "    \n",
    "    cpows = ev.powerExtended(ctxt, logp, degree) # compute x, x**2, x**3, x**4\n",
    "    aixi = Ciphertext()\n",
    "    res = Ciphertext()\n",
    "    for cpw, coef in zip(cpows, coeff[1:]):\n",
    "        ev.ev.mult_by_plain(aixi, cpw, coef, logp) ## aixi gets the output. It's logp is maintained and updated.\n",
    "        bits_down = res.logq - aixi.logq # rescale only if res.logp > aixi.logp\n",
    "        ev.rescale_by(res, bits_down, inplace=True)\n",
    "        ev.add(res, aixi)\n",
    "    return res\n",
    "\n",
    "def sgn(ctxt, alpha:int, min_mult=True, min_depth=False):\n",
    "    \"\"\"approximate sign function\n",
    "    \n",
    "    parameters\n",
    "    ----------\n",
    "    ctxt: Ciphertext\n",
    "    alpha: positive int, tolerance parameter. err <= 2**alpha\n",
    "    \"\"\"\n",
    "    assert alpha > 3 and isinstance(alpha, int), \"alpha: only positive int > 3 are allowed\"\n",
    "    \n",
    "    _ctxt = ctxt.copy()\n",
    "    \n",
    "    # f_a(x), f_b(x), f_c(x), f_d(x), ..., f_x(x) of lower degrees\n",
    "    approx_poly_degrees = MINIMUM_MULT[alpha]\n",
    "    \n",
    "    # f_x(...(f_d(f_c(f_b(f_a(x))))))\n",
    "    for degree in approx_poly_degrees:\n",
    "        coeff = minimax(degree)\n",
    "        #max_depth = get_depth(degree)\n",
    "        _ctxt = poly_eval(_ctxt, coeff) # auto rescaled, but not auto bootstrapped\n",
    "    \n",
    "def relu_fhe(ctxt, alpha:int):\n",
    "    \"\"\"approximate relu function\n",
    "    \n",
    "    parameters\n",
    "    ----------\n",
    "    ctxt: Ciphertext\n",
    "    alpha: tolerance parameter. err <= 2**alpha\n",
    "    \"\"\"\n",
    "    is_positive = sgn(ctxt.copy())\n",
    "    \n",
    "    return ev.mult(ctxt, is_positive, alpha)\n",
    "    "
   ]
  },
  {
   "cell_type": "code",
   "execution_count": 17,
   "id": "35fae004-3e9e-47ed-bd66-6ca11c02d701",
   "metadata": {},
   "outputs": [],
   "source": [
    "context, ev, encoder, encryptor, decryptor = set_all(30, 150, 12)\n",
    "nslots = context.params.nslots"
   ]
  },
  {
   "cell_type": "code",
   "execution_count": null,
   "id": "648eb0c9-0427-42f8-ad1a-e8202764bcbe",
   "metadata": {},
   "outputs": [],
   "source": []
  },
  {
   "cell_type": "markdown",
   "id": "7d6f4b1a-4581-460d-8184-0d9c6976a429",
   "metadata": {},
   "source": [
    "## Inlined version"
   ]
  },
  {
   "cell_type": "code",
   "execution_count": null,
   "id": "376368b1-31fa-48fd-95bb-9f7d8251a949",
   "metadata": {},
   "outputs": [],
   "source": [
    "alpha = 4\n",
    "min_mult = True\n",
    "\n",
    "## sgn()\n",
    "_ctxt = ctxt.copy()\n",
    "\n",
    "approx_poly_degrees = [3,3,5]\n",
    "\n",
    "degree = 3\n",
    "coeff = minimax(3)\n",
    "# coeff = [a,b,c,d] (float)\n",
    "max_depth = get_depth(3) # == 2\n",
    "\n",
    "## poly_eval()\n",
    "\n",
    "\n"
   ]
  }
 ],
 "metadata": {
  "kernelspec": {
   "display_name": "Python 3.10.4 ('fhe')",
   "language": "python",
   "name": "python3"
  },
  "language_info": {
   "codemirror_mode": {
    "name": "ipython",
    "version": 3
   },
   "file_extension": ".py",
   "mimetype": "text/x-python",
   "name": "python",
   "nbconvert_exporter": "python",
   "pygments_lexer": "ipython3",
   "version": "3.10.4"
  },
  "vscode": {
   "interpreter": {
    "hash": "60d42a677e1abf850e158ee39e01a5d70da0f6529681f4a4eca4a35dff8a082c"
   }
  }
 },
 "nbformat": 4,
 "nbformat_minor": 5
}
