{
 "cells": [
  {
   "cell_type": "markdown",
   "id": "19238ae7-e763-4e98-81f9-4a7ae01cebaf",
   "metadata": {},
   "source": [
    "# Minimax approximate polynomial for homomorphic comparison\n",
    "\n",
    "Approximation function?\n"
   ]
  },
  {
   "cell_type": "code",
   "execution_count": 1,
   "id": "9c05fa27-496e-4228-a0ef-7449bbaafca8",
   "metadata": {},
   "outputs": [],
   "source": [
    "import numpy as np\n",
    "from math import sqrt, ceil\n",
    "from numpy import polynomial as P\n",
    "import matplotlib.pyplot as plt \n",
    "\n",
    "from cipher import *\n",
    "from ciphertext import Plaintext\n",
    "from scheme import *\n",
    "from algorithms import Algorithms \n",
    "from stats import Statistics\n",
    "from context import set_all"
    "import math\n",
    "\n",
    "from hemul.cipher import *\n",
    "from hemul.ciphertext import Plaintext\n",
    "from hemul.scheme import *\n",
    "from hemul.algorithms import Algorithms \n",
    "from hemul.stats import Statistics\n",
    "from hemul.context import set_all\n",
    "\n",
    "from hemul.comparator import appr_sign, appr_relu"
   ]
  },
  {
   "cell_type": "code",
   "execution_count": 6,
   "id": "81615f2e-a12f-48b0-931f-1d4d950bdb35",
   "metadata": {},
   "outputs": [],
   "source": [
    "def relu(arr):\n",
    "    _arr = arr.copy()\n",
    "    _arr[_arr<0]=0\n",
    "    return _arr"
   ]
  },
  {
   "cell_type": "code",
   "execution_count": 7,
   "id": "b9cbff72-6761-4f76-93d7-f7093bf5f4e1",
   "metadata": {},
   "outputs": [
    {
     "data": {
      "text/plain": [
       "<matplotlib.collections.PathCollection at 0x7ffa10b4b1c0>"
      ]
     },
     "execution_count": 7,
     "metadata": {},
     "output_type": "execute_result"
    },
    {
     "data": {
      "image/png": "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",
      "text/plain": [
       "<Figure size 432x288 with 1 Axes>"
      ]
     },
     "metadata": {
      "needs_background": "light"
     },
     "output_type": "display_data"
    }
   ],
   "source": [
    "arr = np.random.rand(100) - 0.5\n",
    "plt.scatter(arr, relu(arr))"
   ]
  },
  {
   "cell_type": "code",
   "execution_count": 8,
   "id": "4e908091-5410-4569-93b2-ed340d6a6583",
   "metadata": {},
   "outputs": [],
   "source": [
    "# Ordinary funcitons\n",
    "def get_depth(degree:int):\n",
    "    if degree > 1:\n",
    "        return ceil(np.log2(degree))\n",
    "    elif degree == 1:\n",
    "        return 0"
   ]
  },
  {
   "cell_type": "code",
   "execution_count": 29,
   "id": "eef42a4c-0fbc-4bc4-a3f7-5c1a271e04e4",
   "metadata": {},
   "outputs": [],
   "source": [
    "# degrees from i=1 to k\n",
    "# from Eunsang Lee+21\n",
    "MINIMUM_MULT = {4:[3,3,5],\n",
    "                5:[5,5,5],\n",
    "                6:[3,5,5,5],\n",
    "                7:[3,3,5,5,5],\n",
    "                8:[5,5,5,5,9],\n",
    "                9:[5,5,5,5,5,5],\n",
    "               10:[5,5,5,5,5,9],\n",
    "               11:[3,5,5,5,5,5,5],\n",
    "               12:[3,5,5,5,5,5,9],\n",
    "               13:[3,5,5,5,5,5,5,5],\n",
    "               14:[3,3,5,5,5,5,5,5,5],\n",
    "               15:[3,3,5,5,5,5,5,5,9],\n",
    "               16:[3,3,5,5,5,5,5,5,5,5],\n",
    "               17:[5,5,5,5,5,5,5,5,5,5],\n",
    "               18:[3,3,5,5,5,5,5,5,5,5,5],\n",
    "               19:[5,5,5,5,5,5,5,5,5,5,5],\n",
    "               20:[5,5,5,5,5,5,5,5,5,5,9]}\n",
    "\n",
    "MINIMUM_DEPTH = {4:[27],\n",
    "                 5:[7,13],\n",
    "                 6:[15,15],\n",
    "                 7:[7,7,13],\n",
    "                 8:[7,15,15],\n",
    "                 9:[7,7,7,13],\n",
    "                10:[7,7,13,15],\n",
    "                11:[7,15,15,15],\n",
    "                12:[15,15,15,15],\n",
    "                13:[15,15,15,31],\n",
    "                14:[7,7,15,15,27],\n",
    "                15:[7,15,15,15,27],\n",
    "                16:[15,15,15,15,27],\n",
    "                17:[15,15,15,29,29],\n",
    "                18:[15,15,29,29,31],\n",
    "                19:[15,29,31,31,31],\n",
    "                20:[29,31,31,31,31]}\n",
    "\n",
    "def poly_eval(ctxt, coeff):\n",
    "    \"\"\"Evaluate polynomial expression of coefficients \"coeff\"\n",
    "    \n",
    "    parameters\n",
    "    ----------\n",
    "    ctxt: Ciphertext\n",
    "    coeff: Coefficients of polynomial starting from 0-th degree\n",
    "    \n",
    "    \n",
    "    exmaple\n",
    "    -------\n",
    "        y = ax + bx**2 + cx**3 + d\n",
    "        y_fhe = poly_eval(ctxt, [d,a,b,c])\n",
    "    \n",
    "    \"\"\"\n",
    "    degree = len(coeff)\n",
    "    logp = ctxt.logp\n",
    "    \n",
    "    cpows = ev.powerExtended(ctxt, logp, degree) # compute x, x**2, x**3, x**4\n",
    "    aixi = Ciphertext()\n",
    "    res = Ciphertext()\n",
    "    for cpw, coef in zip(cpows, coeff[1:]):\n",
    "        ev.ev.mult_by_plain(aixi, cpw, coef, logp) ## aixi gets the output. It's logp is maintained and updated.\n",
    "        bits_down = res.logq - aixi.logq # rescale only if res.logp > aixi.logp\n",
    "        ev.rescale_by(res, bits_down, inplace=True)\n",
    "        ev.add(res, aixi)\n",
    "    return res\n",
    "\n",
    "def sgn(ctxt, alpha:int, min_mult=True, min_depth=False):\n",
    "    \"\"\"approximate sign function\n",
    "    \n",
    "    parameters\n",
    "    ----------\n",
    "    ctxt: Ciphertext\n",
    "    alpha: positive int, tolerance parameter. err <= 2**alpha\n",
    "    \"\"\"\n",
    "    assert alpha > 3 and isinstance(alpha, int), \"alpha: only positive int > 3 are allowed\"\n",
    "    \n",
    "    _ctxt = ctxt.copy()\n",
    "    \n",
    "    # f_a(x), f_b(x), f_c(x), f_d(x), ..., f_x(x) of lower degrees\n",
    "    approx_poly_degrees = MINIMUM_MULT[alpha]\n",
    "    \n",
    "    # f_x(...(f_d(f_c(f_b(f_a(x))))))\n",
    "    for degree in approx_poly_degrees:\n",
    "        coeff = minimax(degree)\n",
    "        #max_depth = get_depth(degree)\n",
    "        _ctxt = poly_eval(_ctxt, coeff) # auto rescaled, but not auto bootstrapped\n",
    "    \n",
    "def relu_fhe(ctxt, alpha:int):\n",
    "    \"\"\"approximate relu function\n",
    "    \n",
    "    parameters\n",
    "    ----------\n",
    "    ctxt: Ciphertext\n",
    "    alpha: tolerance parameter. err <= 2**alpha\n",
    "    \"\"\"\n",
    "    is_positive = sgn(ctxt.copy())\n",
    "    \n",
    "    return ev.mult(ctxt, is_positive, alpha)\n",
    "    "

   ]
  },
  {
   "cell_type": "code",

   "execution_count": 10,
   "id": "60b7fa35",
   "metadata": {},
   "outputs": [
    {
     "data": {
      "text/plain": [
       "<matplotlib.legend.Legend at 0x7ffa12c991b0>"
      ]
     },
     "execution_count": 10,
     "metadata": {},
     "output_type": "execute_result"
    },
    {
     "data": {
      "image/png": "iVBORw0KGgoAAAANSUhEUgAAAiMAAAGdCAYAAADAAnMpAAAAOXRFWHRTb2Z0d2FyZQBNYXRwbG90bGliIHZlcnNpb24zLjUuMiwgaHR0cHM6Ly9tYXRwbG90bGliLm9yZy8qNh9FAAAACXBIWXMAAA9hAAAPYQGoP6dpAABAB0lEQVR4nO3deXhU5f3+8XuyLySBEMgCIQRkD6CEsoooYhAFRRGwWkRrrbS1iAhK5KsCWgFBq1bBWkW6qKVsrhSNdUPBhQBhCTuBBEgIYUnCknWe3x8x+RkTIBOSnJnJ+3Vdc13OmefMfJ45GefmfM45YzPGGAEAAFjEw+oCAABA40YYAQAAliKMAAAASxFGAACApQgjAADAUoQRAABgKcIIAACwFGEEAABYysvqAmrCbrfryJEjCgoKks1ms7ocAABQA8YY5efnKyoqSh4e59//4RJh5MiRI4qOjra6DAAAUAsZGRlq3br1eR93iTASFBQkqWwywcHBFlcDAABqIi8vT9HR0RXf4+fjEmGkvDUTHBxMGAEAwMVc7BALDmAFAACWIowAAABLEUYAAIClXOKYkZowxqikpESlpaVWl+LyPD095eXlxWnUAIAG4RZhpKioSJmZmTp79qzVpbiNgIAARUZGysfHx+pSAABuzuXDiN1uV1pamjw9PRUVFSUfHx/+RX8JjDEqKirSsWPHlJaWpg4dOlzwQjUAAFwqlw8jRUVFstvtio6OVkBAgNXluAV/f395e3vr4MGDKioqkp+fn9UlAQDcmNv8k5d/vdct3k8AQEPhGwcAAFiKMAIAACzlcBj56quvNHLkSEVFRclms+ndd9+96Dpffvml4uPj5efnp3bt2unVV1+tTa1uxRij3/72twoNDZXNZtPmzZutLgkAAEs4HEbOnDmjnj176uWXX67R+LS0NN1www0aNGiQNm3apMcee0yTJk3SihUrHC7WnaxZs0ZLlizRhx9+qMzMTMXFxTXI695///2y2Wx64YUXGuT1AAC4GIfPphk+fLiGDx9e4/Gvvvqq2rRpU/Hl16VLF23YsEELFizQ6NGjHX15t7Fv3z5FRkZqwIABDfaa7777rr777jtFRUU12GsCAJzbp6lH9X7KEc2+uZuaBlhzbal6P2Zk/fr1SkhIqLRs2LBh2rBhg4qLi6tdp7CwUHl5eZVuNWWM0dmiEktuxpga1Xj33Xfrj3/8o9LT02Wz2dS2bVtJUtu2bavssbj88ss1c+bMivs2m02vv/66brnlFgUEBKhDhw56//33L/qahw8f1gMPPKC33npL3t7eNX07AQBu7NTZIiWu2qr3U47ozW8OWFZHvV9nJCsrS+Hh4ZWWhYeHq6SkRDk5OYqMjKyyzpw5czRr1qxavd654lJ1feLjWq17qVJnD1OAz8Xf0hdffFHt27fXa6+9ph9++EGenp4Ovc6sWbP07LPPav78+frLX/6iO++8UwcPHlRoaGi14+12u8aPH69p06apW7duDr0WAMB9zXx/u47lF6p9i0D97ur2ltXRIGfT/PyKqOV7EM53pdTExETl5uZW3DIyMuq9xoYUEhKioKAgeXp6KiIiQi1atHBo/bvvvlu//OUvddlll+mZZ57RmTNn9P333593/Lx58+Tl5aVJkyZdaukAADexZluW3t18RB426bmxl8vP27F/GNelet8zEhERoaysrErLsrOz5eXlpebNm1e7jq+vr3x9fWv1ev7enkqdPaxW614q/wbakD169Kj478DAQAUFBSk7O7vascnJyXrxxRe1ceNGLpMPAJAknThTpP97d6skaeLg9ro8uqml9dR7GOnfv78++OCDSss++eQT9e7du16OXbDZbDVqlTgjDw+PKsedVHdczc/fN5vNJrvdXu1zrl27VtnZ2WrTpk3FstLSUj388MN64YUXdODAgUsvHADgUp54b5tyThepY3gTPTi0g9XlOB5GTp8+rb1791bcT0tL0+bNmxUaGqo2bdooMTFRhw8f1j/+8Q9J0sSJE/Xyyy9rypQpuu+++7R+/Xq98cYbeuedd+puFm6iRYsWyszMrLifl5entLS0S3rO8ePHa+jQoZWWDRs2TOPHj9c999xzSc8NAHA9H23J1IdbMuXpYdNzYy6Xr5d17ZlyDoeRDRs26Jprrqm4P2XKFEnShAkTtGTJEmVmZio9Pb3i8djYWK1evVoPPfSQXnnlFUVFRemll15q1Kf1ns+QIUO0ZMkSjRw5Us2aNdPjjz/u8MGtP9e8efMq7TBvb29FRESoU6dOl/TcAADXknO6UI+/t02S9Ier26t76xCLKyrjcBi5+uqrL3gK65IlS6osGzx4sDZu3OjoSzU6iYmJ2r9/v0aMGKGQkBA99dRTl7xnBAAAqezkkcff3aYTZ4rUOSJIDwyxvj1TzmZqenEMC+Xl5SkkJES5ubkKDg6u9FhBQYHS0tIUGxvLT93XId5XAHAv76cc0aR3NsnLw6b3HhioblH1v1fkQt/fP8UP5QEA4Oay8wv0xI/tmT8O6dAgQcQRhBEAANyYMUYzVm3TqbPF6hYVrN9fY93Fzc6HMAIAgBt7d/NhJaUelbenTQvG9JS3p/N99TtfRQAAoE4czSvQk+9tlyQ9eG0HdYk8/3EbVnKbMOICx+G6FN5PAHBtxhglrtyqvIISdW8VoomDna89U87lw0j51UjPnj1rcSXupfz95Bd+AcA1LU8+pM92ZsvH00PPje0pLydsz5Rzzeum/4Snp6eaNm1a8dssAQEB/AbLJTDG6OzZs8rOzlbTpk0v+aJrAICGl5l7TrM/TJUkPXRdR3UMD7K4ogtz+TAilf0Yn6Tz/lgcHNe0adOK9xUA4DqMMZq+YqvyC0p0eXRT3Tco1uqSLsotwojNZlNkZKRatmxZ7Q/LwTHe3t7sEQEAF/WfDRn6cvcx+Xh5aMEY527PlHOLMFLO09OTL1EAQKN1+NQ5PfXhDknStIROuqxlE4srqhnnj0sAAOCijDF6dPkWnS4sUXxMM/36Sudvz5QjjAAA4Abe/j5dX+/NkZ+3h+bf1kOeHq5zMgdhBAAAF5dx4qz+9FFZe+aRYZ3VroVrtGfKEUYAAHBhdrvRI8u36GxRqfq0DdXdA9paXZLDCCMAALiwf313UOv3H5e/t6fmj+khDxdqz5QjjAAA4KIOHj+jOat3SpISb+ismOaBFldUO4QRAABckN1uNG3ZFp0rLlX/ds31q74xVpdUa4QRAABc0JJ1B/T9gRMK9PHUs7e5ZnumHGEEAAAXs//YaT37cVl75rEbuyg6NMDiii4NYQQAABdSajeatnyLCortuvKyMN3Rp43VJV0ywggAAC5k8ddpSj54Uk18vTTvth5u8Uv1hBEAAFzE3uzTmv/JLknS4yO6qFVTf4srqhuEEQAAXEBJqV0PL0tRUYldgzu20Nje0VaXVGcIIwAAuIC/rU1TSsYpBfl5ae7o7m7RnilHGAEAwMntPpqvPyftliQ9ObKbIkPcoz1TjjACAIATKy616+H/pKio1K4hnVtqdK9WVpdU5wgjAAA4sb9+uU9bD+cq2M9Lc251r/ZMOcIIAABOakdmnl783x5J0qybuyk82M/iiuoHYQQAACdU3p4pLjW6rmu4Rl3ufu2ZcoQRAACc0Cuf71VqZp6aBnjrT7fEuWV7phxhBAAAJ7P9SK5e/myvJGn2zXFqGeSe7ZlyhBEAAJxIUUlZe6bEbjQ8LkIje0RaXVK9I4wAAOBEXv5sj3Zm5Ss00EdPjXLv9kw5wggAAE5i66FcvfLFPknSUzfHKayJr8UVNQzCCAAATqCwpFQPL9usUrvRiB6RurERtGfKEUYAAHACL366R7uPnlZYEx/NvjnO6nIaFGEEAACLbc44pVe/LGvPPD2qu0IDfSyuqGERRgAAsFBBcake/s9m2Y006vIoXR8XYXVJDY4wAgCAhf6ctFv7jp1RiyBfzbypm9XlWIIwAgCARZIPntBra/dLkubc0l1NAxpXe6YcYQQAAAucKyrV1GVbZIw0uldrDe0abnVJliGMAABggQWf7FJazhmFB/vqiZFdrS7HUoQRAAAa2PdpJ7T4mzRJ0tzRPRTi721xRdYijAAA0IDOFpVo2vIUGSON6x2tazq1tLokyxFGAABoQM+u2aWDx88qKsRPM0Z0sbocp0AYAQCggazfd1xL1h2QJM27rYeC/Rp3e6YcYQQAgAZwprCsPSNJd/Rto0EdWlhckfMgjAAA0ADm/HeHDp08p1ZN/fXYDbRnfoowAgBAPft6T47+9W26JGn+bT3UxNfL4oqcC2EEAIB6lF9QrEdXbJEkje8XowGXhVlckfMhjAAAUI+eWb1Dh0+dU3Sov6YP72x1OU6JMAIAQD35cvcxvfN9hiRp/m09FUh7plqEEQAA6kHuuWI9urysPXP3gLbq1665xRU5L8IIAAD14OkPU5WVV6C2zQP0yPWdrC7HqRFGAACoY5/tPKplyYdks0nzx/RUgA/tmQupVRhZuHChYmNj5efnp/j4eK1du/aC49966y317NlTAQEBioyM1D333KPjx4/XqmAAAJxZ7tliTV+xVZJ078BY/aJtqMUVOT+Hw8jSpUs1efJkzZgxQ5s2bdKgQYM0fPhwpaenVzv+66+/1l133aV7771X27dv17Jly/TDDz/oN7/5zSUXDwCAs5n14XZl5xeqXVigpg6jPVMTDoeR559/Xvfee69+85vfqEuXLnrhhRcUHR2tRYsWVTv+22+/Vdu2bTVp0iTFxsbqyiuv1P33368NGzZccvEAADiTpNSjWrnxsDxs0oKxPeXn7Wl1SS7BoTBSVFSk5ORkJSQkVFqekJCgdevWVbvOgAEDdOjQIa1evVrGGB09elTLly/XjTfeeN7XKSwsVF5eXqUbAADO7OSZIj22qqw9c99V7dSrTTOLK3IdDoWRnJwclZaWKjw8vNLy8PBwZWVlVbvOgAED9NZbb2ncuHHy8fFRRESEmjZtqr/85S/nfZ05c+YoJCSk4hYdHe1ImQAANLiZH2zXsfxCXdayiR4a2tHqclxKrQ5gtdlsle4bY6osK5eamqpJkybpiSeeUHJystasWaO0tDRNnDjxvM+fmJio3NzciltGRkZtygQAoEGs2Zap9zYfkaeHTc+NoT3jKIfONQoLC5Onp2eVvSDZ2dlV9paUmzNnjgYOHKhp06ZJknr06KHAwEANGjRITz/9tCIjI6us4+vrK19fX0dKAwDAEsdPF2rGqm2SpImD26lndFNrC3JBDu0Z8fHxUXx8vJKSkiotT0pK0oABA6pd5+zZs/LwqPwynp5lidEY48jLAwDgdJ54f7uOnylSp/AgTbq2g9XluCSH2zRTpkzR66+/rsWLF2vHjh166KGHlJ6eXtF2SUxM1F133VUxfuTIkVq5cqUWLVqk/fv365tvvtGkSZPUp08fRUVF1d1MAABoYB9uOaKPtmSWtWfG9pSvF+2Z2nD4knDjxo3T8ePHNXv2bGVmZiouLk6rV69WTEyMJCkzM7PSNUfuvvtu5efn6+WXX9bDDz+spk2basiQIZo3b17dzQIAgAZ2LL9Qj79b1p75wzWXKa5ViMUVuS6bcYFeSV5enkJCQpSbm6vg4GCrywEANHLGGE38V7I+3n5UXSKD9d4fBsrHi19Y+bmafn/zzgEA4KD3U47o4+1H5fXj2TMEkUvDuwcAgAOy8wr0xHvbJUmTru2grlHssb9UhBEAAGrIGKPHVm1V7rlixbUK1u+ubm91SW6BMAIAQA2t2nRYn+7IlrenTc+NuVzennyN1gXeRQAAaiArt0Az3y9rz0we2lGdIoIsrsh9EEYAALgIY4wSV25RXkGJerYO0f1XtbO6JLdCGAEA4CKWJR/S57uOycfLQwvG9JQX7Zk6xbsJAMAFHDl1Tk99kCpJevi6juoQTnumrhFGAAA4D2OMHl2xRfmFJbqiTVP9ZhDtmfpAGAEA4Dz+/UOG1u7Jke+P7RlPD5vVJbklwggAANU4dPKsnv6wrD0zbVgntW/RxOKK3BdhBACAn7HbjR5ZvkVnikrVO6aZ7hkYa3VJbo0wAgDAz7z1fbrW7TsuP28Pzac9U+8IIwAA/ET68bOas3qHJOnR6zsrNizQ4orcH2EEAIAf2e1G05an6GxRqfrEhmpC/7ZWl9QoEEYAAPjRP789qO/STijAx1MLbuspD9ozDYIwAgCApAM5ZzT3vzslSYnDO6tN8wCLK2o8CCMAgEavvD1zrrhUA9o31519Y6wuqVEhjAAAGr031x3QDwdOKtDHU/NG96A908AIIwCARm3/sdN6dk1Ze2bGjV0VHUp7pqERRgAAjVap3WjqshQVltg1qEOYftkn2uqSGiXCCACg0Xrj6/3amH5KQb5emje6h2w22jNWIIwAABqlvdn5WvDJbknS4yO6Kqqpv8UVNV6EEQBAo1NSatfDy7aoqMSuqzu10Jjera0uqVEjjAAAGp3X1u5XSsYpBfl5ae6ttGesRhgBADQqu7Ly9ULSHknSzJHdFBHiZ3FFIIwAABqN4lK7pi5LUVGpXUO7tNStvVpZXRJEGAEANCKvfrFPWw/nKsTfW8/c0p32jJMgjAAAGoXUI3l66bOy9szsm7upZTDtGWdBGAEAuL2ikrL2THGp0bBu4bqpZ5TVJeEnCCMAALf3yud7lZqZp2YB3np6FO0ZZ0MYAQC4tW2Hc/XK53slSU+NilOLIF+LK8LPEUYAAG6rsKRUU5elqMRudEP3CI3oQXvGGRFGAABu6y//26udWflqHuijp26Os7ocnAdhBADgllIyTmnRl/skSU+PilPzJrRnnBVhBADgdgqKy9ozpXajkT2jNLx7pNUl4QIIIwAAt/PCp3u0J/u0wpr4avZN3awuBxdBGAEAuJWN6Sf12ldl7ZlnbolTs0AfiyvCxRBGAABuo7w9YzfSLVe0UkK3CKtLQg0QRgAAbuO5T3Zp/7EzahnkqydHdrW6HNQQYQQA4BaSD57Q61+nSZLm3NpdTQNoz7gKwggAwOWdKyrV1GVbZIx0W3xrXdsl3OqS4ADCCADA5c3/eJfScs4oIthPj4+gPeNqCCMAAJf23f7jenNdWXtm7ujuCvH3trgiOIowAgBwWWeLSjRteVl75vZfROvqTi2tLgm1QBgBALisef/dqfQTZxUV4qcZN3axuhzUEmEEAOCS1u3L0d/XH5QkPXtbTwX50Z5xVYQRAIDLOV1YokeWb5Ek3dm3ja7sEGZxRbgUhBEAgMuZs3qHDp08p9bN/JV4A+0ZV0cYAQC4lLV7jumt79IlSc/e1kNNfL0srgiXijACAHAZ+QXFevTH9syE/jEa0J72jDsgjAAAXMafPtqhI7kFahMaoEeHd7a6HNQRwggAwCV8sStb//4hQzabtGBMTwX40J5xF4QRAIDTyz1XrOkrtkqS7hkQqz6xoRZXhLpEGAEAOL2nPkxVVl6BYsMCNW1YJ6vLQR0jjAAAnNr/dhzV8uRDP7Znesjfx9PqklDHahVGFi5cqNjYWPn5+Sk+Pl5r16694PjCwkLNmDFDMTEx8vX1Vfv27bV48eJaFQwAaDxOnS1S4sqy9sxvroxVfAztGXfk8NE/S5cu1eTJk7Vw4UINHDhQf/3rXzV8+HClpqaqTZs21a4zduxYHT16VG+88YYuu+wyZWdnq6Sk5JKLBwC4t1kfpCo7v1DtWgTq4QTaM+7KZowxjqzQt29f9erVS4sWLapY1qVLF40aNUpz5sypMn7NmjW6/fbbtX//foWG1i7R5uXlKSQkRLm5uQoODq7VcwAAXMvH27N0/z+T5WGTlv9ugHq1aWZ1SXBQTb+/HWrTFBUVKTk5WQkJCZWWJyQkaN26ddWu8/7776t379569tln1apVK3Xs2FFTp07VuXPnzvs6hYWFysvLq3QDADQeJ84UacaqsvbMb69qTxBxcw61aXJyclRaWqrw8PBKy8PDw5WVlVXtOvv379fXX38tPz8/rVq1Sjk5Ofr973+vEydOnPe4kTlz5mjWrFmOlAYAcCNPvr9dOaeL1KFlE00e2sHqclDPanUAq81mq3TfGFNlWTm73S6bzaa33npLffr00Q033KDnn39eS5YsOe/ekcTEROXm5lbcMjIyalMmAMAFrd6aqQ9SjsjTw6YFY3rKz5uzZ9ydQ3tGwsLC5OnpWWUvSHZ2dpW9JeUiIyPVqlUrhYSEVCzr0qWLjDE6dOiQOnSomnh9fX3l6+vrSGkAADeQc7pQ//fuNknS7wa3V8/optYWhAbh0J4RHx8fxcfHKykpqdLypKQkDRgwoNp1Bg4cqCNHjuj06dMVy3bv3i0PDw+1bt26FiUDANyRMUaPv7tNJ84UqXNEkP547WVWl4QG4nCbZsqUKXr99de1ePFi7dixQw899JDS09M1ceJESWUtlrvuuqti/B133KHmzZvrnnvuUWpqqr766itNmzZNv/71r+Xv7193MwEAuLQPt2Tqv9uy5PVje8bXi/ZMY+HwdUbGjRun48ePa/bs2crMzFRcXJxWr16tmJgYSVJmZqbS09Mrxjdp0kRJSUn64x//qN69e6t58+YaO3asnn766bqbBQDApR3LL9QT75W1Z/5wzWWKaxVykTXgThy+zogVuM4IALgvY4wm/itZH28/qq6RwXr3DwPl48WvlbiDernOCAAAde39lCP6ePtReXuWtWcIIo0PWxwAYJnsvAI98d52SdKkIR3UNYq9340RYQQAYAljjB5btVW554rVvVWIJl7d3uqSYBHCCADAEis3HtanO7Ll4+mhBWN6ytuTr6TGii0PAGhwWbkFmvlBWXtm8nUd1CkiyOKKYCXCCACgQRljNH3lFuUXlKhndFP9dlA7q0uCxQgjAIAGtWzDIX2x65h8vDz03Jge8qI90+jxFwAAaDCHT53TUx+mSpKmJnTUZS1pz4AwAgBoIMYYTV+xRfmFJerVpqnuvZL2DMoQRgAADeKd7zO0dk+OfL3Kzp7x9LBZXRKcBGEEAFDvMk6c1Z8+KmvPPHJ9Z7Vr0cTiiuBMCCMAgHpltxs9umKLzhSVqk/bUN0zoK3VJcHJEEYAAPXqre8Oat2+4/L39tSzt/WQB+0Z/AxhBABQb9KPn9Uzq3dKkqYP76y2YYEWVwRnRBgBANQLu91o6vIUnSsuVb92oRrfL8bqkuCkCCMAgHrx9/UH9H3aCQX4eOrZ0T1pz+C8CCMAgDqXlnNG89aUtWcSb+iiNs0DLK4IzowwAgCoU6V2o2nLUlRQbNfAy5rrzj5trC4JTo4wAgCoU29+k6YNB08q0MdT80Zz9gwujjACAKgze7NPa/7HuyRJ/zeiq1o3oz2DiyOMAADqRKndaOqyFBWW2DWoQ5hu/0W01SXBRRBGAAB14m9r92tzxikF+Xpp3ugestloz6BmCCMAgEu252i+nv9ktyTp8ZFdFdXU3+KK4EoIIwCAS1JSatfUZSkqKrXrmk4tNCa+tdUlwcUQRgAAl+SvX+1XyqFcBft5ac6ttGfgOMIIAKDWdmbl6YVPy9ozM2/qpogQP4srgisijAAAaqX4x/ZMcanR0C7huuWKVlaXBBdFGAEA1MqiL/Zp2+E8NQ3w1jO3xtGeQa0RRgAADtt+JFcv/W+PJGnWTd3UMoj2DGqPMAIAcEhRiV1Tl21Rid3o+m4RuqlnlNUlwcURRgAADnn5873akZmn0EAfPX0L7RlcOsIIAKDGth3O1Suf75UkPXVznMKa+FpcEdwBYQQAUCOFJaV6+D8pKrUb3dgjUjf2iLS6JLgJwggAoEZe+t8e7Tqar7AmPnrq5jiry4EbIYwAAC4qJeOUFn2xT5L09KjuCg30sbgiuBPCCADgggqKS/XwshTZjXTz5VG6Pi7C6pLgZggjAIAL+vOnu7U3+7RaBPlq5shuVpcDN0QYAQCcV/LBk/rbV/slSc/c0l3NaM+gHhBGAADVKigu1bQf2zO3XtFK13UNt7okuCnCCACgWgs+3qX9OWfUMshXT9KeQT0ijAAAqvjhwAm98U2aJGnu6O4KCfC2uCK4M8IIAKCSs0UlmrYsRcZIY+Jba0hn2jOoX4QRAEAlz67ZpQPHzyoyxE//N6Kr1eWgESCMAAAqfLv/uJasOyBJmju6h0L8ac+g/hFGAACSpDOFJZq2PEWS9Ms+0RrcsYXFFaGxIIwAACRJc/+7UxknzqlVU389dkMXq8tBI0IYAQDom705+ue3ByVJ80b3UJAf7Rk0HMIIADRypwtL9MjyLZKkX/Vroys7hFlcERobwggANHLPrN6hw6fOqXUzfyUOpz2DhkcYAYBG7Kvdx/T2d+mSpPm39VSgr5fFFaExIowAQCOVV1Cs6SvK2jN3D2ir/u2bW1wRGivCCAA0Un/6cIeO5BYopnmAHrm+k9XloBEjjABAI/T5rmwt3ZAhm62sPRPgQ3sG1iGMAEAjk3v2/7dnfj0wVn1iQy2uCI0dYQQAGpnZH6bqaF6h2oUFamoC7RlYjzACAI3Ip6lHtWLjIXnYpPljesrfx9PqkoDahZGFCxcqNjZWfn5+io+P19q1a2u03jfffCMvLy9dfvnltXlZAMAlOHW2SImrtkqS7hvUTvExzSyuCCjjcBhZunSpJk+erBkzZmjTpk0aNGiQhg8frvT09Auul5ubq7vuukvXXnttrYsFANTezPe361h+odq3CNRD13W0uhyggsNh5Pnnn9e9996r3/zmN+rSpYteeOEFRUdHa9GiRRdc7/7779cdd9yh/v3717pYAEDtrNmWpXc3H5GHTXpu7OXy86Y9A+fhUBgpKipScnKyEhISKi1PSEjQunXrzrvem2++qX379unJJ5+s0esUFhYqLy+v0g0AUDsnzhTp/94ta89MHNxel0c3tbYg4GccCiM5OTkqLS1VeHh4peXh4eHKysqqdp09e/Zo+vTpeuutt+TlVbPz2OfMmaOQkJCKW3R0tCNlAgB+4on3tinndJE6hjfRg0M7WF0OUEWtDmC12WyV7htjqiyTpNLSUt1xxx2aNWuWOnaseX8yMTFRubm5FbeMjIzalAkAjd5HWzL14ZZMeXrY9NyYy+XrRXsGzsehS+6FhYXJ09Ozyl6Q7OzsKntLJCk/P18bNmzQpk2b9MADD0iS7Ha7jDHy8vLSJ598oiFDhlRZz9fXV76+vo6UBgD4mZzThXr8vW2SpN9f3V7dW4dYXBFQPYf2jPj4+Cg+Pl5JSUmVliclJWnAgAFVxgcHB2vr1q3avHlzxW3ixInq1KmTNm/erL59+15a9QCAahlj9Pi723TiTJE6RwTpj0Noz8B5OfxjBFOmTNH48ePVu3dv9e/fX6+99prS09M1ceJESWUtlsOHD+sf//iHPDw8FBcXV2n9li1bys/Pr8pyAEDd+WBLpv67LUteHjYtGNNTPl5c4xLOy+EwMm7cOB0/flyzZ89WZmam4uLitHr1asXExEiSMjMzL3rNEQBA/cnOL9ATP7ZnHhhymeJa0Z6Bc7MZY4zVRVxMXl6eQkJClJubq+DgYKvLAQCnZYzRb/+ZrKTUo+oaGaz3Hhgob0/2isAaNf3+5i8UANzIu5sPKyn1qLw9bXpubE+CCFwCf6UA4CaO5hXoyfe2S5IevLaDukSyJxmugTACAG7AGKPElVuVV1Ci7q1CNHFwe6tLAmqMMAIAbmB58iF9tjNbPp4eem5sT3nRnoEL4a8VAFxcZu45zf4gVZL00HUd1TE8yOKKAMcQRgDAhRlj9OiKrcovLNHl0U1136BYq0sCHEYYAQAX9p8NGfpq9zH5eHlowRjaM3BN/NUCgIs6fOqcnvpwhyRpWkInXdayicUVAbVDGAEAF2SM0aPLt+h0YYniY5rp11fSnoHrIowAgAt6+/t0fb03R37eHpp/Ww95etisLgmoNcIIALiYjBNn9aePytozjwzrrHYtaM/AtRFGAMCF2O1GjyzforNFperTNlR3D2hrdUnAJSOMAIAL+dd3B7V+/3H5e3tq/pge8qA9AzdAGAEAF3Hw+BnNWb1TkpR4Q2fFNA+0uCKgbhBGAMAF2O1G05Zt0bniUvVv11y/6htjdUlAnSGMAIALWLLugL4/cEKBPp569jbaM3AvhBEAcHL7j53Wsx+XtWceu7GLokMDLK4IqFuEEQBwYqV2o2nLt6ig2K4rLwvTHX3aWF0SUOcIIwDgxBZ/nabkgyfVxNdL827rIZuN9gzcD2EEAJzU3uzTmv/JLknS4yO6qFVTf4srAuoHYQQAnFBJqV0PL0tRUYldgzu20Nje0VaXBNQbwggAOKG/rU1TSsYpBfl5ae7o7rRn4NYIIwDgZHYfzdefk3ZLkp4Y0VWRIbRn4N4IIwDgRIpL7Xr4PykqKrVrSOeWui2+tdUlAfWOMAIATuSvX+7T1sO5Cvbz0pxbac+gcSCMAICT2JGZpxf/t0eSNOvmbgoP9rO4IqBhEEYAwAmUt2eKS42u6xquUZe3srokoMEQRgDACbzy+V6lZuapaYC3/nRLHO0ZNCqEEQCw2LbDuXr5s72SpNk3x6llEO0ZNC6EEQCwUFGJXVOXpajEbjQ8LkIje0RaXRLQ4AgjAGChv3y2Rzuz8hUa6KOnRtGeQeNEGAEAi2w9lKuFX+yTJD11c5zCmvhaXBFgDcIIAFigsKRUDy/brFK70YgekbqR9gwaMcIIAFjgxU/3aPfR0wpr4qPZN8dZXQ5gKcIIADSwzRmn9OqXZe2Zp0d1V2igj8UVAdYijABAAyooLtXD/9ksu5FGXR6l6+MirC4JsBxhBAAa0J+TdmvfsTNqEeSrmTd1s7ocwCkQRgCggSQfPKHX1u6XJM25pbuaBtCeASTCCAA0iHNFpZq6bIuMkUb3aq2hXcOtLglwGoQRAGgACz7ZpbScMwoP9tUTI7taXQ7gVAgjAFDPvk87ocXfpEmS5o7uoRB/b4srApwLYQQA6tHZohJNW54iY6RxvaN1TaeWVpcEOB3CCADUo2fX7NLB42cVFeKnGSO6WF0O4JQIIwBQT9bvO64l6w5Ikubd1kPBfrRngOoQRgCgHpwpLGvPSNIv+7TRoA4tLK4IcF6EEQCoB3P+u0OHTp5Tq6b+mnEj7RngQggjAFDHvt6To399my5Jeva2Hmri62VxRYBzI4wAQB3KLyjWoyu2SJLG94vRwMvCLK4IcH6EEQCoQ8+s3qHDp84pOtRf04d3trocwCUQRgCgjny5+5je+T5DkjT/tp4KpD0D1AhhBADqQO65Yj26vKw9c/eAturXrrnFFQGugzACAHXg6Q9TlZVXoLbNA/TI9Z2sLgdwKYQRALhEn+08qmXJh2SzSfPH9FSAD+0ZwBGEEQC4BLlnizV9xVZJ0r0DY/WLtqEWVwS4HsIIAFyCWR9sV3Z+odqFBWrqMNozQG0QRgCglpJSj2rlpsPysEkLxvaUn7en1SUBLqlWYWThwoWKjY2Vn5+f4uPjtXbt2vOOXblypa677jq1aNFCwcHB6t+/vz7++ONaFwwAzuDkmSI9tqqsPXPfVe3Uq00ziysCXJfDYWTp0qWaPHmyZsyYoU2bNmnQoEEaPny40tPTqx3/1Vdf6brrrtPq1auVnJysa665RiNHjtSmTZsuuXgAsMrMD7brWH6hLmvZRA8N7Wh1OYBLsxljjCMr9O3bV7169dKiRYsqlnXp0kWjRo3SnDlzavQc3bp107hx4/TEE0/UaHxeXp5CQkKUm5ur4OBgR8oFgDq3ZlumJv5rozw9bFr5uwHqGd3U6pIAp1TT72+H9owUFRUpOTlZCQkJlZYnJCRo3bp1NXoOu92u/Px8hYae/4jzwsJC5eXlVboBgDM4frpQM1ZtkyRNHNyOIALUAYfCSE5OjkpLSxUeHl5peXh4uLKysmr0HM8995zOnDmjsWPHnnfMnDlzFBISUnGLjo52pEwAqDdPvL9dx88UqVN4kCZd28HqcgC3UKsDWG02W6X7xpgqy6rzzjvvaObMmVq6dKlatmx53nGJiYnKzc2tuGVkZNSmTACoUx9uOaKPtmTK08Om58b2lK8XZ88AdcGhywSGhYXJ09Ozyl6Q7OzsKntLfm7p0qW69957tWzZMg0dOvSCY319feXr6+tIaQBQr47lF+rxd8vaM3+45jLFtQqxuCLAfTi0Z8THx0fx8fFKSkqqtDwpKUkDBgw473rvvPOO7r77br399tu68cYba1cpAFjEGKP/e3erTp4tVpfIYD1wzWVWlwS4FYd/QGHKlCkaP368evfurf79++u1115Tenq6Jk6cKKmsxXL48GH94x//kFQWRO666y69+OKL6tevX8VeFX9/f4WE8C8LAM7v/ZQj+nj7UXl52PTcmJ7y8eJ6kUBdcjiMjBs3TsePH9fs2bOVmZmpuLg4rV69WjExMZKkzMzMStcc+etf/6qSkhL94Q9/0B/+8IeK5RMmTNCSJUsufQYAUI+y8wr0xHvbJUmTru2grlFcXgCoaw5fZ8QKXGcEgBWMMbrvHxv06Y5sxbUK1qrfD5S3J3tFgJqql+uMAEBjsmrTYX26I1venjY9N+ZygghQT/hkAUA1snILNPP9svbM5KEd1SkiyOKKAPdFGAGAnzHGKHHlFuUVlKhH6xDdf1U7q0sC3BphBAB+ZlnyIX2+65h8PD303Jie8qI9A9QrPmEA8BNHTp3TUx+kSpKmJHRUh3DaM0B9I4wAwI+MMXp0xRblF5boijZNdd8g2jNAQyCMAMCP/v1DhtbuyZGvl4cWjOkpT4+L/+YWgEtHGAEASYdOntXTH5a1Z6YN66T2LZpYXBHQeBBGADR6drvRI8u36ExRqXrHNNM9A2OtLgloVAgjABq9t75P17p9x+Xn7aH5tGeABkcYAdCopR8/qzmrd0iSHr2+s2LDAi2uCGh8CCMAGi273Wja8hSdLSpVn9hQTejf1uqSgEaJMAKg0frH+gP6Lu2EAnw8teC2nvKgPQNYgjACoFE6kHNG89bskiQlDu+sNs0DLK4IaLwIIwAanfL2zLniUg1o31x39o2xuiSgUSOMAGh03lx3QD8cOKlAH0/NG92D9gxgMcIIgEZl/7HTenbNTknSjBu7KjqU9gxgNcIIgEaj1G40dVmKCkvsGtQhTL/sE211SQBEGAHQiLzx9X5tTD+lIF8vzRvdQzYb7RnAGRBGADQKe7PzteCT3ZKkx0d0VVRTf4srAlCOMALA7ZWU2vXwsi0qKrHr6k4tNKZ3a6tLAvAThBEAbu+1tfuVknFKQX5emnsr7RnA2RBGALi1XVn5eiFpjyRp5shuigjxs7giAD9HGAHgtopL7Zq6LEVFpXYN7dJSt/ZqZXVJAKpBGAHgtl79Yp+2Hs5ViL+3nrmlO+0ZwEkRRgC4pdQjeXrps7L2zOybu6llMO0ZwFkRRgC4naKSsvZMcalRQtdw3dQzyuqSAFwAYQSA23nl871KzcxTswBv/Yn2DOD0CCMA3Mq2w7l65fO9kqTZN8epRZCvxRUBuBjCCAC3UVhSqqnLUlRiN7qhe4RG9Ii0uiQANUAYAeA2/vK/vdqZla/mgT566uY42jOAiyCMAHALKRmntOjLfZKkp0fFqXkT2jOAqyCMAHB5BcVl7ZlSu9HInlEa3p32DOBKCCMAXN4Ln+7RnuzTCmviq9k3dbO6HAAOIowAcGkb00/qta/K2jPP3BKnZoE+FlcEwFGEEQAuq7w9YzfSLVe0UkK3CKtLAlALhBEALuu5T3Zp/7EzahnkqydHdrW6HAC1RBgB4JI2HDih179OkyTNubW7mgbQngFcFWEEgMs5V1Sqacu3yBjptvjWurZLuNUlAbgEhBEALmf+x7uUlnNGEcF+enwE7RnA1RFGALiU7/Yf15vrytozc0d3V4i/t8UVAbhUhBEALuNsUUlFe+b2X0Tr6k4trS4JQB0gjABwGfP+u1PpJ84qKsRPM27sYnU5AOoIYQSAS1i3L0d/X39QkvTsbT0V5Ed7BnAXhBEATu90YYkeWb5FknRn3za6skOYxRUBqEuEEQBOb87qHTp08pxaN/NX4g20ZwB3QxgB4NTW7jmmt75LlyQ9e1sPNfH1srgiAHWNMALAaeUXFOvRH9szE/rHaEB72jOAOyKMAHBaf/poh47kFqhNaIAeHd7Z6nIA1BPCCACn9MWubP37hwzZbNKCMT0V4EN7BnBXhBEATif3XLGmr9gqSbp7QFv1iQ21uCIA9YkwAsDpPPVhqrLyCtS2eYAeGUZ7BnB3hBEATuV/O45qefKhivaMv4+n1SUBqGeEEQBOI/dssRJXlrVn7h0Yq95tac8AjQFhBIDTmPXBdmXnF6pdi0BNHdbJ6nIANBDCCACn8GnqUa3cdFgeNmn+bT3l5017BmgsahVGFi5cqNjYWPn5+Sk+Pl5r16694Pgvv/xS8fHx8vPzU7t27fTqq6/WqlgA7unU2SIlriprz/xmUDvFxzSzuCIADcnhMLJ06VJNnjxZM2bM0KZNmzRo0CANHz5c6enp1Y5PS0vTDTfcoEGDBmnTpk167LHHNGnSJK1YseKSiwfgHmZ9kKpjP7ZnplzX0epyADQwmzHGOLJC37591atXLy1atKhiWZcuXTRq1CjNmTOnyvhHH31U77//vnbs2FGxbOLEiUpJSdH69etr9Jp5eXkKCQlRbm6ugoODHSkXgJNLSj2q+/6xQR42afnvBqhXG/aKAO6ipt/fDl3SsKioSMnJyZo+fXql5QkJCVq3bl2166xfv14JCQmVlg0bNkxvvPGGiouL5e3tXWWdwsJCFRYWVppMffjPDxlKOXTqvI9fLKVdPMZdeMDF1r/o45f6/Bd++JJfvyYvcvEaLjLHi65v7etffP6u/TdSk+e42LMkHzwpSbpvUDuCCNBIORRGcnJyVFpaqvDw8ErLw8PDlZWVVe06WVlZ1Y4vKSlRTk6OIiMjq6wzZ84czZo1y5HSauXrvTl6P+VIvb8OgAtr3yJQD9GeARqtWv3Yg81mq3TfGFNl2cXGV7e8XGJioqZMmVJxPy8vT9HR0bUp9YKGx0WofYsmFxxzgWn9/zEXe/wiAy703tVUzeq88KCL1lkHdVxqDTVRk/fzkrdZHdRRF39bF3sSZ9lmFxriYbNpcKcWnD0DNGIOhZGwsDB5enpW2QuSnZ1dZe9HuYiIiGrHe3l5qXnz5tWu4+vrK19fX0dKq5Xh3SM1vHu9vwwAALgAh86m8fHxUXx8vJKSkiotT0pK0oABA6pdp3///lXGf/LJJ+rdu3e1x4sAAIDGxeFTe6dMmaLXX39dixcv1o4dO/TQQw8pPT1dEydOlFTWYrnrrrsqxk+cOFEHDx7UlClTtGPHDi1evFhvvPGGpk6dWnezAAAALsvhY0bGjRun48ePa/bs2crMzFRcXJxWr16tmJgYSVJmZmala47ExsZq9erVeuihh/TKK68oKipKL730kkaPHl13swAAAC7L4euMWIHrjAAA4Hpq+v3Nb9MAAABLEUYAAIClCCMAAMBShBEAAGApwggAALAUYQQAAFiKMAIAACxFGAEAAJYijAAAAEs5fDl4K5RfJDYvL8/iSgAAQE2Vf29f7GLvLhFG8vPzJUnR0dEWVwIAAByVn5+vkJCQ8z7uEr9NY7fbdeTIEQUFBclms9XZ8+bl5Sk6OloZGRlu+5s37j5H5uf63H2OzM/1ufsc63N+xhjl5+crKipKHh7nPzLEJfaMeHh4qHXr1vX2/MHBwW75B/ZT7j5H5uf63H2OzM/1ufsc62t+F9ojUo4DWAEAgKUIIwAAwFKNOoz4+vrqySeflK+vr9Wl1Bt3nyPzc33uPkfm5/rcfY7OMD+XOIAVAAC4r0a9ZwQAAFiPMAIAACxFGAEAAJYijAAAAEu5dRj505/+pAEDBiggIEBNmzat0TrGGM2cOVNRUVHy9/fX1Vdfre3bt1caU1hYqD/+8Y8KCwtTYGCgbrrpJh06dKgeZnBxJ0+e1Pjx4xUSEqKQkBCNHz9ep06duuA6Nput2tv8+fMrxlx99dVVHr/99tvreTZV1WZ+d999d5Xa+/XrV2mMs2xDR+dXXFysRx99VN27d1dgYKCioqJ011136ciRI5XGWbn9Fi5cqNjYWPn5+Sk+Pl5r16694Pgvv/xS8fHx8vPzU7t27fTqq69WGbNixQp17dpVvr6+6tq1q1atWlVf5V+UI/NbuXKlrrvuOrVo0ULBwcHq37+/Pv7440pjlixZUu3nsaCgoL6ncl6OzPGLL76otv6dO3dWGueq27C6/5/YbDZ169atYowzbcOvvvpKI0eOVFRUlGw2m959992LruMUn0Hjxp544gnz/PPPmylTppiQkJAarTN37lwTFBRkVqxYYbZu3WrGjRtnIiMjTV5eXsWYiRMnmlatWpmkpCSzceNGc80115iePXuakpKSeprJ+V1//fUmLi7OrFu3zqxbt87ExcWZESNGXHCdzMzMSrfFixcbm81m9u3bVzFm8ODB5r777qs07tSpU/U9nSpqM78JEyaY66+/vlLtx48frzTGWbaho/M7deqUGTp0qFm6dKnZuXOnWb9+venbt6+Jj4+vNM6q7ffvf//beHt7m7/97W8mNTXVPPjggyYwMNAcPHiw2vH79+83AQEB5sEHHzSpqanmb3/7m/H29jbLly+vGLNu3Trj6elpnnnmGbNjxw7zzDPPGC8vL/Ptt9/W+3x+ztH5Pfjgg2bevHnm+++/N7t37zaJiYnG29vbbNy4sWLMm2++aYKDg6t8Lq3i6Bw///xzI8ns2rWrUv0//Sy58jY8depUpXllZGSY0NBQ8+STT1aMcaZtuHr1ajNjxgyzYsUKI8msWrXqguOd5TPo1mGk3JtvvlmjMGK3201ERISZO3duxbKCggITEhJiXn31VWNM2R+mt7e3+fe//10x5vDhw8bDw8OsWbOmzmu/kNTUVCOp0h/E+vXrjSSzc+fOGj/PzTffbIYMGVJp2eDBg82DDz5YV6XWSm3nN2HCBHPzzTef93Fn2YZ1tf2+//57I6nS/0yt2n59+vQxEydOrLSsc+fOZvr06dWOf+SRR0znzp0rLbv//vtNv379Ku6PHTvWXH/99ZXGDBs2zNx+++11VHXNOTq/6nTt2tXMmjWr4n5N///UUBydY3kYOXny5Hmf05224apVq4zNZjMHDhyoWOZs27BcTcKIs3wG3bpN46i0tDRlZWUpISGhYpmvr68GDx6sdevWSZKSk5NVXFxcaUxUVJTi4uIqxjSU9evXKyQkRH379q1Y1q9fP4WEhNS4lqNHj+qjjz7SvffeW+Wxt956S2FhYerWrZumTp1a8evJDeVS5vfFF1+oZcuW6tixo+677z5lZ2dXPOYs27Autp8k5ebmymazVWlFNvT2KyoqUnJycqX3VZISEhLOO5/169dXGT9s2DBt2LBBxcXFFxzT0J+32szv5+x2u/Lz8xUaGlpp+enTpxUTE6PWrVtrxIgR2rRpU53V7YhLmeMVV1yhyMhIXXvttfr8888rPeZO2/CNN97Q0KFDFRMTU2m5s2xDRznLZ9AlfiivoWRlZUmSwsPDKy0PDw/XwYMHK8b4+PioWbNmVcaUr99QsrKy1LJlyyrLW7ZsWeNa/v73vysoKEi33nprpeV33nmnYmNjFRERoW3btikxMVEpKSlKSkqqk9prorbzGz58uMaMGaOYmBilpaXp8ccf15AhQ5ScnCxfX1+n2YZ1sf0KCgo0ffp03XHHHZV+4MqK7ZeTk6PS0tJqPz/nm09WVla140tKSpSTk6PIyMjzjmnoz1tt5vdzzz33nM6cOaOxY8dWLOvcubOWLFmi7t27Ky8vTy+++KIGDhyolJQUdejQoU7ncDG1mWNkZKRee+01xcfHq7CwUP/85z917bXX6osvvtBVV10l6fzb2dW2YWZmpv773//q7bffrrTcmbaho5zlM+hyYWTmzJmaNWvWBcf88MMP6t27d61fw2azVbpvjKmy7OdqMqamajpHqWqtjtayePFi3XnnnfLz86u0/L777qv477i4OHXo0EG9e/fWxo0b1atXrxo99/nU9/zGjRtX8d9xcXHq3bu3YmJi9NFHH1UJXY48b0011PYrLi7W7bffLrvdroULF1Z6rD6338U4+vmpbvzPl9fmM1lfalvLO++8o5kzZ+q9996rFEL79etX6QDrgQMHqlevXvrLX/6il156qe4Kd4Ajc+zUqZM6depUcb9///7KyMjQggULKsKIo89Z32pby5IlS9S0aVONGjWq0nJn3IaOcIbPoMuFkQceeOCiZwW0bdu2Vs8dEREhqSwpRkZGVizPzs6uSIUREREqKirSyZMnK/3LOjs7WwMGDKjV6/5cTee4ZcsWHT16tMpjx44dq5Jiq7N27Vrt2rVLS5cuvejYXr16ydvbW3v27LnkL7OGml+5yMhIxcTEaM+ePZLqfxs2xPyKi4s1duxYpaWl6bPPPrvoz37X5fY7n7CwMHl6elb519JPPz8/FxERUe14Ly8vNW/e/IJjHPkbqAu1mV+5pUuX6t5779WyZcs0dOjQC4718PDQL37xi4q/14Z0KXP8qX79+ulf//pXxX132IbGGC1evFjjx4+Xj4/PBcdauQ0d5TSfwTo7+sSJOXoA67x58yqWFRYWVnsA69KlSyvGHDlyxNIDWL/77ruKZd9++22ND4CcMGFClbMwzmfr1q1Gkvnyyy9rXa+jLnV+5XJycoyvr6/5+9//boxxnm1Y2/kVFRWZUaNGmW7dupns7OwavVZDbb8+ffqY3/3ud5WWdenS5YIHsHbp0qXSsokTJ1Y5eG748OGVxlx//fWWHfzoyPyMMebtt982fn5+Fz2QsJzdbje9e/c299xzz6WUWmu1mePPjR492lxzzTUV9119Gxrz/w/U3bp160Vfw+ptWE41PIDVGT6Dbh1GDh48aDZt2mRmzZplmjRpYjZt2mQ2bdpk8vPzK8Z06tTJrFy5suL+3LlzTUhIiFm5cqXZunWr+eUvf1ntqb2tW7c2n376qdm4caMZMmSIpaf29ujRw6xfv96sX7/edO/evcqpoT+fozHG5ObmmoCAALNo0aIqz7l3714za9Ys88MPP5i0tDTz0Ucfmc6dO5srrrjCklNfHZlffn6+efjhh826detMWlqa+fzzz03//v1Nq1atnHIbOjq/4uJic9NNN5nWrVubzZs3VzqNsLCw0Bhj7fYrP23yjTfeMKmpqWby5MkmMDCw4syD6dOnm/Hjx1eMLz+t8KGHHjKpqanmjTfeqHJa4TfffGM8PT3N3LlzzY4dO8zcuXMtPy20pvN7++23jZeXl3nllVfOe5r1zJkzzZo1a8y+ffvMpk2bzD333GO8vLwqhdSG5Ogc//znP5tVq1aZ3bt3m23btpnp06cbSWbFihUVY1x5G5b71a9+Zfr27VvtczrTNszPz6/4rpNknn/+ebNp06aKs+2c9TPo1mFkwoQJRlKV2+eff14xRpJ58803K+7b7Xbz5JNPmoiICOPr62uuuuqqKkn43Llz5oEHHjChoaHG39/fjBgxwqSnpzfQrCo7fvy4ufPOO01QUJAJCgoyd955Z5VT7H4+R2OM+etf/2r8/f2rvfZEenq6ueqqq0xoaKjx8fEx7du3N5MmTapyrY6G4Oj8zp49axISEkyLFi2Mt7e3adOmjZkwYUKV7eMs29DR+aWlpVX7N/3Tv2urt98rr7xiYmJijI+Pj+nVq1elvTETJkwwgwcPrjT+iy++MFdccYXx8fExbdu2rTYgL1u2zHTq1Ml4e3ubzp07V/qia2iOzG/w4MHVbqsJEyZUjJk8ebJp06aN8fHxMS1atDAJCQlm3bp1DTijqhyZ47x580z79u2Nn5+fadasmbnyyivNRx99VOU5XXUbGlO2N9Xf39+89tpr1T6fM23D8j045/ubc9bPoM2YH49UAQAAsADXGQEAAJYijAAAAEsRRgAAgKUIIwAAwFKEEQAAYCnCCAAAsBRhBAAAWIowAgAALEUYAQAAliKMAAAASxFGAACApQgjAADAUv8PL+H0QSdRhxgAAAAASUVORK5CYII=",
      "text/plain": [
       "<Figure size 640x480 with 1 Axes>"
      ]
     },
     "metadata": {},
     "output_type": "display_data"
    }
   ],
   "source": [
    "plt.plot(xin, appr_relu(xin, alpha=12), label=\"fun 4\")\n",
    "plt.legend()"
   ]
  },
  {
   "cell_type": "code",

   "execution_count": 11,
   "id": "37f584ca",
   "metadata": {},
   "outputs": [
    {
     "data": {
      "image/png": "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",
      "text/plain": [
       "<Figure size 640x480 with 1 Axes>"
      ]
     },
     "metadata": {},
     "output_type": "display_data"
    }
   ],
   "source": [
    "xin = np.linspace(-0.999, 1.001, 100000)\n",
    "\n",
    "rappx = appr_relu(xin, 12)\n",
    "rans = relu(xin)\n",
    "\n",
    "plt.plot(xin, rappx, label=\"apprx\")\n",
    "plt.plot(xin, rans, label=\"correct\")\n",
    "plt.show()"
   ]
  },
  {
   "cell_type": "code",
   "execution_count": null,

   "id": "1b1c99c4",
   "metadata": {},
   "outputs": [],
   "source": []
  }
 ],
 "metadata": {
  "kernelspec": {
   "display_name": "Python 3.10.4 64-bit ('fhe')",
   "language": "python",
   "name": "python3"
  },
  "language_info": {
   "codemirror_mode": {
    "name": "ipython",
    "version": 3
   },
   "file_extension": ".py",
   "mimetype": "text/x-python",
   "name": "python",
   "nbconvert_exporter": "python",
   "pygments_lexer": "ipython3",
   "version": "3.10.6"
  },
  "vscode": {
   "interpreter": {
    "hash": "60d42a677e1abf850e158ee39e01a5d70da0f6529681f4a4eca4a35dff8a082c"
   }
  }
 },
 "nbformat": 4,
 "nbformat_minor": 5
}
