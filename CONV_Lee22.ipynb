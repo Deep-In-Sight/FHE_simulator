{
 "cells": [
  {
   "cell_type": "code",
   "execution_count": 1,
   "metadata": {},
   "outputs": [],
   "source": [
    "import torch \n",
    "import matplotlib.pyplot as plt \n",
    "import numpy as np\n",
    "from cipher import *\n",
    "from scheme import *"
   ]
  },
  {
   "cell_type": "code",
   "execution_count": 2,
   "id": "a0cc5f37",
   "metadata": {},
   "outputs": [],
   "source": [
    "def plot_anno_heatmap(data):\n",
    "    nx, ny = data.shape\n",
    "\n",
    "    fig, ax = plt.subplots()\n",
    "    im = ax.imshow(data)\n",
    "\n",
    "    # Loop over data dimensions and create text annotations.\n",
    "    for i in range(nx):\n",
    "        for j in range(ny):\n",
    "            text = ax.text(j, i, data[i, j],\n",
    "                        ha=\"center\", va=\"center\", color=\"w\")"
   ]
  },
  {
   "cell_type": "code",
   "execution_count": 2,
   "id": "4ca04617",
   "metadata": {},
   "outputs": [
    {
     "name": "stdout",
     "output_type": "stream",
     "text": [
      " logp: 30\n",
      " logq: 500 \n",
      " logn: 13\n"
     ]
    }
   ],
   "source": [
    "myring = Ring(seed=1234)\n",
    "parms = Parameters(logp = 30, logq = 500, logn =13)\n",
    "nslots = 2**(parms.logn-1) # -1? \n",
    "context = Context(parms, myring)\n",
    "\n",
    "sk = context.generate_secret_key()\n",
    "\n",
    "print(context.params)\n",
    "\n",
    "keys = {\"mult\":context.generate_mult_key(),\n",
    "        \"rot\":{'1':'hi1',\n",
    "               '2':'hi2',\n",
    "               '4':'hi4',\n",
    "               '8':'hi8'}}\n",
    "ev = Evaluator(keys, context) # Evaluator도 그냥 context만 넣게 할까? \n",
    "\n",
    "encoder = Encoder(context)\n",
    "encryptor = Encryptor(context)\n",
    "\n",
    "decryptor = Decryptor(sk)"
   ]
  },
  {
   "cell_type": "code",
   "execution_count": 5,
   "id": "3d86c5cd",
   "metadata": {},
   "outputs": [],
   "source": [
    "import ResNet20\n",
    "from approximate import approx_relu, approx_sign\n",
    "\n",
    "activation = lambda x : 40 * approx_relu(x/40, degree = 4, repeat=3)\n",
    "\n",
    "org_model = ResNet20.ResNet9(activation=activation)\n",
    "\n",
    "\n",
    "fn_param = \"ResNet9avg_minimaxReLU.pt\"\n",
    "trained_param = torch.load(fn_param)\n",
    "trained_param = {k: v.cpu() for k, v in trained_param.items()} # to cpu()\n",
    "org_model.load_state_dict(trained_param)\n",
    "org_model.eval() ## If not eval(), running_mean and running_var of batch_norm changes\n",
    "\n",
    "# To numpy\n",
    "params_np = {k: v.numpy() for k, v in trained_param.items()}"
   ]
  },
  {
   "cell_type": "code",
   "execution_count": 6,
   "id": "fba78c53",
   "metadata": {},
   "outputs": [
    {
     "data": {
      "text/plain": [
       "ResNet9(\n",
       "  (conv1): Conv2d(3, 64, kernel_size=(3, 3), stride=(1, 1), padding=(1, 1), bias=False)\n",
       "  (bn1): BatchNorm2d(64, eps=1e-05, momentum=0.9, affine=True, track_running_stats=True)\n",
       "  (conv2): Conv2d(64, 128, kernel_size=(3, 3), stride=(1, 1), padding=(1, 1), bias=False)\n",
       "  (bn2): BatchNorm2d(128, eps=1e-05, momentum=0.1, affine=True, track_running_stats=True)\n",
       "  (maxpool): AvgPool2d(kernel_size=2, stride=2, padding=0)\n",
       "  (basicblock1): BasicBlock(\n",
       "    (conv1): Conv2d(128, 128, kernel_size=(3, 3), stride=(1, 1), padding=(1, 1), bias=False)\n",
       "    (bn1): BatchNorm2d(128, eps=1e-05, momentum=0.1, affine=False, track_running_stats=True)\n",
       "    (conv2): Conv2d(128, 128, kernel_size=(3, 3), stride=(1, 1), padding=(1, 1), bias=False)\n",
       "    (bn2): BatchNorm2d(128, eps=1e-05, momentum=0.1, affine=False, track_running_stats=True)\n",
       "    (shortcut): Sequential()\n",
       "  )\n",
       "  (conv3): Conv2d(128, 256, kernel_size=(3, 3), stride=(1, 1), padding=(1, 1), bias=False)\n",
       "  (bn3): BatchNorm2d(256, eps=1e-05, momentum=0.1, affine=True, track_running_stats=True)\n",
       "  (conv4): Conv2d(256, 256, kernel_size=(3, 3), stride=(1, 1), padding=(1, 1), bias=False)\n",
       "  (bn4): BatchNorm2d(256, eps=1e-05, momentum=0.1, affine=True, track_running_stats=True)\n",
       "  (basicblock2): BasicBlock(\n",
       "    (conv1): Conv2d(256, 256, kernel_size=(3, 3), stride=(1, 1), padding=(1, 1), bias=False)\n",
       "    (bn1): BatchNorm2d(256, eps=1e-05, momentum=0.1, affine=False, track_running_stats=True)\n",
       "    (conv2): Conv2d(256, 256, kernel_size=(3, 3), stride=(1, 1), padding=(1, 1), bias=False)\n",
       "    (bn2): BatchNorm2d(256, eps=1e-05, momentum=0.1, affine=False, track_running_stats=True)\n",
       "    (shortcut): Sequential()\n",
       "  )\n",
       "  (linear): Linear(in_features=1024, out_features=10, bias=True)\n",
       ")"
      ]
     },
     "execution_count": 6,
     "metadata": {},
     "output_type": "execute_result"
    }
   ],
   "source": [
    "org_model"
   ]
  },
  {
   "cell_type": "code",
   "execution_count": 8,
   "id": "82ae8a3b",
   "metadata": {},
   "outputs": [],
   "source": [
    "def Gaz_siso(ci, co, fw, fh):\n",
    "    n_rot = ci * fw * fh\n",
    "    n_mult = co * ci * fw * fh\n",
    "    n_add = co * ci * fw * fh\n",
    "    \n",
    "    return n_rot, n_mult, n_add\n",
    "\n"
   ]
  },
  {
   "cell_type": "code",
   "execution_count": 9,
   "id": "aae2e5fa",
   "metadata": {},
   "outputs": [
    {
     "ename": "SyntaxError",
     "evalue": "invalid syntax (3456591196.py, line 16)",
     "output_type": "error",
     "traceback": [
      "\u001b[1;36m  Input \u001b[1;32mIn [9]\u001b[1;36m\u001b[0m\n\u001b[1;33m    n_mult =\u001b[0m\n\u001b[1;37m             ^\u001b[0m\n\u001b[1;31mSyntaxError\u001b[0m\u001b[1;31m:\u001b[0m invalid syntax\n"
     ]
    }
   ],
   "source": [
    "nt = 8192 # Nslots or 16384\n",
    "\n",
    "# Count Rotation & multiplication \n",
    "def Lee22_mult_conv(ci, co, fw, fh, ki=1, ko=1):\n",
    "    ti = np.ceil(ci/ki**2).astype(int)\n",
    "    to = np.ceil(co/ki**2).astype(int)\n",
    "    hi = 32\n",
    "    wi = 32\n",
    "    \n",
    "    ho = 32\n",
    "    wo = 32\n",
    "    #q = np.ceil(co/pi).astye(int) # parallel version\n",
    "\n",
    "    pi = 2**(np.log2((nt/ki**2*hi*wi*ti)))\n",
    "    po = 2**(np.log2((nt/ko**2*ho*wo*to)))\n",
    "    n_rot = fh*fw -1 + co*(2*np.ceil(np.log2(ki)) + np.ceil(np.log2(ti)) + 1)\n",
    "\n",
    "    n_mult = \n",
    "\n",
    "    n_add = \n",
    "\n",
    "    return n_rot, n_mult, n_add"
   ]
  },
  {
   "cell_type": "code",
   "execution_count": 40,
   "id": "2177162d",
   "metadata": {},
   "outputs": [],
   "source": [
    "from math import floor, ceil"
   ]
  },
  {
   "cell_type": "markdown",
   "id": "4d2b9971",
   "metadata": {},
   "source": [
    "## SumSlots(ct; m, p)\n",
    "\n",
    "sparse ctxt의 효율적인 sum reduce"
   ]
  },
  {
   "cell_type": "code",
   "execution_count": 138,
   "id": "3c49e02e",
   "metadata": {},
   "outputs": [],
   "source": [
    "def sumslots(ctxt, m, p):\n",
    "    # m: number of added slots\n",
    "    # p: gap size\n",
    "    ctxt_j =[ctxt]\n",
    "    for j in range(1, floor(np.log2(m))+1):\n",
    "        ctxt_j.append(ctxt_j[-1] + np.roll(ctxt_j[-1], 2**(j-1)*p)) # -?\n",
    "        \n",
    "    result = ctxt_j[-1].copy()\n",
    "    for j in range(floor(np.log2(m))):\n",
    "        if floor(m/2**j) % 2 == 1:\n",
    "            result += np.roll(ctxt_j[j], floor(m/2**(j+1))*2**(j+1)*p)\n",
    "    return result"
   ]
  },
  {
   "cell_type": "code",
   "execution_count": 139,
   "id": "ae39dd88",
   "metadata": {},
   "outputs": [
    {
     "data": {
      "text/plain": [
       "array([91,  0,  0, 91,  0,  0, 91,  0,  0, 91,  0,  0, 91,  0,  0, 91,  0,\n",
       "        0, 91,  0,  0, 91,  0,  0, 91,  0,  0, 91,  0,  0, 91,  0,  0, 91,\n",
       "        0,  0, 91,  0,  0])"
      ]
     },
     "execution_count": 139,
     "metadata": {},
     "output_type": "execute_result"
    }
   ],
   "source": [
    "arr = np.array([1,0,0,2,0,0,3,0,0,4,0,0,5,0,0,6,0,0,7,0,0,8,0,0,9,0,0,10,0,0,11,0,0,12,0,0,13,0,0])\n",
    "#print(np.sum(arr))\n",
    "sumslots(arr, 13, 3)"
   ]
  },
  {
   "cell_type": "markdown",
   "id": "6e423ef7",
   "metadata": {},
   "source": [
    "### Vec"
   ]
  },
  {
   "cell_type": "code",
   "execution_count": 47,
   "id": "e0a421de",
   "metadata": {},
   "outputs": [],
   "source": [
    "def VEC(tensor_img, ci = 3, wi = 4, hi = 4):\n",
    "    vectorized = np.zeros((ci*wi*hi)) # or int(2**floor(np.log2(ci))) ?\n",
    "\n",
    "    for i in range(wi*hi*ci):\n",
    "        vectorized[i] = tensor_img[floor((i%(hi*wi))/wi),\n",
    "                                    i % wi, floor(i/(hi*wi))]\n",
    "    return vectorized"
   ]
  },
  {
   "cell_type": "markdown",
   "id": "bb85cfb6",
   "metadata": {},
   "source": [
    "### Multiplexed Packing"
   ]
  },
  {
   "cell_type": "code",
   "execution_count": null,
   "id": "5b2f0878",
   "metadata": {},
   "outputs": [],
   "source": [
    "ch1 = np.arange(16).reshape(4,4)\n",
    "ch2 = 10*np.arange(16).reshape(4,4)\n",
    "ch3 = 100*np.arange(16).reshape(4,4)\n",
    "#ch4 = np.zeros(16).reshape(4,4)\n",
    "tensor_img = np.zeros((4,4,3))\n",
    "tensor_img[:,:,0] = ch1\n",
    "tensor_img[:,:,1] = ch2\n",
    "tensor_img[:,:,2] = ch3\n",
    "\n",
    "plt.imshow(tensor_img[:,:,0])"
   ]
  },
  {
   "cell_type": "code",
   "execution_count": 140,
   "id": "88886794",
   "metadata": {},
   "outputs": [
    {
     "data": {
      "text/plain": [
       "(4, 4, 3)"
      ]
     },
     "execution_count": 140,
     "metadata": {},
     "output_type": "execute_result"
    }
   ],
   "source": [
    "tensor_img.shape"
   ]
  },
  {
   "cell_type": "code",
   "execution_count": 141,
   "id": "0fec3e87",
   "metadata": {},
   "outputs": [],
   "source": [
    "from math import sqrt"
   ]
  },
  {
   "cell_type": "code",
   "execution_count": 145,
   "id": "6160b379",
   "metadata": {},
   "outputs": [],
   "source": [
    "# multplexed packing\n",
    "\n",
    "def multiplex(tensor_data):\n",
    "    \"\"\"\n",
    "        tensor_data: (H, W, C)\n",
    "    \"\"\"\n",
    "    hi, wi, ci = tensor_data.shape\n",
    "    \n",
    "    ki = ceil(sqrt(ci))\n",
    "\n",
    "    ti = np.ceil(ci/ki**2).astype(int)\n",
    "\n",
    "    MP = np.zeros((ki*hi,ki*wi,ti))\n",
    "\n",
    "    for i5 in range(ti):\n",
    "        for i4 in range(ki*wi):\n",
    "            for i3 in range(ki*hi):\n",
    "                ind_last = ki**2*i5 + ki*(i3 % ki) + i4 % ki\n",
    "                if ind_last < ci:\n",
    "                    MP[i3,i4,i5] = tensor_data[floor(i3/ki), floor(i4/ki), ind_last]\n",
    "\n",
    "    return MP"
   ]
  },
  {
   "cell_type": "code",
   "execution_count": 146,
   "id": "83edfcc5",
   "metadata": {},
   "outputs": [
    {
     "data": {
      "image/png": "[encoded data removed]",
      "text/plain": [
       "<Figure size 432x288 with 1 Axes>"
      ]
     },
     "metadata": {
      "needs_background": "light"
     },
     "output_type": "display_data"
    }
   ],
   "source": [
    "MP = multiplex(tensor_img)\n",
    "plot_anno_heatmap(MP[:,:,0].astype(int))"
   ]
  },
  {
   "cell_type": "code",
   "execution_count": 147,
   "id": "3e40b650",
   "metadata": {},
   "outputs": [
    {
     "data": {
      "text/plain": [
       "array([[[   0,    0,    0],\n",
       "        [   1,   10,  100],\n",
       "        [   2,   20,  200],\n",
       "        [   3,   30,  300]],\n",
       "\n",
       "       [[   4,   40,  400],\n",
       "        [   5,   50,  500],\n",
       "        [   6,   60,  600],\n",
       "        [   7,   70,  700]],\n",
       "\n",
       "       [[   8,   80,  800],\n",
       "        [   9,   90,  900],\n",
       "        [  10,  100, 1000],\n",
       "        [  11,  110, 1100]],\n",
       "\n",
       "       [[  12,  120, 1200],\n",
       "        [  13,  130, 1300],\n",
       "        [  14,  140, 1400],\n",
       "        [  15,  150, 1500]]])"
      ]
     },
     "execution_count": 147,
     "metadata": {},
     "output_type": "execute_result"
    }
   ],
   "source": [
    "tensor_img.astype(int)"
   ]
  },
  {
   "cell_type": "markdown",
   "id": "3eb80ddd",
   "metadata": {},
   "source": [
    "## MultWgt(U;i1,i2,i)\n",
    "transform a filter of $F_h \\times F_w \\times C_i \\times C_o$ to 1D \n",
    "\n",
    "\n",
    "Before, we define multiplexed shifted weight tensor"
   ]
  },
  {
   "cell_type": "code",
   "execution_count": null,
   "id": "d85812a0",
   "metadata": {},
   "outputs": [],
   "source": [
    "# Multiplexed \n",
    "fh = 3\n",
    "fw = 3\n",
    "co = 8 #(3->8)\n",
    "\n",
    "U = np.zeros((fh,fw,co))\n",
    "Up = np.zeros((ki*hi,ki*wi,ti))\n",
    "for i3 in range(ki*hi):\n",
    "    for i4 in range(ki*wi):\n",
    "        for i5 in range(ti):\n",
    "            condition = (ki**2(i5 + ki*(i3 % ki) + i4 % ki) >= ci) or floor(i3/ki) - (fw-1)/2 + int(not(i1 in [0,hi-1]))\n",
    "            Up[i3,i4,i5]"
   ]
  },
  {
   "cell_type": "code",
   "execution_count": null,
   "id": "be70ab6d",
   "metadata": {},
   "outputs": [],
   "source": [
    "# Multiplexed selecting tensor\n",
    "\n",
    "S = np.zeros((ko*ho, ko*wo, to))"
   ]
  },
  {
   "cell_type": "code",
   "execution_count": null,
   "id": "60106ab2",
   "metadata": {},
   "outputs": [],
   "source": [
    "def multwgt()"
   ]
  },
  {
   "cell_type": "markdown",
   "id": "eb5e488c",
   "metadata": {},
   "source": [
    "# MultConv(ctxt, U)"
   ]
  },
  {
   "cell_type": "code",
   "execution_count": null,
   "id": "0953060d",
   "metadata": {},
   "outputs": [],
   "source": [
    "def multconv(ctxt, U):\n",
    "    ctxt_d = np.zeros(len(ctxt))\n",
    "    for i1 in range(fh):\n",
    "        for i2 in range(fw):\n",
    "            "
   ]
  }
 ],
 "metadata": {
  "kernelspec": {
   "display_name": "Python 3.10.4 ('fhe')",
   "language": "python",
   "name": "python3"
  },
  "language_info": {
   "codemirror_mode": {
    "name": "ipython",
    "version": 3
   },
   "file_extension": ".py",
   "mimetype": "text/x-python",
   "name": "python",
   "nbconvert_exporter": "python",
   "pygments_lexer": "ipython3",
   "version": "3.10.4"
  },
  "vscode": {
   "interpreter": {
    "hash": "5075a704c0d3e9d28fc016097ccb4606b3aa41f4550d939e934d30fcf66246ef"
   }
  }
 },
 "nbformat": 4,
 "nbformat_minor": 5
}
