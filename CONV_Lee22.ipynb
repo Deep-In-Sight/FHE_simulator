{
 "cells": [
  {
   "cell_type": "code",
   "execution_count": 1,
   "id": "3c760750",
   "metadata": {},
   "outputs": [],
   "source": [
    "%load_ext autoreload\n",
    "%autoreload 2"
   ]
  },
  {
   "cell_type": "code",
   "execution_count": 2,
   "id": "cc852a36",
   "metadata": {},
   "outputs": [
    {
     "name": "stdout",
     "output_type": "stream",
     "text": [
      "CUDA is available!  Training on GPU ...\n"
     ]
    }
   ],
   "source": [
    "import matplotlib.pyplot as plt \n",
    "import numpy as np\n",
    "from cipher import *\n",
    "from scheme import *\n",
    "\n",
    "from time import time\n",
    "from PIL import Image\n",
    "\n",
    "import torch\n",
    "import torchvision.transforms as transforms\n",
    "\n",
    "# check if CUDA is available\n",
    "train_on_gpu = torch.cuda.is_available()\n",
    "\n",
    "if not train_on_gpu:\n",
    "    print('CUDA is not available.  Training on CPU ...')\n",
    "    device = \"cpu\"\n",
    "else:\n",
    "    print('CUDA is available!  Training on GPU ...')\n",
    "    device = \"cuda\""
   ]
  },
  {
   "cell_type": "markdown",
   "id": "521ae663",
   "metadata": {},
   "source": [
    "# Original Pytorch model"
   ]
  },
  {
   "cell_type": "markdown",
   "id": "a1eb6a6b",
   "metadata": {},
   "source": [
    "Load ORG Pytorch model"
   ]
  },
  {
   "cell_type": "code",
   "execution_count": 4,
   "id": "0b0d33d2",
   "metadata": {},
   "outputs": [
    {
     "data": {
      "text/plain": [
       "ConvNeuralNet(\n",
       "  (conv_layer1): Conv2d(3, 16, kernel_size=(3, 3), stride=(1, 1), padding=same)\n",
       "  (conv_layer2): Conv2d(16, 32, kernel_size=(3, 3), stride=(1, 1), padding=same)\n",
       "  (conv_layer3): Conv2d(32, 32, kernel_size=(3, 3), stride=(1, 1), padding=same)\n",
       "  (bn1): BatchNorm2d(32, eps=1e-05, momentum=0.1, affine=True, track_running_stats=True)\n",
       "  (pool): AvgPool2d(kernel_size=2, stride=2, padding=0)\n",
       "  (conv_layer4): Conv2d(32, 64, kernel_size=(3, 3), stride=(1, 1), padding=same)\n",
       "  (conv_layer5): Conv2d(64, 64, kernel_size=(3, 3), stride=(1, 1), padding=same)\n",
       "  (bn2): BatchNorm2d(64, eps=1e-05, momentum=0.1, affine=True, track_running_stats=True)\n",
       "  (fc1): Linear(in_features=1024, out_features=128, bias=True)\n",
       "  (fc2): Linear(in_features=128, out_features=10, bias=True)\n",
       ")"
      ]
     },
     "execution_count": 4,
     "metadata": {},
     "output_type": "execute_result"
    }
   ],
   "source": [
    "from load_test_model import get_test_model\n",
    "org_model = get_test_model()\n",
    "# specify the image classes\n",
    "classes = ['airplane', 'automobile', 'bird', 'cat', 'deer',\n",
    "        'dog', 'frog', 'horse', 'ship', 'truck']\n",
    "org_model"
   ]
  },
  {
   "cell_type": "markdown",
   "id": "4d82c861",
   "metadata": {},
   "source": [
    "Load an image for test"
   ]
  },
  {
   "cell_type": "code",
   "execution_count": 5,
   "id": "57f0e642",
   "metadata": {},
   "outputs": [
    {
     "name": "stdout",
     "output_type": "stream",
     "text": [
      "torch.Size([1, 3, 32, 32])\n"
     ]
    }
   ],
   "source": [
    "img = np.array(Image.open(\"./bird6.png\"))\n",
    "to_tensor = transforms.ToTensor() # [n_channel, nh, nw]\n",
    "img_tensor = to_tensor(img).unsqueeze(0) # [n_batch, n_channel, nh, nw]\n",
    "n_batch, n_channel, nh, nw = img_tensor.shape\n",
    "\n",
    "print(img_tensor.shape)"
   ]
  },
  {
   "cell_type": "markdown",
   "id": "a3f5f762",
   "metadata": {},
   "source": [
    "Load trained parameters"
   ]
  },
  {
   "cell_type": "code",
   "execution_count": 6,
   "id": "3e16ddb4",
   "metadata": {},
   "outputs": [],
   "source": [
    "fn_param = \"SimpleCNN_ReLU_minimax_v2.pt\"\n",
    "\n",
    "trained_param = torch.load(fn_param, map_location=torch.device(device))\n",
    "trained_param = {k: v.cpu() for k, v in trained_param.items()} # to cpu()\n",
    "org_model.load_state_dict(trained_param)\n",
    "org_model.eval() ## If not eval(), running_mean and running_var of batch_norm changes\n",
    "\n",
    "# To numpy\n",
    "params_np = {k: v.numpy() for k, v in trained_param.items()}"
   ]
  },
  {
   "cell_type": "code",
   "execution_count": 7,
   "id": "f7dd197d",
   "metadata": {},
   "outputs": [
    {
     "data": {
      "text/plain": [
       "<matplotlib.image.AxesImage at 0x7f5696797a60>"
      ]
     },
     "execution_count": 7,
     "metadata": {},
     "output_type": "execute_result"
    },
    {
     "data": {
      "image/png": "[encoded data removed]",
      "text/plain": [
       "<Figure size 432x288 with 1 Axes>"
      ]
     },
     "metadata": {
      "needs_background": "light"
     },
     "output_type": "display_data"
    }
   ],
   "source": [
    "org_tt0 = org_model.conv_layer1(img_tensor)\n",
    "\n",
    "x2 = org_tt0[0,0,...].detach().numpy()\n",
    "\n",
    "plt.imshow(x2)"
   ]
  },
  {
   "cell_type": "code",
   "execution_count": null,
   "id": "8bb49cf7",
   "metadata": {},
   "outputs": [],
   "source": []
  },
  {
   "cell_type": "markdown",
   "id": "9428dfd4",
   "metadata": {},
   "source": [
    "# FHE-friendly Conv"
   ]
  },
  {
   "cell_type": "markdown",
   "id": "4d2b9971",
   "metadata": {},
   "source": [
    "## SumSlots(ct; m, p)\n",
    "\n",
    "sparse ctxt의 효율적인 sum reduce"
   ]
  },
  {
   "cell_type": "code",
   "execution_count": 114,
   "id": "3c49e02e",
   "metadata": {},
   "outputs": [],
   "source": [
    "from heconv import sumslots, VEC, multiplex\n",
    "from heconv_tests import test_sumslots, test_VEC, test_multiplex\n",
    "from math import floor, ceil, sqrt\n"
   ]
  },
  {
   "cell_type": "code",
   "execution_count": 24,
   "id": "ae39dd88",
   "metadata": {},
   "outputs": [
    {
     "name": "stdout",
     "output_type": "stream",
     "text": [
      "input:  [1 0 2 0 3 0 4 0 5 0]\n",
      "sumslots test passed!\n",
      "[15  0 15  0 15  0] == 15\n"
     ]
    }
   ],
   "source": [
    "test_sumslots(5, 2)"
   ]
  },
  {
   "cell_type": "markdown",
   "id": "6e423ef7",
   "metadata": {},
   "source": [
    "### Vec\n",
    "Numpy axis랑 논문 axis 순서가 다름.  \n",
    "\n",
    "\n",
    "Numpy에서 (hi, wi, ci) 순서로 \"보이게\" array를 만들면 실제로는 ci, hi, wi 순서가 됨"
   ]
  },
  {
   "cell_type": "code",
   "execution_count": 102,
   "id": "c03827a2",
   "metadata": {},
   "outputs": [
    {
     "name": "stdout",
     "output_type": "stream",
     "text": [
      "VEC Test passed\n",
      "[ 0.  1.  2.  3.  4.  5.  6.  7.  8.  9. 10. 11. 12. 13. 14. 15. 16. 17.\n",
      " 18. 19. 20. 21. 22. 23. 24. 25. 26. 27. 28. 29. 30. 31. 32. 33. 34. 35.\n",
      " 36. 37. 38. 39. 40. 41. 42. 43. 44. 45. 46. 47. 48. 49. 50. 51. 52. 53.\n",
      " 54. 55. 56. 57. 58. 59.  0.  0.  0.  0.]\n"
     ]
    }
   ],
   "source": [
    "test_VEC(3,4,5)"
   ]
  },
  {
   "cell_type": "markdown",
   "id": "bb85cfb6",
   "metadata": {},
   "source": [
    "### Multiplexed Packing"
   ]
  },
  {
   "cell_type": "code",
   "execution_count": 118,
   "id": "af17ab86",
   "metadata": {},
   "outputs": [
    {
     "name": "stdout",
     "output_type": "stream",
     "text": [
      "(4, 4, 3)\n",
      "[[ 0.  1.  2.  3.]\n",
      " [ 4.  5.  6.  7.]\n",
      " [ 8.  9. 10. 11.]\n",
      " [12. 13. 14. 15.]]\n",
      "[[  0.  10.  20.  30.]\n",
      " [ 40.  50.  60.  70.]\n",
      " [ 80.  90. 100. 110.]\n",
      " [120. 130. 140. 150.]]\n",
      "[[   0.  100.  200.  300.]\n",
      " [ 400.  500.  600.  700.]\n",
      " [ 800.  900. 1000. 1100.]\n",
      " [1200. 1300. 1400. 1500.]]\n"
     ]
    },
    {
     "data": {
      "image/png": "[encoded data removed]",
      "text/plain": [
       "<Figure size 432x288 with 1 Axes>"
      ]
     },
     "metadata": {
      "needs_background": "light"
     },
     "output_type": "display_data"
    }
   ],
   "source": [
    "tt = test_multiplex()"
   ]
  },
  {
   "cell_type": "markdown",
   "id": "3eb80ddd",
   "metadata": {},
   "source": [
    "## MultWgt(U;i1,i2,i)\n",
    "transform a filter of size $F_h \\times F_w \\times C_i \\times C_o$ to 1D \n",
    "\n",
    "\n",
    "Before, we define multiplexed shifted weight tensor"
   ]
  },
  {
   "cell_type": "code",
   "execution_count": 24,
   "id": "33f2f742",
   "metadata": {},
   "outputs": [],
   "source": [
    "def get_Up(Uout, Uin, i1, i2, i, ki, fh, fw, hi, wi, ci):\n",
    "    \"\"\"Get an intermediate multiplexed representation of (fh,fw,ci,co)-shaped kernel.\n",
    "        This will be VEC-ed and SIMD-multiplied with the input image\n",
    "    \"\"\"\n",
    "    range_h = np.arange(hi)\n",
    "    range_w = np.arange(wi)\n",
    "    n3, n4, n5 = Uout.shape\n",
    "    for i3 in range(n3):\n",
    "        for i4 in range(n4):\n",
    "            for i5 in range(n5):\n",
    "                if  ki**2*i5+ki*(i3 % ki) + (i4 % ki) >= ci or \\\n",
    "                    not floor(i3 / ki) - int((fh -1)/2) in range_h or \\\n",
    "                    not floor(i4 / ki) - int((fw -1)/2) in range_w:\n",
    "                    pass\n",
    "                    #Uout[i3,i4,i5] = 0\n",
    "                else:\n",
    "                    #print(\"!!!\")\n",
    "                    #print(i1, i2, ki**2*i5+ki*(i3 % ki) + (i4 % ki), i)\n",
    "                    Uout[i3,i4,i5] = Uin[i1,i2, ki**2*i5+ki*(i3 % ki) + (i4 % ki), i]"
   ]
  },
  {
   "cell_type": "code",
   "execution_count": 25,
   "id": "f915f3f9",
   "metadata": {},
   "outputs": [],
   "source": [
    "## Selecting \n",
    "def selecting_tensor(ko, ho, wo, i):\n",
    "    \"\"\"Gather multiplexed conv output into original form (Am I right??) \n",
    "    \"\"\"\n",
    "    S = np.zeros((ko*ho,ko*wo,to))\n",
    "    n3, n4, n5 = S.shape\n",
    "    for i3 in range(n3):\n",
    "        for i4 in range(n4):\n",
    "            for i5 in range(n5):\n",
    "                if ko**2*i5 + ko*(i3 % ko) + (i4 % ko) == i:\n",
    "                    S[i3,i4,i5] = 1"
   ]
  },
  {
   "cell_type": "markdown",
   "id": "e706c2fc",
   "metadata": {},
   "source": [
    "## Conv test script"
   ]
  },
  {
   "cell_type": "code",
   "execution_count": 119,
   "id": "d85812a0",
   "metadata": {
    "scrolled": true
   },
   "outputs": [],
   "source": [
    "# Multiplexed \n",
    "\n",
    "nslots = 16384\n",
    "\n",
    "packed = VEC(multiplex(img),nslots)\n"
   ]
  },
  {
   "cell_type": "markdown",
   "id": "393828eb",
   "metadata": {},
   "source": [
    "numpy의 .reshape axis 순서가 내 생각과 다름...\n",
    "\n",
    "reshape를 VEC()의 inverse로 새로 짜야할 듯 "
   ]
  },
  {
   "cell_type": "code",
   "execution_count": 121,
   "id": "c285dc56",
   "metadata": {},
   "outputs": [
    {
     "data": {
      "text/plain": [
       "(16384,)"
      ]
     },
     "execution_count": 121,
     "metadata": {},
     "output_type": "execute_result"
    }
   ],
   "source": [
    "packed."
   ]
  },
  {
   "cell_type": "code",
   "execution_count": null,
   "id": "051c3898",
   "metadata": {},
   "outputs": [],
   "source": [
    "\n",
    "Uin = org_model.conv_layer1.weight.detach().numpy()\n",
    "Uin = np.swapaxes(Uin,0,3)\n",
    "Uin = np.swapaxes(Uin,1,2)\n",
    "#Uin = np.swapaxes(Uin,0,1)\n",
    "\n",
    "fh, fw, ci, co = Uin.shape\n",
    "hi, wi, ci = img.shape\n",
    "ki = ceil(sqrt(ci))\n",
    "ko = ceil(sqrt(co))\n",
    "ti = np.ceil(ci/ki**2).astype(int)\n",
    "\n",
    "### no striding\n",
    "ho = hi\n",
    "wo = wi\n",
    "###\n",
    "to = np.ceil(co/ko**2).astype(int)\n",
    "\n",
    "ctd = np.zeros(nslots)\n",
    "\n",
    "\n",
    "cts=[]\n",
    "for i1 in range(fh):\n",
    "    cti1=[]\n",
    "    for i2 in range(fw):\n",
    "        cti1.append(np.roll(packed, -ki**2*wi*int(i1-(fh-1)/2) + ki*int(i2-(fw-1)/2))) # -?\n",
    "    cts.append(cti1)\n",
    "\n",
    "#len_multwgt = ki*\n",
    "\n",
    "for i in range(co):\n",
    "    ctb = np.zeros(nslots)\n",
    "    for i1 in range(fh):\n",
    "        for i2 in range(fw):\n",
    "            Uout = np.zeros((ki*hi,ki*wi,ti))\n",
    "            get_Up(Uout, Uin, i1, i2, i, ki, fh, fw, hi, wi, ci)\n",
    "            multwgt = VEC(Uout, nslots)\n",
    "            len_multwgt = len(multwgt)\n",
    "            ctb[:len_multwgt] += cts[i1][i2][:len_multwgt] * multwgt            \n",
    "    #print(ctb)\n",
    "    ctc = sumslots(ctb, ki, 1)\n",
    "    ctc = sumslots(ctc, ki, ki*wi) # ki or ko or another K?\n",
    "    ctc = sumslots(ctc, ti, ki**2*hi*wi)\n",
    "\n",
    "    S = selecting_tensor(ko, ho, wo, i)\n",
    "    ctd += np.roll(ctc, (floor(i/ko**2)*ko**2*ho*wo + floor((i % ko**2)/ko)*ko*wo + (i % ko))) * VEC(S, nslots)"
   ]
  },
  {
   "cell_type": "code",
   "execution_count": 201,
   "id": "efa6009e",
   "metadata": {},
   "outputs": [
    {
     "data": {
      "text/plain": [
       "(64, 64, 1)"
      ]
     },
     "execution_count": 201,
     "metadata": {},
     "output_type": "execute_result"
    }
   ],
   "source": [
    "Uout.shape"
   ]
  },
  {
   "cell_type": "markdown",
   "id": "5a3dc100",
   "metadata": {},
   "source": [
    "## 결과: index bug? "
   ]
  },
  {
   "cell_type": "code",
   "execution_count": 200,
   "id": "ac0a014d",
   "metadata": {},
   "outputs": [
    {
     "data": {
      "text/plain": [
       "<matplotlib.image.AxesImage at 0x7f8487ea3d90>"
      ]
     },
     "execution_count": 200,
     "metadata": {},
     "output_type": "execute_result"
    },
    {
     "data": {
      "image/png": "[encoded data removed]",
      "text/plain": [
       "<Figure size 432x288 with 1 Axes>"
      ]
     },
     "metadata": {
      "needs_background": "light"
     },
     "output_type": "display_data"
    }
   ],
   "source": [
    "out2d = ctd.reshape(128,128)\n",
    "\n",
    "plt.imshow(out2d[0::4,0::4])"
   ]
  },
  {
   "cell_type": "code",
   "execution_count": null,
   "id": "fe58b53b",
   "metadata": {},
   "outputs": [],
   "source": []
  }
 ],
 "metadata": {
  "kernelspec": {
   "display_name": "Python 3.10.4 ('fhe')",
   "language": "python",
   "name": "python3"
  },
  "language_info": {
   "codemirror_mode": {
    "name": "ipython",
    "version": 3
   },
   "file_extension": ".py",
   "mimetype": "text/x-python",
   "name": "python",
   "nbconvert_exporter": "python",
   "pygments_lexer": "ipython3",
   "version": "3.10.4"
  },
  "vscode": {
   "interpreter": {
    "hash": "60d42a677e1abf850e158ee39e01a5d70da0f6529681f4a4eca4a35dff8a082c"
   }
  }
 },
 "nbformat": 4,
 "nbformat_minor": 5
}
