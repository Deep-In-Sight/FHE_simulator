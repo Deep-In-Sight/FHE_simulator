{
 "cells": [
  {
   "cell_type": "code",
   "execution_count": 1,
   "metadata": {},
   "outputs": [],
   "source": [
    "%load_ext autoreload\n",
    "%autoreload 2"
   ]
  },
  {
   "cell_type": "code",
   "execution_count": 1,
   "metadata": {},
   "outputs": [],
   "source": [
    "import numpy as np\n",
    "from math import sqrt, ceil\n",
    "\n",
    "from hemul.cipher import *\n",
    "from hemul.ciphertext import Plaintext\n",
    "from hemul.scheme import *\n",
    "from hemul.algorithms import Algorithms \n",
    "from hemul.context import set_all"
   ]
  },
  {
   "cell_type": "code",
   "execution_count": 2,
   "metadata": {},
   "outputs": [],
   "source": [
    "context, ev, encoder, encryptor, decryptor = set_all(30, 450, 8)\n",
    "nslots = context.params.nslots\n",
    "coeff_modulus = [60,30,30,30,30,30,60]\n"
   ]
  },
  {
   "cell_type": "markdown",
   "metadata": {},
   "source": [
    "근데 이게.. SEAL-specific한가? HEAAN에는 적용 X. OpenFHE에는?   \n",
    "HECATE에서 다루는 문제도 비슷한데, HECATE는 arbitrary scale로 내리는 계산을 따로 만듦 (Downscale).   \n",
    "\n",
    "> 중요한건 문제의 타입과 문제 해결에 필요한 정보\n",
    "\n",
    "\n"
   ]
  },
  {
   "cell_type": "markdown",
   "metadata": {},
   "source": [
    "### Example 1) 기존 코드\n"
   ]
  },
  {
   "cell_type": "code",
   "execution_count": 3,
   "metadata": {},
   "outputs": [
    {
     "name": "stdout",
     "output_type": "stream",
     "text": [
      "[551368 314432 195112 140608 125000 140608 195112 314432]\n"
     ]
    }
   ],
   "source": [
    "x = np.array([1,2,3,4,5,6,7,8])\n",
    "y = np.array([9,8,7,6,5,4,3,2])\n",
    "\n",
    "def fun(x,y):\n",
    "    return (x**2 + y**2)**3\n",
    "\n",
    "print(fun(x,y))"
   ]
  },
  {
   "cell_type": "markdown",
   "metadata": {},
   "source": [
    "### Example 1) FHE 버전\n",
    "\n",
    "```Python\n",
    "x = encryptor.encrypt([1,2,3,4,5,6,7,8])\n",
    "y = encryptor.encrypt([9,8,7,6,5,4,3,2])\n",
    "\n",
    "@compile_fhe\n",
    "def fun(x:Ciphertext, y:Ciphertext):\n",
    "    return (x**2 + y**2)**3\n",
    "```"
   ]
  },
  {
   "cell_type": "code",
   "execution_count": 4,
   "metadata": {},
   "outputs": [],
   "source": [
    "x = encryptor.encrypt([1,2,3,4,5,6,7,8])\n",
    "y = encryptor.encrypt([9,8,7,6,5,4,3,2])\n",
    "\n",
    "\n",
    "def fun_v1(x,y):\n",
    "    x2 = ev.square(x)\n",
    "    ev.rescale_next(x2)\n",
    "    y2 = ev.square(y)\n",
    "    ev.rescale_next(y2)\n",
    "    z = ev.add(x2,y2)\n",
    "    z2 = ev.square(z)\n",
    "    ev.rescale_next(z2)\n",
    "    ev.mod_down_to(z, z2)\n",
    "    z3 = ev.mult(z,z2)\n",
    "    return z3\n",
    "\n",
    "def fun_v2(x,y):\n",
    "    x2 = ev.square(x)\n",
    "    y2 = ev.square(y)\n",
    "    z = ev.add(x2,y2)\n",
    "    ev.rescale_next(z)\n",
    "    z2 = ev.square(z)\n",
    "    ev.rescale_next(z2)\n",
    "    ev.mod_down_to(z, z2)\n",
    "    z3 = ev.mult(z,z2)\n",
    "    return z3\n"
   ]
  },
  {
   "cell_type": "code",
   "execution_count": 5,
   "metadata": {},
   "outputs": [],
   "source": [
    "# 결과 확인"
   ]
  },
  {
   "cell_type": "markdown",
   "metadata": {},
   "source": [
    "### Example 2 loop 돌아서 곱하기 많은 케이스"
   ]
  },
  {
   "cell_type": "code",
   "execution_count": 6,
   "metadata": {},
   "outputs": [],
   "source": [
    "def newton_raphson_inv(a, number=1e-6, n_iters = 20):\n",
    "    for i in range(n_iters): \n",
    "        q = (2-a*number)\n",
    "        number = number*q\n",
    "    return number"
   ]
  },
  {
   "cell_type": "code",
   "execution_count": 9,
   "metadata": {},
   "outputs": [],
   "source": [
    "algo = Algorithms(ev, encoder)\n",
    "\n",
    "# optimize 덜 된 버전\n",
    "def newton_raphson_inv_fhe(ctxt, number = 1e-4, n_iters = 20):\n",
    "    \n",
    "    two = algo.encode_repeat(2) # [2,2,2,2,2,2,2,2,2,...]\n",
    "    number = algo.encode_repeat(number)    \n",
    "    \n",
    "    q_ = ev.mult_by_plain(ctxt, number, inplace=False)\n",
    "    ev.rescale_next(q_)\n",
    "    sub_ = ev.add_plain(q_, two, inplace=False)\n",
    "    number_ = ev.mult_by_plain(sub_, number, inplace=False)\n",
    "    ev.rescale_next(number_)\n",
    "\n",
    "    for i in range(1, n_iters):\n",
    "        print(i, \"1\", number_.logp, number_.logq)\n",
    "        tmp = ev.negate(number_, inplace=False)\n",
    "        print(i, \"1-1\", tmp.logp, tmp.logq)\n",
    "        print(i, \"1-1-1\", ctxt.logp, ctxt.logq)\n",
    "        ev.match_mod(ctxt, tmp)\n",
    "        q_ = ev.mult(ctxt, tmp, inplace=False)\n",
    "        print(i, \"1-2\", q_.logp, q_.logq)\n",
    "        ev.rescale_next(q_)\n",
    "        \n",
    "        sub_ = ev.add_plain(q_, two, inplace=False)\n",
    "        ev.match_mod(number_, sub_)\n",
    "        print(i, \"2\", number_.logp, number_.logq)\n",
    "        ev.mult(number_, sub_, inplace=True)\n",
    "        ev.rescale_next(number_)\n",
    "        print(i, \"3\", number_.logp, number_.logq)\n",
    "        if number_.logq < 2*number_.logp:\n",
    "            ev.bootstrap(number_)\n",
    "            print(\"Bootstrapping...\")\n",
    "    return number_"
   ]
  },
  {
   "cell_type": "markdown",
   "metadata": {},
   "source": [
    "### 문제: scale이 바뀌는 모든 method 이전에 logq를 체크하지 않으면 자동으로 bootstrapping할 방법이 없음. \n",
    "1. 원래 OpenFHE도 그렇게 하는 걸까?\n",
    "2. 컴파일러로 하려면 SSA인 상태로 변수를 계속 따라가는 것? \n",
    "3. 컴파일러로 하면 장점:\n",
    "   1. 정해진 logq에 따라 bootstrapping을 하는 것이 아니고 bootstrapping 개수를 최적화하는 적당한 logq를 정할 수 있음 "
   ]
  },
  {
   "cell_type": "code",
   "execution_count": 11,
   "metadata": {},
   "outputs": [],
   "source": [
    "#  컴파일러가 필요하겠어...! \n",
    "def newton_raphson_inv_fhe(ctxt, number = 1e-4, n_iters = 20):\n",
    "    two = algo.encode_repeat(2) # [2,2,2,2,2,2,2,2,2,...]\n",
    "    number = algo.encode_repeat(number)    \n",
    "    \n",
    "    q_ = ev.mult_by_plain(ctxt, number, inplace=False)\n",
    "    ev.rescale_next(q_)\n",
    "    sub_ = ev.add_plain(q_, two, inplace=False)\n",
    "    number_ = ev.mult_by_plain(sub_, number, inplace=False)\n",
    "    ev.rescale_next(number_)\n",
    "\n",
    "    for i in range(1, n_iters):\n",
    "        print(i, \"1\", number_.logp, number_.logq)\n",
    "        tmp = ev.negate(number_, inplace=False)\n",
    "        print(i, \"1-1\", tmp.logp, tmp.logq)\n",
    "        print(i, \"1-1-1\", ctxt.logp, ctxt.logq)\n",
    "        ctxt_ = ev.copy(ctxt)\n",
    "        ev.match_mod(ctxt_, tmp)\n",
    "        q_ = ev.mult(ctxt_, tmp, inplace=False)\n",
    "        print(i, \"1-2\", q_.logp, q_.logq)\n",
    "        ev.rescale_next(q_)\n",
    "        \n",
    "        sub_ = ev.add_plain(q_, two, inplace=False)\n",
    "        ev.match_mod(number_, sub_)\n",
    "        print(i, \"2\", number_.logp, number_.logq)\n",
    "        ev.mult(number_, sub_, inplace=True)\n",
    "        ev.rescale_next(number_)\n",
    "        print(i, \"3\", number_.logp, number_.logq)\n",
    "        if number_.logq < 2*number_.logp:\n",
    "            ev.bootstrap(number_)\n",
    "            print(\"Bootstrapping...\")\n",
    "    return number_"
   ]
  },
  {
   "cell_type": "code",
   "execution_count": 12,
   "metadata": {},
   "outputs": [
    {
     "name": "stdout",
     "output_type": "stream",
     "text": [
      "1 1 30 390\n",
      "1 1-1 30 390\n",
      "1 1-1-1 30 450\n",
      "1 1-2 60 390\n",
      "1 2 30 360\n",
      "1 3 30 330\n",
      "2 1 30 330\n",
      "2 1-1 30 330\n",
      "2 1-1-1 30 450\n",
      "2 1-2 60 330\n",
      "2 2 30 300\n",
      "2 3 30 270\n",
      "3 1 30 270\n",
      "3 1-1 30 270\n",
      "3 1-1-1 30 450\n",
      "3 1-2 60 270\n",
      "3 2 30 240\n",
      "3 3 30 210\n",
      "4 1 30 210\n",
      "4 1-1 30 210\n",
      "4 1-1-1 30 450\n",
      "4 1-2 60 210\n",
      "4 2 30 180\n",
      "4 3 30 150\n",
      "5 1 30 150\n",
      "5 1-1 30 150\n",
      "5 1-1-1 30 450\n",
      "5 1-2 60 150\n",
      "5 2 30 120\n",
      "5 3 30 90\n",
      "6 1 30 90\n",
      "6 1-1 30 90\n",
      "6 1-1-1 30 450\n",
      "6 1-2 60 90\n",
      "6 2 30 60\n",
      "6 3 30 30\n",
      "Bootstrapping...\n",
      "7 1 30 420\n",
      "7 1-1 30 420\n",
      "7 1-1-1 30 450\n",
      "7 1-2 60 420\n",
      "7 2 30 390\n",
      "7 3 30 360\n",
      "8 1 30 360\n",
      "8 1-1 30 360\n",
      "8 1-1-1 30 450\n",
      "8 1-2 60 360\n",
      "8 2 30 330\n",
      "8 3 30 300\n",
      "9 1 30 300\n",
      "9 1-1 30 300\n",
      "9 1-1-1 30 450\n",
      "9 1-2 60 300\n",
      "9 2 30 270\n",
      "9 3 30 240\n",
      "10 1 30 240\n",
      "10 1-1 30 240\n",
      "10 1-1-1 30 450\n",
      "10 1-2 60 240\n",
      "10 2 30 210\n",
      "10 3 30 180\n",
      "11 1 30 180\n",
      "11 1-1 30 180\n",
      "11 1-1-1 30 450\n",
      "11 1-2 60 180\n",
      "11 2 30 150\n",
      "11 3 30 120\n",
      "12 1 30 120\n",
      "12 1-1 30 120\n",
      "12 1-1-1 30 450\n",
      "12 1-2 60 120\n",
      "12 2 30 90\n",
      "12 3 30 60\n",
      "13 1 30 60\n",
      "13 1-1 30 60\n",
      "13 1-1-1 30 450\n",
      "13 1-2 60 60\n",
      "13 2 30 30\n"
     ]
    },
    {
     "ename": "AssertionError",
     "evalue": "no more noise budget! do bootstrapping",
     "output_type": "error",
     "traceback": [
      "\u001b[1;31m---------------------------------------------------------------------------\u001b[0m",
      "\u001b[1;31mAssertionError\u001b[0m                            Traceback (most recent call last)",
      "Cell \u001b[1;32mIn [12], line 5\u001b[0m\n\u001b[0;32m      2\u001b[0m result \u001b[39m=\u001b[39m newton_raphson_inv(xarr)\n\u001b[0;32m      4\u001b[0m ctxt \u001b[39m=\u001b[39m encryptor\u001b[39m.\u001b[39mencrypt(xarr)\n\u001b[1;32m----> 5\u001b[0m result_he \u001b[39m=\u001b[39m newton_raphson_inv_fhe(ctxt)\n",
      "Cell \u001b[1;32mIn [11], line 27\u001b[0m, in \u001b[0;36mnewton_raphson_inv_fhe\u001b[1;34m(ctxt, number, n_iters)\u001b[0m\n\u001b[0;32m     25\u001b[0m \u001b[39mprint\u001b[39m(i, \u001b[39m\"\u001b[39m\u001b[39m2\u001b[39m\u001b[39m\"\u001b[39m, number_\u001b[39m.\u001b[39mlogp, number_\u001b[39m.\u001b[39mlogq)\n\u001b[0;32m     26\u001b[0m ev\u001b[39m.\u001b[39mmult(number_, sub_, inplace\u001b[39m=\u001b[39m\u001b[39mTrue\u001b[39;00m)\n\u001b[1;32m---> 27\u001b[0m ev\u001b[39m.\u001b[39;49mrescale_next(number_)\n\u001b[0;32m     28\u001b[0m \u001b[39mprint\u001b[39m(i, \u001b[39m\"\u001b[39m\u001b[39m3\u001b[39m\u001b[39m\"\u001b[39m, number_\u001b[39m.\u001b[39mlogp, number_\u001b[39m.\u001b[39mlogq)\n\u001b[0;32m     29\u001b[0m \u001b[39mif\u001b[39;00m number_\u001b[39m.\u001b[39mlogq \u001b[39m<\u001b[39m \u001b[39m2\u001b[39m\u001b[39m*\u001b[39mnumber_\u001b[39m.\u001b[39mlogp:\n",
      "File \u001b[1;32m~\\Documents\\GitHub\\FHE_simulator\\hemul\\scheme.py:240\u001b[0m, in \u001b[0;36mEvaluator.rescale_next\u001b[1;34m(self, ctxt)\u001b[0m\n\u001b[0;32m    238\u001b[0m delta \u001b[39m=\u001b[39m \u001b[39mself\u001b[39m\u001b[39m.\u001b[39m_logp\n\u001b[0;32m    239\u001b[0m ctxt\u001b[39m.\u001b[39mlogp \u001b[39m-\u001b[39m\u001b[39m=\u001b[39m delta\n\u001b[1;32m--> 240\u001b[0m \u001b[39mself\u001b[39;49m\u001b[39m.\u001b[39;49m_reduce_logq(ctxt, delta)\n",
      "File \u001b[1;32m~\\Documents\\GitHub\\FHE_simulator\\hemul\\scheme.py:234\u001b[0m, in \u001b[0;36mEvaluator._reduce_logq\u001b[1;34m(ctxt, delta)\u001b[0m\n\u001b[0;32m    231\u001b[0m \u001b[39m@staticmethod\u001b[39m\n\u001b[0;32m    232\u001b[0m \u001b[39mdef\u001b[39;00m \u001b[39m_reduce_logq\u001b[39m(ctxt, delta):\n\u001b[0;32m    233\u001b[0m     ctxt\u001b[39m.\u001b[39mlogq \u001b[39m-\u001b[39m\u001b[39m=\u001b[39m delta\n\u001b[1;32m--> 234\u001b[0m     \u001b[39massert\u001b[39;00m ctxt\u001b[39m.\u001b[39mlogq \u001b[39m>\u001b[39m \u001b[39m0\u001b[39m, \u001b[39m\"\u001b[39m\u001b[39mno more noise budget! do bootstrapping\u001b[39m\u001b[39m\"\u001b[39m\n",
      "\u001b[1;31mAssertionError\u001b[0m: no more noise budget! do bootstrapping"
     ]
    }
   ],
   "source": [
    "xarr = np.array([10, 15, 20, 25, 30, 35, 40, 45, 50, 55, 60])\n",
    "result = newton_raphson_inv(xarr)\n",
    "\n",
    "ctxt = encryptor.encrypt(xarr)\n",
    "result_he = newton_raphson_inv_fhe(ctxt)"
   ]
  },
  {
   "cell_type": "code",
   "execution_count": 11,
   "metadata": {},
   "outputs": [
    {
     "data": {
      "text/plain": [
       "array([ True,  True,  True,  True,  True,  True,  True,  True])"
      ]
     },
     "execution_count": 11,
     "metadata": {},
     "output_type": "execute_result"
    }
   ],
   "source": [
    "np.isclose(result_he._arr[:8], result[:8], atol=1e-5)"
   ]
  },
  {
   "cell_type": "markdown",
   "metadata": {},
   "source": [
    "### 3. rotation과 NTT 변환 억제\n",
    "\n",
    "matrix 곱하기? "
   ]
  },
  {
   "cell_type": "code",
   "execution_count": null,
   "metadata": {},
   "outputs": [],
   "source": []
  }
 ],
 "metadata": {
  "kernelspec": {
   "display_name": "Python 3.10.4 ('fhe')",
   "language": "python",
   "name": "python3"
  },
  "language_info": {
   "codemirror_mode": {
    "name": "ipython",
    "version": 3
   },
   "file_extension": ".py",
   "mimetype": "text/x-python",
   "name": "python",
   "nbconvert_exporter": "python",
   "pygments_lexer": "ipython3",
   "version": "3.10.4"
  },
  "orig_nbformat": 4,
  "vscode": {
   "interpreter": {
    "hash": "5075a704c0d3e9d28fc016097ccb4606b3aa41f4550d939e934d30fcf66246ef"
   }
  }
 },
 "nbformat": 4,
 "nbformat_minor": 2
}
