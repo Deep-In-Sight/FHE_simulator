{
 "cells": [
  {
   "cell_type": "code",
   "execution_count": 1,
   "metadata": {},
   "outputs": [],
   "source": [
    "import numpy as np\n",
    "from math import sqrt, ceil\n",
    "\n",
    "from hemul.cipher import *\n",
    "from hemul.ciphertext import Plaintext\n",
    "from hemul.scheme import *\n",
    "from hemul.algorithms import Algorithms \n",
    "from hemul.context import set_all"
   ]
  },
  {
   "cell_type": "code",
   "execution_count": 2,
   "metadata": {},
   "outputs": [],
   "source": [
    "context, ev, encoder, encryptor, decryptor = set_all(30, 150, 12)\n",
    "nslots = context.params.nslots\n",
    "coeff_modulus = [60,30,30,30,30,30,60]\n"
   ]
  },
  {
   "cell_type": "markdown",
   "metadata": {},
   "source": [
    "근데 이게.. SEAL-specific한가? HEAAN에는 적용 X. OpenFHE에는?   \n",
    "HECATE에서 다루는 문제도 비슷한데, HECATE는 arbitrary scale로 내리는 계산을 따로 만듦 (Downscale).   \n",
    "\n",
    "> 중요한건 문제의 타입과 문제 해결에 필요한 정보\n"
   ]
  },
  {
   "cell_type": "code",
   "execution_count": 6,
   "metadata": {},
   "outputs": [
    {
     "ename": "AttributeError",
     "evalue": "'Evaluator' object has no attribute 'switch_next'",
     "output_type": "error",
     "traceback": [
      "\u001b[1;31m---------------------------------------------------------------------------\u001b[0m",
      "\u001b[1;31mAttributeError\u001b[0m                            Traceback (most recent call last)",
      "Cell \u001b[1;32mIn [6], line 9\u001b[0m\n\u001b[0;32m      7\u001b[0m x2 \u001b[39m=\u001b[39m ev\u001b[39m.\u001b[39msquare(x)\n\u001b[0;32m      8\u001b[0m ev\u001b[39m.\u001b[39mrescale_next(x2)\n\u001b[1;32m----> 9\u001b[0m ev\u001b[39m.\u001b[39;49mswitch_next(y)\n\u001b[0;32m     10\u001b[0m x2y \u001b[39m=\u001b[39m ev\u001b[39m.\u001b[39mmult(x2, y)\n",
      "\u001b[1;31mAttributeError\u001b[0m: 'Evaluator' object has no attribute 'switch_next'"
     ]
    }
   ],
   "source": [
    "# x**2*y \n",
    "\n",
    "# 1 \n",
    "x = encryptor.encrypt([1,2,3,4,5,6,7,8])\n",
    "y = encryptor.encrypt([9,8,7,6,5,4,3,2])\n",
    "\n",
    "x2 = ev.square(x)\n",
    "ev.rescale_next(x2)\n",
    "ev.switch_next(y)\n",
    "x2y = ev.mult(x2, y)\n"
   ]
  },
  {
   "cell_type": "markdown",
   "metadata": {},
   "source": [
    "Switch_next 필요"
   ]
  },
  {
   "cell_type": "code",
   "execution_count": null,
   "metadata": {},
   "outputs": [],
   "source": []
  }
 ],
 "metadata": {
  "kernelspec": {
   "display_name": "Python 3.10.4 ('fhe')",
   "language": "python",
   "name": "python3"
  },
  "language_info": {
   "codemirror_mode": {
    "name": "ipython",
    "version": 3
   },
   "file_extension": ".py",
   "mimetype": "text/x-python",
   "name": "python",
   "nbconvert_exporter": "python",
   "pygments_lexer": "ipython3",
   "version": "3.10.4"
  },
  "orig_nbformat": 4,
  "vscode": {
   "interpreter": {
    "hash": "5075a704c0d3e9d28fc016097ccb4606b3aa41f4550d939e934d30fcf66246ef"
   }
  }
 },
 "nbformat": 4,
 "nbformat_minor": 2
}
