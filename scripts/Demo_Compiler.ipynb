{
 "cells": [
  {
   "cell_type": "code",
   "execution_count": 26,
   "id": "04177a49",
   "metadata": {},
   "outputs": [],
   "source": [
    "import ast, inspect \n",
    "import numpy as np\n",
    "import pype\n",
    "from hemul.ciphertext import Ciphertext\n",
    "from modifier import NumpyReplacer, RescaleAdder, BinOpReplacer"
   ]
  },
  {
   "cell_type": "markdown",
   "id": "eea59b65",
   "metadata": {},
   "source": [
    "# Varaince Example\n",
    "\n",
    "In pandas, calculating variance is as easy as...\n",
    "\n",
    "```python\n",
    "result = df['people'].var()\n",
    "\n",
    "```"
   ]
  },
  {
   "cell_type": "markdown",
   "id": "79f7ca98",
   "metadata": {},
   "source": [
    "# If user writes it manually"
   ]
  },
  {
   "cell_type": "code",
   "execution_count": 30,
   "id": "b11a60a7",
   "metadata": {},
   "outputs": [
    {
     "data": {
      "text/plain": [
       "8.25"
      ]
     },
     "execution_count": 30,
     "metadata": {},
     "output_type": "execute_result"
    }
   ],
   "source": [
    "#@pype.jit\n",
    "def var(data:Ciphertext):\n",
    "    \"\"\"Clear text version.\n",
    "    \"\"\"\n",
    "    m = np.mean(data)\n",
    "    diff = (data - m)\n",
    "    result = np.sum(diff*diff)/len(data)\n",
    "    return result\n",
    "\n",
    "# Ordinary\n",
    "arr = np.array([1,2,3,4,5,6,7,8,9,10])\n",
    "var(arr)"
   ]
  },
  {
   "cell_type": "code",
   "execution_count": null,
   "id": "9c5612f2",
   "metadata": {},
   "outputs": [],
   "source": []
  },
  {
   "cell_type": "code",
   "execution_count": 28,
   "id": "635c74a8",
   "metadata": {
    "collapsed": true
   },
   "outputs": [
    {
     "name": "stdout",
     "output_type": "stream",
     "text": [
      "[static_analyzer] Inferencing data types... \n",
      "Found a numpy call np mean\n",
      "Found a numpy call np sum\n",
      "entering Call\n",
      "Found a numpy call algo fhe_mean\n",
      "entering Call\n",
      "Found a numpy call algo fhe_sum_reduce\n",
      "entering Call\n",
      "Found a call len skipping...\n",
      "leaving Call\n"
     ]
    },
    {
     "ename": "AttributeError",
     "evalue": "'Assign' object has no attribute 'value'",
     "output_type": "error",
     "traceback": [
      "\u001b[0;31m---------------------------------------------------------------------------\u001b[0m",
      "\u001b[0;31mAttributeError\u001b[0m                            Traceback (most recent call last)",
      "Cell \u001b[0;32mIn [28], line 2\u001b[0m\n\u001b[1;32m      1\u001b[0m \u001b[38;5;129;43m@pype\u001b[39;49m\u001b[38;5;241;43m.\u001b[39;49m\u001b[43mjit\u001b[49m\u001b[43m  \u001b[49m\u001b[38;5;66;43;03m# <------ envoke JIT compiler \u001b[39;49;00m\n\u001b[0;32m----> 2\u001b[0m \u001b[38;5;28;43;01mdef\u001b[39;49;00m\u001b[43m \u001b[49m\u001b[38;5;21;43mvar\u001b[39;49m\u001b[43m(\u001b[49m\u001b[43mdata\u001b[49m\u001b[43m:\u001b[49m\u001b[43mCiphertext\u001b[49m\u001b[43m)\u001b[49m\u001b[43m:\u001b[49m\n\u001b[1;32m      3\u001b[0m \u001b[43m    \u001b[49m\u001b[38;5;124;43;03m\"\"\"Clear text version.\u001b[39;49;00m\n\u001b[1;32m      4\u001b[0m \u001b[38;5;124;43;03m    \"\"\"\u001b[39;49;00m\n\u001b[1;32m      5\u001b[0m \u001b[43m    \u001b[49m\u001b[43mm\u001b[49m\u001b[43m \u001b[49m\u001b[38;5;241;43m=\u001b[39;49m\u001b[43m \u001b[49m\u001b[43mnp\u001b[49m\u001b[38;5;241;43m.\u001b[39;49m\u001b[43mmean\u001b[49m\u001b[43m(\u001b[49m\u001b[43mdata\u001b[49m\u001b[43m)\u001b[49m\n",
      "File \u001b[0;32m~/Work/FHE_simulator/scripts/pype.py:13\u001b[0m, in \u001b[0;36mjit\u001b[0;34m(func)\u001b[0m\n\u001b[1;32m     10\u001b[0m     visitor()\u001b[38;5;241m.\u001b[39mvisit(tree)\n\u001b[1;32m     12\u001b[0m \u001b[38;5;28;01mwith\u001b[39;00m \u001b[38;5;28mopen\u001b[39m(func\u001b[38;5;241m.\u001b[39m\u001b[38;5;18m__name__\u001b[39m\u001b[38;5;241m+\u001b[39m\u001b[38;5;124m\"\u001b[39m\u001b[38;5;124m_md.py\u001b[39m\u001b[38;5;124m\"\u001b[39m, \u001b[38;5;124m\"\u001b[39m\u001b[38;5;124mw\u001b[39m\u001b[38;5;124m\"\u001b[39m) \u001b[38;5;28;01mas\u001b[39;00m f:\n\u001b[0;32m---> 13\u001b[0m     f\u001b[38;5;241m.\u001b[39mwrite(\u001b[43mast\u001b[49m\u001b[38;5;241;43m.\u001b[39;49m\u001b[43munparse\u001b[49m\u001b[43m(\u001b[49m\u001b[43mtree\u001b[49m\u001b[43m)\u001b[49m)\n\u001b[1;32m     14\u001b[0m \u001b[38;5;28;01mreturn\u001b[39;00m \u001b[38;5;28mcompile\u001b[39m(tree, filename\u001b[38;5;241m=\u001b[39m\u001b[38;5;124m\"\u001b[39m\u001b[38;5;124m<ast>\u001b[39m\u001b[38;5;124m\"\u001b[39m, mode\u001b[38;5;241m=\u001b[39m\u001b[38;5;124m\"\u001b[39m\u001b[38;5;124mexec\u001b[39m\u001b[38;5;124m\"\u001b[39m)\n",
      "File \u001b[0;32m~/anaconda3/envs/cnn/lib/python3.10/ast.py:1673\u001b[0m, in \u001b[0;36munparse\u001b[0;34m(ast_obj)\u001b[0m\n\u001b[1;32m   1671\u001b[0m \u001b[38;5;28;01mdef\u001b[39;00m \u001b[38;5;21munparse\u001b[39m(ast_obj):\n\u001b[1;32m   1672\u001b[0m     unparser \u001b[38;5;241m=\u001b[39m _Unparser()\n\u001b[0;32m-> 1673\u001b[0m     \u001b[38;5;28;01mreturn\u001b[39;00m \u001b[43munparser\u001b[49m\u001b[38;5;241;43m.\u001b[39;49m\u001b[43mvisit\u001b[49m\u001b[43m(\u001b[49m\u001b[43mast_obj\u001b[49m\u001b[43m)\u001b[49m\n",
      "File \u001b[0;32m~/anaconda3/envs/cnn/lib/python3.10/ast.py:807\u001b[0m, in \u001b[0;36m_Unparser.visit\u001b[0;34m(self, node)\u001b[0m\n\u001b[1;32m    804\u001b[0m \u001b[38;5;124;03m\"\"\"Outputs a source code string that, if converted back to an ast\u001b[39;00m\n\u001b[1;32m    805\u001b[0m \u001b[38;5;124;03m(using ast.parse) will generate an AST equivalent to *node*\"\"\"\u001b[39;00m\n\u001b[1;32m    806\u001b[0m \u001b[38;5;28mself\u001b[39m\u001b[38;5;241m.\u001b[39m_source \u001b[38;5;241m=\u001b[39m []\n\u001b[0;32m--> 807\u001b[0m \u001b[38;5;28;43mself\u001b[39;49m\u001b[38;5;241;43m.\u001b[39;49m\u001b[43mtraverse\u001b[49m\u001b[43m(\u001b[49m\u001b[43mnode\u001b[49m\u001b[43m)\u001b[49m\n\u001b[1;32m    808\u001b[0m \u001b[38;5;28;01mreturn\u001b[39;00m \u001b[38;5;124m\"\u001b[39m\u001b[38;5;124m\"\u001b[39m\u001b[38;5;241m.\u001b[39mjoin(\u001b[38;5;28mself\u001b[39m\u001b[38;5;241m.\u001b[39m_source)\n",
      "File \u001b[0;32m~/anaconda3/envs/cnn/lib/python3.10/ast.py:798\u001b[0m, in \u001b[0;36m_Unparser.traverse\u001b[0;34m(self, node)\u001b[0m\n\u001b[1;32m    796\u001b[0m         \u001b[38;5;28mself\u001b[39m\u001b[38;5;241m.\u001b[39mtraverse(item)\n\u001b[1;32m    797\u001b[0m \u001b[38;5;28;01melse\u001b[39;00m:\n\u001b[0;32m--> 798\u001b[0m     \u001b[38;5;28;43msuper\u001b[39;49m\u001b[43m(\u001b[49m\u001b[43m)\u001b[49m\u001b[38;5;241;43m.\u001b[39;49m\u001b[43mvisit\u001b[49m\u001b[43m(\u001b[49m\u001b[43mnode\u001b[49m\u001b[43m)\u001b[49m\n",
      "File \u001b[0;32m~/anaconda3/envs/cnn/lib/python3.10/ast.py:410\u001b[0m, in \u001b[0;36mNodeVisitor.visit\u001b[0;34m(self, node)\u001b[0m\n\u001b[1;32m    408\u001b[0m method \u001b[38;5;241m=\u001b[39m \u001b[38;5;124m'\u001b[39m\u001b[38;5;124mvisit_\u001b[39m\u001b[38;5;124m'\u001b[39m \u001b[38;5;241m+\u001b[39m node\u001b[38;5;241m.\u001b[39m\u001b[38;5;18m__class__\u001b[39m\u001b[38;5;241m.\u001b[39m\u001b[38;5;18m__name__\u001b[39m\n\u001b[1;32m    409\u001b[0m visitor \u001b[38;5;241m=\u001b[39m \u001b[38;5;28mgetattr\u001b[39m(\u001b[38;5;28mself\u001b[39m, method, \u001b[38;5;28mself\u001b[39m\u001b[38;5;241m.\u001b[39mgeneric_visit)\n\u001b[0;32m--> 410\u001b[0m \u001b[38;5;28;01mreturn\u001b[39;00m \u001b[43mvisitor\u001b[49m\u001b[43m(\u001b[49m\u001b[43mnode\u001b[49m\u001b[43m)\u001b[49m\n",
      "File \u001b[0;32m~/anaconda3/envs/cnn/lib/python3.10/ast.py:822\u001b[0m, in \u001b[0;36m_Unparser.visit_Module\u001b[0;34m(self, node)\u001b[0m\n\u001b[1;32m    817\u001b[0m \u001b[38;5;28;01mdef\u001b[39;00m \u001b[38;5;21mvisit_Module\u001b[39m(\u001b[38;5;28mself\u001b[39m, node):\n\u001b[1;32m    818\u001b[0m     \u001b[38;5;28mself\u001b[39m\u001b[38;5;241m.\u001b[39m_type_ignores \u001b[38;5;241m=\u001b[39m {\n\u001b[1;32m    819\u001b[0m         ignore\u001b[38;5;241m.\u001b[39mlineno: \u001b[38;5;124mf\u001b[39m\u001b[38;5;124m\"\u001b[39m\u001b[38;5;124mignore\u001b[39m\u001b[38;5;132;01m{\u001b[39;00mignore\u001b[38;5;241m.\u001b[39mtag\u001b[38;5;132;01m}\u001b[39;00m\u001b[38;5;124m\"\u001b[39m\n\u001b[1;32m    820\u001b[0m         \u001b[38;5;28;01mfor\u001b[39;00m ignore \u001b[38;5;129;01min\u001b[39;00m node\u001b[38;5;241m.\u001b[39mtype_ignores\n\u001b[1;32m    821\u001b[0m     }\n\u001b[0;32m--> 822\u001b[0m     \u001b[38;5;28;43mself\u001b[39;49m\u001b[38;5;241;43m.\u001b[39;49m\u001b[43m_write_docstring_and_traverse_body\u001b[49m\u001b[43m(\u001b[49m\u001b[43mnode\u001b[49m\u001b[43m)\u001b[49m\n\u001b[1;32m    823\u001b[0m     \u001b[38;5;28mself\u001b[39m\u001b[38;5;241m.\u001b[39m_type_ignores\u001b[38;5;241m.\u001b[39mclear()\n",
      "File \u001b[0;32m~/anaconda3/envs/cnn/lib/python3.10/ast.py:815\u001b[0m, in \u001b[0;36m_Unparser._write_docstring_and_traverse_body\u001b[0;34m(self, node)\u001b[0m\n\u001b[1;32m    813\u001b[0m     \u001b[38;5;28mself\u001b[39m\u001b[38;5;241m.\u001b[39mtraverse(node\u001b[38;5;241m.\u001b[39mbody[\u001b[38;5;241m1\u001b[39m:])\n\u001b[1;32m    814\u001b[0m \u001b[38;5;28;01melse\u001b[39;00m:\n\u001b[0;32m--> 815\u001b[0m     \u001b[38;5;28;43mself\u001b[39;49m\u001b[38;5;241;43m.\u001b[39;49m\u001b[43mtraverse\u001b[49m\u001b[43m(\u001b[49m\u001b[43mnode\u001b[49m\u001b[38;5;241;43m.\u001b[39;49m\u001b[43mbody\u001b[49m\u001b[43m)\u001b[49m\n",
      "File \u001b[0;32m~/anaconda3/envs/cnn/lib/python3.10/ast.py:796\u001b[0m, in \u001b[0;36m_Unparser.traverse\u001b[0;34m(self, node)\u001b[0m\n\u001b[1;32m    794\u001b[0m \u001b[38;5;28;01mif\u001b[39;00m \u001b[38;5;28misinstance\u001b[39m(node, \u001b[38;5;28mlist\u001b[39m):\n\u001b[1;32m    795\u001b[0m     \u001b[38;5;28;01mfor\u001b[39;00m item \u001b[38;5;129;01min\u001b[39;00m node:\n\u001b[0;32m--> 796\u001b[0m         \u001b[38;5;28;43mself\u001b[39;49m\u001b[38;5;241;43m.\u001b[39;49m\u001b[43mtraverse\u001b[49m\u001b[43m(\u001b[49m\u001b[43mitem\u001b[49m\u001b[43m)\u001b[49m\n\u001b[1;32m    797\u001b[0m \u001b[38;5;28;01melse\u001b[39;00m:\n\u001b[1;32m    798\u001b[0m     \u001b[38;5;28msuper\u001b[39m()\u001b[38;5;241m.\u001b[39mvisit(node)\n",
      "File \u001b[0;32m~/anaconda3/envs/cnn/lib/python3.10/ast.py:798\u001b[0m, in \u001b[0;36m_Unparser.traverse\u001b[0;34m(self, node)\u001b[0m\n\u001b[1;32m    796\u001b[0m         \u001b[38;5;28mself\u001b[39m\u001b[38;5;241m.\u001b[39mtraverse(item)\n\u001b[1;32m    797\u001b[0m \u001b[38;5;28;01melse\u001b[39;00m:\n\u001b[0;32m--> 798\u001b[0m     \u001b[38;5;28;43msuper\u001b[39;49m\u001b[43m(\u001b[49m\u001b[43m)\u001b[49m\u001b[38;5;241;43m.\u001b[39;49m\u001b[43mvisit\u001b[49m\u001b[43m(\u001b[49m\u001b[43mnode\u001b[49m\u001b[43m)\u001b[49m\n",
      "File \u001b[0;32m~/anaconda3/envs/cnn/lib/python3.10/ast.py:410\u001b[0m, in \u001b[0;36mNodeVisitor.visit\u001b[0;34m(self, node)\u001b[0m\n\u001b[1;32m    408\u001b[0m method \u001b[38;5;241m=\u001b[39m \u001b[38;5;124m'\u001b[39m\u001b[38;5;124mvisit_\u001b[39m\u001b[38;5;124m'\u001b[39m \u001b[38;5;241m+\u001b[39m node\u001b[38;5;241m.\u001b[39m\u001b[38;5;18m__class__\u001b[39m\u001b[38;5;241m.\u001b[39m\u001b[38;5;18m__name__\u001b[39m\n\u001b[1;32m    409\u001b[0m visitor \u001b[38;5;241m=\u001b[39m \u001b[38;5;28mgetattr\u001b[39m(\u001b[38;5;28mself\u001b[39m, method, \u001b[38;5;28mself\u001b[39m\u001b[38;5;241m.\u001b[39mgeneric_visit)\n\u001b[0;32m--> 410\u001b[0m \u001b[38;5;28;01mreturn\u001b[39;00m \u001b[43mvisitor\u001b[49m\u001b[43m(\u001b[49m\u001b[43mnode\u001b[49m\u001b[43m)\u001b[49m\n",
      "File \u001b[0;32m~/anaconda3/envs/cnn/lib/python3.10/ast.py:1004\u001b[0m, in \u001b[0;36m_Unparser.visit_FunctionDef\u001b[0;34m(self, node)\u001b[0m\n\u001b[1;32m   1003\u001b[0m \u001b[38;5;28;01mdef\u001b[39;00m \u001b[38;5;21mvisit_FunctionDef\u001b[39m(\u001b[38;5;28mself\u001b[39m, node):\n\u001b[0;32m-> 1004\u001b[0m     \u001b[38;5;28;43mself\u001b[39;49m\u001b[38;5;241;43m.\u001b[39;49m\u001b[43m_function_helper\u001b[49m\u001b[43m(\u001b[49m\u001b[43mnode\u001b[49m\u001b[43m,\u001b[49m\u001b[43m \u001b[49m\u001b[38;5;124;43m\"\u001b[39;49m\u001b[38;5;124;43mdef\u001b[39;49m\u001b[38;5;124;43m\"\u001b[39;49m\u001b[43m)\u001b[49m\n",
      "File \u001b[0;32m~/anaconda3/envs/cnn/lib/python3.10/ast.py:1022\u001b[0m, in \u001b[0;36m_Unparser._function_helper\u001b[0;34m(self, node, fill_suffix)\u001b[0m\n\u001b[1;32m   1020\u001b[0m     \u001b[38;5;28mself\u001b[39m\u001b[38;5;241m.\u001b[39mtraverse(node\u001b[38;5;241m.\u001b[39mreturns)\n\u001b[1;32m   1021\u001b[0m \u001b[38;5;28;01mwith\u001b[39;00m \u001b[38;5;28mself\u001b[39m\u001b[38;5;241m.\u001b[39mblock(extra\u001b[38;5;241m=\u001b[39m\u001b[38;5;28mself\u001b[39m\u001b[38;5;241m.\u001b[39mget_type_comment(node)):\n\u001b[0;32m-> 1022\u001b[0m     \u001b[38;5;28;43mself\u001b[39;49m\u001b[38;5;241;43m.\u001b[39;49m\u001b[43m_write_docstring_and_traverse_body\u001b[49m\u001b[43m(\u001b[49m\u001b[43mnode\u001b[49m\u001b[43m)\u001b[49m\n",
      "File \u001b[0;32m~/anaconda3/envs/cnn/lib/python3.10/ast.py:813\u001b[0m, in \u001b[0;36m_Unparser._write_docstring_and_traverse_body\u001b[0;34m(self, node)\u001b[0m\n\u001b[1;32m    811\u001b[0m \u001b[38;5;28;01mif\u001b[39;00m (docstring \u001b[38;5;241m:=\u001b[39m \u001b[38;5;28mself\u001b[39m\u001b[38;5;241m.\u001b[39mget_raw_docstring(node)):\n\u001b[1;32m    812\u001b[0m     \u001b[38;5;28mself\u001b[39m\u001b[38;5;241m.\u001b[39m_write_docstring(docstring)\n\u001b[0;32m--> 813\u001b[0m     \u001b[38;5;28;43mself\u001b[39;49m\u001b[38;5;241;43m.\u001b[39;49m\u001b[43mtraverse\u001b[49m\u001b[43m(\u001b[49m\u001b[43mnode\u001b[49m\u001b[38;5;241;43m.\u001b[39;49m\u001b[43mbody\u001b[49m\u001b[43m[\u001b[49m\u001b[38;5;241;43m1\u001b[39;49m\u001b[43m:\u001b[49m\u001b[43m]\u001b[49m\u001b[43m)\u001b[49m\n\u001b[1;32m    814\u001b[0m \u001b[38;5;28;01melse\u001b[39;00m:\n\u001b[1;32m    815\u001b[0m     \u001b[38;5;28mself\u001b[39m\u001b[38;5;241m.\u001b[39mtraverse(node\u001b[38;5;241m.\u001b[39mbody)\n",
      "File \u001b[0;32m~/anaconda3/envs/cnn/lib/python3.10/ast.py:796\u001b[0m, in \u001b[0;36m_Unparser.traverse\u001b[0;34m(self, node)\u001b[0m\n\u001b[1;32m    794\u001b[0m \u001b[38;5;28;01mif\u001b[39;00m \u001b[38;5;28misinstance\u001b[39m(node, \u001b[38;5;28mlist\u001b[39m):\n\u001b[1;32m    795\u001b[0m     \u001b[38;5;28;01mfor\u001b[39;00m item \u001b[38;5;129;01min\u001b[39;00m node:\n\u001b[0;32m--> 796\u001b[0m         \u001b[38;5;28;43mself\u001b[39;49m\u001b[38;5;241;43m.\u001b[39;49m\u001b[43mtraverse\u001b[49m\u001b[43m(\u001b[49m\u001b[43mitem\u001b[49m\u001b[43m)\u001b[49m\n\u001b[1;32m    797\u001b[0m \u001b[38;5;28;01melse\u001b[39;00m:\n\u001b[1;32m    798\u001b[0m     \u001b[38;5;28msuper\u001b[39m()\u001b[38;5;241m.\u001b[39mvisit(node)\n",
      "File \u001b[0;32m~/anaconda3/envs/cnn/lib/python3.10/ast.py:798\u001b[0m, in \u001b[0;36m_Unparser.traverse\u001b[0;34m(self, node)\u001b[0m\n\u001b[1;32m    796\u001b[0m         \u001b[38;5;28mself\u001b[39m\u001b[38;5;241m.\u001b[39mtraverse(item)\n\u001b[1;32m    797\u001b[0m \u001b[38;5;28;01melse\u001b[39;00m:\n\u001b[0;32m--> 798\u001b[0m     \u001b[38;5;28;43msuper\u001b[39;49m\u001b[43m(\u001b[49m\u001b[43m)\u001b[49m\u001b[38;5;241;43m.\u001b[39;49m\u001b[43mvisit\u001b[49m\u001b[43m(\u001b[49m\u001b[43mnode\u001b[49m\u001b[43m)\u001b[49m\n",
      "File \u001b[0;32m~/anaconda3/envs/cnn/lib/python3.10/ast.py:410\u001b[0m, in \u001b[0;36mNodeVisitor.visit\u001b[0;34m(self, node)\u001b[0m\n\u001b[1;32m    408\u001b[0m method \u001b[38;5;241m=\u001b[39m \u001b[38;5;124m'\u001b[39m\u001b[38;5;124mvisit_\u001b[39m\u001b[38;5;124m'\u001b[39m \u001b[38;5;241m+\u001b[39m node\u001b[38;5;241m.\u001b[39m\u001b[38;5;18m__class__\u001b[39m\u001b[38;5;241m.\u001b[39m\u001b[38;5;18m__name__\u001b[39m\n\u001b[1;32m    409\u001b[0m visitor \u001b[38;5;241m=\u001b[39m \u001b[38;5;28mgetattr\u001b[39m(\u001b[38;5;28mself\u001b[39m, method, \u001b[38;5;28mself\u001b[39m\u001b[38;5;241m.\u001b[39mgeneric_visit)\n\u001b[0;32m--> 410\u001b[0m \u001b[38;5;28;01mreturn\u001b[39;00m \u001b[43mvisitor\u001b[49m\u001b[43m(\u001b[49m\u001b[43mnode\u001b[49m\u001b[43m)\u001b[49m\n",
      "File \u001b[0;32m~/anaconda3/envs/cnn/lib/python3.10/ast.py:863\u001b[0m, in \u001b[0;36m_Unparser.visit_Assign\u001b[0;34m(self, node)\u001b[0m\n\u001b[1;32m    861\u001b[0m     \u001b[38;5;28mself\u001b[39m\u001b[38;5;241m.\u001b[39mtraverse(target)\n\u001b[1;32m    862\u001b[0m     \u001b[38;5;28mself\u001b[39m\u001b[38;5;241m.\u001b[39mwrite(\u001b[38;5;124m\"\u001b[39m\u001b[38;5;124m = \u001b[39m\u001b[38;5;124m\"\u001b[39m)\n\u001b[0;32m--> 863\u001b[0m \u001b[38;5;28mself\u001b[39m\u001b[38;5;241m.\u001b[39mtraverse(\u001b[43mnode\u001b[49m\u001b[38;5;241;43m.\u001b[39;49m\u001b[43mvalue\u001b[49m)\n\u001b[1;32m    864\u001b[0m \u001b[38;5;28;01mif\u001b[39;00m type_comment \u001b[38;5;241m:=\u001b[39m \u001b[38;5;28mself\u001b[39m\u001b[38;5;241m.\u001b[39mget_type_comment(node):\n\u001b[1;32m    865\u001b[0m     \u001b[38;5;28mself\u001b[39m\u001b[38;5;241m.\u001b[39mwrite(type_comment)\n",
      "\u001b[0;31mAttributeError\u001b[0m: 'Assign' object has no attribute 'value'"
     ]
    }
   ],
   "source": [
    "@pype.jit  # <------ envoke JIT compiler \n",
    "def var(data:Ciphertext):\n",
    "    \"\"\"Clear text version.\n",
    "    \"\"\"\n",
    "    m = np.mean(data)\n",
    "    diff = (data - m)\n",
    "    result = np.sum(diff*diff)/len(data)\n",
    "    return result\n",
    "\n",
    "### FHE\n",
    "ctxt = encryptor.encrypt(arr)\n",
    "res = var(ctxt)"
   ]
  },
  {
   "cell_type": "code",
   "execution_count": 29,
   "id": "a420c45c",
   "metadata": {},
   "outputs": [
    {
     "name": "stdout",
     "output_type": "stream",
     "text": [
      "8.2499832\n"
     ]
    }
   ],
   "source": [
    "print(decryptor.decrypt(res)[0])"
   ]
  },
  {
   "cell_type": "code",
   "execution_count": null,
   "id": "c4213d67",
   "metadata": {},
   "outputs": [],
   "source": []
  },
  {
   "cell_type": "code",
   "execution_count": null,
   "id": "e8dcef98",
   "metadata": {},
   "outputs": [],
   "source": []
  },
  {
   "cell_type": "markdown",
   "id": "4647b6e7",
   "metadata": {},
   "source": [
    "# Explaination"
   ]
  },
  {
   "cell_type": "markdown",
   "id": "27c099a6",
   "metadata": {},
   "source": [
    "### Parse the code and build AST"
   ]
  },
  {
   "cell_type": "code",
   "execution_count": null,
   "id": "678bd9df",
   "metadata": {},
   "outputs": [],
   "source": [
    "source_code = inspect(var)"
   ]
  },
  {
   "cell_type": "markdown",
   "id": "a13197d2",
   "metadata": {},
   "source": [
    "1. replace np.mean() and np.sum() -> algo.fhe_mean() and algo.fhe_reduce_sum()  \n",
    "2. identify +, -, *, and / operations"
   ]
  },
  {
   "cell_type": "code",
   "execution_count": 31,
   "id": "3fadd578",
   "metadata": {},
   "outputs": [
    {
     "name": "stdout",
     "output_type": "stream",
     "text": [
      "Module(\n",
      "  body=[\n",
      "    FunctionDef(\n",
      "      name='var',\n",
      "      args=arguments(\n",
      "        posonlyargs=[],\n",
      "        args=[\n",
      "          arg(\n",
      "            arg='data',\n",
      "            annotation=Name(id='Ciphertext', ctx=Load()))],\n",
      "        kwonlyargs=[],\n",
      "        kw_defaults=[],\n",
      "        defaults=[]),\n",
      "      body=[\n",
      "        Expr(\n",
      "          value=Constant(value='Clear text version.\\n    ')),\n",
      "        Assign(\n",
      "          targets=[\n",
      "            Name(id='m', ctx=Store())],\n",
      "          value=Call(\n",
      "            func=Attribute(\n",
      "              value=Name(id='np', ctx=Load()),\n",
      "              attr='mean',\n",
      "              ctx=Load()),\n",
      "            args=[\n",
      "              Name(id='data', ctx=Load())],\n",
      "            keywords=[])),\n",
      "        Assign(\n",
      "          targets=[\n",
      "            Name(id='diff', ctx=Store())],\n",
      "          value=BinOp(\n",
      "            left=Name(id='data', ctx=Load()),\n",
      "            op=Sub(),\n",
      "            right=Name(id='m', ctx=Load()))),\n",
      "        Assign(\n",
      "          targets=[\n",
      "            Name(id='result', ctx=Store())],\n",
      "          value=BinOp(\n",
      "            left=Call(\n",
      "              func=Attribute(\n",
      "                value=Name(id='np', ctx=Load()),\n",
      "                attr='sum',\n",
      "                ctx=Load()),\n",
      "              args=[\n",
      "                BinOp(\n",
      "                  left=Name(id='diff', ctx=Load()),\n",
      "                  op=Mult(),\n",
      "                  right=Name(id='diff', ctx=Load()))],\n",
      "              keywords=[]),\n",
      "            op=Div(),\n",
      "            right=Call(\n",
      "              func=Name(id='len', ctx=Load()),\n",
      "              args=[\n",
      "                Name(id='data', ctx=Load())],\n",
      "              keywords=[]))),\n",
      "        Return(\n",
      "          value=Name(id='result', ctx=Load()))],\n",
      "      decorator_list=[])],\n",
      "  type_ignores=[])\n"
     ]
    }
   ],
   "source": [
    "tree = ast.parse(inspect.getsource(var))\n",
    "print(ast.dump(tree, indent=2))"
   ]
  },
  {
   "cell_type": "code",
   "execution_count": 13,
   "id": "e6799291",
   "metadata": {},
   "outputs": [
    {
     "name": "stdout",
     "output_type": "stream",
     "text": [
      "def var(data: Ciphertext):\n",
      "    \"\"\"Clear text version.\n",
      "    \"\"\"\n",
      "    m = np.mean(data)\n",
      "    diff = data - m\n",
      "    result = np.sum(diff * diff) / len(data)\n",
      "    return result\n"
     ]
    }
   ],
   "source": [
    "print(ast.unparse(tree))"
   ]
  },
  {
   "cell_type": "code",
   "execution_count": 14,
   "id": "ce476ba1",
   "metadata": {},
   "outputs": [],
   "source": [
    "def is_op_cc(node:ast.BinOp):\n",
    "    lhs = node.left\n",
    "    rhs = node.right\n",
    "    #\n",
    "    # How do I know the data type without running the code?\n",
    "    # have a look at pypy, numba, or mypy\n",
    "    "
   ]
  },
  {
   "cell_type": "code",
   "execution_count": 15,
   "id": "15ea69a3",
   "metadata": {},
   "outputs": [],
   "source": [
    "class RescaleAfter_assignr(ast.NodeTransformer):\n",
    "    #self._expr_statement = False\n",
    "\n",
    "    def visit_Assign(self, node):\n",
    "        self._expr_statement = True\n",
    "        self.generic_visit(node)\n",
    "        self._expr_statement = False    "
   ]
  },
  {
   "cell_type": "code",
   "execution_count": 32,
   "id": "4a4420be",
   "metadata": {},
   "outputs": [
    {
     "name": "stdout",
     "output_type": "stream",
     "text": [
      "entering Call\n",
      "Found a numpy call np mean\n",
      "leaving Call\n",
      "entering Call\n",
      "Found a numpy call np sum\n",
      "leaving Call\n",
      "entering Call\n",
      "Found a call len skipping...\n",
      "leaving Call\n",
      "Module(\n",
      "  body=[\n",
      "    FunctionDef(\n",
      "      name='var',\n",
      "      args=arguments(\n",
      "        posonlyargs=[],\n",
      "        args=[\n",
      "          arg(\n",
      "            arg='data',\n",
      "            annotation=Name(id='Ciphertext', ctx=Load()))],\n",
      "        kwonlyargs=[],\n",
      "        kw_defaults=[],\n",
      "        defaults=[]),\n",
      "      body=[\n",
      "        Expr(\n",
      "          value=Constant(value='Clear text version.\\n    ')),\n",
      "        Assign(\n",
      "          targets=[\n",
      "            Name(id='m', ctx=Store())],\n",
      "          value=Call(\n",
      "            func=Attribute(\n",
      "              value=Name(id='algo', ctx=Load()),\n",
      "              attr='fhe_mean',\n",
      "              ctx=Load()),\n",
      "            args=[\n",
      "              Name(id='data', ctx=Load())],\n",
      "            keywords=[])),\n",
      "        Assign(\n",
      "          targets=[\n",
      "            Name(id='diff', ctx=Store())],\n",
      "          value=BinOp(\n",
      "            left=Name(id='data', ctx=Load()),\n",
      "            op=Sub(),\n",
      "            right=Name(id='m', ctx=Load()))),\n",
      "        Assign(\n",
      "          targets=[\n",
      "            Name(id='result', ctx=Store())],\n",
      "          value=BinOp(\n",
      "            left=Call(\n",
      "              func=Attribute(\n",
      "                value=Name(id='algo', ctx=Load()),\n",
      "                attr='fhe_sum_reduce',\n",
      "                ctx=Load()),\n",
      "              args=[\n",
      "                BinOp(\n",
      "                  left=Name(id='diff', ctx=Load()),\n",
      "                  op=Mult(),\n",
      "                  right=Name(id='diff', ctx=Load()))],\n",
      "              keywords=[]),\n",
      "            op=Div(),\n",
      "            right=Call(\n",
      "              func=Name(id='len', ctx=Load()),\n",
      "              args=[\n",
      "                Name(id='data', ctx=Load())],\n",
      "              keywords=[]))),\n",
      "        Return(\n",
      "          value=Name(id='result', ctx=Load()))],\n",
      "      decorator_list=[])],\n",
      "  type_ignores=[])\n",
      "------\n",
      "def var(data: Ciphertext):\n",
      "    \"\"\"Clear text version.\n",
      "    \"\"\"\n",
      "    m = algo.fhe_mean(data)\n",
      "    diff = data - m\n",
      "    result = algo.fhe_sum_reduce(diff * diff) / len(data)\n",
      "    return result\n"
     ]
    }
   ],
   "source": [
    "tree = ast.parse(inspect.getsource(var))\n",
    "\n",
    "visitor = NumpyReplacer()\n",
    "visitor.visit(tree)\n",
    "\n",
    "tree = ast.fix_missing_locations(tree)\n",
    "print(ast.dump(tree, indent=2))\n",
    "print(\"------\")\n",
    "print(ast.unparse(tree))"
   ]
  },
  {
   "cell_type": "code",
   "execution_count": 23,
   "id": "37e3b277",
   "metadata": {},
   "outputs": [
    {
     "name": "stdout",
     "output_type": "stream",
     "text": [
      "This is sub\n",
      "leaving BinOp\n",
      "This is mult\n",
      "leaving BinOp\n",
      "def var(data: Ciphertext):\n",
      "    \"\"\"Clear text version.\n",
      "    \"\"\"\n",
      "    m = algo.fhe_mean(data)\n",
      "    diff = ev.sub(data, m)\n",
      "    result = algo.fhe_sum_reduce(ev.mult(diff, diff)) / len(data)\n",
      "    return result\n"
     ]
    }
   ],
   "source": [
    "BinOpReplacer().visit(tree)\n",
    "tree = ast.fix_missing_locations(tree)\n",
    "print(ast.unparse(tree))"
   ]
  },
  {
   "cell_type": "code",
   "execution_count": 24,
   "id": "fba29f0a",
   "metadata": {},
   "outputs": [
    {
     "name": "stdout",
     "output_type": "stream",
     "text": [
      "Module(\n",
      "  body=[\n",
      "    FunctionDef(\n",
      "      name='var',\n",
      "      args=arguments(\n",
      "        posonlyargs=[],\n",
      "        args=[\n",
      "          arg(\n",
      "            arg='data',\n",
      "            annotation=Name(id='Ciphertext', ctx=Load()))],\n",
      "        kwonlyargs=[],\n",
      "        kw_defaults=[],\n",
      "        defaults=[]),\n",
      "      body=[\n",
      "        Expr(\n",
      "          value=Constant(value='Clear text version.\\n    ')),\n",
      "        Assign(\n",
      "          targets=[\n",
      "            Name(id='m', ctx=Store())],\n",
      "          value=Call(\n",
      "            func=Attribute(\n",
      "              value=Name(id='algo', ctx=Load()),\n",
      "              attr='fhe_mean',\n",
      "              ctx=Load()),\n",
      "            args=[\n",
      "              Name(id='data', ctx=Load())],\n",
      "            keywords=[])),\n",
      "        Assign(\n",
      "          targets=[\n",
      "            Name(id='diff', ctx=Store())],\n",
      "          value=Call(\n",
      "            func=Attribute(\n",
      "              value=Name(id='ev', ctx=Load()),\n",
      "              attr='sub',\n",
      "              ctx=Load()),\n",
      "            args=[\n",
      "              Name(id='data', ctx=Load()),\n",
      "              Name(id='m', ctx=Load())],\n",
      "            keywords=[])),\n",
      "        Assign(\n",
      "          targets=[\n",
      "            Name(id='result', ctx=Store())],\n",
      "          value=BinOp(\n",
      "            left=Call(\n",
      "              func=Attribute(\n",
      "                value=Name(id='algo', ctx=Load()),\n",
      "                attr='fhe_sum_reduce',\n",
      "                ctx=Load()),\n",
      "              args=[\n",
      "                Call(\n",
      "                  func=Attribute(\n",
      "                    value=Name(id='ev', ctx=Load()),\n",
      "                    attr='mult',\n",
      "                    ctx=Load()),\n",
      "                  args=[\n",
      "                    Name(id='diff', ctx=Load()),\n",
      "                    Name(id='diff', ctx=Load())],\n",
      "                  keywords=[])],\n",
      "              keywords=[]),\n",
      "            op=Div(),\n",
      "            right=Call(\n",
      "              func=Name(id='len', ctx=Load()),\n",
      "              args=[\n",
      "                Name(id='data', ctx=Load())],\n",
      "              keywords=[]))),\n",
      "        Return(\n",
      "          value=Name(id='result', ctx=Load()))],\n",
      "      decorator_list=[])],\n",
      "  type_ignores=[])\n"
     ]
    }
   ],
   "source": [
    "print(ast.dump(tree, indent=2))"
   ]
  },
  {
   "cell_type": "code",
   "execution_count": null,
   "id": "9bb69556",
   "metadata": {},
   "outputs": [],
   "source": [
    "bb = tree.body[0].body[2].value"
   ]
  },
  {
   "cell_type": "code",
   "execution_count": null,
   "id": "00b9a8a5",
   "metadata": {},
   "outputs": [],
   "source": []
  },
  {
   "cell_type": "code",
   "execution_count": null,
   "id": "6127b139",
   "metadata": {},
   "outputs": [],
   "source": []
  },
  {
   "cell_type": "code",
   "execution_count": null,
   "id": "24c58bd4",
   "metadata": {},
   "outputs": [],
   "source": []
  },
  {
   "cell_type": "code",
   "execution_count": null,
   "id": "bf92905f",
   "metadata": {},
   "outputs": [],
   "source": [
    "def fhe_sum_reduce(ctxt):\n",
    "    \"\"\"np.sum() -> sum_reduce()\"\"\"\n",
    "    ctxt_ = ev.copy(ctxt)\n",
    "    for i in range(int(np.log2(len(ctxt)))):\n",
    "        tmp = ev.copy(ctxt_)\n",
    "        ev.lrot(tmp, 2**i, inplace=True)\n",
    "        ev.add(ctxt_, tmp, inplace=True)   \n",
    "    return ctxt_\n",
    "\n",
    "def fhe_mean(ctxt):\n",
    "    \"\"\"np.mean() -> mean()\"\"\"\n",
    "    n = algo.encode_repeat(ctxt._n_elements)\n",
    "    summed = fhe_sum_reduce(ctxt)\n",
    "    return ev.div_by_plain(summed, n)\n"
   ]
  },
  {
   "cell_type": "code",
   "execution_count": null,
   "id": "1f22fad6",
   "metadata": {},
   "outputs": [],
   "source": []
  },
  {
   "cell_type": "code",
   "execution_count": null,
   "id": "221b169e",
   "metadata": {},
   "outputs": [],
   "source": []
  },
  {
   "cell_type": "code",
   "execution_count": null,
   "id": "5649b908",
   "metadata": {},
   "outputs": [],
   "source": []
  },
  {
   "cell_type": "code",
   "execution_count": null,
   "id": "4d5ad722",
   "metadata": {},
   "outputs": [],
   "source": []
  },
  {
   "cell_type": "code",
   "execution_count": 79,
   "id": "4900ba24",
   "metadata": {},
   "outputs": [],
   "source": [
    "def fhe_var(ctxt):\n",
    "    ctxt_mean = fhe_mean(ctxt)\n",
    "    ev.rescale_next(ctxt_mean)\n",
    "    ctxt_mean = algo.put_mask(ctxt_mean, np.arange(ctxt._n_elements))\n",
    "    ev.rescale_next(ctxt_mean)\n",
    "    ev.mod_down_to(ctxt, ctxt_mean.logq)\n",
    "    sub = ev.sub(ctxt, ctxt_mean)\n",
    "    squared = ev.mult(sub, sub) \n",
    "    ev.rescale_next(squared)\n",
    "    summed_eq = fhe_sum_reduce(squared)\n",
    "\n",
    "    n = encoder.encode([len(data)]*ctxt.nslots) \n",
    "    res = ev.div_by_plain(summed_eq, n)\n",
    "    return res"
   ]
  },
  {
   "cell_type": "code",
   "execution_count": 99,
   "id": "ea9ffbbe",
   "metadata": {},
   "outputs": [],
   "source": [
    "org=\"\"\"Module(\n",
    "  body=[\n",
    "    FunctionDef(\n",
    "      name='var',\n",
    "      args=arguments(\n",
    "        posonlyargs=[],\n",
    "        args=[\n",
    "          arg(arg='data')],\n",
    "        kwonlyargs=[],\n",
    "        kw_defaults=[],\n",
    "        defaults=[]),\n",
    "      body=[\n",
    "        Expr(\n",
    "          value=Constant(value='Clear text version')),\n",
    "        Assign(\n",
    "          targets=[\n",
    "            Name(id='m', ctx=Store())],\n",
    "          value=Call(\n",
    "            func=Attribute(\n",
    "              value=Name(id='np', ctx=Load()),\n",
    "              attr='mean',\n",
    "              ctx=Load()),\n",
    "            args=[\n",
    "              Name(id='data', ctx=Load())],\n",
    "            keywords=[])),\n",
    "        Assign(\n",
    "          targets=[\n",
    "            Name(id='diff', ctx=Store())],\n",
    "          value=BinOp(\n",
    "            left=Name(id='data', ctx=Load()),\n",
    "            op=Sub(),\n",
    "            right=Name(id='m', ctx=Load()))),\n",
    "        Assign(\n",
    "          targets=[\n",
    "            Name(id='result', ctx=Store())],\n",
    "          value=BinOp(\n",
    "            left=Call(\n",
    "              func=Attribute(\n",
    "                value=Name(id='np', ctx=Load()),\n",
    "                attr='sum',\n",
    "                ctx=Load()),\n",
    "              args=[\n",
    "                BinOp(\n",
    "                  left=Name(id='diff', ctx=Load()),\n",
    "                  op=Mult(),\n",
    "                  right=Name(id='diff', ctx=Load()))],\n",
    "              keywords=[]),\n",
    "            op=Div(),\n",
    "            right=Call(\n",
    "              func=Name(id='len', ctx=Load()),\n",
    "              args=[\n",
    "                Name(id='data', ctx=Load())],\n",
    "              keywords=[]))),\n",
    "        Return(\n",
    "          value=Name(id='result', ctx=Load()))],\n",
    "      decorator_list=[])],\n",
    "  type_ignores=[])\"\"\"\n",
    "\n",
    "modified = \"\"\"Module(\n",
    "  body=[\n",
    "    FunctionDef(\n",
    "      name='fhe_var',\n",
    "      args=arguments(\n",
    "        posonlyargs=[],\n",
    "        args=[\n",
    "          arg(arg='ctxt')],\n",
    "        kwonlyargs=[],\n",
    "        kw_defaults=[],\n",
    "        defaults=[]),\n",
    "      body=[\n",
    "        Expr(\n",
    "          value=Constant(value='Auto-generated')),\n",
    "        Assign(\n",
    "          targets=[\n",
    "            Name(id='m', ctx=Store())],\n",
    "          value=Call(\n",
    "            func=Attribute(\n",
    "              value=Name(id='algo', ctx=Load()),\n",
    "              attr='fhe_mean',\n",
    "              ctx=Load()),\n",
    "            args=[\n",
    "              Name(id='ctxt', ctx=Load())],\n",
    "            keywords=[])),\n",
    "        Assign(\n",
    "          targets=[\n",
    "            Name(id='diff', ctx=Store())],\n",
    "          value=BinOp(\n",
    "            left=Name(id='ctxt', ctx=Load()),\n",
    "            op=Sub(),\n",
    "            right=Name(id='m', ctx=Load()))),\n",
    "        Assign(\n",
    "          targets=[\n",
    "            Name(id='result', ctx=Store())],\n",
    "          value=BinOp(\n",
    "            left=Call(\n",
    "              func=Attribute(\n",
    "                value=Name(id='algo', ctx=Load()),\n",
    "                attr='fhe_sum_reduce',\n",
    "                ctx=Load()),\n",
    "              args=[\n",
    "                BinOp(\n",
    "                  left=Name(id='diff', ctx=Load()),\n",
    "                  op=Mult(),\n",
    "                  right=Name(id='diff', ctx=Load()))],\n",
    "              keywords=[]),\n",
    "            op=Div(),\n",
    "            right=Call(\n",
    "              func=Name(id='len', ctx=Load()),\n",
    "              args=[\n",
    "                Name(id='ctxt', ctx=Load())],\n",
    "              keywords=[]))),\n",
    "        Return(\n",
    "          value=Name(id='result', ctx=Load()))],\n",
    "      decorator_list=[])],\n",
    "  type_ignores=[])\"\"\""
   ]
  },
  {
   "cell_type": "code",
   "execution_count": 94,
   "id": "eba6ad6f",
   "metadata": {},
   "outputs": [],
   "source": [
    "from ast import (Module, FunctionDef, arguments, arg, \n",
    "                Expr, Constant, Assign, Name, Store, \n",
    "                Call, Attribute, Load, BinOp, Sub, Mult, Div, Return)\n",
    "\n",
    "fhet = eval(modified)"
   ]
  },
  {
   "cell_type": "code",
   "execution_count": 100,
   "id": "5d8633db",
   "metadata": {},
   "outputs": [],
   "source": [
    "normal = eval(org)"
   ]
  },
  {
   "cell_type": "code",
   "execution_count": 101,
   "id": "fcbef86e",
   "metadata": {},
   "outputs": [
    {
     "data": {
      "text/plain": [
       "<ast.Module at 0x7f3f629f1150>"
      ]
     },
     "execution_count": 101,
     "metadata": {},
     "output_type": "execute_result"
    }
   ],
   "source": [
    "normal."
   ]
  },
  {
   "cell_type": "code",
   "execution_count": 114,
   "id": "639e779c",
   "metadata": {},
   "outputs": [],
   "source": [
    "exe = eval(modified)"
   ]
  },
  {
   "cell_type": "code",
   "execution_count": 110,
   "id": "96b84536",
   "metadata": {},
   "outputs": [
    {
     "data": {
      "text/plain": [
       "\"Module(body=[FunctionDef(name='fhe_var', args=arguments(posonlyargs=[], args=[arg(arg='ctxt')], kwonlyargs=[], kw_defaults=[], defaults=[]), body=[Expr(value=Constant(value='Auto-generated')), Assign(targets=[Name(id='m', ctx=Store())], value=Call(func=Attribute(value=Name(id='algo', ctx=Load()), attr='fhe_mean', ctx=Load()), args=[Name(id='ctxt', ctx=Load())], keywords=[])), Assign(targets=[Name(id='diff', ctx=Store())], value=BinOp(left=Name(id='ctxt', ctx=Load()), op=Sub(), right=Name(id='m', ctx=Load()))), Assign(targets=[Name(id='result', ctx=Store())], value=BinOp(left=Call(func=Attribute(value=Name(id='algo', ctx=Load()), attr='fhe_sum_reduce', ctx=Load()), args=[BinOp(left=Name(id='diff', ctx=Load()), op=Mult(), right=Name(id='diff', ctx=Load()))], keywords=[]), op=Div(), right=Call(func=Name(id='len', ctx=Load()), args=[Name(id='ctxt', ctx=Load())], keywords=[]))), Return(value=Name(id='result', ctx=Load()))], decorator_list=[])], type_ignores=[])\""
      ]
     },
     "execution_count": 110,
     "metadata": {},
     "output_type": "execute_result"
    }
   ],
   "source": [
    "ast.unparse(fhet)"
   ]
  },
  {
   "cell_type": "code",
   "execution_count": 102,
   "id": "6ab58c3a",
   "metadata": {},
   "outputs": [],
   "source": [
    "fhet = ast.parse(modified)"
   ]
  },
  {
   "cell_type": "code",
   "execution_count": 107,
   "id": "d50d99e7",
   "metadata": {},
   "outputs": [
    {
     "name": "stdout",
     "output_type": "stream",
     "text": [
      "def var(data):\n",
      "    \"\"\"Clear text version\n",
      "    \"\"\"\n",
      "    m = np.mean(data)\n",
      "    diff = data - m\n",
      "    result = np.sum(diff * diff) / len(data)\n",
      "    return result\n"
     ]
    }
   ],
   "source": [
    "print(ast.unparse(tree))"
   ]
  },
  {
   "cell_type": "code",
   "execution_count": 105,
   "id": "11e3aa5c",
   "metadata": {},
   "outputs": [
    {
     "data": {
      "text/plain": [
       "\"Module(body=[FunctionDef(name='fhe_var', args=arguments(posonlyargs=[], args=[arg(arg='ctxt')], kwonlyargs=[], kw_defaults=[], defaults=[]), body=[Expr(value=Constant(value='Auto-generated')), Assign(targets=[Name(id='m', ctx=Store())], value=Call(func=Attribute(value=Name(id='algo', ctx=Load()), attr='fhe_mean', ctx=Load()), args=[Name(id='ctxt', ctx=Load())], keywords=[])), Assign(targets=[Name(id='diff', ctx=Store())], value=BinOp(left=Name(id='ctxt', ctx=Load()), op=Sub(), right=Name(id='m', ctx=Load()))), Assign(targets=[Name(id='result', ctx=Store())], value=BinOp(left=Call(func=Attribute(value=Name(id='algo', ctx=Load()), attr='fhe_sum_reduce', ctx=Load()), args=[BinOp(left=Name(id='diff', ctx=Load()), op=Mult(), right=Name(id='diff', ctx=Load()))], keywords=[]), op=Div(), right=Call(func=Name(id='len', ctx=Load()), args=[Name(id='ctxt', ctx=Load())], keywords=[]))), Return(value=Name(id='result', ctx=Load()))], decorator_list=[])], type_ignores=[])\""
      ]
     },
     "execution_count": 105,
     "metadata": {},
     "output_type": "execute_result"
    }
   ],
   "source": [
    "ast.unparse(fhet.body)"
   ]
  },
  {
   "cell_type": "code",
   "execution_count": null,
   "id": "e4b0a10d",
   "metadata": {},
   "outputs": [],
   "source": [
    "ast."
   ]
  },
  {
   "cell_type": "code",
   "execution_count": 92,
   "id": "6d163381",
   "metadata": {},
   "outputs": [
    {
     "name": "stdout",
     "output_type": "stream",
     "text": [
      "Module(body=[FunctionDef(name='fhe_var', args=arguments(posonlyargs=[], args=[arg(arg='ctxt')], kwonlyargs=[], kw_defaults=[], defaults=[]), body=[Expr(value=Constant(value='Auto-generated')), Assign(targets=[Name(id='m', ctx=Store())], value=Call(func=Attribute(value=Name(id='algo', ctx=Load()), attr='fhe_mean', ctx=Load()), args=[Name(id='ctxt', ctx=Load())], keywords=[])), Assign(targets=[Name(id='diff', ctx=Store())], value=BinOp(left=Name(id='ctxt', ctx=Load()), op=Sub(), right=Name(id='m', ctx=Load()))), Assign(targets=[Name(id='result', ctx=Store())], value=BinOp(left=Call(func=Attribute(value=Name(id='algo', ctx=Load()), attr='fhe_sum_reduce', ctx=Load()), args=[BinOp(left=Name(id='diff', ctx=Load()), op=Mult(), right=Name(id='diff', ctx=Load()))], keywords=[]), op=Div(), right=Call(func=Name(id='len', ctx=Load()), args=[Name(id='ctxt', ctx=Load())], keywords=[]))), Return(value=Name(id='result', ctx=Load()))], decorator_list=[])], type_ignores=[])\n"
     ]
    }
   ],
   "source": [
    "# Converted version\n",
    "print(ast.unparse(fhet))"
   ]
  },
  {
   "cell_type": "code",
   "execution_count": null,
   "id": "1ce19104",
   "metadata": {},
   "outputs": [],
   "source": [
    "if op_cc(a,b):\n",
    "    # Match scale\n",
    "    if a.logp > b.logp:\n",
    "        add_rescale_a_b_before()\n",
    "    elif a.logp < b.logp:\n",
    "        add_rescale_b_a_before()\n",
    "    # Match level\n",
    "    if a.logp > b.logp:\n",
    "        add_modswitch_a_b_before()\n",
    "    elif a.logp < b.logp:\n",
    "        add_modswitch_b_a_before()"
   ]
  },
  {
   "cell_type": "code",
   "execution_count": null,
   "id": "d67bd6fc",
   "metadata": {},
   "outputs": [],
   "source": [
    "def add_rescale_b_a_before():\n",
    "    pass\n",
    "\n",
    "def add_rescale_a_b_before():\n",
    "    pass\n",
    "\n",
    "def add_modswitch_b_a_before():\n",
    "    pass\n",
    "\n",
    "def add_modswitch_a_b_before():\n",
    "    pass\n",
    "    \n",
    "def op_cp(a,b):\n",
    "    return isinstance(a, Ciphertext) and if isinstance(b, Plaintext)\n",
    "    \n",
    "def op_cc(a,b):\n",
    "    return isinstance(a, Ciphertext) and if isinstance(b, Ciphertext)"
   ]
  },
  {
   "cell_type": "code",
   "execution_count": null,
   "id": "699161e6",
   "metadata": {},
   "outputs": [],
   "source": []
  }
 ],
 "metadata": {
  "kernelspec": {
   "display_name": "Python 3 (ipykernel)",
   "language": "python",
   "name": "python3"
  },
  "language_info": {
   "codemirror_mode": {
    "name": "ipython",
    "version": 3
   },
   "file_extension": ".py",
   "mimetype": "text/x-python",
   "name": "python",
   "nbconvert_exporter": "python",
   "pygments_lexer": "ipython3",
   "version": "3.10.6"
  }
 },
 "nbformat": 4,
 "nbformat_minor": 5
}
