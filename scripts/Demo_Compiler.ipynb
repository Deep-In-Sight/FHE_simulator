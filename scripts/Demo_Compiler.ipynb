{
 "cells": [
  {
   "cell_type": "code",
   "execution_count": null,
   "id": "1ce19104",
   "metadata": {},
   "outputs": [],
   "source": [
    "if op_cc(a,b):\n",
    "    # Match scale\n",
    "    if a.logp > b.logp:\n",
    "        add_rescale_a_b_before()\n",
    "    elif a.logp < b.logp:\n",
    "        add_rescale_b_a_before()\n",
    "    # Match level\n",
    "    if a.logp > b.logp:\n",
    "        add_modswitch_a_b_before()\n",
    "    elif a.logp < b.logp:\n",
    "        add_modswitch_b_a_before()"
   ]
  },
  {
   "cell_type": "code",
   "execution_count": null,
   "id": "d67bd6fc",
   "metadata": {},
   "outputs": [],
   "source": [
    "def add_rescale_b_a_before():\n",
    "    pass\n",
    "\n",
    "def add_rescale_a_b_before():\n",
    "    pass\n",
    "\n",
    "def add_modswitch_b_a_before():\n",
    "    pass\n",
    "\n",
    "def add_modswitch_a_b_before():\n",
    "    pass\n",
    "    \n",
    "def op_cp(a,b):\n",
    "    return isinstance(a, Ciphertext) and if isinstance(b, Plaintext)\n",
    "    \n",
    "def op_cc(a,b):\n",
    "    return isinstance(a, Ciphertext) and if isinstance(b, Ciphertext)"
   ]
  },
  {
   "cell_type": "code",
   "execution_count": null,
   "id": "699161e6",
   "metadata": {},
   "outputs": [],
   "source": []
  }
 ],
 "metadata": {
  "kernelspec": {
   "display_name": "Python 3 (ipykernel)",
   "language": "python",
   "name": "python3"
  },
  "language_info": {
   "codemirror_mode": {
    "name": "ipython",
    "version": 3
   },
   "file_extension": ".py",
   "mimetype": "text/x-python",
   "name": "python",
   "nbconvert_exporter": "python",
   "pygments_lexer": "ipython3",
   "version": "3.10.6"
  }
 },
 "nbformat": 4,
 "nbformat_minor": 5
}
