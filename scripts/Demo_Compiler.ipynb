{
 "cells": [
  {
   "cell_type": "markdown",
   "id": "5ff7b3ae",
   "metadata": {},
   "source": [
    "# 분산 계산 예제 "
   ]
  },
  {
   "cell_type": "code",
   "execution_count": 1,
   "id": "8c7dcf24",
   "metadata": {},
   "outputs": [
    {
     "name": "stdout",
     "output_type": "stream",
     "text": [
      "binding to HEAAN\n"
     ]
    }
   ],
   "source": [
    "import ast, inspect \n",
    "import numpy as np\n",
    "import pype\n",
    "from hemul.ciphertext import Ciphertext\n",
    "from modifier import NumpyReplacer, RescaleAdder, BinOpReplacer, ModMatcher"
   ]
  },
  {
   "cell_type": "markdown",
   "id": "6bd39b6a",
   "metadata": {},
   "source": [
    "## 분산 계산\n",
    "\n",
    "Pandas나 numpy에서 분산 계산은 간단하다.\n",
    "\n",
    "```python\n",
    "result = df.var()\n",
    "# 혹은\n",
    "result = np.var()\n",
    "```\n",
    "\n",
    "\n",
    "\n",
    "분산(variance)를 계산하는 수식도 비교적 단순하다. \n",
    "\n",
    "$$ S^2 = \\frac{\\Sigma(x_i - \\bar{x})^2}{n} $$\n",
    "\n",
    "numpy를 사용하여 vectorized 알고리즘을 작성하면 아래와 같을 것이다."
   ]
  },
  {
   "cell_type": "code",
   "execution_count": 2,
   "id": "9455611d",
   "metadata": {},
   "outputs": [],
   "source": [
    "def var(data:Ciphertext): # Type hint 필수 \n",
    "    \"\"\"Calculate variance\n",
    "    \"\"\"\n",
    "    m = np.mean(data)\n",
    "    diff = (data - m)\n",
    "    result = np.sum(diff*diff)/len(data)\n",
    "    return result"
   ]
  },
  {
   "cell_type": "code",
   "execution_count": 3,
   "id": "629c2425",
   "metadata": {},
   "outputs": [
    {
     "name": "stdout",
     "output_type": "stream",
     "text": [
      "분산 0.08386572571080012\n"
     ]
    }
   ],
   "source": [
    "arr = np.random.random(2**12)\n",
    "ans = np.var(arr)\n",
    "print(\"분산\", ans)"
   ]
  },
  {
   "cell_type": "markdown",
   "id": "b3090c02",
   "metadata": {},
   "source": [
    "#### 그러나 입력 데이터를 동형암호로 암호화하면 간단한 알고리즘도 쉽게 작동하지 않는다. "
   ]
  },
  {
   "cell_type": "code",
   "execution_count": 4,
   "id": "b870f38e",
   "metadata": {},
   "outputs": [
    {
     "name": "stdout",
     "output_type": "stream",
     "text": [
      "FHE context is set\n"
     ]
    }
   ],
   "source": [
    "# 동형암호 개발 준비 \n",
    "(ev, algo, encoder, encryptor, decryptor) = pype.set_all(30, 600, 12)"
   ]
  },
  {
   "cell_type": "code",
   "execution_count": 5,
   "id": "787d9685",
   "metadata": {},
   "outputs": [
    {
     "name": "stdout",
     "output_type": "stream",
     "text": [
      "You can't read the content\n"
     ]
    }
   ],
   "source": [
    "### FHE\n",
    "ctxt = encryptor.encrypt(arr)\n",
    "print(ctxt)"
   ]
  },
  {
   "cell_type": "code",
   "execution_count": 6,
   "id": "f819c81b",
   "metadata": {},
   "outputs": [
    {
     "ename": "TypeError",
     "evalue": "unsupported operand type(s) for /: 'CiphertextStat' and 'int'",
     "output_type": "error",
     "traceback": [
      "\u001b[0;31m---------------------------------------------------------------------------\u001b[0m",
      "\u001b[0;31mTypeError\u001b[0m                                 Traceback (most recent call last)",
      "Cell \u001b[0;32mIn [6], line 2\u001b[0m\n\u001b[1;32m      1\u001b[0m \u001b[38;5;66;03m# 기존 코드에 동형암호문 적용 \u001b[39;00m\n\u001b[0;32m----> 2\u001b[0m res \u001b[38;5;241m=\u001b[39m \u001b[43mvar\u001b[49m\u001b[43m(\u001b[49m\u001b[43mctxt\u001b[49m\u001b[43m)\u001b[49m\n",
      "Cell \u001b[0;32mIn [2], line 4\u001b[0m, in \u001b[0;36mvar\u001b[0;34m(data)\u001b[0m\n\u001b[1;32m      1\u001b[0m \u001b[38;5;28;01mdef\u001b[39;00m \u001b[38;5;21mvar\u001b[39m(data:Ciphertext): \u001b[38;5;66;03m# Type hint 필수 \u001b[39;00m\n\u001b[1;32m      2\u001b[0m     \u001b[38;5;124;03m\"\"\"Calculate variance\u001b[39;00m\n\u001b[1;32m      3\u001b[0m \u001b[38;5;124;03m    \"\"\"\u001b[39;00m\n\u001b[0;32m----> 4\u001b[0m     m \u001b[38;5;241m=\u001b[39m \u001b[43mnp\u001b[49m\u001b[38;5;241;43m.\u001b[39;49m\u001b[43mmean\u001b[49m\u001b[43m(\u001b[49m\u001b[43mdata\u001b[49m\u001b[43m)\u001b[49m\n\u001b[1;32m      5\u001b[0m     diff \u001b[38;5;241m=\u001b[39m (data \u001b[38;5;241m-\u001b[39m m)\n\u001b[1;32m      6\u001b[0m     result \u001b[38;5;241m=\u001b[39m np\u001b[38;5;241m.\u001b[39msum(diff\u001b[38;5;241m*\u001b[39mdiff)\u001b[38;5;241m/\u001b[39m\u001b[38;5;28mlen\u001b[39m(data)\n",
      "File \u001b[0;32m<__array_function__ internals>:180\u001b[0m, in \u001b[0;36mmean\u001b[0;34m(*args, **kwargs)\u001b[0m\n",
      "File \u001b[0;32m~/anaconda3/envs/fhe/lib/python3.10/site-packages/numpy/core/fromnumeric.py:3432\u001b[0m, in \u001b[0;36mmean\u001b[0;34m(a, axis, dtype, out, keepdims, where)\u001b[0m\n\u001b[1;32m   3429\u001b[0m     \u001b[38;5;28;01melse\u001b[39;00m:\n\u001b[1;32m   3430\u001b[0m         \u001b[38;5;28;01mreturn\u001b[39;00m mean(axis\u001b[38;5;241m=\u001b[39maxis, dtype\u001b[38;5;241m=\u001b[39mdtype, out\u001b[38;5;241m=\u001b[39mout, \u001b[38;5;241m*\u001b[39m\u001b[38;5;241m*\u001b[39mkwargs)\n\u001b[0;32m-> 3432\u001b[0m \u001b[38;5;28;01mreturn\u001b[39;00m \u001b[43m_methods\u001b[49m\u001b[38;5;241;43m.\u001b[39;49m\u001b[43m_mean\u001b[49m\u001b[43m(\u001b[49m\u001b[43ma\u001b[49m\u001b[43m,\u001b[49m\u001b[43m \u001b[49m\u001b[43maxis\u001b[49m\u001b[38;5;241;43m=\u001b[39;49m\u001b[43maxis\u001b[49m\u001b[43m,\u001b[49m\u001b[43m \u001b[49m\u001b[43mdtype\u001b[49m\u001b[38;5;241;43m=\u001b[39;49m\u001b[43mdtype\u001b[49m\u001b[43m,\u001b[49m\n\u001b[1;32m   3433\u001b[0m \u001b[43m                      \u001b[49m\u001b[43mout\u001b[49m\u001b[38;5;241;43m=\u001b[39;49m\u001b[43mout\u001b[49m\u001b[43m,\u001b[49m\u001b[43m \u001b[49m\u001b[38;5;241;43m*\u001b[39;49m\u001b[38;5;241;43m*\u001b[39;49m\u001b[43mkwargs\u001b[49m\u001b[43m)\u001b[49m\n",
      "File \u001b[0;32m~/anaconda3/envs/fhe/lib/python3.10/site-packages/numpy/core/_methods.py:192\u001b[0m, in \u001b[0;36m_mean\u001b[0;34m(a, axis, dtype, out, keepdims, where)\u001b[0m\n\u001b[1;32m    190\u001b[0m         ret \u001b[38;5;241m=\u001b[39m ret\u001b[38;5;241m.\u001b[39mdtype\u001b[38;5;241m.\u001b[39mtype(ret \u001b[38;5;241m/\u001b[39m rcount)\n\u001b[1;32m    191\u001b[0m \u001b[38;5;28;01melse\u001b[39;00m:\n\u001b[0;32m--> 192\u001b[0m     ret \u001b[38;5;241m=\u001b[39m \u001b[43mret\u001b[49m\u001b[43m \u001b[49m\u001b[38;5;241;43m/\u001b[39;49m\u001b[43m \u001b[49m\u001b[43mrcount\u001b[49m\n\u001b[1;32m    194\u001b[0m \u001b[38;5;28;01mreturn\u001b[39;00m ret\n",
      "\u001b[0;31mTypeError\u001b[0m: unsupported operand type(s) for /: 'CiphertextStat' and 'int'"
     ]
    }
   ],
   "source": [
    "# 기존 코드에 동형암호문 적용 \n",
    "res = var(ctxt)"
   ]
  },
  {
   "cell_type": "markdown",
   "id": "c1477fa9",
   "metadata": {},
   "source": [
    "#### 본 컴파일러를 사용하면 기존 코드에 단 한 줄의 decorator를 추가함으로써 동형암호 연산을 적용할 수 있다."
   ]
  },
  {
   "cell_type": "code",
   "execution_count": 7,
   "id": "6023315f",
   "metadata": {},
   "outputs": [
    {
     "name": "stdout",
     "output_type": "stream",
     "text": [
      "[static_analyzer] Inferencing data types... \n"
     ]
    }
   ],
   "source": [
    "@pype.jit  # <------ envoke JIT compiler \n",
    "def var(data:Ciphertext):\n",
    "    \"\"\"Calculate variance\n",
    "    \"\"\"\n",
    "    m = np.mean(data)\n",
    "    diff = (data - m)\n",
    "    result = np.sum(diff*diff)/len(data)\n",
    "    return result"
   ]
  },
  {
   "cell_type": "code",
   "execution_count": 8,
   "id": "e16534d8",
   "metadata": {},
   "outputs": [],
   "source": [
    "res = var(ctxt)"
   ]
  },
  {
   "cell_type": "code",
   "execution_count": 9,
   "id": "73efd294",
   "metadata": {},
   "outputs": [
    {
     "name": "stdout",
     "output_type": "stream",
     "text": [
      "0.08386579750546581\n",
      "0.08386572571080012\n"
     ]
    }
   ],
   "source": [
    "print(decryptor.decrypt(res)[0])\n",
    "print(ans)"
   ]
  },
  {
   "cell_type": "markdown",
   "id": "7ea85c7d",
   "metadata": {},
   "source": [
    "FHE 연산 결과와 numpy의 결과와 일치"
   ]
  },
  {
   "cell_type": "markdown",
   "id": "4647b6e7",
   "metadata": {},
   "source": [
    "## F-E 작동 과정 "
   ]
  },
  {
   "cell_type": "code",
   "execution_count": 10,
   "id": "9525ea1b",
   "metadata": {},
   "outputs": [],
   "source": [
    "import ast, inspect \n",
    "import numpy as np\n",
    "import pype\n",
    "from hemul.ciphertext import Ciphertext\n",
    "from modifier import NumpyReplacer, RescaleAdder, BinOpReplacer, ModMatcher"
   ]
  },
  {
   "cell_type": "markdown",
   "id": "58a6ce20",
   "metadata": {},
   "source": [
    "#### 0. type hint로부터 Ciphertext 추적\n",
    "```python\n",
    "def var(data:Ciphertext):\n",
    "```\n"
   ]
  },
  {
   "cell_type": "markdown",
   "id": "4a9bb58c",
   "metadata": {},
   "source": [
    "#### 1. 기존 코드에서 +, -, *, /을 대체\n",
    "-> FHE library binding"
   ]
  },
  {
   "cell_type": "code",
   "execution_count": 11,
   "id": "4a4420be",
   "metadata": {
    "scrolled": false
   },
   "outputs": [
    {
     "name": "stdout",
     "output_type": "stream",
     "text": [
      "------\n",
      "def var(data: Ciphertext):\n",
      "    \"\"\"Calculate variance\n",
      "    \"\"\"\n",
      "    m = np.mean(data)\n",
      "    diff = ev.sub(data, m)\n",
      "    result = ev.div_by_plain(np.sum(ev.mult(diff, diff)), len(data))\n",
      "    return result\n"
     ]
    }
   ],
   "source": [
    "def var(data:Ciphertext):\n",
    "    \"\"\"Calculate variance\n",
    "    \"\"\"\n",
    "    m = np.mean(data)\n",
    "    diff = (data - m)\n",
    "    result = np.sum(diff*diff)/len(data)\n",
    "    return result\n",
    "\n",
    "\n",
    "tree = ast.parse(inspect.getsource(var))\n",
    "\n",
    "visitor = BinOpReplacer()\n",
    "visitor.visit(tree)\n",
    "\n",
    "tree = ast.fix_missing_locations(tree)\n",
    "print(\"------\")\n",
    "print(ast.unparse(tree))"
   ]
  },
  {
   "cell_type": "markdown",
   "id": "b75f074b",
   "metadata": {},
   "source": [
    "#### 2. 기존 코드에서 numpy 함수를 대체\n",
    "-> FHE library binding"
   ]
  },
  {
   "cell_type": "code",
   "execution_count": 12,
   "id": "37e3b277",
   "metadata": {
    "scrolled": true
   },
   "outputs": [
    {
     "name": "stdout",
     "output_type": "stream",
     "text": [
      "def var(data: Ciphertext):\n",
      "    \"\"\"Calculate variance\n",
      "    \"\"\"\n",
      "    m = algo.mean(data)\n",
      "    diff = ev.sub(data, m)\n",
      "    result = ev.div_by_plain(algo.sum_reduce(ev.mult(diff, diff)), len(data))\n",
      "    return result\n"
     ]
    }
   ],
   "source": [
    "NumpyReplacer().visit(tree)\n",
    "tree = ast.fix_missing_locations(tree)\n",
    "print(ast.unparse(tree))"
   ]
  },
  {
   "cell_type": "markdown",
   "id": "87000e67",
   "metadata": {},
   "source": [
    "#### 3. 동형암호 연산 뒤에 rescaling 자동 추가"
   ]
  },
  {
   "cell_type": "code",
   "execution_count": 13,
   "id": "5922d08e",
   "metadata": {
    "scrolled": true
   },
   "outputs": [
    {
     "name": "stdout",
     "output_type": "stream",
     "text": [
      "def var(data: Ciphertext):\n",
      "    \"\"\"Calculate variance\n",
      "    \"\"\"\n",
      "    m = ev.rescale_next(algo.mean(data), inplace=False)\n",
      "    diff = ev.sub(data, m)\n",
      "    result = ev.div_by_plain(algo.sum_reduce(ev.rescale_next(ev.mult(diff, diff), inplace=False)), len(data))\n",
      "    return result\n"
     ]
    }
   ],
   "source": [
    "# Rescale\n",
    "RescaleAdder().visit(tree)\n",
    "tree = ast.fix_missing_locations(tree)\n",
    "\n",
    "print(ast.unparse(tree))"
   ]
  },
  {
   "cell_type": "markdown",
   "id": "f356097b",
   "metadata": {},
   "source": [
    "#### 4. Mod switching 자동 추가 "
   ]
  },
  {
   "cell_type": "code",
   "execution_count": 14,
   "id": "413a3759",
   "metadata": {
    "scrolled": true
   },
   "outputs": [
    {
     "name": "stdout",
     "output_type": "stream",
     "text": [
      "def var(data: Ciphertext):\n",
      "    \"\"\"Calculate variance\n",
      "    \"\"\"\n",
      "    m = ev.rescale_next(algo.mean(data), inplace=False)\n",
      "    diff = ev.sub(ev.match_mod(data, m, inplace=False), m, inplace=False)\n",
      "    result = ev.div_by_plain(algo.sum_reduce(ev.rescale_next(ev.mult(ev.match_mod(diff, diff, inplace=False), diff, inplace=False), inplace=False)), len(data))\n",
      "    return result\n"
     ]
    }
   ],
   "source": [
    "ModMatcher().visit(tree)\n",
    "tree = ast.fix_missing_locations(tree)\n",
    "\n",
    "print(ast.unparse(tree))"
   ]
  },
  {
   "cell_type": "markdown",
   "id": "3d947847",
   "metadata": {},
   "source": [
    "#### AST 비교"
   ]
  },
  {
   "cell_type": "code",
   "execution_count": 15,
   "id": "1ce4a9d1",
   "metadata": {},
   "outputs": [
    {
     "name": "stdout",
     "output_type": "stream",
     "text": [
      "Module(\n",
      "  body=[\n",
      "    FunctionDef(\n",
      "      name='var',\n",
      "      args=arguments(\n",
      "        posonlyargs=[],\n",
      "        args=[\n",
      "          arg(\n",
      "            arg='data',\n",
      "            annotation=Name(id='Ciphertext', ctx=Load()))],\n",
      "        kwonlyargs=[],\n",
      "        kw_defaults=[],\n",
      "        defaults=[]),\n",
      "      body=[\n",
      "        Expr(\n",
      "          value=Constant(value='Calculate variance\\n    ')),\n",
      "        Assign(\n",
      "          targets=[\n",
      "            Name(id='m', ctx=Store())],\n",
      "          value=Call(\n",
      "            func=Attribute(\n",
      "              value=Name(id='np', ctx=Load()),\n",
      "              attr='mean',\n",
      "              ctx=Load()),\n",
      "            args=[\n",
      "              Name(id='data', ctx=Load())],\n",
      "            keywords=[])),\n",
      "        Assign(\n",
      "          targets=[\n",
      "            Name(id='diff', ctx=Store())],\n",
      "          value=BinOp(\n",
      "            left=Name(id='data', ctx=Load()),\n",
      "            op=Sub(),\n",
      "            right=Name(id='m', ctx=Load()))),\n",
      "        Assign(\n",
      "          targets=[\n",
      "            Name(id='result', ctx=Store())],\n",
      "          value=BinOp(\n",
      "            left=Call(\n",
      "              func=Attribute(\n",
      "                value=Name(id='np', ctx=Load()),\n",
      "                attr='sum',\n",
      "                ctx=Load()),\n",
      "              args=[\n",
      "                BinOp(\n",
      "                  left=Name(id='diff', ctx=Load()),\n",
      "                  op=Mult(),\n",
      "                  right=Name(id='diff', ctx=Load()))],\n",
      "              keywords=[]),\n",
      "            op=Div(),\n",
      "            right=Call(\n",
      "              func=Name(id='len', ctx=Load()),\n",
      "              args=[\n",
      "                Name(id='data', ctx=Load())],\n",
      "              keywords=[]))),\n",
      "        Return(\n",
      "          value=Name(id='result', ctx=Load()))],\n",
      "      decorator_list=[])],\n",
      "  type_ignores=[])\n"
     ]
    }
   ],
   "source": [
    "def var(data:Ciphertext):\n",
    "    \"\"\"Calculate variance\n",
    "    \"\"\"\n",
    "    m = np.mean(data)\n",
    "    diff = (data - m)\n",
    "    result = np.sum(diff*diff)/len(data)\n",
    "    return result\n",
    "\n",
    "tree = ast.parse(inspect.getsource(var))\n",
    "print(ast.dump(tree, indent=2))"
   ]
  },
  {
   "cell_type": "code",
   "execution_count": 16,
   "id": "b96acf0f",
   "metadata": {
    "scrolled": false
   },
   "outputs": [
    {
     "name": "stdout",
     "output_type": "stream",
     "text": [
      "[static_analyzer] Inferencing data types... \n",
      "Module(\n",
      "  body=[\n",
      "    FunctionDef(\n",
      "      name='var',\n",
      "      args=arguments(\n",
      "        posonlyargs=[],\n",
      "        args=[\n",
      "          arg(\n",
      "            arg='data',\n",
      "            annotation=Name(id='Ciphertext', ctx=Load()))],\n",
      "        kwonlyargs=[],\n",
      "        kw_defaults=[],\n",
      "        defaults=[]),\n",
      "      body=[\n",
      "        Expr(\n",
      "          value=Constant(value='Calculate variance\\n    ')),\n",
      "        Assign(\n",
      "          targets=[\n",
      "            Name(id='m', ctx=Store())],\n",
      "          value=Call(\n",
      "            func=Attribute(\n",
      "              value=Name(id='ev', ctx=Load()),\n",
      "              attr='rescale_next',\n",
      "              ctx=Load()),\n",
      "            args=[\n",
      "              Call(\n",
      "                func=Attribute(\n",
      "                  value=Name(id='algo', ctx=Load()),\n",
      "                  attr='mean',\n",
      "                  ctx=Load()),\n",
      "                args=[\n",
      "                  Name(id='data', ctx=Load())],\n",
      "                keywords=[])],\n",
      "            keywords=[\n",
      "              keyword(\n",
      "                arg='inplace',\n",
      "                value=Constant(value=False))])),\n",
      "        Assign(\n",
      "          targets=[\n",
      "            Name(id='diff', ctx=Store())],\n",
      "          value=Call(\n",
      "            func=Attribute(\n",
      "              value=Name(id='ev', ctx=Load()),\n",
      "              attr='sub',\n",
      "              ctx=Load()),\n",
      "            args=[\n",
      "              Call(\n",
      "                func=Attribute(\n",
      "                  value=Name(id='ev', ctx=Load()),\n",
      "                  attr='match_mod',\n",
      "                  ctx=Load()),\n",
      "                args=[\n",
      "                  Name(id='data', ctx=Load()),\n",
      "                  Name(id='m', ctx=Load())],\n",
      "                keywords=[\n",
      "                  keyword(\n",
      "                    arg='inplace',\n",
      "                    value=Constant(value=False))]),\n",
      "              Name(id='m', ctx=Load())],\n",
      "            keywords=[\n",
      "              keyword(\n",
      "                arg='inplace',\n",
      "                value=Constant(value=False))])),\n",
      "        Assign(\n",
      "          targets=[\n",
      "            Name(id='result', ctx=Store())],\n",
      "          value=Call(\n",
      "            func=Attribute(\n",
      "              value=Name(id='ev', ctx=Load()),\n",
      "              attr='div_by_plain',\n",
      "              ctx=Load()),\n",
      "            args=[\n",
      "              Call(\n",
      "                func=Attribute(\n",
      "                  value=Name(id='algo', ctx=Load()),\n",
      "                  attr='sum_reduce',\n",
      "                  ctx=Load()),\n",
      "                args=[\n",
      "                  Call(\n",
      "                    func=Attribute(\n",
      "                      value=Name(id='ev', ctx=Load()),\n",
      "                      attr='rescale_next',\n",
      "                      ctx=Load()),\n",
      "                    args=[\n",
      "                      Call(\n",
      "                        func=Attribute(\n",
      "                          value=Name(id='ev', ctx=Load()),\n",
      "                          attr='mult',\n",
      "                          ctx=Load()),\n",
      "                        args=[\n",
      "                          Call(\n",
      "                            func=Attribute(\n",
      "                              value=Name(id='ev', ctx=Load()),\n",
      "                              attr='match_mod',\n",
      "                              ctx=Load()),\n",
      "                            args=[\n",
      "                              Name(id='diff', ctx=Load()),\n",
      "                              Name(id='diff', ctx=Load())],\n",
      "                            keywords=[\n",
      "                              keyword(\n",
      "                                arg='inplace',\n",
      "                                value=Constant(value=False))]),\n",
      "                          Name(id='diff', ctx=Load())],\n",
      "                        keywords=[\n",
      "                          keyword(\n",
      "                            arg='inplace',\n",
      "                            value=Constant(value=False))])],\n",
      "                    keywords=[\n",
      "                      keyword(\n",
      "                        arg='inplace',\n",
      "                        value=Constant(value=False))])],\n",
      "                keywords=[]),\n",
      "              Call(\n",
      "                func=Name(id='len', ctx=Load()),\n",
      "                args=[\n",
      "                  Name(id='data', ctx=Load())],\n",
      "                keywords=[])],\n",
      "            keywords=[])),\n",
      "        Return(\n",
      "          value=Name(id='result', ctx=Load()))],\n",
      "      decorator_list=[])],\n",
      "  type_ignores=[])\n"
     ]
    }
   ],
   "source": [
    "@pype.jit_verbose  # <------ envoke JIT compiler \n",
    "def var(data:Ciphertext):\n",
    "    \"\"\"Calculate variance\n",
    "    \"\"\"\n",
    "    m = np.mean(data)\n",
    "    diff = (data - m)\n",
    "    result = np.sum(diff*diff)/len(data)\n",
    "    return result\n"
   ]
  },
  {
   "cell_type": "code",
   "execution_count": null,
   "id": "3b22a4a0",
   "metadata": {},
   "outputs": [],
   "source": []
  }
 ],
 "metadata": {
  "kernelspec": {
   "display_name": "Python 3 (ipykernel)",
   "language": "python",
   "name": "python3"
  },
  "language_info": {
   "codemirror_mode": {
    "name": "ipython",
    "version": 3
   },
   "file_extension": ".py",
   "mimetype": "text/x-python",
   "name": "python",
   "nbconvert_exporter": "python",
   "pygments_lexer": "ipython3",
   "version": "3.10.6"
  }
 },
 "nbformat": 4,
 "nbformat_minor": 5
}
