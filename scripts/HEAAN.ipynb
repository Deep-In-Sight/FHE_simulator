{
 "cells": [
  {
   "cell_type": "code",
   "execution_count": 23,
   "id": "ad612948",
   "metadata": {},
   "outputs": [],
   "source": [
    "import numpy as np\n",
    "import hemul\n",
    "from hemul.heaan import he"
   ]
  },
  {
   "cell_type": "code",
   "execution_count": null,
   "id": "b59e5570",
   "metadata": {},
   "outputs": [],
   "source": []
  },
  {
   "cell_type": "code",
   "execution_count": 14,
   "id": "4c78e318",
   "metadata": {},
   "outputs": [],
   "source": [
    "conf = tomli.load(open(\"../fhe_config.toml\", \"rb\"))"
   ]
  },
  {
   "cell_type": "markdown",
   "id": "93d2ca01",
   "metadata": {},
   "source": [
    "The entirity of HEAANContext is needed. + encoder, decoder, ...\n",
    "\n",
    "\n",
    "\n"
   ]
  },
  {
   "cell_type": "code",
   "execution_count": 24,
   "id": "a576e311",
   "metadata": {},
   "outputs": [],
   "source": [
    "class Param():\n",
    "    def __init__(self, n=None, logn=None, logp=None, logq=None, logQboot=None):\n",
    "        self.n = n\n",
    "        self.logn = logn\n",
    "        self.logp = logp\n",
    "        self.logq = logq \n",
    "        self.logQboot = logQboot\n",
    "        if self.logn == None:\n",
    "            self.logn = int(np.log2(n))\n",
    "\n",
    "logq = 540\n",
    "logp = 30\n",
    "logn = 14\n",
    "n = 1*2**logn\n",
    "slots = n\n",
    "\n",
    "parms = Param(n=n, logp=logp, logq=logq)\n",
    "\n",
    "do_reduction=False\n",
    "\n",
    "\n",
    "ring = he.Ring()\n",
    "secretKey = he.SecretKey(ring)\n",
    "scheme = he.Scheme(secretKey, ring, False)\n",
    "\n",
    "algo = he.SchemeAlgo(scheme)\n",
    "\n",
    "\n",
    "# reduction때는 right rotation N_class개 필요. \n",
    "if do_reduction:\n",
    "    Nclass = Nmodel.head.shape[0]\n",
    "    scheme.addLeftRotKeys(secretKey)\n",
    "    for i in range(Nclass):\n",
    "        scheme.addRightRotKey(secretKey, i+1) # \n",
    "else:\n",
    "    # reduction 안 하면 하나짜리 rotation만 여러번 반복.\n",
    "    scheme.addLeftRotKey(secretKey, 1)"
   ]
  },
  {
   "cell_type": "code",
   "execution_count": null,
   "id": "352ab0ef",
   "metadata": {},
   "outputs": [],
   "source": []
  },
  {
   "cell_type": "code",
   "execution_count": 16,
   "id": "3a5d7491",
   "metadata": {},
   "outputs": [
    {
     "ename": "AttributeError",
     "evalue": "'dict' object has no attribute 'runtime'",
     "output_type": "error",
     "traceback": [
      "\u001b[0;31m---------------------------------------------------------------------------\u001b[0m",
      "\u001b[0;31mAttributeError\u001b[0m                            Traceback (most recent call last)",
      "Cell \u001b[0;32mIn [16], line 1\u001b[0m\n\u001b[0;32m----> 1\u001b[0m \u001b[43mconf\u001b[49m\u001b[38;5;241;43m.\u001b[39;49m\u001b[43mruntime\u001b[49m\n",
      "\u001b[0;31mAttributeError\u001b[0m: 'dict' object has no attribute 'runtime'"
     ]
    }
   ],
   "source": [
    "conf.runtim"
   ]
  },
  {
   "cell_type": "code",
   "execution_count": 15,
   "id": "ef54ba2c",
   "metadata": {},
   "outputs": [
    {
     "data": {
      "text/plain": [
       "{'runtime': {'scheme': 'CKKS'}}"
      ]
     },
     "execution_count": 15,
     "metadata": {},
     "output_type": "execute_result"
    }
   ],
   "source": [
    "conf"
   ]
  },
  {
   "cell_type": "code",
   "execution_count": 8,
   "id": "84227601",
   "metadata": {},
   "outputs": [
    {
     "ename": "NameError",
     "evalue": "name 'USE_HEAAN' is not defined",
     "output_type": "error",
     "traceback": [
      "\u001b[0;31m---------------------------------------------------------------------------\u001b[0m",
      "\u001b[0;31mNameError\u001b[0m                                 Traceback (most recent call last)",
      "Cell \u001b[0;32mIn [8], line 1\u001b[0m\n\u001b[0;32m----> 1\u001b[0m \u001b[38;5;28;01mfrom\u001b[39;00m \u001b[38;5;21;01mhemul\u001b[39;00m\u001b[38;5;21;01m.\u001b[39;00m\u001b[38;5;21;01mcontext\u001b[39;00m \u001b[38;5;28;01mimport\u001b[39;00m set_all\n\u001b[1;32m      2\u001b[0m \u001b[38;5;28;01mfrom\u001b[39;00m \u001b[38;5;21;01mhemul\u001b[39;00m\u001b[38;5;21;01m.\u001b[39;00m\u001b[38;5;21;01mcontainer\u001b[39;00m \u001b[38;5;28;01mimport\u001b[39;00m CtxtFrame\n",
      "File \u001b[0;32m~/Work/FHE_simulator/hemul/context.py:2\u001b[0m\n\u001b[1;32m      1\u001b[0m \u001b[38;5;28;01mfrom\u001b[39;00m \u001b[38;5;21;01m.\u001b[39;00m\u001b[38;5;21;01mcipher\u001b[39;00m \u001b[38;5;28;01mimport\u001b[39;00m \u001b[38;5;241m*\u001b[39m\n\u001b[0;32m----> 2\u001b[0m \u001b[38;5;28;01mfrom\u001b[39;00m \u001b[38;5;21;01m.\u001b[39;00m\u001b[38;5;21;01mscheme\u001b[39;00m \u001b[38;5;28;01mimport\u001b[39;00m \u001b[38;5;241m*\u001b[39m\n\u001b[1;32m      4\u001b[0m \u001b[38;5;28;01mdef\u001b[39;00m \u001b[38;5;21mset_all\u001b[39m(logp, logq, logn):\n\u001b[1;32m      5\u001b[0m     myring \u001b[38;5;241m=\u001b[39m Ring(seed\u001b[38;5;241m=\u001b[39m\u001b[38;5;241m1234\u001b[39m)\n",
      "File \u001b[0;32m~/Work/FHE_simulator/hemul/scheme.py:11\u001b[0m\n\u001b[1;32m      7\u001b[0m \u001b[38;5;28;01mfrom\u001b[39;00m \u001b[38;5;21;01mcopy\u001b[39;00m \u001b[38;5;28;01mimport\u001b[39;00m copy\n\u001b[1;32m      9\u001b[0m \u001b[38;5;28;01mglobal\u001b[39;00m USE_HEAAN\n\u001b[0;32m---> 11\u001b[0m \u001b[38;5;28;01mif\u001b[39;00m \u001b[43mUSE_HEAAN\u001b[49m:\n\u001b[1;32m     12\u001b[0m     \u001b[38;5;28mprint\u001b[39m(\u001b[38;5;124m\"\u001b[39m\u001b[38;5;124mbinding to HEAAN\u001b[39m\u001b[38;5;124m\"\u001b[39m)\n\u001b[1;32m     13\u001b[0m \u001b[38;5;28;01mclass\u001b[39;00m \u001b[38;5;21;01mEncoder\u001b[39;00m():\n",
      "\u001b[0;31mNameError\u001b[0m: name 'USE_HEAAN' is not defined"
     ]
    }
   ],
   "source": [
    "from hemul.context import set_all\n",
    "from hemul.container import CtxtFrame"
   ]
  },
  {
   "cell_type": "code",
   "execution_count": null,
   "id": "a9102bb0",
   "metadata": {},
   "outputs": [],
   "source": [
    "# FHE 필수 정보\n",
    "logp = 30\n",
    "logq = 600\n",
    "logn = 14\n",
    "(context, ev, encoder, encryptor, decryptor) = set_all(logp, logq, logn)\n",
    "server_agents = {\"evaluator\":ev, \"encoder\":encoder, \"encryptor\":encryptor}"
   ]
  }
 ],
 "metadata": {
  "kernelspec": {
   "display_name": "Python 3 (ipykernel)",
   "language": "python",
   "name": "python3"
  },
  "language_info": {
   "codemirror_mode": {
    "name": "ipython",
    "version": 3
   },
   "file_extension": ".py",
   "mimetype": "text/x-python",
   "name": "python",
   "nbconvert_exporter": "python",
   "pygments_lexer": "ipython3",
   "version": "3.10.6"
  }
 },
 "nbformat": 4,
 "nbformat_minor": 5
}
