{
 "cells": [
  {
   "cell_type": "markdown",
   "id": "164909d4",
   "metadata": {},
   "source": [
    "# SBR 분석 시나리오 "
   ]
  },
  {
   "cell_type": "markdown",
   "id": "2f18c10b",
   "metadata": {},
   "source": [
    "Python 데이터 분석에서 가장 널리 쓰이는 Pandas를 기준으로."
   ]
  },
  {
   "cell_type": "code",
   "execution_count": 1,
   "id": "7ee4c621",
   "metadata": {},
   "outputs": [],
   "source": [
    "import matplotlib.pyplot as plt \n",
    "import pandas as pd\n",
    "import numpy as np"
   ]
  },
  {
   "cell_type": "markdown",
   "id": "10411b9a",
   "metadata": {},
   "source": [
    "#### 대용량 데이터 로딩"
   ]
  },
  {
   "cell_type": "code",
   "execution_count": 2,
   "id": "f5299f1d",
   "metadata": {},
   "outputs": [],
   "source": [
    "df = pd.read_pickle(\"~/Downloads/SBR_df_nan_converted.pickle\", compression='zip')"
   ]
  },
  {
   "cell_type": "markdown",
   "id": "58299711",
   "metadata": {},
   "source": [
    "#### 데이터 요약"
   ]
  },
  {
   "cell_type": "code",
   "execution_count": 3,
   "id": "cc085d66",
   "metadata": {
    "scrolled": true
   },
   "outputs": [
    {
     "data": {
      "text/plain": [
       "<bound method NDFrame.head of          시도코드  시군구코드      등록일자      개업일자  폐업일자 폐업여부  활동구분  br사업체매출액  br사업체종사자  \\\n",
       "0          39  39010  20071207  20071128    -1    N     1       126         0   \n",
       "1          39  39010  20071210  20071130    -1    N     1        63         0   \n",
       "2          39  39010  20071231  20071231    -1    N     1       415         5   \n",
       "3          39  39010  20080121  20080120    -1    N     1        64         0   \n",
       "4          39  39010  20080124  20080113    -1    N     1         2         0   \n",
       "...       ...    ...       ...       ...   ...  ...   ...       ...       ...   \n",
       "9096317    22  22040  20000329  20000331    -1    N     1        46         0   \n",
       "9096318    22  22040  20110729  20110804    -1    N     1       203         2   \n",
       "9096319    22  22040  20140205  20131103    -1    N     1       121         0   \n",
       "9096320    22  22040  20140717  20140724    -1    N     1         1         0   \n",
       "9096321    22  22040  20180220  20180324    -1    N     1      1264        10   \n",
       "\n",
       "         br사업체상용근로자.합계.  ...  br기업체종사자.총계.  br기업체상용근로자.합계.  br기업체상용근로자.남.  \\\n",
       "0                     0  ...             0               0              0   \n",
       "1                     0  ...             0               0              0   \n",
       "2                     0  ...             5               0              0   \n",
       "3                     0  ...             0               0              0   \n",
       "4                     0  ...             0               0              0   \n",
       "...                 ...  ...           ...             ...            ...   \n",
       "9096317               0  ...             0               0              0   \n",
       "9096318               0  ...             2               0              0   \n",
       "9096319               0  ...             0               0              0   \n",
       "9096320               0  ...             0               0              0   \n",
       "9096321              10  ...            10              10              7   \n",
       "\n",
       "         br기업체상용근로자.여.  br기업체임시및일용근로자.합계. br기업체임시및일용근로자.남.  br기업체임시및일용근로자.여.  \\\n",
       "0                    0                  0                0                 0   \n",
       "1                    0                  0                0                 0   \n",
       "2                    0                  5                4                 1   \n",
       "3                    0                  0                0                 0   \n",
       "4                    0                  0                0                 0   \n",
       "...                ...                ...              ...               ...   \n",
       "9096317              0                  0                0                 0   \n",
       "9096318              0                  2                1                 1   \n",
       "9096319              0                  0                0                 0   \n",
       "9096320              0                  0                0                 0   \n",
       "9096321              3                  0                0                 0   \n",
       "\n",
       "         br기업체산업분류.대.  br기업체산업분류.중.  br기업체산업분류.소.  \n",
       "0                   F            42           426  \n",
       "1                   F            42           426  \n",
       "2                   F            42           426  \n",
       "3                   F            42           426  \n",
       "4                   F            42           426  \n",
       "...               ...           ...           ...  \n",
       "9096317             G            46           466  \n",
       "9096318             G            46           466  \n",
       "9096319             G            46           466  \n",
       "9096320             G            46           466  \n",
       "9096321             G            46           466  \n",
       "\n",
       "[9096322 rows x 30 columns]>"
      ]
     },
     "execution_count": 3,
     "metadata": {},
     "output_type": "execute_result"
    }
   ],
   "source": [
    "df.head"
   ]
  },
  {
   "cell_type": "markdown",
   "id": "f2303ff5",
   "metadata": {},
   "source": [
    "#### 결손값 보정 등 임의 적용 "
   ]
  },
  {
   "cell_type": "code",
   "execution_count": 4,
   "id": "786f722c",
   "metadata": {},
   "outputs": [],
   "source": [
    "subset = df['br사업체종사자']"
   ]
  },
  {
   "cell_type": "markdown",
   "id": "79cee5fd",
   "metadata": {},
   "source": [
    "#### 데모를 위해 일부만 추출"
   ]
  },
  {
   "cell_type": "code",
   "execution_count": 5,
   "id": "06032d89",
   "metadata": {},
   "outputs": [],
   "source": [
    "var = subset.sort_values(ascending=False).iloc[:16384]"
   ]
  },
  {
   "cell_type": "markdown",
   "id": "443a0158",
   "metadata": {},
   "source": [
    "#### 자료의 히스토그램 분포"
   ]
  },
  {
   "cell_type": "code",
   "execution_count": 6,
   "id": "2e8b15cf",
   "metadata": {},
   "outputs": [
    {
     "data": {
      "text/plain": [
       "Text(0.5, 0, 'log10(#)')"
      ]
     },
     "execution_count": 6,
     "metadata": {},
     "output_type": "execute_result"
    },
    {
     "data": {
      "image/png": "[encoded data removed]",
      "text/plain": [
       "<Figure size 640x480 with 1 Axes>"
      ]
     },
     "metadata": {},
     "output_type": "display_data"
    }
   ],
   "source": [
    "fig, ax = plt.subplots()\n",
    "ax.hist(np.log10(var))\n",
    "ax.set_title(\"#people\")\n",
    "ax.set_xlabel(\"log10(#)\")"
   ]
  },
  {
   "cell_type": "markdown",
   "id": "5a5cf3d6",
   "metadata": {},
   "source": [
    "# 분산 계산 예제\n",
    "\n",
    "$$ S^2 = \\frac{\\Sigma(x_i - \\bar{x})^2}{n} $$\n"
   ]
  },
  {
   "cell_type": "markdown",
   "id": "d7ffa716",
   "metadata": {},
   "source": [
    "### 개발중인 FHE 통계 연산 라이브러리 hemul"
   ]
  },
  {
   "cell_type": "code",
   "execution_count": 7,
   "id": "e9bf8026",
   "metadata": {},
   "outputs": [
    {
     "name": "stdout",
     "output_type": "stream",
     "text": [
      "binding to HEAAN\n"
     ]
    }
   ],
   "source": [
    "from hemul.context import set_all\n",
    "from hemul.container import CtxtFrame"
   ]
  },
  {
   "cell_type": "markdown",
   "id": "f1f79eae",
   "metadata": {},
   "source": [
    "### 사용자 설정\n",
    "\n",
    "필수적으로 필요한 정보를 입력 받음.  \n",
    "1. 추후 컴파일러로 최적 파라미터를 자동 제안 예정\n",
    "2. 별도의 config 파일 등 사용자 친화적 인터페이스 고려 중"
   ]
  },
  {
   "cell_type": "code",
   "execution_count": 8,
   "id": "e63449e3",
   "metadata": {},
   "outputs": [
    {
     "name": "stdout",
     "output_type": "stream",
     "text": [
      "FHE context is set\n"
     ]
    }
   ],
   "source": [
    "# FHE 필수 정보\n",
    "logp = 30\n",
    "logq = 600\n",
    "logn = 14\n",
    "(context, ev, encoder, encryptor, decryptor) = set_all(logp, logq, logn)\n",
    "server_agents = {\"evaluator\":ev, \"encoder\":encoder, \"encryptor\":encryptor}"
   ]
  },
  {
   "cell_type": "markdown",
   "id": "e1d8d6bd",
   "metadata": {},
   "source": [
    "#### 암호화된 데이터를 위한 container에 암호문 추가"
   ]
  },
  {
   "cell_type": "code",
   "execution_count": 9,
   "id": "f9ddb05f",
   "metadata": {
    "scrolled": true
   },
   "outputs": [],
   "source": [
    "ctf = CtxtFrame(server_agents)\n",
    "\n",
    "ctxt = encryptor.encrypt(var)\n",
    "\n",
    "ctf.add_column(\"people\", ctxt)"
   ]
  },
  {
   "cell_type": "markdown",
   "id": "609e8f59",
   "metadata": {},
   "source": [
    "#### 복호화 전에는 값 출력 불가"
   ]
  },
  {
   "cell_type": "code",
   "execution_count": 10,
   "id": "41c84298",
   "metadata": {},
   "outputs": [
    {
     "name": "stdout",
     "output_type": "stream",
     "text": [
      "You can't read the content\n"
     ]
    }
   ],
   "source": [
    "print(ctf['people'])"
   ]
  },
  {
   "cell_type": "markdown",
   "id": "f32075c9",
   "metadata": {},
   "source": [
    "#### Client가 복호화하면 출력 가능 \n",
    "\n",
    "* 본 데모에서 server / client의 구분은 없음. "
   ]
  },
  {
   "cell_type": "code",
   "execution_count": 11,
   "id": "30721ca6",
   "metadata": {},
   "outputs": [
    {
     "name": "stdout",
     "output_type": "stream",
     "text": [
      "[38604.00344392 38604.00331953 38604.00117963 ...    91.00249264\n",
      "    91.00262815    91.00342382]\n"
     ]
    }
   ],
   "source": [
    "out = decryptor.decrypt(ctf['people'])\n",
    "print(out)"
   ]
  },
  {
   "cell_type": "markdown",
   "id": "52cb0e4b",
   "metadata": {},
   "source": [
    "#### 복호화 결과는 최초 값과 매우 가까움\n",
    "(동형암호 연산에 의한 미세한 오차 발생)"
   ]
  },
  {
   "cell_type": "code",
   "execution_count": 12,
   "id": "44e13d20",
   "metadata": {},
   "outputs": [
    {
     "name": "stdout",
     "output_type": "stream",
     "text": [
      "Are the values same? [False False False ... False False False]\n",
      "Are the values very close? True\n"
     ]
    }
   ],
   "source": [
    "print(\"Are the values same?\", var.values == out)\n",
    "print(\"Are the values very close?\", np.all(np.isclose(var, out, rtol=1e-4)))"
   ]
  },
  {
   "cell_type": "markdown",
   "id": "3f3c545c",
   "metadata": {},
   "source": [
    "#### 기초 통계값 중 하나인 분산 (variance 계산)\n",
    "\n",
    "pandas의 API는 데이터 container가 고정적이며, 미리 준비된 method를 데이터에 적용하는 방식.  \n",
    "Packing 이후 형태가 고정되는 동형암호 데이터 역시 pandas와 유사한 접근법이 유리  "
   ]
  },
  {
   "cell_type": "code",
   "execution_count": 13,
   "id": "aa8cfebe",
   "metadata": {},
   "outputs": [
    {
     "name": "stdout",
     "output_type": "stream",
     "text": [
      "1625017.2437663516\n"
     ]
    }
   ],
   "source": [
    "# FHE 결과\n",
    "result = ctf['people'].var()\n",
    "output = decryptor.decrypt(result)[0]\n",
    "\n",
    "print(output)"
   ]
  },
  {
   "cell_type": "code",
   "execution_count": 14,
   "id": "a5dadac5",
   "metadata": {},
   "outputs": [
    {
     "data": {
      "text/plain": [
       "1624775.2747835738"
      ]
     },
     "execution_count": 14,
     "metadata": {},
     "output_type": "execute_result"
    }
   ],
   "source": [
    "# Pandas 정답\n",
    "var.var()"
   ]
  },
  {
   "cell_type": "markdown",
   "id": "dd2783fc",
   "metadata": {},
   "source": [
    "계산 결과 일치  \n",
    "\n",
    "var() 계산은 다음 예제로 이어짐"
   ]
  },
  {
   "cell_type": "code",
   "execution_count": null,
   "id": "8d5d50c6",
   "metadata": {},
   "outputs": [],
   "source": []
  }
 ],
 "metadata": {
  "kernelspec": {
   "display_name": "Python 3 (ipykernel)",
   "language": "python",
   "name": "python3"
  },
  "language_info": {
   "codemirror_mode": {
    "name": "ipython",
    "version": 3
   },
   "file_extension": ".py",
   "mimetype": "text/x-python",
   "name": "python",
   "nbconvert_exporter": "python",
   "pygments_lexer": "ipython3",
   "version": "3.10.6"
  }
 },
 "nbformat": 4,
 "nbformat_minor": 5
}
