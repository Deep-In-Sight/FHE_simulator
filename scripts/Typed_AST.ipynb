{
 "cells": [
  {
   "cell_type": "code",
   "execution_count": 2,
   "id": "6842dad9",
   "metadata": {},
   "outputs": [],
   "source": [
    "import inspect\n",
    "import ast\n",
    "import numpy as np\n",
    "import typing"
   ]
  },
  {
   "cell_type": "code",
   "execution_count": 5,
   "id": "c7d204c3",
   "metadata": {},
   "outputs": [],
   "source": [
    "class TypedFunctionVisitor(ast.NodeTransformer):\n",
    "    def __init__(self):\n",
    "        self.current_function = None\n",
    "\n",
    "    def visit_FunctionDef(self, node: ast.FunctionDef) -> ast.FunctionDef:\n",
    "        self.current_function = node.name\n",
    "\n",
    "        # Extract type annotations from function arguments\n",
    "        arg_types: typing.Dict[str, ast.expr] = {}\n",
    "        for arg in node.args.args:\n",
    "            if arg.annotation:\n",
    "                arg_types[arg.arg] = arg.annotation\n",
    "\n",
    "        # Create new arguments with type annotations\n",
    "        new_args = []\n",
    "        for arg in node.args.args:\n",
    "            if arg.arg in arg_types:\n",
    "                new_args.append(ast.arg(arg=arg.arg, annotation=arg_types[arg.arg]))\n",
    "            else:\n",
    "                new_args.append(ast.arg(arg=arg.arg, annotation=None))\n",
    "\n",
    "        # Replace the original arguments with the new typed ones\n",
    "        node.args.args = new_args\n",
    "\n",
    "        # Process the function body\n",
    "        self.generic_visit(node)\n",
    "\n",
    "        # Reset the current function\n",
    "        self.current_function = None\n",
    "\n",
    "        return node\n",
    "\n",
    "    def visit_BinOp(self, node: ast.BinOp) -> ast.BinOp:\n",
    "        if self.current_function == 'add':\n",
    "            # Assuming both left and right operands are named arguments from the 'add' function\n",
    "            left_type = ast.Name(id='int', ctx=ast.Load())\n",
    "            right_type = ast.Name(id='int', ctx=ast.Load())\n",
    "            node.left_type = left_type\n",
    "            node.right_type = right_type\n",
    "\n",
    "        return self.generic_visit(node)\n",
    "\n",
    "\n",
    "def generate_typed_ast(source_code: str) -> ast.AST:\n",
    "    tree = ast.parse(source_code)\n",
    "    visitor = TypedFunctionVisitor()\n",
    "    typed_tree = visitor.visit(tree)\n",
    "    return typed_tree"
   ]
  },
  {
   "cell_type": "code",
   "execution_count": 31,
   "id": "045b0199",
   "metadata": {},
   "outputs": [
    {
     "name": "stdout",
     "output_type": "stream",
     "text": [
      "def greet(name: str) -> None:\n",
      "    print(f'Hello, {name}!')\n",
      "\n",
      "def add(a: int, b: int) -> int:\n",
      "    return a + b\n"
     ]
    }
   ],
   "source": [
    "if __name__ == \"__main__\":\n",
    "    source_code = '''\n",
    "def greet(name: str) -> None:\n",
    "    print(f\"Hello, {name}!\")\n",
    "\n",
    "def add(a: int, b: int) -> int:\n",
    "    return a + b\n",
    "'''\n",
    "\n",
    "    typed_tree = generate_typed_ast(source_code)\n",
    "    typed_source_code = ast.unparse(typed_tree)\n",
    "    print(typed_source_code)"
   ]
  },
  {
   "cell_type": "code",
   "execution_count": 32,
   "id": "94a36a86",
   "metadata": {},
   "outputs": [
    {
     "name": "stdout",
     "output_type": "stream",
     "text": [
      "Module(\n",
      " body=[\n",
      "  FunctionDef(\n",
      "   name='greet',\n",
      "   args=arguments(\n",
      "    posonlyargs=[],\n",
      "    args=[\n",
      "     arg(\n",
      "      arg='name',\n",
      "      annotation=Name(id='str', ctx=Load()))],\n",
      "    kwonlyargs=[],\n",
      "    kw_defaults=[],\n",
      "    defaults=[]),\n",
      "   body=[\n",
      "    Expr(\n",
      "     value=Call(\n",
      "      func=Name(id='print', ctx=Load()),\n",
      "      args=[\n",
      "       JoinedStr(\n",
      "        values=[\n",
      "         Constant(value='Hello, '),\n",
      "         FormattedValue(\n",
      "          value=Name(id='name', ctx=Load()),\n",
      "          conversion=-1),\n",
      "         Constant(value='!')])],\n",
      "      keywords=[]))],\n",
      "   decorator_list=[],\n",
      "   returns=Constant(value=None)),\n",
      "  FunctionDef(\n",
      "   name='add',\n",
      "   args=arguments(\n",
      "    posonlyargs=[],\n",
      "    args=[\n",
      "     arg(\n",
      "      arg='a',\n",
      "      annotation=Name(id='int', ctx=Load())),\n",
      "     arg(\n",
      "      arg='b',\n",
      "      annotation=Name(id='int', ctx=Load()))],\n",
      "    kwonlyargs=[],\n",
      "    kw_defaults=[],\n",
      "    defaults=[]),\n",
      "   body=[\n",
      "    Return(\n",
      "     value=BinOp(\n",
      "      left=Name(id='a', ctx=Load()),\n",
      "      op=Add(),\n",
      "      right=Name(id='b', ctx=Load())))],\n",
      "   decorator_list=[],\n",
      "   returns=Name(id='int', ctx=Load()))],\n",
      " type_ignores=[])\n"
     ]
    }
   ],
   "source": [
    "print(ast.dump(typed_tree, indent=1))"
   ]
  },
  {
   "cell_type": "code",
   "execution_count": 37,
   "id": "982cf32c",
   "metadata": {},
   "outputs": [
    {
     "name": "stdout",
     "output_type": "stream",
     "text": [
      "FunctionDef(\n",
      " name='add',\n",
      " args=arguments(\n",
      "  posonlyargs=[],\n",
      "  args=[\n",
      "   arg(\n",
      "    arg='a',\n",
      "    annotation=Name(id='int', ctx=Load())),\n",
      "   arg(\n",
      "    arg='b',\n",
      "    annotation=Name(id='int', ctx=Load()))],\n",
      "  kwonlyargs=[],\n",
      "  kw_defaults=[],\n",
      "  defaults=[]),\n",
      " body=[\n",
      "  Return(\n",
      "   value=BinOp(\n",
      "    left=Name(id='a', ctx=Load()),\n",
      "    op=Add(),\n",
      "    right=Name(id='b', ctx=Load())))],\n",
      " decorator_list=[],\n",
      " returns=Name(id='int', ctx=Load()))\n"
     ]
    }
   ],
   "source": [
    "print(ast.dump(typed_tree.body[1], indent=1))"
   ]
  },
  {
   "cell_type": "markdown",
   "id": "a4fa7fdc",
   "metadata": {},
   "source": [
    "Multiply integer variable if the argument is typed as INT"
   ]
  },
  {
   "cell_type": "code",
   "execution_count": null,
   "id": "2ef449f0",
   "metadata": {},
   "outputs": [],
   "source": [
    "class MultiplyIntVariables(ast.NodeTransformer):\n",
    "    def __init__(self, int_variables: typing.Set[str]):\n",
    "        self.int_variables = int_variables\n",
    "\n",
    "    def visit_Name(self, node: ast.Name) -> ast.expr:\n",
    "        if node.id in self.int_variables:\n",
    "            return ast.BinOp(left=node, op=ast.Mult(), right=ast.Constant(value=100))\n",
    "        return node"
   ]
  },
  {
   "cell_type": "code",
   "execution_count": 7,
   "id": "d6290889",
   "metadata": {},
   "outputs": [],
   "source": [
    "def apply_multiply_int_variables(tree: ast.AST, int_variables: typing.Set[str]) -> ast.AST:\n",
    "    transformer = MultiplyIntVariables(int_variables=int_variables)\n",
    "    return transformer.visit(tree)\n",
    "\n",
    "\n",
    "def collect_int_variables(typed_tree: ast.AST) -> typing.Set[str]:\n",
    "    int_variables = set()\n",
    "\n",
    "    for node in ast.walk(typed_tree):\n",
    "        if isinstance(node, ast.arg) and isinstance(node.annotation, ast.Name) and node.annotation.id == 'int':\n",
    "            int_variables.add(node.arg)\n",
    "\n",
    "    return int_variables"
   ]
  },
  {
   "cell_type": "code",
   "execution_count": 42,
   "id": "9f01d7a5",
   "metadata": {},
   "outputs": [
    {
     "name": "stdout",
     "output_type": "stream",
     "text": [
      "def greet(name: str) -> None:\n",
      "    print(f'Hello, {name}!')\n",
      "\n",
      "def add(a: int, b: int) -> int:\n",
      "    return a * 100 + b * 100\n"
     ]
    }
   ],
   "source": [
    "int_variables = collect_int_variables(typed_tree)\n",
    "multiplied_tree = apply_multiply_int_variables(typed_tree, int_variables)\n",
    "multiplied_source_code = ast.unparse(multiplied_tree)\n",
    "print(multiplied_source_code)"
   ]
  },
  {
   "cell_type": "markdown",
   "id": "db3f1def",
   "metadata": {},
   "source": [
    "Also identify derived INT varibles and Multiply them.\n",
    "\n",
    "WRONG. It doesn't work! "
   ]
  },
  {
   "cell_type": "code",
   "execution_count": null,
   "id": "1ddadf73",
   "metadata": {},
   "outputs": [],
   "source": [
    "class MultiplyIntVariables(ast.NodeTransformer):\n",
    "    def __init__(self, int_variables: typing.Set[str]):\n",
    "        self.int_variables = int_variables\n",
    "\n",
    "    def visit_Name(self, node: ast.Name) -> ast.expr:\n",
    "        if node.id in self.int_variables:\n",
    "            return ast.BinOp(left=node, op=ast.Mult(), right=ast.Constant(value=100))\n",
    "        return node\n",
    "\n",
    "    def visit_Assign(self, node: ast.Assign) -> ast.Assign:\n",
    "        if len(node.targets) == 1 and isinstance(node.targets[0], ast.Name):\n",
    "            assigned_var_name = node.targets[0].id\n",
    "            if assigned_var_name in self.int_variables:\n",
    "                node.value = ast.BinOp(left=node.value, op=ast.Mult(), right=ast.Constant(value=100))\n",
    "        return self.generic_visit(node)"
   ]
  },
  {
   "cell_type": "code",
   "execution_count": 53,
   "id": "ebe5cc86",
   "metadata": {},
   "outputs": [
    {
     "name": "stdout",
     "output_type": "stream",
     "text": [
      "def add_square(a: int, b: int) -> int:\n",
      "    c = a * 100 + b * 100\n",
      "    return c * c\n"
     ]
    }
   ],
   "source": [
    "def add_square(a: int, b: int) -> int:\n",
    "    c = a + b \n",
    "    return c * c\n",
    "\n",
    "source_code = inspect.getsource(add_square)\n",
    "\n",
    "typed_tree = generate_typed_ast(source_code)\n",
    "int_variables = collect_int_variables(typed_tree)\n",
    "multiplied_tree = apply_multiply_int_variables(typed_tree, int_variables)\n",
    "multiplied_source_code = ast.unparse(multiplied_tree)\n",
    "print(multiplied_source_code)"
   ]
  },
  {
   "cell_type": "code",
   "execution_count": 54,
   "id": "ac4d7af1",
   "metadata": {},
   "outputs": [],
   "source": [
    "class MultiplyIntVariables(ast.NodeTransformer):\n",
    "    def __init__(self, int_variables: typing.Set[str]):\n",
    "        self.int_variables = int_variables\n",
    "\n",
    "    def visit_Name(self, node: ast.Name) -> ast.expr:\n",
    "        if node.id in self.int_variables:\n",
    "            return ast.BinOp(left=node, op=ast.Mult(), right=ast.Constant(value=100))\n",
    "        return node\n",
    "\n",
    "    def visit_Assign(self, node: ast.Assign) -> ast.Assign:\n",
    "        if len(node.targets) == 1 and isinstance(node.targets[0], ast.Name):\n",
    "            assigned_var_name = node.targets[0].id\n",
    "            if assigned_var_name in self.int_variables:\n",
    "                node.value = ast.BinOp(left=node.value, op=ast.Mult(), right=ast.Constant(value=100))\n",
    "        return self.generic_visit(node)\n",
    "\n",
    "    def visit_Return(self, node: ast.Return) -> ast.Return:\n",
    "        if isinstance(node.value, ast.BinOp) and isinstance(node.value.left, ast.Name) and node.value.left.id in self.int_variables:\n",
    "            node.value = ast.BinOp(left=node.value, op=ast.Mult(), right=ast.Constant(value=100))\n",
    "        return self.generic_visit(node)"
   ]
  },
  {
   "cell_type": "code",
   "execution_count": 55,
   "id": "914849e6",
   "metadata": {},
   "outputs": [
    {
     "name": "stdout",
     "output_type": "stream",
     "text": [
      "def add_square(a: int, b: int) -> int:\n",
      "    c = a * 100 + b * 100\n",
      "    return c * c\n"
     ]
    }
   ],
   "source": [
    "source_code = inspect.getsource(add_square)\n",
    "\n",
    "typed_tree = generate_typed_ast(source_code)\n",
    "int_variables = collect_int_variables(typed_tree)\n",
    "multiplied_tree = apply_multiply_int_variables(typed_tree, int_variables)\n",
    "multiplied_source_code = ast.unparse(multiplied_tree)\n",
    "print(multiplied_source_code)"
   ]
  },
  {
   "cell_type": "code",
   "execution_count": 15,
   "id": "f6f4e326",
   "metadata": {},
   "outputs": [
    {
     "data": {
      "text/plain": [
       "{'a', 'b'}"
      ]
     },
     "execution_count": 15,
     "metadata": {},
     "output_type": "execute_result"
    }
   ],
   "source": [
    "int_variables"
   ]
  },
  {
   "cell_type": "code",
   "execution_count": 13,
   "id": "fee45251",
   "metadata": {},
   "outputs": [],
   "source": [
    "class MultiplyIntVariables(ast.NodeTransformer):\n",
    "    def __init__(self, int_variables: typing.Set[str]):\n",
    "        self.int_variables = int_variables\n",
    "\n",
    "    def visit_Name(self, node: ast.Name) -> ast.expr:\n",
    "        if node.id in self.int_variables:\n",
    "            return ast.BinOp(left=node, op=ast.Mult(), right=ast.Constant(value=100))\n",
    "        return node\n",
    "\n",
    "    def visit_Assign(self, node: ast.Assign) -> ast.Assign:\n",
    "        if len(node.targets) == 1 and isinstance(node.targets[0], ast.Name):\n",
    "            assigned_var_name = node.targets[0].id\n",
    "            if assigned_var_name in self.int_variables:\n",
    "                node.value = ast.BinOp(left=node.value, op=ast.Mult(), right=ast.Constant(value=100))\n",
    "        return self.generic_visit(node)\n",
    "\n",
    "    def visit_Return(self, node: ast.Return) -> ast.Return:\n",
    "        print(\"1\", isinstance(node.value, ast.BinOp))\n",
    "        print(\"2\", isinstance(node.value.left, ast.Name))\n",
    "        print(\"3\", node.value.left.id in self.int_variables)\n",
    "        print(\"4\", node.value.left.id)\n",
    "        print(\"5\", self.int_variables)\n",
    "        if isinstance(node.value, ast.BinOp) and isinstance(node.value.left, ast.Name) and node.value.left.id in self.int_variables:\n",
    "            node.value.left = ast.BinOp(left=node.value.left, op=ast.Mult(), right=ast.Constant(value=100))\n",
    "            node.value.right = ast.BinOp(left=node.value.right, op=ast.Mult(), right=ast.Constant(value=100))\n",
    "        return self.generic_visit(node)"
   ]
  },
  {
   "cell_type": "code",
   "execution_count": 14,
   "id": "32d17b8b",
   "metadata": {},
   "outputs": [
    {
     "name": "stdout",
     "output_type": "stream",
     "text": [
      "1 True\n",
      "2 True\n",
      "3 False\n",
      "4 c\n",
      "5 {'a', 'b'}\n",
      "def add_square(a: int, b: int) -> int:\n",
      "    c = a * 100 + b * 100\n",
      "    return c * c\n"
     ]
    }
   ],
   "source": [
    "def add_square(a: int, b: int) -> int:\n",
    "    c = a + b\n",
    "    return c * c\n",
    "\n",
    "source_code = inspect.getsource(add_square)\n",
    "\n",
    "typed_tree = generate_typed_ast(source_code)\n",
    "int_variables = collect_int_variables(typed_tree)\n",
    "multiplied_tree = apply_multiply_int_variables(typed_tree, int_variables)\n",
    "multiplied_source_code = ast.unparse(multiplied_tree)\n",
    "print(multiplied_source_code)"
   ]
  },
  {
   "cell_type": "markdown",
   "id": "90b56859",
   "metadata": {},
   "source": [
    "Still not working, becaues 'c' is not recognized as an integer. \n",
    "The fix is given as follows "
   ]
  },
  {
   "cell_type": "code",
   "execution_count": 16,
   "id": "022ea776",
   "metadata": {},
   "outputs": [],
   "source": [
    "def collect_int_variables(typed_tree: ast.AST) -> typing.Set[str]:\n",
    "    int_variables = set()\n",
    "\n",
    "    for node in ast.walk(typed_tree):\n",
    "        if isinstance(node, ast.arg) and isinstance(node.annotation, ast.Name) and node.annotation.id == 'int':\n",
    "            int_variables.add(node.arg)\n",
    "\n",
    "        if isinstance(node, ast.AnnAssign) and isinstance(node.target, ast.Name) and isinstance(node.annotation, ast.Name) and node.annotation.id == 'int':\n",
    "            int_variables.add(node.target.id)\n",
    "\n",
    "    return int_variables"
   ]
  },
  {
   "cell_type": "code",
   "execution_count": 18,
   "id": "a4c25874",
   "metadata": {},
   "outputs": [
    {
     "name": "stdout",
     "output_type": "stream",
     "text": [
      "{'c', 'a', 'b'}\n"
     ]
    }
   ],
   "source": [
    "def add_square(a: int, b: int) -> int:\n",
    "    c: int = a + b\n",
    "    return c * c\n",
    "\n",
    "source_code = inspect.getsource(add_square)\n",
    "\n",
    "typed_tree = generate_typed_ast(source_code)\n",
    "int_variables = collect_int_variables(typed_tree)\n",
    "print(int_variables)"
   ]
  },
  {
   "cell_type": "code",
   "execution_count": 19,
   "id": "eabbc657",
   "metadata": {},
   "outputs": [
    {
     "name": "stdout",
     "output_type": "stream",
     "text": [
      "1 True\n",
      "2 True\n",
      "3 True\n",
      "4 c\n",
      "5 {'c', 'a', 'b'}\n",
      "def add_square(a: int, b: int) -> int:\n",
      "    c * 100: int = a * 100 + b * 100\n",
      "    return c * 100 * 100 * (c * 100 * 100)\n"
     ]
    }
   ],
   "source": [
    "multiplied_tree = apply_multiply_int_variables(typed_tree, int_variables)\n",
    "multiplied_source_code = ast.unparse(multiplied_tree)\n",
    "print(multiplied_source_code)"
   ]
  },
  {
   "cell_type": "code",
   "execution_count": 20,
   "id": "f8764285",
   "metadata": {},
   "outputs": [],
   "source": [
    "class MultiplyIntVariables(ast.NodeTransformer):\n",
    "    def __init__(self, int_variables: typing.Set[str]):\n",
    "        self.int_variables = int_variables\n",
    "\n",
    "    def visit_Name(self, node: ast.Name) -> ast.expr:\n",
    "        if node.id in self.int_variables:\n",
    "            return ast.BinOp(left=node, op=ast.Mult(), right=ast.Constant(value=100))\n",
    "        return node\n",
    "\n",
    "    def visit_BinOp(self, node: ast.BinOp) -> ast.BinOp:\n",
    "        if (\n",
    "            isinstance(node.left, ast.Name) and node.left.id in self.int_variables\n",
    "            or isinstance(node.right, ast.Name) and node.right.id in self.int_variables\n",
    "        ):\n",
    "            node.left = self.visit(node.left)\n",
    "            node.right = self.visit(node.right)\n",
    "        else:\n",
    "            node.left = self.visit(node.left)\n",
    "            node.right = self.visit(node.right)\n",
    "        return node"
   ]
  },
  {
   "cell_type": "code",
   "execution_count": 21,
   "id": "27d52d39",
   "metadata": {},
   "outputs": [
    {
     "name": "stdout",
     "output_type": "stream",
     "text": [
      "def add_square(a: int, b: int) -> int:\n",
      "    c * 100: int = a * 100 + b * 100\n",
      "    return c * 100 * (c * 100)\n"
     ]
    }
   ],
   "source": [
    "def add_square(a: int, b: int) -> int:\n",
    "    c: int = a + b\n",
    "    return c * c\n",
    "\n",
    "source_code = inspect.getsource(add_square)\n",
    "\n",
    "typed_tree = generate_typed_ast(source_code)\n",
    "int_variables = collect_int_variables(typed_tree)\n",
    "multiplied_tree = apply_multiply_int_variables(typed_tree, int_variables)\n",
    "multiplied_source_code = ast.unparse(multiplied_tree)\n",
    "print(multiplied_source_code)"
   ]
  },
  {
   "cell_type": "markdown",
   "id": "2ccab211",
   "metadata": {},
   "source": [
    "결과가 integer인지 확인하는 방법. \n",
    "\n",
    "-> 이걸로 typed_tree에 custom property를 추가하면 될듯. "
   ]
  },
  {
   "cell_type": "code",
   "execution_count": 22,
   "id": "0a1d36a9",
   "metadata": {},
   "outputs": [],
   "source": [
    "def is_integer_binop_result(left: ast.AST, right: ast.AST, operation: ast.BinOp) -> bool:\n",
    "    if not (isinstance(left, (ast.Name, ast.Constant)) and isinstance(right, (ast.Name, ast.Constant))):\n",
    "        return False\n",
    "\n",
    "    if not (isinstance(operation.op, (ast.Add, ast.Sub, ast.Mult, ast.FloorDiv, ast.Mod, ast.Pow, ast.BitAnd, ast.BitOr, ast.BitXor, ast.LShift, ast.RShift))):\n",
    "        return False\n",
    "\n",
    "    return True"
   ]
  },
  {
   "cell_type": "code",
   "execution_count": 23,
   "id": "21628314",
   "metadata": {},
   "outputs": [],
   "source": [
    "class MultiplyIntVariables(ast.NodeTransformer):\n",
    "    def __init__(self, int_variables: typing.Set[str]):\n",
    "        self.int_variables = int_variables\n",
    "\n",
    "    def visit_Name(self, node: ast.Name) -> ast.expr:\n",
    "        if node.id in self.int_variables:\n",
    "            return ast.BinOp(left=node, op=ast.Mult(), right=ast.Constant(value=100))\n",
    "        return node\n",
    "\n",
    "    def visit_BinOp(self, node: ast.BinOp) -> ast.BinOp:\n",
    "        if is_integer_binop_result(node.left, node.right, node):\n",
    "            node.left = self.visit(node.left)\n",
    "            node.right = self.visit(node.right)\n",
    "        else:\n",
    "            node.left = self.visit(node.left)\n",
    "            node.right = self.visit(node.right)\n",
    "        return node"
   ]
  },
  {
   "cell_type": "code",
   "execution_count": 25,
   "id": "452bc251",
   "metadata": {},
   "outputs": [
    {
     "name": "stdout",
     "output_type": "stream",
     "text": [
      "def add_square(a: int, b: int) -> int:\n",
      "    c = a * 100 + b * 100\n",
      "    return c * c\n"
     ]
    }
   ],
   "source": [
    "def add_square(a: int, b: int) -> int:\n",
    "    c = a + b\n",
    "    return c * c\n",
    "\n",
    "source_code = inspect.getsource(add_square)\n",
    "\n",
    "typed_tree = generate_typed_ast(source_code)\n",
    "int_variables = collect_int_variables(typed_tree)\n",
    "multiplied_tree = apply_multiply_int_variables(typed_tree, int_variables)\n",
    "multiplied_source_code = ast.unparse(multiplied_tree)\n",
    "print(multiplied_source_code)"
   ]
  },
  {
   "cell_type": "markdown",
   "id": "6a8bcbf4",
   "metadata": {},
   "source": []
  },
  {
   "cell_type": "code",
   "execution_count": 30,
   "id": "06e63f52",
   "metadata": {},
   "outputs": [],
   "source": []
  },
  {
   "cell_type": "code",
   "execution_count": 34,
   "id": "16446967",
   "metadata": {},
   "outputs": [
    {
     "ename": "TypeError",
     "evalue": "'FunctionDef' object is not iterable",
     "output_type": "error",
     "traceback": [
      "\u001b[0;31m---------------------------------------------------------------------------\u001b[0m",
      "\u001b[0;31mTypeError\u001b[0m                                 Traceback (most recent call last)",
      "Cell \u001b[0;32mIn [34], line 1\u001b[0m\n\u001b[0;32m----> 1\u001b[0m \u001b[38;5;28;01mfor\u001b[39;00m bb \u001b[38;5;129;01min\u001b[39;00m body:\n\u001b[1;32m      2\u001b[0m     \u001b[38;5;28mprint\u001b[39m(bb)\n",
      "\u001b[0;31mTypeError\u001b[0m: 'FunctionDef' object is not iterable"
     ]
    }
   ],
   "source": []
  },
  {
   "cell_type": "code",
   "execution_count": 28,
   "id": "4f5ab76a",
   "metadata": {},
   "outputs": [
    {
     "name": "stdout",
     "output_type": "stream",
     "text": [
      "Module(\n",
      " body=[\n",
      "  FunctionDef(\n",
      "   name='add_square',\n",
      "   args=arguments(\n",
      "    posonlyargs=[],\n",
      "    args=[\n",
      "     arg(\n",
      "      arg='a',\n",
      "      annotation=Name(id='int', ctx=Load())),\n",
      "     arg(\n",
      "      arg='b',\n",
      "      annotation=Name(id='int', ctx=Load()))],\n",
      "    kwonlyargs=[],\n",
      "    kw_defaults=[],\n",
      "    defaults=[]),\n",
      "   body=[\n",
      "    Assign(\n",
      "     targets=[\n",
      "      Name(id='c', ctx=Store())],\n",
      "     value=BinOp(\n",
      "      left=BinOp(\n",
      "       left=Name(id='a', ctx=Load()),\n",
      "       op=Mult(),\n",
      "       right=Constant(value=100)),\n",
      "      op=Add(),\n",
      "      right=BinOp(\n",
      "       left=Name(id='b', ctx=Load()),\n",
      "       op=Mult(),\n",
      "       right=Constant(value=100)))),\n",
      "    Return(\n",
      "     value=BinOp(\n",
      "      left=Name(id='c', ctx=Load()),\n",
      "      op=Mult(),\n",
      "      right=Name(id='c', ctx=Load())))],\n",
      "   decorator_list=[],\n",
      "   returns=Name(id='int', ctx=Load()))],\n",
      " type_ignores=[])\n"
     ]
    }
   ],
   "source": [
    "print(ast.dump(typed_tree, indent=1))"
   ]
  },
  {
   "cell_type": "code",
   "execution_count": null,
   "id": "3b0455f8",
   "metadata": {},
   "outputs": [],
   "source": []
  },
  {
   "cell_type": "code",
   "execution_count": null,
   "id": "a4ed6f5e",
   "metadata": {},
   "outputs": [],
   "source": []
  },
  {
   "cell_type": "code",
   "execution_count": 10,
   "id": "da6ba786",
   "metadata": {
    "scrolled": true
   },
   "outputs": [
    {
     "name": "stdout",
     "output_type": "stream",
     "text": [
      "Module(\n",
      " body=[\n",
      "  FunctionDef(\n",
      "   name='add_square',\n",
      "   args=arguments(\n",
      "    posonlyargs=[],\n",
      "    args=[\n",
      "     arg(\n",
      "      arg='a',\n",
      "      annotation=Name(id='int', ctx=Load())),\n",
      "     arg(\n",
      "      arg='b',\n",
      "      annotation=Name(id='int', ctx=Load()))],\n",
      "    kwonlyargs=[],\n",
      "    kw_defaults=[],\n",
      "    defaults=[]),\n",
      "   body=[\n",
      "    Assign(\n",
      "     targets=[\n",
      "      Name(id='c', ctx=Store())],\n",
      "     value=BinOp(\n",
      "      left=BinOp(\n",
      "       left=Name(id='a', ctx=Load()),\n",
      "       op=Mult(),\n",
      "       right=Constant(value=100)),\n",
      "      op=Add(),\n",
      "      right=BinOp(\n",
      "       left=Name(id='b', ctx=Load()),\n",
      "       op=Mult(),\n",
      "       right=Constant(value=100)))),\n",
      "    Return(\n",
      "     value=BinOp(\n",
      "      left=Name(id='c', ctx=Load()),\n",
      "      op=Mult(),\n",
      "      right=Name(id='c', ctx=Load())))],\n",
      "   decorator_list=[],\n",
      "   returns=Name(id='int', ctx=Load()))],\n",
      " type_ignores=[])\n"
     ]
    }
   ],
   "source": [
    "print(ast.dump(multiplied_tree, indent=1))"
   ]
  },
  {
   "cell_type": "code",
   "execution_count": 40,
   "id": "b62e6f07",
   "metadata": {},
   "outputs": [],
   "source": [
    "ast_body.type_comment"
   ]
  },
  {
   "cell_type": "code",
   "execution_count": 18,
   "id": "40b0fb68",
   "metadata": {},
   "outputs": [],
   "source": [
    "def var(data:np.ndarray):\n",
    "    \"\"\"Calculate variance\n",
    "    \"\"\"\n",
    "    m = np.mean(data)\n",
    "    diff = (data - m)\n",
    "    result = np.sum(diff*diff)/len(data)\n",
    "    return result\n",
    "\n",
    "\n",
    "tree = ast.parse(inspect.getsource(var))"
   ]
  },
  {
   "cell_type": "code",
   "execution_count": null,
   "id": "4510fe66",
   "metadata": {},
   "outputs": [],
   "source": []
  },
  {
   "cell_type": "code",
   "execution_count": 27,
   "id": "17579f7b",
   "metadata": {},
   "outputs": [
    {
     "name": "stdout",
     "output_type": "stream",
     "text": [
      "Module(\n",
      " body=[\n",
      "  FunctionDef(\n",
      "   name='var',\n",
      "   args=arguments(\n",
      "    posonlyargs=[],\n",
      "    args=[\n",
      "     arg(\n",
      "      arg='data',\n",
      "      annotation=Attribute(\n",
      "       value=Name(id='np', ctx=Load()),\n",
      "       attr='ndarray',\n",
      "       ctx=Load()))],\n",
      "    kwonlyargs=[],\n",
      "    kw_defaults=[],\n",
      "    defaults=[]),\n",
      "   body=[\n",
      "    Expr(\n",
      "     value=Constant(value='Calculate variance\\n    ')),\n",
      "    Assign(\n",
      "     targets=[\n",
      "      Name(id='m', ctx=Store())],\n",
      "     value=Call(\n",
      "      func=Attribute(\n",
      "       value=Name(id='np', ctx=Load()),\n",
      "       attr='mean',\n",
      "       ctx=Load()),\n",
      "      args=[\n",
      "       Name(id='data', ctx=Load())],\n",
      "      keywords=[])),\n",
      "    Assign(\n",
      "     targets=[\n",
      "      Name(id='diff', ctx=Store())],\n",
      "     value=BinOp(\n",
      "      left=Name(id='data', ctx=Load()),\n",
      "      op=Sub(),\n",
      "      right=Name(id='m', ctx=Load()))),\n",
      "    Assign(\n",
      "     targets=[\n",
      "      Name(id='result', ctx=Store())],\n",
      "     value=BinOp(\n",
      "      left=Call(\n",
      "       func=Attribute(\n",
      "        value=Name(id='np', ctx=Load()),\n",
      "        attr='sum',\n",
      "        ctx=Load()),\n",
      "       args=[\n",
      "        BinOp(\n",
      "         left=Name(id='diff', ctx=Load()),\n",
      "         op=Mult(),\n",
      "         right=Name(id='diff', ctx=Load()))],\n",
      "       keywords=[]),\n",
      "      op=Div(),\n",
      "      right=Call(\n",
      "       func=Name(id='len', ctx=Load()),\n",
      "       args=[\n",
      "        Name(id='data', ctx=Load())],\n",
      "       keywords=[]))),\n",
      "    Return(\n",
      "     value=Name(id='result', ctx=Load()))],\n",
      "   decorator_list=[])],\n",
      " type_ignores=[])\n"
     ]
    }
   ],
   "source": [
    "print(ast.dump(tree, indent=1))"
   ]
  },
  {
   "cell_type": "code",
   "execution_count": 20,
   "id": "e3200840",
   "metadata": {},
   "outputs": [
    {
     "data": {
      "text/plain": [
       "'def var(data: np.ndarray):\\n    \"\"\"Calculate variance\\n    \"\"\"\\n    m = np.mean(data)\\n    diff = data - m\\n    result = np.sum(diff * diff) / len(data)\\n    return result'"
      ]
     },
     "execution_count": 20,
     "metadata": {},
     "output_type": "execute_result"
    }
   ],
   "source": [
    "ast.unparse(tree)"
   ]
  },
  {
   "cell_type": "code",
   "execution_count": 17,
   "id": "38d19a3e",
   "metadata": {},
   "outputs": [
    {
     "ename": "NameError",
     "evalue": "name 'BinOpReplacer' is not defined",
     "output_type": "error",
     "traceback": [
      "\u001b[0;31m---------------------------------------------------------------------------\u001b[0m",
      "\u001b[0;31mNameError\u001b[0m                                 Traceback (most recent call last)",
      "Cell \u001b[0;32mIn [17], line 12\u001b[0m\n\u001b[1;32m      7\u001b[0m     \u001b[38;5;28;01mreturn\u001b[39;00m result\n\u001b[1;32m     10\u001b[0m tree \u001b[38;5;241m=\u001b[39m ast\u001b[38;5;241m.\u001b[39mparse(inspect\u001b[38;5;241m.\u001b[39mgetsource(var))\n\u001b[0;32m---> 12\u001b[0m visitor \u001b[38;5;241m=\u001b[39m \u001b[43mBinOpReplacer\u001b[49m()\n\u001b[1;32m     13\u001b[0m visitor\u001b[38;5;241m.\u001b[39mvisit(tree)\n\u001b[1;32m     15\u001b[0m tree \u001b[38;5;241m=\u001b[39m ast\u001b[38;5;241m.\u001b[39mfix_missing_locations(tree)\n",
      "\u001b[0;31mNameError\u001b[0m: name 'BinOpReplacer' is not defined"
     ]
    }
   ],
   "source": [
    "visitor = BinOpReplacer()\n",
    "visitor.visit(tree)\n",
    "\n",
    "tree = ast.fix_missing_locations(tree)\n",
    "print(\"------\")\n",
    "print(ast.unparse(tree))"
   ]
  },
  {
   "cell_type": "code",
   "execution_count": 22,
   "id": "f8147de5",
   "metadata": {},
   "outputs": [],
   "source": [
    "def myfun(name: str, age: int) -> str:\n",
    "    return f\"Hello, {name}! You are {age} years old.\"\n",
    "\n",
    "typed_signature = build_typed_function_signature(var)"
   ]
  },
  {
   "cell_type": "code",
   "execution_count": 23,
   "id": "fef3c67a",
   "metadata": {},
   "outputs": [
    {
     "name": "stdout",
     "output_type": "stream",
     "text": [
      "arguments(args=[], kwonlyargs=[], kw_defaults=[], defaults=[])\n"
     ]
    }
   ],
   "source": [
    "print(ast.dump(typed_signature))"
   ]
  },
  {
   "cell_type": "code",
   "execution_count": 9,
   "id": "9921646e",
   "metadata": {},
   "outputs": [],
   "source": [
    "func_ast = ast.parse(inspect.getsource(myfun))\n",
    "fun_ast = ast.iter_fields(func_ast)"
   ]
  },
  {
   "cell_type": "code",
   "execution_count": 15,
   "id": "6f7ede46",
   "metadata": {},
   "outputs": [
    {
     "data": {
      "text/plain": [
       "<ast.FunctionDef at 0x7f1a3eead240>"
      ]
     },
     "execution_count": 15,
     "metadata": {},
     "output_type": "execute_result"
    }
   ],
   "source": [
    "func_ast.body[0]"
   ]
  },
  {
   "cell_type": "code",
   "execution_count": 12,
   "id": "f8cf08a0",
   "metadata": {},
   "outputs": [
    {
     "name": "stdout",
     "output_type": "stream",
     "text": [
      "('type_ignores', [])\n"
     ]
    }
   ],
   "source": [
    "for node in fun_ast:\n",
    "    print(node)"
   ]
  },
  {
   "cell_type": "code",
   "execution_count": null,
   "id": "6425af73",
   "metadata": {},
   "outputs": [],
   "source": []
  }
 ],
 "metadata": {
  "kernelspec": {
   "display_name": "Python 3 (ipykernel)",
   "language": "python",
   "name": "python3"
  },
  "language_info": {
   "codemirror_mode": {
    "name": "ipython",
    "version": 3
   },
   "file_extension": ".py",
   "mimetype": "text/x-python",
   "name": "python",
   "nbconvert_exporter": "python",
   "pygments_lexer": "ipython3",
   "version": "3.10.8"
  }
 },
 "nbformat": 4,
 "nbformat_minor": 5
}
