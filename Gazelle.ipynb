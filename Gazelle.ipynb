{
 "cells": [
  {
   "cell_type": "code",
   "execution_count": 2,
   "id": "d1cdac55",
   "metadata": {},
   "outputs": [],
   "source": [
    "import matplotlib.pyplot as plt \n",
    "import numpy as np\n",
    "\n",
    "from time import time\n",
    "from PIL import Image\n",
    "\n",
    "import torch\n",
    "import torchvision.transforms as transforms\n",
    "\n",
    "from hemul.cipher import *\n",
    "from hemul.scheme import *\n",
    "\n",
    "device = \"cpu\""
   ]
  },
  {
   "cell_type": "code",
   "execution_count": 3,
   "id": "6b9a0906",
   "metadata": {},
   "outputs": [
    {
     "data": {
      "text/plain": [
       "ConvNeuralNet(\n",
       "  (conv_layer1): Conv2d(3, 16, kernel_size=(3, 3), stride=(1, 1), padding=same)\n",
       "  (conv_layer2): Conv2d(16, 32, kernel_size=(3, 3), stride=(1, 1), padding=same)\n",
       "  (conv_layer3): Conv2d(32, 32, kernel_size=(3, 3), stride=(1, 1), padding=same)\n",
       "  (bn1): BatchNorm2d(32, eps=1e-05, momentum=0.1, affine=True, track_running_stats=True)\n",
       "  (pool): AvgPool2d(kernel_size=2, stride=2, padding=0)\n",
       "  (conv_layer4): Conv2d(32, 64, kernel_size=(3, 3), stride=(1, 1), padding=same)\n",
       "  (conv_layer5): Conv2d(64, 64, kernel_size=(3, 3), stride=(1, 1), padding=same)\n",
       "  (bn2): BatchNorm2d(64, eps=1e-05, momentum=0.1, affine=True, track_running_stats=True)\n",
       "  (fc1): Linear(in_features=1024, out_features=128, bias=True)\n",
       "  (fc2): Linear(in_features=128, out_features=10, bias=True)\n",
       ")"
      ]
     },
     "execution_count": 3,
     "metadata": {},
     "output_type": "execute_result"
    }
   ],
   "source": [
    "from load_test_model import get_test_model\n",
    "\n",
    "org_model = get_test_model()\n",
    "# specify the image classes\n",
    "org_model"
   ]
  },
  {
   "cell_type": "code",
   "execution_count": 4,
   "id": "924aa021",
   "metadata": {},
   "outputs": [],
   "source": [
    "fn_param = \"SimpleCNN_ReLU_minimax_v2.pt\"\n",
    "\n",
    "trained_param = torch.load(fn_param, map_location=torch.device(device))\n",
    "trained_param = {k: v.cpu() for k, v in trained_param.items()} # to cpu()\n",
    "org_model.load_state_dict(trained_param)\n",
    "org_model.eval() ## If not eval(), running_mean and running_var of batch_norm changes\n",
    "\n",
    "# To numpy\n",
    "params_np = {k: v.numpy() for k, v in trained_param.items()}"
   ]
  },
  {
   "cell_type": "code",
   "execution_count": 6,
   "id": "2071e191",
   "metadata": {},
   "outputs": [
    {
     "name": "stdout",
     "output_type": "stream",
     "text": [
      "torch.Size([1, 3, 32, 32])\n"
     ]
    },
    {
     "data": {
      "text/plain": [
       "<matplotlib.image.AxesImage at 0x7f70a5992a70>"
      ]
     },
     "execution_count": 6,
     "metadata": {},
     "output_type": "execute_result"
    },
    {
     "data": {
      "image/png": "[encoded data removed]",
      "text/plain": [
       "<Figure size 640x480 with 1 Axes>"
      ]
     },
     "metadata": {},
     "output_type": "display_data"
    }
   ],
   "source": [
    "img = np.array(Image.open(\"./bird6.png\"))\n",
    "to_tensor = transforms.ToTensor() # [n_channel, nh, nw]\n",
    "img_tensor = to_tensor(img).unsqueeze(0) # [n_batch, n_channel, nh, nw]\n",
    "n_batch, n_channel, nh, nw = img_tensor.shape\n",
    "\n",
    "print(img_tensor.shape)\n",
    "\n",
    "org_tt0 = org_model.conv_layer1(img_tensor)\n",
    "\n",
    "x2 = org_tt0[0,0,...].detach().numpy()\n",
    "\n",
    "plt.imshow(x2)"
   ]
  },
  {
   "cell_type": "markdown",
   "id": "cd5f6f3f",
   "metadata": {},
   "source": [
    "## GAZELLE"
   ]
  },
  {
   "cell_type": "code",
   "execution_count": 8,
   "id": "71145eee",
   "metadata": {},
   "outputs": [],
   "source": [
    "from math import floor, ceil, sqrt"
   ]
  },
  {
   "cell_type": "code",
   "execution_count": 9,
   "id": "2d75fe2c",
   "metadata": {},
   "outputs": [
    {
     "data": {
      "text/plain": [
       "torch.Size([1, 3, 32, 32])"
      ]
     },
     "execution_count": 9,
     "metadata": {},
     "output_type": "execute_result"
    }
   ],
   "source": [
    "img_tensor.shape"
   ]
  },
  {
   "cell_type": "code",
   "execution_count": 62,
   "id": "65625941",
   "metadata": {},
   "outputs": [],
   "source": [
    "img2d = np.array(img_tensor[0,0,:,:])\n",
    "\n",
    "wi, hi = img2d.shape"
   ]
  },
  {
   "cell_type": "code",
   "execution_count": 63,
   "id": "de441d05",
   "metadata": {},
   "outputs": [
    {
     "name": "stdout",
     "output_type": "stream",
     "text": [
      "[[-0.03024577  0.07654995  0.05950021]\n",
      " [ 0.00516844 -0.03511824 -0.11581486]\n",
      " [-0.06510032 -0.08480114 -0.10425694]]\n"
     ]
    }
   ],
   "source": [
    "# kernel\n",
    "kernel = org_model.conv_layer1.weight.detach().numpy()\n",
    "\n",
    "k2d = kernel[0,0,:,:]\n",
    "fw, fh = k2d.shape\n",
    "\n",
    "print(k2d)"
   ]
  },
  {
   "cell_type": "markdown",
   "id": "90037642",
   "metadata": {},
   "source": [
    "### FHE context"
   ]
  },
  {
   "cell_type": "code",
   "execution_count": 43,
   "id": "832bd0aa",
   "metadata": {},
   "outputs": [],
   "source": []
  },
  {
   "cell_type": "markdown",
   "id": "c13578cc",
   "metadata": {},
   "source": [
    "### 1. padded SISO 스킵"
   ]
  },
  {
   "cell_type": "code",
   "execution_count": 44,
   "id": "bb71bee1",
   "metadata": {},
   "outputs": [],
   "source": [
    "if False:\n",
    "    nslots = 2**14\n",
    "\n",
    "    pad = int((fw -1) / 2)\n",
    "    padded = np.zeros((wi+fw-1, hi+fh-1))\n",
    "\n",
    "    padded[pad:-pad, pad:-pad] = ch1_2d\n",
    "\n",
    "    raster_scan = padded.ravel()\n",
    "\n",
    "    ctxt = np.zeros(nslots)\n",
    "    ctxt[:len(raster_scan)] = raster_scan"
   ]
  },
  {
   "cell_type": "markdown",
   "id": "8029692a",
   "metadata": {},
   "source": [
    "### 2. Packed SISO\n",
    "- nslots = wi * hi"
   ]
  },
  {
   "cell_type": "code",
   "execution_count": 47,
   "id": "c002377f",
   "metadata": {},
   "outputs": [],
   "source": [
    "nslots = wi*hi\n",
    "\n",
    "raster_scan = ch1_2d.ravel()"
   ]
  },
  {
   "cell_type": "code",
   "execution_count": 50,
   "id": "a042ba4a",
   "metadata": {},
   "outputs": [],
   "source": [
    "# convolve\n",
    "\n",
    "## rotate input\n",
    "# fw * fh -1 rotations\n",
    "rotated = []\n",
    "ctd = np.zeros(nslots)\n",
    "\n",
    "for i1 in range(fh):\n",
    "    cti1=[]\n",
    "    for i2 in range(fw):\n",
    "        roll = -wi*int(i1-(fh-1)/2) + int(i2-(fw-1)/2)\n",
    "        if roll != 0:\n",
    "            cti1.append(np.roll(raster_scan, roll)) \n",
    "        else:\n",
    "            cti1.append(raster_scan)\n",
    "    rotated.append(cti1)"
   ]
  },
  {
   "cell_type": "code",
   "execution_count": 7,
   "id": "6dbe5262",
   "metadata": {},
   "outputs": [],
   "source": [
    "def MultWgt_bck(hi,wi, ifh, ifw, kernel):\n",
    "    Uout = np.ones((hi, wi))\n",
    "    range_h = np.arange(hi)\n",
    "    range_w = np.arange(wi)\n",
    "    fh, fw = kernel.shape\n",
    "    pad_h = int((fh-1)/2) # height 방향 padding\n",
    "    pad_w = int((fw-1)/2) # width 방향 padding\n",
    "    for ihi in range(hi): # hi\n",
    "        for iwi in range(wi): # wi\n",
    "            #for i5 in range(n5): # ti\n",
    "            if  not ((ihi - pad_h + ifh) in range_h) or \\\n",
    "                not ((iwi - pad_w + ifw) in range_w):\n",
    "                Uout[ihi,iwi] = 0\n",
    "            else:\n",
    "                pass\n",
    "                #Uout[ihi,iwi] = 1\n",
    "    return Uout\n",
    "\n",
    "\n",
    "def weight_mask(hi,wi, ifh, ifw, fh, fw):\n",
    "    Uout = np.ones((hi, wi))\n",
    "    pad_h = int((fh-1)/2) # height 방향 padding\n",
    "    pad_w = int((fw-1)/2) # width 방향 padding\n",
    "\n",
    "    if ifh < pad_h:\n",
    "        Uout[:pad_h,:] = 0 # 위로 넘음\n",
    "    elif ifh >= (fh - pad_h): # 2 >= 3 - 1\n",
    "        Uout[-(pad_h):,:] = 0 # 아래로 넘음\n",
    "    \n",
    "    if ifw < pad_w:\n",
    "        Uout[:,:pad_w] = 0 # 좌로 넘음\n",
    "    elif ifw >= (fw - pad_w): # \n",
    "        Uout[:,-(pad_w):] = 0 # 우로 넘음\n",
    "    \n",
    "    return Uout"
   ]
  },
  {
   "cell_type": "code",
   "execution_count": null,
   "id": "6d148563",
   "metadata": {},
   "outputs": [],
   "source": [
    "[111111111111111111111111111111111111111111111,222222222222222222222222222222222222222222222222222222,44444444444444444444444]"
   ]
  },
  {
   "cell_type": "code",
   "execution_count": null,
   "id": "9f0015c0",
   "metadata": {},
   "outputs": [],
   "source": [
    "[1,2,3,4,1,2,3,4,1,2,3,4]"
   ]
  },
  {
   "cell_type": "code",
   "execution_count": null,
   "id": "b97833f5",
   "metadata": {},
   "outputs": [],
   "source": [
    "multi_channel_kernel = np.zeros(nslots)\n",
    "npix = wi*hi\n",
    "for i3 in range(cn):\n",
    "    k2d = k3d[i1,i2,i3]\n",
    "    multi_channel_kernel[i3*npix:(i3+1)*npix] = k2d[i1,i2]"
   ]
  },
  {
   "cell_type": "code",
   "execution_count": 124,
   "id": "cbeafedd",
   "metadata": {},
   "outputs": [
    {
     "name": "stdout",
     "output_type": "stream",
     "text": [
      "\n",
      "ifh, ifw 0 0\n",
      "\n",
      "ifh, ifw 0 1\n",
      "\n",
      "ifh, ifw 0 2\n",
      "\n",
      "ifh, ifw 1 0\n",
      "\n",
      "ifh, ifw 1 1\n",
      "\n",
      "ifh, ifw 1 2\n",
      "\n",
      "ifh, ifw 2 0\n",
      "\n",
      "ifh, ifw 2 1\n",
      "\n",
      "ifh, ifw 2 2\n"
     ]
    },
    {
     "data": {
      "image/png": "[encoded data removed]",
      "text/plain": [
       "<Figure size 1200x1200 with 9 Axes>"
      ]
     },
     "metadata": {},
     "output_type": "display_data"
    }
   ],
   "source": [
    "fig, axs = plt.subplots(3,3, figsize=(12,12))\n",
    "\n",
    "ctb = np.zeros(nslots)\n",
    "pad_h = int((fh-1)/2) # height 방향 padding\n",
    "pad_w = int((fw-1)/2) # width 방향 padding\n",
    "for i1 in range(fh):\n",
    "    for i2 in range(fw):\n",
    "        Uout = weight_mask(hi, wi, i1, i2, fh, fw)\n",
    "        axs[i1,i2].imshow(Uout, vmax=1, vmin=0)\n",
    "        \n",
    "        multwgt = np.zeros(nslots)\n",
    "        multwgt[:hi*wi] = Uout.ravel() * k2d[i1,i2]\n",
    "        \n",
    "        #get_Up(Uout, Uin, i1, i2, i, ki, fh, fw, hi, wi, ci)\n",
    "        #multwgt = VEC(Uout, nslots)\n",
    "        #len_multwgt = len(multwgt)\n",
    "        ctb += rotated[i1][i2] * multwgt # multc\n",
    "\n",
    "plt.tight_layout()"
   ]
  },
  {
   "cell_type": "code",
   "execution_count": 126,
   "id": "e65e96e3",
   "metadata": {
    "scrolled": false
   },
   "outputs": [
    {
     "data": {
      "image/png": "[encoded data removed]",
      "text/plain": [
       "<Figure size 640x480 with 1 Axes>"
      ]
     },
     "metadata": {},
     "output_type": "display_data"
    }
   ],
   "source": [
    "plt.imshow(ctb[:hi*wi].reshape(hi,wi))\n",
    "plt.show()"
   ]
  },
  {
   "cell_type": "markdown",
   "id": "e7cfaa83",
   "metadata": {},
   "source": [
    "rot: 9 - 1; \n",
    "multc: 9"
   ]
  },
  {
   "cell_type": "markdown",
   "id": "45aa6a0a",
   "metadata": {},
   "source": [
    "## Channel packing"
   ]
  },
  {
   "cell_type": "code",
   "execution_count": null,
   "id": "c353c5da",
   "metadata": {},
   "outputs": [],
   "source": []
  }
 ],
 "metadata": {
  "kernelspec": {
   "display_name": "Python 3 (ipykernel)",
   "language": "python",
   "name": "python3"
  },
  "language_info": {
   "codemirror_mode": {
    "name": "ipython",
    "version": 3
   },
   "file_extension": ".py",
   "mimetype": "text/x-python",
   "name": "python",
   "nbconvert_exporter": "python",
   "pygments_lexer": "ipython3",
   "version": "3.10.4"
  }
 },
 "nbformat": 4,
 "nbformat_minor": 5
}
