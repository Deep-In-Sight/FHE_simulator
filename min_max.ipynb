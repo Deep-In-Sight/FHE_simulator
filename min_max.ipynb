{
 "cells": [
  {
   "cell_type": "markdown",
   "id": "877a1ed3",
   "metadata": {},
   "source": [
    "## Numerical Method for Comparison on Homomorphically Encrypted Numbers (CKKLL+19)"
   ]
  },
  {
   "cell_type": "code",
   "execution_count": 42,
   "id": "067b5a41",
   "metadata": {},
   "outputs": [],
   "source": [
    "import numpy as np\n",
    "from functools import partial\n",
    "import matplotlib.pyplot as plt "
   ]
  },
  {
   "cell_type": "code",
   "execution_count": 34,
   "id": "7de1b830",
   "metadata": {},
   "outputs": [],
   "source": [
    "def power_k(x, k=1):\n",
    "    return np.power(x,k)\n",
    "\n",
    "def apprx_max(arr, k=10):\n",
    "    denom = np.sum(list(map(partial(power_k, k=k), arr)))\n",
    "    return [aa**k for aa in arr]/denom"
   ]
  },
  {
   "cell_type": "code",
   "execution_count": 44,
   "id": "b92a3b89",
   "metadata": {},
   "outputs": [],
   "source": [
    "arr = np.random.randint(-10,10,10)"
   ]
  },
  {
   "cell_type": "code",
   "execution_count": 45,
   "id": "8ef53189",
   "metadata": {},
   "outputs": [
    {
     "name": "stdout",
     "output_type": "stream",
     "text": [
      "[-1  6 -5  7  7  5  5 -4 -8 -6]\n",
      "[5.58668542e-10 3.37805504e-02 5.45574748e-03 1.57810035e-01\n",
      " 1.57810035e-01 5.45574748e-03 5.45574748e-03 5.85806425e-04\n",
      " 5.99865779e-01 3.37805504e-02]\n"
     ]
    },
    {
     "data": {
      "text/plain": [
       "[<matplotlib.lines.Line2D at 0x7f5347633e80>]"
      ]
     },
     "execution_count": 45,
     "metadata": {},
     "output_type": "execute_result"
    },
    {
     "data": {
      "image/png": "[encoded data removed]",
      "text/plain": [
       "<Figure size 432x288 with 1 Axes>"
      ]
     },
     "metadata": {
      "needs_background": "light"
     },
     "output_type": "display_data"
    }
   ],
   "source": [
    "print(arr) \n",
    "mmax = apprx_max(arr)\n",
    "print(mmax)\n",
    "plt.plot(mmax) # 'probability' of being max."
   ]
  },
  {
   "cell_type": "markdown",
   "id": "d0e5f9ab",
   "metadata": {},
   "source": [
    "# 중요!\n",
    "k가 커질 때 denom이 엄청나게 큰 값이 될 수 있음. 그러나 실제 값을 계산하지 않고 HEAAN의 bit-extraction과 rounding-off를 통해 거의 공짜로 가장 큰 자릿수 몇 개만 알아낼 수 있음! "
   ]
  },
  {
   "cell_type": "code",
   "execution_count": null,
   "id": "894f6e77",
   "metadata": {},
   "outputs": [],
   "source": []
  }
 ],
 "metadata": {
  "kernelspec": {
   "display_name": "Python 3 (ipykernel)",
   "language": "python",
   "name": "python3"
  },
  "language_info": {
   "codemirror_mode": {
    "name": "ipython",
    "version": 3
   },
   "file_extension": ".py",
   "mimetype": "text/x-python",
   "name": "python",
   "nbconvert_exporter": "python",
   "pygments_lexer": "ipython3",
   "version": "3.9.7"
  }
 },
 "nbformat": 4,
 "nbformat_minor": 5
}
