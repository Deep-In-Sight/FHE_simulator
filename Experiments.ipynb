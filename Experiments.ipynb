{
 "cells": [
  {
   "cell_type": "code",
   "execution_count": 1,
   "id": "66fd57c0",
   "metadata": {},
   "outputs": [],
   "source": [
    "import numpy as np\n",
    "import matplotlib.pyplot as plt "
   ]
  },
  {
   "cell_type": "markdown",
   "id": "5e053d91",
   "metadata": {},
   "source": [
    "# Division by Newton-Raphson method\n",
    "- initial guess\n",
    "- number of iteration"
   ]
  },
  {
   "cell_type": "code",
   "execution_count": 2,
   "id": "42d70890",
   "metadata": {},
   "outputs": [
    {
     "ename": "NameError",
     "evalue": "name 'newton_method' is not defined",
     "output_type": "error",
     "traceback": [
      "\u001b[0;31m---------------------------------------------------------------------------\u001b[0m",
      "\u001b[0;31mNameError\u001b[0m                                 Traceback (most recent call last)",
      "\u001b[0;32m/tmp/ipykernel_11933/423945446.py\u001b[0m in \u001b[0;36m<module>\u001b[0;34m\u001b[0m\n\u001b[1;32m     14\u001b[0m     \u001b[0;32mfor\u001b[0m \u001b[0mj\u001b[0m\u001b[0;34m,\u001b[0m \u001b[0mnn\u001b[0m \u001b[0;32min\u001b[0m \u001b[0menumerate\u001b[0m\u001b[0;34m(\u001b[0m\u001b[0marr2\u001b[0m\u001b[0;34m)\u001b[0m\u001b[0;34m:\u001b[0m\u001b[0;34m\u001b[0m\u001b[0;34m\u001b[0m\u001b[0m\n\u001b[1;32m     15\u001b[0m         \u001b[0;32mfor\u001b[0m \u001b[0mk\u001b[0m\u001b[0;34m,\u001b[0m \u001b[0mit\u001b[0m \u001b[0;32min\u001b[0m \u001b[0menumerate\u001b[0m\u001b[0;34m(\u001b[0m\u001b[0marr3\u001b[0m\u001b[0;34m)\u001b[0m\u001b[0;34m:\u001b[0m\u001b[0;34m\u001b[0m\u001b[0;34m\u001b[0m\u001b[0m\n\u001b[0;32m---> 16\u001b[0;31m             \u001b[0mguess\u001b[0m \u001b[0;34m=\u001b[0m \u001b[0mnewton_method\u001b[0m\u001b[0;34m(\u001b[0m\u001b[0ma\u001b[0m\u001b[0;34m,\u001b[0m \u001b[0mnn\u001b[0m\u001b[0;34m,\u001b[0m \u001b[0mit\u001b[0m\u001b[0;34m)\u001b[0m\u001b[0;34m\u001b[0m\u001b[0;34m\u001b[0m\u001b[0m\n\u001b[0m\u001b[1;32m     17\u001b[0m             \u001b[0mans\u001b[0m \u001b[0;34m=\u001b[0m \u001b[0;36m1.\u001b[0m\u001b[0;34m/\u001b[0m\u001b[0ma\u001b[0m\u001b[0;34m\u001b[0m\u001b[0;34m\u001b[0m\u001b[0m\n\u001b[1;32m     18\u001b[0m             \u001b[0mrerr\u001b[0m \u001b[0;34m=\u001b[0m \u001b[0;34m(\u001b[0m\u001b[0mans\u001b[0m \u001b[0;34m-\u001b[0m \u001b[0mguess\u001b[0m\u001b[0;34m)\u001b[0m\u001b[0;34m/\u001b[0m\u001b[0mans\u001b[0m\u001b[0;34m\u001b[0m\u001b[0;34m\u001b[0m\u001b[0m\n",
      "\u001b[0;31mNameError\u001b[0m: name 'newton_method' is not defined"
     ]
    }
   ],
   "source": [
    "def newton_raphson_method(a, number=1e-6, n_iters = 70):\n",
    "    for i in range(n_iters): \n",
    "        number = number*(2-a*number)\n",
    "    return number\n",
    "\n",
    "\n",
    "arr1 = np.arange(-5,10)\n",
    "arr2 = np.array([1e-10, 1e-9, 1e-8, 1e-7, 1e-6, 1e-5, 1e-4, 1e-3])\n",
    "arr3 = np.array([10, 15, 20, 25, 30, 35, 40, 45, 50, 55, 60])\n",
    "rerr_map = np.zeros((len(arr1), len(arr2), len(arr3)))\n",
    "aerr_map = np.zeros((len(arr1), len(arr2), len(arr3)))\n",
    "\n",
    "for i, a in enumerate(10.**arr1):\n",
    "    for j, nn in enumerate(arr2):\n",
    "        for k, it in enumerate(arr3):\n",
    "            guess = newton_raphson_method(a, nn, it)\n",
    "            ans = 1./a\n",
    "            rerr = (ans - guess)/ans\n",
    "            aerr = ans - guess\n",
    "            rerr_map[i,j,k] = rerr\n",
    "            aerr_map[i,j,k] = aerr\n",
    "\n",
    "fig, axs = plt.subplots(2,4, sharex=True, sharey=True)\n",
    "fig.set_size_inches(12, 8)\n",
    "axs = axs.ravel()\n",
    "for i, ax in enumerate(axs):\n",
    "    cb = ax.imshow(rerr_map[:,i,:], vmax=1, vmin=0)\n",
    "    ax.set_title(f\"I.G.={arr2[i]:.1E}\")\n",
    "\n",
    "axs = axs.reshape(2,4)\n",
    "\n",
    "for ax in axs[:,0]:\n",
    "    ax.set_ylabel(\"dividend (10**X)\")\n",
    "    ind = np.arange(0, len(arr1), 2)\n",
    "    ax.set_yticks(ind, labels=arr1[ind])\n",
    "\n",
    "for ax in axs[1,:]:\n",
    "    ax.set_xlabel(\"# iter\")\n",
    "    ind = np.arange(0, len(arr3), 2)\n",
    "    ax.set_xticks(ind, labels=arr3[ind])\n",
    "\n",
    "fig.suptitle(\"Error map\")\n",
    "plt.tight_layout()\n",
    "\n",
    "cbaxes = axs[-1,-1].inset_axes([0.1, 0.1, 0.8, 0.15])\n",
    "cbaxes.set_title(\"error\")\n",
    "fig.colorbar(cb, cax=cbaxes, orientation=\"horizontal\")\n",
    "plt.savefig(\"Newton-Raphson_Error_maps.png\")\n",
    "\n",
    "plt.show()"
   ]
  },
  {
   "cell_type": "code",
   "execution_count": null,
   "id": "469b2e6f",
   "metadata": {},
   "outputs": [],
   "source": []
  }
 ],
 "metadata": {
  "kernelspec": {
   "display_name": "Python 3 (ipykernel)",
   "language": "python",
   "name": "python3"
  },
  "language_info": {
   "codemirror_mode": {
    "name": "ipython",
    "version": 3
   },
   "file_extension": ".py",
   "mimetype": "text/x-python",
   "name": "python",
   "nbconvert_exporter": "python",
   "pygments_lexer": "ipython3",
   "version": "3.9.7"
  }
 },
 "nbformat": 4,
 "nbformat_minor": 5
}
