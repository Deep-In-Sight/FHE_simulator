{
 "cells": [
  {
   "cell_type": "code",
   "execution_count": 1,
   "id": "d245cbd6",
   "metadata": {},
   "outputs": [],
   "source": [
    "import numpy as np\n",
    "import matplotlib.pyplot as plt "
   ]
  },
  {
   "cell_type": "markdown",
   "id": "b5077244",
   "metadata": {},
   "source": [
    "# Division by Newton-Raphson method\n",
    "- initial guess\n",
    "- number of iteration"
   ]
  },
  {
   "cell_type": "code",
   "execution_count": 3,
   "id": "5ad98cf2",
   "metadata": {},
   "outputs": [
    {
     "name": "stderr",
     "output_type": "stream",
     "text": [
      "/tmp/ipykernel_11933/3659336559.py:3: RuntimeWarning: overflow encountered in double_scalars\n",
      "  number = number*(2-a*number)\n"
     ]
    },
    {
     "data": {
      "image/png": "[encoded data removed]",
      "text/plain": [
       "<Figure size 864x576 with 8 Axes>"
      ]
     },
     "metadata": {
      "needs_background": "light"
     },
     "output_type": "display_data"
    }
   ],
   "source": [
    "def newton_raphson_method(a, number=1e-6, n_iters = 70):\n",
    "    for i in range(n_iters): \n",
    "        number = number*(2-a*number)\n",
    "    return number\n",
    "\n",
    "\n",
    "arr1 = np.arange(-5,10)\n",
    "arr2 = np.array([1e-10, 1e-9, 1e-8, 1e-7, 1e-6, 1e-5, 1e-4, 1e-3])\n",
    "arr3 = np.array([10, 15, 20, 25, 30, 35, 40, 45, 50, 55, 60])\n",
    "rerr_map = np.zeros((len(arr1), len(arr2), len(arr3)))\n",
    "aerr_map = np.zeros((len(arr1), len(arr2), len(arr3)))\n",
    "\n",
    "for i, a in enumerate(10.**arr1):\n",
    "    for j, nn in enumerate(arr2):\n",
    "        for k, it in enumerate(arr3):\n",
    "            guess = newton_raphson_method(a, nn, it)\n",
    "            ans = 1./a\n",
    "            rerr = (ans - guess)/ans\n",
    "            aerr = ans - guess\n",
    "            rerr_map[i,j,k] = rerr\n",
    "            aerr_map[i,j,k] = aerr\n",
    "\n",
    "fig, axs = plt.subplots(2,4, sharex=True, sharey=True)\n",
    "fig.set_size_inches(12, 8)\n",
    "axs = axs.ravel()\n",
    "for i, ax in enumerate(axs):\n",
    "    cb = ax.imshow(rerr_map[:,i,:], vmax=1, vmin=0)\n",
    "    ax.set_title(f\"I.G.={arr2[i]:.1E}\")\n",
    "\n",
    "axs = axs.reshape(2,4)\n",
    "\n",
    "for ax in axs[:,0]:\n",
    "    ax.set_ylabel(\"dividend (10**X)\")\n",
    "    ind = np.arange(0, len(arr1), 2)\n",
    "    ax.set_yticks(ind, labels=arr1[ind])\n",
    "\n",
    "for ax in axs[1,:]:\n",
    "    ax.set_xlabel(\"# iter\")\n",
    "    ind = np.arange(0, len(arr3), 2)\n",
    "    ax.set_xticks(ind, labels=arr3[ind])\n",
    "\n",
    "fig.suptitle(\"Error map\")\n",
    "plt.tight_layout()\n",
    "\n",
    "cbaxes = axs[-1,-1].inset_axes([0.1, 0.1, 0.8, 0.15])\n",
    "cbaxes.set_title(\"error\")\n",
    "fig.colorbar(cb, cax=cbaxes, orientation=\"horizontal\")\n",
    "plt.savefig(\"Newton-Raphson_Error_maps.png\")\n",
    "\n",
    "plt.show()"
   ]
  },
  {
   "cell_type": "markdown",
   "id": "b370b737",
   "metadata": {},
   "source": [
    "# sign function\n",
    "## Cheon ... \n",
    "\n",
    "### error\n",
    "\n",
    "$ \\vert f_n^{(d)} - sgn(x) \\vert \\leq 2^{-\\alpha} $, when d and $\\alpha$ statisfies the following relation.  \n",
    "<Theorem 1>\n",
    "ddf\n",
    "dsd\n",
    "\n",
    "\n"
   ]
  },
  {
   "cell_type": "code",
   "execution_count": 1,
   "id": "6a950e47",
   "metadata": {},
   "outputs": [],
   "source": [
    "# Calculate error bound "
   ]
  },
  {
   "cell_type": "code",
   "execution_count": null,
   "id": "a42686cc",
   "metadata": {},
   "outputs": [],
   "source": [
    "# approximate sign function \n",
    "\n"
   ]
  },
  {
   "cell_type": "code",
   "execution_count": 8,
   "id": "6e6069ca",
   "metadata": {},
   "outputs": [
    {
     "data": {
      "text/plain": [
       "1597463174"
      ]
     },
     "execution_count": 8,
     "metadata": {},
     "output_type": "execute_result"
    }
   ],
   "source": [
    "0x5f375a86 "
   ]
  },
  {
   "cell_type": "markdown",
   "id": "afcddd28",
   "metadata": {},
   "source": [
    "# SQRT\n",
    "\n",
    "https://en.wikipedia.org/wiki/Methods_of_computing_square_roots#Iterative_methods_for_reciprocal_square_roots\n",
    "\n",
    "First find the reciprocal root, $ \\frac{1}{\\sqrt{x}} $, then $\\sqrt{x} = x \\cdot \\frac{1}{\\sqrt{x}} $. \n",
    "\n",
    "This method converges only when started from a **good** initial guess"
   ]
  },
  {
   "cell_type": "markdown",
   "id": "d4dcbb0a",
   "metadata": {},
   "source": [
    "## Newton's method \n",
    "https://amsi.org.au/ESA_Senior_Years/SeniorTopic3/3j/3j_2content_2.html#:~:text=Newton's%20method%20for%20solving%20equations,requires%20calculus%2C%20in%20particular%20differentiation.\n",
    "\n",
    "$ x_{n+1} = x_n - \\frac{f(x_n)}{f^\\prime(x_n)}$"
   ]
  },
  {
   "cell_type": "markdown",
   "id": "444638ff",
   "metadata": {},
   "source": [
    "### And example \n",
    "\n",
    "find $\\sqrt(2)$ by finding the root of $f(x) = x^2 - 2 = 0$"
   ]
  },
  {
   "cell_type": "code",
   "execution_count": 7,
   "id": "549ecf72",
   "metadata": {},
   "outputs": [
    {
     "name": "stdout",
     "output_type": "stream",
     "text": [
      "0 1.8333333333333333\n",
      "1 1.4621212121212122\n",
      "2 1.4149984298948028\n",
      "3 1.4142137800471977\n",
      "4 1.4142135623731118\n",
      "5 1.414213562373095\n",
      "6 1.4142135623730951\n",
      "7 1.414213562373095\n",
      "8 1.4142135623730951\n",
      "9 1.414213562373095\n"
     ]
    }
   ],
   "source": [
    "f_x = lambda x : x**2 -2\n",
    "f_p_x = lambda x : 2*x\n",
    "\n",
    "val = 3\n",
    "for i in range(10):\n",
    "    val = val - f_x(val)/f_p_x(val)\n",
    "    print(i, val)"
   ]
  },
  {
   "cell_type": "markdown",
   "id": "6c0bdb1d",
   "metadata": {},
   "source": [
    "... -> https://github.com/pandasamanvaya/Pivot-tangent/blob/main/inv_sqr_comp/inv_sqrt_comp.cpp  \n",
    "\n",
    "requires: SEAL, numpy (c++ lib)\n",
    "\n"
   ]
  },
  {
   "cell_type": "code",
   "execution_count": null,
   "id": "f4df02a0",
   "metadata": {},
   "outputs": [],
   "source": []
  }
 ],
 "metadata": {
  "kernelspec": {
   "display_name": "Python 3 (ipykernel)",
   "language": "python",
   "name": "python3"
  },
  "language_info": {
   "codemirror_mode": {
    "name": "ipython",
    "version": 3
   },
   "file_extension": ".py",
   "mimetype": "text/x-python",
   "name": "python",
   "nbconvert_exporter": "python",
   "pygments_lexer": "ipython3",
   "version": "3.9.7"
  }
 },
 "nbformat": 4,
 "nbformat_minor": 5
}
