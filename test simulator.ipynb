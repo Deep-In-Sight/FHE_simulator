{
 "cells": [
  {
   "cell_type": "code",
   "execution_count": 1,
   "id": "44176f8c",
   "metadata": {},
   "outputs": [],
   "source": [
    "%load_ext autoreload\n",
    "%autoreload 2"
   ]
  },
  {
   "cell_type": "code",
   "execution_count": 2,
   "id": "4b1ca51a",
   "metadata": {},
   "outputs": [],
   "source": [
    "import numpy as np\n",
    "from cipher import Ring, Parameters, Context \n",
    "from scheme import Evaluator, Encryptor, Decryptor"
   ]
  },
  {
   "cell_type": "code",
   "execution_count": 4,
   "id": "4c8a16db",
   "metadata": {},
   "outputs": [],
   "source": [
    "myring = Ring(seed=1234)\n",
    "parms = Parameters(logp = 30, logq = 150, logn = 12)\n",
    "context = Context(parms, myring)\n",
    "\n",
    "sk = context.generate_secret_key()"
   ]
  },
  {
   "cell_type": "code",
   "execution_count": 5,
   "id": "65211a6b",
   "metadata": {},
   "outputs": [
    {
     "data": {
      "text/plain": [
       " logp: 30\n",
       " logq: 150 \n",
       " logn: 12"
      ]
     },
     "execution_count": 5,
     "metadata": {},
     "output_type": "execute_result"
    }
   ],
   "source": [
    "context.params"
   ]
  },
  {
   "cell_type": "code",
   "execution_count": 18,
   "id": "1288d97a",
   "metadata": {},
   "outputs": [],
   "source": [
    "keys = {\"mult\":'hihi',\n",
    "        \"rot\":{'1':'hi1',\n",
    "               '2':'hi2',\n",
    "               '4':'hi4',\n",
    "               '8':'hi8'}}\n",
    "\n",
    "evalu = Evaluator(keys)\n",
    "encryptor = Encryptor(context)\n",
    "\n",
    "decryptor = Decryptor(sk)\n",
    "\n",
    "ctxt = encryptor.encrypt(np.array([1,2,3,4,5,6,7,8]))"
   ]
  },
  {
   "cell_type": "code",
   "execution_count": 7,
   "id": "6a0977bc",
   "metadata": {},
   "outputs": [
    {
     "data": {
      "text/plain": [
       "You can't read the content"
      ]
     },
     "execution_count": 7,
     "metadata": {},
     "output_type": "execute_result"
    }
   ],
   "source": [
    "ctxt"
   ]
  },
  {
   "cell_type": "code",
   "execution_count": 8,
   "id": "6b2f00ad",
   "metadata": {},
   "outputs": [],
   "source": [
    "# you need to decrypt ctxt to view the data\n",
    "decrypted = decryptor.decrypt(ctxt)"
   ]
  },
  {
   "cell_type": "code",
   "execution_count": null,
   "id": "9cd49a48",
   "metadata": {},
   "outputs": [],
   "source": []
  },
  {
   "cell_type": "code",
   "execution_count": 26,
   "id": "f6b7394a",
   "metadata": {},
   "outputs": [
    {
     "name": "stdout",
     "output_type": "stream",
     "text": [
      "[1 2 3 4]\n",
      "[4 5 6 7]\n"
     ]
    }
   ],
   "source": [
    "ctxt1 = encryptor.encrypt([1,2,3,4])\n",
    "ctxt2 = encryptor.encrypt([4,5,6,7])\n",
    "\n",
    "print(decryptor.decrypt(ctxt1))\n",
    "print(decryptor.decrypt(ctxt2))\n",
    "\n",
    "new_ctxt = evalu.add(ctxt1, ctxt2, inplace=False)"
   ]
  },
  {
   "cell_type": "code",
   "execution_count": 24,
   "id": "1c707177",
   "metadata": {},
   "outputs": [
    {
     "data": {
      "text/plain": [
       "array([13, 17, 21, 25])"
      ]
     },
     "execution_count": 24,
     "metadata": {},
     "output_type": "execute_result"
    }
   ],
   "source": [
    "new_ctxt._arr"
   ]
  },
  {
   "cell_type": "code",
   "execution_count": 42,
   "id": "975fca35",
   "metadata": {},
   "outputs": [],
   "source": [
    "from ciphertext import CiphertextStat"
   ]
  },
  {
   "cell_type": "code",
   "execution_count": 46,
   "id": "38ddcdad",
   "metadata": {},
   "outputs": [],
   "source": [
    "ctxt = CiphertextStat(30, 120, 12)"
   ]
  },
  {
   "cell_type": "code",
   "execution_count": null,
   "id": "17cf1b21",
   "metadata": {},
   "outputs": [],
   "source": []
  },
  {
   "cell_type": "code",
   "execution_count": null,
   "id": "5bbf9786",
   "metadata": {},
   "outputs": [],
   "source": []
  },
  {
   "cell_type": "markdown",
   "id": "0de114eb",
   "metadata": {},
   "source": [
    "## Wrong SK"
   ]
  },
  {
   "cell_type": "code",
   "execution_count": 25,
   "id": "335c2d74",
   "metadata": {},
   "outputs": [
    {
     "ename": "ValueError",
     "evalue": "You have a wrong secret key",
     "output_type": "error",
     "traceback": [
      "\u001b[0;31m---------------------------------------------------------------------------\u001b[0m",
      "\u001b[0;31mValueError\u001b[0m                                Traceback (most recent call last)",
      "\u001b[0;32m/tmp/ipykernel_39112/2208258352.py\u001b[0m in \u001b[0;36m<module>\u001b[0;34m\u001b[0m\n\u001b[1;32m      2\u001b[0m \u001b[0mwrong_decryptor\u001b[0m \u001b[0;34m=\u001b[0m \u001b[0mDecryptor\u001b[0m\u001b[0;34m(\u001b[0m\u001b[0manother_sk\u001b[0m\u001b[0;34m)\u001b[0m\u001b[0;34m\u001b[0m\u001b[0;34m\u001b[0m\u001b[0m\n\u001b[1;32m      3\u001b[0m \u001b[0;34m\u001b[0m\u001b[0m\n\u001b[0;32m----> 4\u001b[0;31m \u001b[0mwrong_decryptor\u001b[0m\u001b[0;34m.\u001b[0m\u001b[0mdecrypt\u001b[0m\u001b[0;34m(\u001b[0m\u001b[0mctxt\u001b[0m\u001b[0;34m)\u001b[0m\u001b[0;34m\u001b[0m\u001b[0;34m\u001b[0m\u001b[0m\n\u001b[0m",
      "\u001b[0;32m~/Work/FHE/FHE_simulator/scheme.py\u001b[0m in \u001b[0;36mdecrypt\u001b[0;34m(self, ctxt)\u001b[0m\n\u001b[1;32m     41\u001b[0m             \u001b[0;32mreturn\u001b[0m \u001b[0mctxt\u001b[0m\u001b[0;34m.\u001b[0m\u001b[0m_arr\u001b[0m\u001b[0;34m\u001b[0m\u001b[0;34m\u001b[0m\u001b[0m\n\u001b[1;32m     42\u001b[0m         \u001b[0;32melse\u001b[0m\u001b[0;34m:\u001b[0m\u001b[0;34m\u001b[0m\u001b[0;34m\u001b[0m\u001b[0m\n\u001b[0;32m---> 43\u001b[0;31m             \u001b[0;32mraise\u001b[0m \u001b[0mValueError\u001b[0m\u001b[0;34m(\u001b[0m\u001b[0;34m\"You have a wrong secret key\"\u001b[0m\u001b[0;34m)\u001b[0m\u001b[0;34m\u001b[0m\u001b[0;34m\u001b[0m\u001b[0m\n\u001b[0m\u001b[1;32m     44\u001b[0m \u001b[0;34m\u001b[0m\u001b[0m\n\u001b[1;32m     45\u001b[0m \u001b[0;32mclass\u001b[0m \u001b[0mEvaluator\u001b[0m\u001b[0;34m(\u001b[0m\u001b[0;34m)\u001b[0m\u001b[0;34m:\u001b[0m\u001b[0;34m\u001b[0m\u001b[0;34m\u001b[0m\u001b[0m\n",
      "\u001b[0;31mValueError\u001b[0m: You have a wrong secret key"
     ]
    }
   ],
   "source": [
    "another_sk = sk +1\n",
    "wrong_decryptor = Decryptor(another_sk)\n",
    "\n",
    "wrong_decryptor.decrypt(ctxt)"
   ]
  },
  {
   "cell_type": "markdown",
   "id": "9daffdad",
   "metadata": {},
   "source": [
    "## ctxt as a return"
   ]
  },
  {
   "cell_type": "code",
   "execution_count": 17,
   "id": "be64a896",
   "metadata": {},
   "outputs": [],
   "source": [
    "ctxt1 = encryptor.encrypt([1,2,3,4])\n",
    "\n",
    "ctxt2 = encryptor.encrypt([4,5,6,7])"
   ]
  },
  {
   "cell_type": "code",
   "execution_count": 19,
   "id": "9da33038",
   "metadata": {},
   "outputs": [
    {
     "ename": "ValueError",
     "evalue": "too many values to unpack (expected 2)",
     "output_type": "error",
     "traceback": [
      "\u001b[0;31m---------------------------------------------------------------------------\u001b[0m",
      "\u001b[0;31mValueError\u001b[0m                                Traceback (most recent call last)",
      "\u001b[0;32m/tmp/ipykernel_9434/521921559.py\u001b[0m in \u001b[0;36m<module>\u001b[0;34m\u001b[0m\n\u001b[0;32m----> 1\u001b[0;31m \u001b[0mevalu\u001b[0m\u001b[0;34m.\u001b[0m\u001b[0madd\u001b[0m\u001b[0;34m(\u001b[0m\u001b[0mctxt1\u001b[0m\u001b[0;34m,\u001b[0m \u001b[0mctxt2\u001b[0m\u001b[0;34m)\u001b[0m\u001b[0;31m#, inplace=True)\u001b[0m\u001b[0;34m\u001b[0m\u001b[0;34m\u001b[0m\u001b[0m\n\u001b[0m",
      "\u001b[0;32m~/Work/FHE/FHE_simulator/scheme.py\u001b[0m in \u001b[0;36mfunc_wrapper\u001b[0;34m(*args, **kwargs)\u001b[0m\n\u001b[1;32m      7\u001b[0m \u001b[0;32mdef\u001b[0m \u001b[0mcheck_compatible\u001b[0m\u001b[0;34m(\u001b[0m\u001b[0mfunc\u001b[0m\u001b[0;34m)\u001b[0m\u001b[0;34m:\u001b[0m\u001b[0;34m\u001b[0m\u001b[0;34m\u001b[0m\u001b[0m\n\u001b[1;32m      8\u001b[0m     \u001b[0;32mdef\u001b[0m \u001b[0mfunc_wrapper\u001b[0m\u001b[0;34m(\u001b[0m\u001b[0;34m*\u001b[0m\u001b[0margs\u001b[0m\u001b[0;34m,\u001b[0m \u001b[0;34m**\u001b[0m\u001b[0mkwargs\u001b[0m\u001b[0;34m)\u001b[0m\u001b[0;34m:\u001b[0m\u001b[0;34m\u001b[0m\u001b[0;34m\u001b[0m\u001b[0m\n\u001b[0;32m----> 9\u001b[0;31m         \u001b[0mctxt1\u001b[0m\u001b[0;34m,\u001b[0m \u001b[0mctxt2\u001b[0m \u001b[0;34m=\u001b[0m \u001b[0margs\u001b[0m\u001b[0;34m\u001b[0m\u001b[0;34m\u001b[0m\u001b[0m\n\u001b[0m\u001b[1;32m     10\u001b[0m         \u001b[0;32mif\u001b[0m \u001b[0mctxt1\u001b[0m\u001b[0;34m.\u001b[0m\u001b[0mlogp\u001b[0m \u001b[0;34m==\u001b[0m \u001b[0mctxt2\u001b[0m\u001b[0;34m.\u001b[0m\u001b[0mlogp\u001b[0m\u001b[0;34m:\u001b[0m\u001b[0;34m\u001b[0m\u001b[0;34m\u001b[0m\u001b[0m\n\u001b[1;32m     11\u001b[0m             \u001b[0;32mreturn\u001b[0m \u001b[0mfunc\u001b[0m\u001b[0;34m(\u001b[0m\u001b[0;34m*\u001b[0m\u001b[0margs\u001b[0m\u001b[0;34m,\u001b[0m \u001b[0;34m**\u001b[0m\u001b[0mkwargs\u001b[0m\u001b[0;34m)\u001b[0m\u001b[0;34m.\u001b[0m\u001b[0mupper\u001b[0m\u001b[0;34m(\u001b[0m\u001b[0;34m)\u001b[0m\u001b[0;34m\u001b[0m\u001b[0;34m\u001b[0m\u001b[0m\n",
      "\u001b[0;31mValueError\u001b[0m: too many values to unpack (expected 2)"
     ]
    }
   ],
   "source": [
    "evalu.add(ctxt1, ctxt2, inplace=True)"
   ]
  },
  {
   "cell_type": "code",
   "execution_count": 60,
   "id": "dbd49010",
   "metadata": {},
   "outputs": [],
   "source": []
  }
 ],
 "metadata": {
  "kernelspec": {
   "display_name": "Python 3 (ipykernel)",
   "language": "python",
   "name": "python3"
  },
  "language_info": {
   "codemirror_mode": {
    "name": "ipython",
    "version": 3
   },
   "file_extension": ".py",
   "mimetype": "text/x-python",
   "name": "python",
   "nbconvert_exporter": "python",
   "pygments_lexer": "ipython3",
   "version": "3.9.0"
  }
 },
 "nbformat": 4,
 "nbformat_minor": 5
}
