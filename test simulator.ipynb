{
 "cells": [
  {
   "cell_type": "code",
   "execution_count": 1,
   "id": "44176f8c",
   "metadata": {},
   "outputs": [],
   "source": [
    "%load_ext autoreload\n",
    "%autoreload 2"
   ]
  },
  {
   "cell_type": "code",
   "execution_count": 7,
   "id": "4b1ca51a",
   "metadata": {},
   "outputs": [],
   "source": [
    "import numpy as np\n",
    "from cipher import Ring, Parameters, Context \n",
    "from scheme import Evaluator, Encryptor, Decryptor"
   ]
  },
  {
   "cell_type": "code",
   "execution_count": 8,
   "id": "4c8a16db",
   "metadata": {},
   "outputs": [],
   "source": [
    "myring = Ring(seed=1234)\n",
    "parms = Parameters()\n",
    "context = Context(parms, myring)\n",
    "\n",
    "sk = context.generate_secret_key()"
   ]
  },
  {
   "cell_type": "code",
   "execution_count": 9,
   "id": "1288d97a",
   "metadata": {},
   "outputs": [],
   "source": [
    "keys = {\"mult\":'hihi',\n",
    "        \"rot\":{'1':'hi1',\n",
    "               '2':'hi2',\n",
    "               '4':'hi4',\n",
    "               '8':'hi8'}}\n",
    "\n",
    "evalu = Evaluator(keys)\n",
    "encryptor = Encryptor(context.enc_key)\n",
    "\n",
    "decryptor = Decryptor(sk)\n",
    "\n",
    "ctxt = encryptor.encrypt(np.array([1,2,3,4,5,6,7,8]))"
   ]
  },
  {
   "cell_type": "code",
   "execution_count": 10,
   "id": "08c32acb",
   "metadata": {},
   "outputs": [
    {
     "data": {
      "text/plain": [
       "You can't read the content"
      ]
     },
     "execution_count": 10,
     "metadata": {},
     "output_type": "execute_result"
    }
   ],
   "source": [
    "ctxt"
   ]
  },
  {
   "cell_type": "code",
   "execution_count": 6,
   "id": "cde795a9",
   "metadata": {},
   "outputs": [
    {
     "data": {
      "text/plain": [
       "array([1, 2, 3, 4, 5, 6, 7, 8])"
      ]
     },
     "execution_count": 6,
     "metadata": {},
     "output_type": "execute_result"
    }
   ],
   "source": [
    "# you need to decrypt ctxt to view the data\n",
    "decryptor.decrypt(ctxt)"
   ]
  },
  {
   "cell_type": "markdown",
   "id": "0de114eb",
   "metadata": {},
   "source": [
    "## Wrong SK"
   ]
  },
  {
   "cell_type": "code",
   "execution_count": 7,
   "id": "335c2d74",
   "metadata": {},
   "outputs": [
    {
     "ename": "ValueError",
     "evalue": "You have a wrong secret key",
     "output_type": "error",
     "traceback": [
      "\u001b[0;31m---------------------------------------------------------------------------\u001b[0m",
      "\u001b[0;31mValueError\u001b[0m                                Traceback (most recent call last)",
      "\u001b[0;32m/tmp/ipykernel_12493/2208258352.py\u001b[0m in \u001b[0;36m<module>\u001b[0;34m\u001b[0m\n\u001b[1;32m      2\u001b[0m \u001b[0mwrong_decryptor\u001b[0m \u001b[0;34m=\u001b[0m \u001b[0mDecryptor\u001b[0m\u001b[0;34m(\u001b[0m\u001b[0manother_sk\u001b[0m\u001b[0;34m)\u001b[0m\u001b[0;34m\u001b[0m\u001b[0;34m\u001b[0m\u001b[0m\n\u001b[1;32m      3\u001b[0m \u001b[0;34m\u001b[0m\u001b[0m\n\u001b[0;32m----> 4\u001b[0;31m \u001b[0mwrong_decryptor\u001b[0m\u001b[0;34m.\u001b[0m\u001b[0mdecrypt\u001b[0m\u001b[0;34m(\u001b[0m\u001b[0mctxt\u001b[0m\u001b[0;34m)\u001b[0m\u001b[0;34m\u001b[0m\u001b[0;34m\u001b[0m\u001b[0m\n\u001b[0m",
      "\u001b[0;32m~/Work/FHE/FHE_simulator/cipher.py\u001b[0m in \u001b[0;36mdecrypt\u001b[0;34m(self, ctxt)\u001b[0m\n\u001b[1;32m    131\u001b[0m             \u001b[0;32mreturn\u001b[0m \u001b[0mctxt\u001b[0m\u001b[0;34m.\u001b[0m\u001b[0m_arr\u001b[0m\u001b[0;34m\u001b[0m\u001b[0;34m\u001b[0m\u001b[0m\n\u001b[1;32m    132\u001b[0m         \u001b[0;32melse\u001b[0m\u001b[0;34m:\u001b[0m\u001b[0;34m\u001b[0m\u001b[0;34m\u001b[0m\u001b[0m\n\u001b[0;32m--> 133\u001b[0;31m             \u001b[0;32mraise\u001b[0m \u001b[0mValueError\u001b[0m\u001b[0;34m(\u001b[0m\u001b[0;34m\"You have a wrong secret key\"\u001b[0m\u001b[0;34m)\u001b[0m\u001b[0;34m\u001b[0m\u001b[0;34m\u001b[0m\u001b[0m\n\u001b[0m\u001b[1;32m    134\u001b[0m \u001b[0;34m\u001b[0m\u001b[0m\n\u001b[1;32m    135\u001b[0m \u001b[0;32mclass\u001b[0m \u001b[0mEvaluator\u001b[0m\u001b[0;34m(\u001b[0m\u001b[0;34m)\u001b[0m\u001b[0;34m:\u001b[0m\u001b[0;34m\u001b[0m\u001b[0;34m\u001b[0m\u001b[0m\n",
      "\u001b[0;31mValueError\u001b[0m: You have a wrong secret key"
     ]
    }
   ],
   "source": [
    "another_sk = sk +1\n",
    "wrong_decryptor = Decryptor(another_sk)\n",
    "\n",
    "wrong_decryptor.decrypt(ctxt)"
   ]
  },
  {
   "cell_type": "markdown",
   "id": "9daffdad",
   "metadata": {},
   "source": [
    "## ctxt as a return"
   ]
  },
  {
   "cell_type": "code",
   "execution_count": 44,
   "id": "be64a896",
   "metadata": {},
   "outputs": [],
   "source": [
    "ctxt1 = encryptor.encrypt([1,2,3,4])\n",
    "\n",
    "ctxt2 = encryptor.encrypt([4,5,6,7])"
   ]
  },
  {
   "cell_type": "code",
   "execution_count": 9,
   "id": "89e33ded",
   "metadata": {},
   "outputs": [
    {
     "data": {
      "text/plain": [
       "You can't read the content"
      ]
     },
     "execution_count": 9,
     "metadata": {},
     "output_type": "execute_result"
    }
   ],
   "source": [
    "ctxt1"
   ]
  },
  {
   "cell_type": "code",
   "execution_count": 35,
   "id": "9da33038",
   "metadata": {},
   "outputs": [
    {
     "ename": "AttributeError",
     "evalue": "'Evaluator' object has no attribute 'add'",
     "output_type": "error",
     "traceback": [
      "\u001b[0;31m---------------------------------------------------------------------------\u001b[0m",
      "\u001b[0;31mAttributeError\u001b[0m                            Traceback (most recent call last)",
      "\u001b[0;32m/tmp/ipykernel_102823/3946668621.py\u001b[0m in \u001b[0;36m<module>\u001b[0;34m\u001b[0m\n\u001b[0;32m----> 1\u001b[0;31m \u001b[0mevalu\u001b[0m\u001b[0;34m.\u001b[0m\u001b[0madd\u001b[0m\u001b[0;34m(\u001b[0m\u001b[0mctxt1\u001b[0m\u001b[0;34m,\u001b[0m \u001b[0mctxt2\u001b[0m\u001b[0;34m,\u001b[0m \u001b[0minplace\u001b[0m\u001b[0;34m=\u001b[0m\u001b[0;32mTrue\u001b[0m\u001b[0;34m)\u001b[0m\u001b[0;34m\u001b[0m\u001b[0;34m\u001b[0m\u001b[0m\n\u001b[0m",
      "\u001b[0;31mAttributeError\u001b[0m: 'Evaluator' object has no attribute 'add'"
     ]
    }
   ],
   "source": [
    "evalu.add(ctxt1, ctxt2, inplace=True)"
   ]
  },
  {
   "cell_type": "code",
   "execution_count": 48,
   "id": "fdc0dbae",
   "metadata": {},
   "outputs": [
    {
     "ename": "AttributeError",
     "evalue": "'CiphertextStat' object has no attribute 'logp'",
     "output_type": "error",
     "traceback": [
      "\u001b[0;31m---------------------------------------------------------------------------\u001b[0m",
      "\u001b[0;31mAttributeError\u001b[0m                            Traceback (most recent call last)",
      "\u001b[0;32m/tmp/ipykernel_12493/1616393212.py\u001b[0m in \u001b[0;36m<module>\u001b[0;34m\u001b[0m\n\u001b[0;32m----> 1\u001b[0;31m \u001b[0mctxt1\u001b[0m\u001b[0;34m.\u001b[0m\u001b[0mlogp\u001b[0m\u001b[0;34m\u001b[0m\u001b[0;34m\u001b[0m\u001b[0m\n\u001b[0m",
      "\u001b[0;31mAttributeError\u001b[0m: 'CiphertextStat' object has no attribute 'logp'"
     ]
    }
   ],
   "source": [
    "ctxt1.logp"
   ]
  },
  {
   "cell_type": "code",
   "execution_count": 41,
   "id": "391eeb57",
   "metadata": {},
   "outputs": [],
   "source": [
    "def check_compatible(func):\n",
    "    def func_wrapper(*args, **kwargs):\n",
    "        ctxt1, ctxt2 = args\n",
    "        print(ctxt1._, ctxt2)\n",
    "        return func(*args, **kwargs).upper()\n",
    "    return func_wrapper"
   ]
  },
  {
   "cell_type": "code",
   "execution_count": 42,
   "id": "932a7d85",
   "metadata": {},
   "outputs": [],
   "source": [
    "@check_compatible\n",
    "def add(ctxt1, ctxt2):\n",
    "    print(ctxt1._arr + ctxt2._arr)    "
   ]
  },
  {
   "cell_type": "code",
   "execution_count": 43,
   "id": "5e2c948c",
   "metadata": {},
   "outputs": [
    {
     "name": "stdout",
     "output_type": "stream",
     "text": [
      "You can't read the content You can't read the content\n",
      "[1, 2, 3, 4, 4, 5, 6, 7]\n"
     ]
    },
    {
     "ename": "AttributeError",
     "evalue": "'NoneType' object has no attribute 'upper'",
     "output_type": "error",
     "traceback": [
      "\u001b[0;31m---------------------------------------------------------------------------\u001b[0m",
      "\u001b[0;31mAttributeError\u001b[0m                            Traceback (most recent call last)",
      "\u001b[0;32m/tmp/ipykernel_12493/3672412968.py\u001b[0m in \u001b[0;36m<module>\u001b[0;34m\u001b[0m\n\u001b[0;32m----> 1\u001b[0;31m \u001b[0madd\u001b[0m\u001b[0;34m(\u001b[0m\u001b[0mctxt1\u001b[0m\u001b[0;34m,\u001b[0m \u001b[0mctxt2\u001b[0m\u001b[0;34m)\u001b[0m\u001b[0;34m\u001b[0m\u001b[0;34m\u001b[0m\u001b[0m\n\u001b[0m",
      "\u001b[0;32m/tmp/ipykernel_12493/666717885.py\u001b[0m in \u001b[0;36mfunc_wrapper\u001b[0;34m(*args, **kwargs)\u001b[0m\n\u001b[1;32m      3\u001b[0m         \u001b[0mctxt1\u001b[0m\u001b[0;34m,\u001b[0m \u001b[0mctxt2\u001b[0m \u001b[0;34m=\u001b[0m \u001b[0margs\u001b[0m\u001b[0;34m\u001b[0m\u001b[0;34m\u001b[0m\u001b[0m\n\u001b[1;32m      4\u001b[0m         \u001b[0mprint\u001b[0m\u001b[0;34m(\u001b[0m\u001b[0mctxt1\u001b[0m\u001b[0;34m,\u001b[0m \u001b[0mctxt2\u001b[0m\u001b[0;34m)\u001b[0m\u001b[0;34m\u001b[0m\u001b[0;34m\u001b[0m\u001b[0m\n\u001b[0;32m----> 5\u001b[0;31m         \u001b[0;32mreturn\u001b[0m \u001b[0mfunc\u001b[0m\u001b[0;34m(\u001b[0m\u001b[0;34m*\u001b[0m\u001b[0margs\u001b[0m\u001b[0;34m,\u001b[0m \u001b[0;34m**\u001b[0m\u001b[0mkwargs\u001b[0m\u001b[0;34m)\u001b[0m\u001b[0;34m.\u001b[0m\u001b[0mupper\u001b[0m\u001b[0;34m(\u001b[0m\u001b[0;34m)\u001b[0m\u001b[0;34m\u001b[0m\u001b[0;34m\u001b[0m\u001b[0m\n\u001b[0m\u001b[1;32m      6\u001b[0m     \u001b[0;32mreturn\u001b[0m \u001b[0mfunc_wrapper\u001b[0m\u001b[0;34m\u001b[0m\u001b[0;34m\u001b[0m\u001b[0m\n",
      "\u001b[0;31mAttributeError\u001b[0m: 'NoneType' object has no attribute 'upper'"
     ]
    }
   ],
   "source": [
    "add(ctxt1, ctxt2)"
   ]
  },
  {
   "cell_type": "code",
   "execution_count": null,
   "id": "3402a0ee",
   "metadata": {},
   "outputs": [],
   "source": []
  },
  {
   "cell_type": "code",
   "execution_count": null,
   "id": "222590cd",
   "metadata": {},
   "outputs": [],
   "source": []
  },
  {
   "cell_type": "code",
   "execution_count": 35,
   "id": "3e81091a",
   "metadata": {},
   "outputs": [
    {
     "name": "stdout",
     "output_type": "stream",
     "text": [
      "SOLANKE, RAHMAN\n",
      "DOE, JOHN\n"
     ]
    }
   ],
   "source": [
    "def capitalize_names(func):\n",
    "    def func_wrapper(*args, **kwargs):\n",
    "        return func(*args, **kwargs).upper()\n",
    "    return func_wrapper\n",
    "\n",
    "@capitalize_names\n",
    "def get_fullname(firstname, lastname):\n",
    "    return \"{}, {}\".format(lastname, firstname)\n",
    "\n",
    "class Person:\n",
    "    def __init__(self):\n",
    "        self.firstname = \"John\"\n",
    "        self.lastname = \"Doe\"\n",
    "\n",
    "    @capitalize_names\n",
    "    def get_fullname(self):\n",
    "        return \"{}, {}\".format(self.lastname, self.firstname)\n",
    "\n",
    "print(get_fullname('Rahman', 'Solanke'))\n",
    "\n",
    "my_person = Person()\n",
    "print(my_person.get_fullname())"
   ]
  },
  {
   "cell_type": "code",
   "execution_count": 36,
   "id": "9f154b96",
   "metadata": {},
   "outputs": [
    {
     "data": {
      "text/plain": [
       "'ASDF'"
      ]
     },
     "execution_count": 36,
     "metadata": {},
     "output_type": "execute_result"
    }
   ],
   "source": [
    "\"asdf\".upper()"
   ]
  },
  {
   "cell_type": "code",
   "execution_count": null,
   "id": "e73598e3",
   "metadata": {},
   "outputs": [],
   "source": []
  }
 ],
 "metadata": {
  "kernelspec": {
   "display_name": "Python 3 (ipykernel)",
   "language": "python",
   "name": "python3"
  },
  "language_info": {
   "codemirror_mode": {
    "name": "ipython",
    "version": 3
   },
   "file_extension": ".py",
   "mimetype": "text/x-python",
   "name": "python",
   "nbconvert_exporter": "python",
   "pygments_lexer": "ipython3",
   "version": "3.9.0"
  }
 },
 "nbformat": 4,
 "nbformat_minor": 5
}
