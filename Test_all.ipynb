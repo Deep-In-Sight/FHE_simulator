{
 "cells": [
  {
   "cell_type": "code",
   "execution_count": 26,
   "id": "cb8f9b83",
   "metadata": {},
   "outputs": [
    {
     "name": "stdout",
     "output_type": "stream",
     "text": [
      "The autoreload extension is already loaded. To reload it, use:\n",
      "  %reload_ext autoreload\n"
     ]
    }
   ],
   "source": [
    "%load_ext autoreload\n",
    "%autoreload 2"
   ]
  },
  {
   "cell_type": "code",
   "execution_count": 27,
   "id": "1851a95e",
   "metadata": {},
   "outputs": [],
   "source": [
    "import numpy as np\n",
    "from cipher import Ring, Parameters, Context \n",
    "from scheme import Evaluator, Encryptor, Decryptor"
   ]
  },
  {
   "cell_type": "markdown",
   "id": "caeeb40b",
   "metadata": {},
   "source": [
    "## Context set up"
   ]
  },
  {
   "cell_type": "code",
   "execution_count": 28,
   "id": "03b03513",
   "metadata": {},
   "outputs": [
    {
     "name": "stdout",
     "output_type": "stream",
     "text": [
      " logp: 30\n",
      " logq: 150 \n",
      " logn: 12\n"
     ]
    }
   ],
   "source": [
    "myring = Ring(seed=1234)\n",
    "parms = Parameters(logp = 30, logq = 150, logn = 12)\n",
    "context = Context(parms, myring)\n",
    "\n",
    "sk = context.generate_secret_key()\n",
    "\n",
    "print(context.params)"
   ]
  },
  {
   "cell_type": "markdown",
   "id": "23864518",
   "metadata": {},
   "source": [
    "## Create Agents"
   ]
  },
  {
   "cell_type": "code",
   "execution_count": 32,
   "id": "61bd4b44",
   "metadata": {},
   "outputs": [],
   "source": [
    "keys = {\"mult\":context.generate_mult_key(),\n",
    "        \"rot\":{'1':'hi1',\n",
    "               '2':'hi2',\n",
    "               '4':'hi4',\n",
    "               '8':'hi8'}}\n",
    "\n",
    "evalu = Evaluator(keys)\n",
    "encryptor = Encryptor(context)\n",
    "\n",
    "decryptor = Decryptor(sk)"
   ]
  },
  {
   "cell_type": "markdown",
   "id": "0b51ee45",
   "metadata": {},
   "source": [
    "## Create a ctxt and attempt to print it \n",
    "Both ndarray and list are OK"
   ]
  },
  {
   "cell_type": "code",
   "execution_count": 34,
   "id": "4b2a87cf",
   "metadata": {},
   "outputs": [
    {
     "name": "stdout",
     "output_type": "stream",
     "text": [
      "You can't read the content\n"
     ]
    }
   ],
   "source": [
    "ctxt1 = encryptor.encrypt(np.array([1,2,3,4]))\n",
    "ctxt2 = encryptor.encrypt([2,3,3,5])\n",
    "print(ctxt1)"
   ]
  },
  {
   "cell_type": "markdown",
   "id": "f6290e70",
   "metadata": {},
   "source": [
    "#### You need to first decrypt it"
   ]
  },
  {
   "cell_type": "code",
   "execution_count": 35,
   "id": "89f1eb22",
   "metadata": {},
   "outputs": [
    {
     "name": "stdout",
     "output_type": "stream",
     "text": [
      "[2. 3. 3. ... 0. 0. 0.]\n"
     ]
    }
   ],
   "source": [
    "decrypted = decryptor.decrypt(ctxt2)\n",
    "print(decrypted)"
   ]
  },
  {
   "cell_type": "markdown",
   "id": "d228fbc4",
   "metadata": {},
   "source": [
    "## Addition"
   ]
  },
  {
   "cell_type": "code",
   "execution_count": 37,
   "id": "c93a42d7",
   "metadata": {},
   "outputs": [
    {
     "name": "stdout",
     "output_type": "stream",
     "text": [
      "[3. 5. 6. ... 0. 0. 0.]\n"
     ]
    }
   ],
   "source": [
    "new_ctxt = evalu.add(ctxt1, ctxt2, inplace=False)\n",
    "\n",
    "print(decryptor.decrypt(new_ctxt))"
   ]
  },
  {
   "cell_type": "markdown",
   "id": "8ca218c1",
   "metadata": {},
   "source": [
    "### Mult"
   ]
  },
  {
   "cell_type": "code",
   "execution_count": 38,
   "id": "52b71a2b",
   "metadata": {},
   "outputs": [
    {
     "name": "stdout",
     "output_type": "stream",
     "text": [
      "[2. 6. 9. ... 0. 0. 0.]\n",
      "[2. 6. 9. ... 0. 0. 0.]\n"
     ]
    }
   ],
   "source": [
    "ctxt3 = evalu.mult(ctxt1, ctxt2, inplace=False)\n",
    "\n",
    "print(decryptor.decrypt(ctxt3))\n",
    "\n",
    "evalu.mult(ctxt1, ctxt2, inplace=True)\n",
    "print(decryptor.decrypt(ctxt1))"
   ]
  },
  {
   "cell_type": "code",
   "execution_count": null,
   "id": "17dc5867",
   "metadata": {},
   "outputs": [],
   "source": []
  },
  {
   "cell_type": "code",
   "execution_count": null,
   "id": "85f2c73c",
   "metadata": {},
   "outputs": [],
   "source": []
  }
 ],
 "metadata": {
  "kernelspec": {
   "display_name": "Python 3 (ipykernel)",
   "language": "python",
   "name": "python3"
  },
  "language_info": {
   "codemirror_mode": {
    "name": "ipython",
    "version": 3
   },
   "file_extension": ".py",
   "mimetype": "text/x-python",
   "name": "python",
   "nbconvert_exporter": "python",
   "pygments_lexer": "ipython3",
   "version": "3.9.0"
  }
 },
 "nbformat": 4,
 "nbformat_minor": 5
}
