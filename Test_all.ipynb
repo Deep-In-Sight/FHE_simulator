{
 "cells": [
  {
   "cell_type": "code",
   "execution_count": 1,
   "id": "618b62ff",
   "metadata": {},
   "outputs": [],
   "source": [
    "%load_ext autoreload\n",
    "%autoreload 2"
   ]
  },
  {
   "cell_type": "code",
   "execution_count": 1,
   "id": "b73411d3",
   "metadata": {},
   "outputs": [],
   "source": [
    "import numpy as np\n",
    "from hemul.cipher import Ring, Parameters, Context \n",
    "from hemul.scheme import Evaluator, Encryptor, Decryptor, Encoder"
   ]
  },
  {
   "cell_type": "markdown",
   "id": "2c2cb92b",
   "metadata": {},
   "source": [
    "## Test configuration"
   ]
  },
  {
   "cell_type": "code",
   "execution_count": 2,
   "id": "f5d6a114",
   "metadata": {},
   "outputs": [],
   "source": [
    "abs_tol = 1e-5 # error tolerance"
   ]
  },
  {
   "cell_type": "markdown",
   "id": "055aba41",
   "metadata": {},
   "source": [
    "## Context set up"
   ]
  },
  {
   "cell_type": "code",
   "execution_count": 3,
   "id": "f8bc5e61",
   "metadata": {},
   "outputs": [
    {
     "name": "stdout",
     "output_type": "stream",
     "text": [
      " logp: 30\n",
      " logq: 150 \n",
      " logn: 12\n"
     ]
    }
   ],
   "source": [
    "myring = Ring(seed=1234)\n",
    "parms = Parameters(logp = 30, logq = 150, logn = 12)\n",
    "context = Context(parms, myring)\n",
    "\n",
    "sk = context.generate_secret_key()\n",
    "\n",
    "print(context.params)"
   ]
  },
  {
   "cell_type": "markdown",
   "id": "63a8a1c4",
   "metadata": {},
   "source": [
    "## Create Agents"
   ]
  },
  {
   "cell_type": "code",
   "execution_count": 4,
   "id": "4cf82ec5",
   "metadata": {},
   "outputs": [],
   "source": [
    "keys = {\"mult\":context.generate_mult_key(),\n",
    "        \"rot\":{'1':'hi1',\n",
    "               '2':'hi2',\n",
    "               '4':'hi4',\n",
    "               '8':'hi8'}}\n",
    "\n",
    "ev = Evaluator(keys, context)\n",
    "encryptor = Encryptor(context)\n",
    "\n",
    "decryptor = Decryptor(sk)\n",
    "\n",
    "encoder = Encoder(context)"
   ]
  },
  {
   "cell_type": "markdown",
   "id": "6a35e218",
   "metadata": {},
   "source": [
    "## Create a ctxt and attempt to print it \n",
    "Both ndarray and list are OK"
   ]
  },
  {
   "cell_type": "code",
   "execution_count": 5,
   "id": "fb47d593",
   "metadata": {},
   "outputs": [
    {
     "name": "stdout",
     "output_type": "stream",
     "text": [
      "You can't read the content\n"
     ]
    }
   ],
   "source": [
    "ctxt1 = encryptor.encrypt(np.array([1,2,3,4]))\n",
    "ctxt2 = encryptor.encrypt([2,3,3,5])\n",
    "print(ctxt1)"
   ]
  },
  {
   "cell_type": "markdown",
   "id": "ee8ef03d",
   "metadata": {},
   "source": [
    "#### You need to first decrypt it"
   ]
  },
  {
   "cell_type": "code",
   "execution_count": 6,
   "id": "b9ebd491",
   "metadata": {},
   "outputs": [
    {
     "name": "stdout",
     "output_type": "stream",
     "text": [
      "[2. 3. 3. ... 0. 0. 0.]\n"
     ]
    }
   ],
   "source": [
    "decrypted = decryptor.decrypt(ctxt2)\n",
    "print(decrypted)"
   ]
  },
  {
   "cell_type": "markdown",
   "id": "f38c4e95",
   "metadata": {},
   "source": [
    "## Addition"
   ]
  },
  {
   "cell_type": "code",
   "execution_count": 7,
   "id": "e4cb47df",
   "metadata": {},
   "outputs": [
    {
     "name": "stdout",
     "output_type": "stream",
     "text": [
      "[3. 5. 6. ... 0. 0. 0.]\n"
     ]
    }
   ],
   "source": [
    "new_ctxt = ev.add(ctxt1, ctxt2, inplace=False)\n",
    "\n",
    "print(decryptor.decrypt(new_ctxt))"
   ]
  },
  {
   "cell_type": "markdown",
   "id": "982f46b8",
   "metadata": {},
   "source": [
    "### Mult"
   ]
  },
  {
   "cell_type": "code",
   "execution_count": 8,
   "id": "b4456217",
   "metadata": {},
   "outputs": [
    {
     "name": "stdout",
     "output_type": "stream",
     "text": [
      "[2. 6. 9. ... 0. 0. 0.]\n",
      "[2. 6. 9. ... 0. 0. 0.]\n"
     ]
    }
   ],
   "source": [
    "ctxt3 = ev.mult(ctxt1, ctxt2, inplace=False)\n",
    "\n",
    "print(decryptor.decrypt(ctxt3))\n",
    "\n",
    "ev.mult(ctxt1, ctxt2, inplace=True)\n",
    "print(decryptor.decrypt(ctxt1))"
   ]
  },
  {
   "cell_type": "markdown",
   "id": "151d4e92",
   "metadata": {},
   "source": [
    "### mult by plain\n",
    "\n",
    "ptxt can be a\n",
    "1. scalar\n",
    "2. single-element sequence \n",
    "3. n_element-long sequence\n",
    "4. nslots-long sequence"
   ]
  },
  {
   "cell_type": "code",
   "execution_count": 9,
   "id": "cf29bb89-8776-40fe-9e36-2d58d24478ca",
   "metadata": {},
   "outputs": [],
   "source": [
    "ptxt = encoder.encode([5])\n",
    "ev.mult_by_plain(ctxt1, ptxt, inplace=True)"
   ]
  },
  {
   "cell_type": "code",
   "execution_count": 10,
   "id": "efe22e0a-e33c-47c7-a54e-4af300f9cf8a",
   "metadata": {},
   "outputs": [
    {
     "name": "stdout",
     "output_type": "stream",
     "text": [
      "[50.  0.  0. ...  0.  0.  0.]\n"
     ]
    }
   ],
   "source": [
    "ev.rescale_next(ctxt1) # match scale\n",
    "ev.mult_by_plain(ctxt1, ptxt, inplace=True)\n",
    "print(decryptor.decrypt(ctxt1))"
   ]
  },
  {
   "cell_type": "markdown",
   "id": "edf6c9ee",
   "metadata": {},
   "source": [
    "## Algorithms\n",
    "### sum"
   ]
  },
  {
   "cell_type": "code",
   "execution_count": 11,
   "id": "1586a999",
   "metadata": {},
   "outputs": [],
   "source": [
    "from hemul.algorithms import Algorithms \n",
    "algo = Algorithms(ev, encoder)\n",
    "\n",
    "summed = algo.sum_reduce(ctxt1, partial=False)\n",
    "\n",
    "_dec = decryptor.decrypt(summed) # if partial=True, only the first slot if valid.\n",
    "assert np.isclose(np.sum(ctxt1._arr), _dec[0], atol=abs_tol), \"Error!\""
   ]
  },
  {
   "cell_type": "markdown",
   "id": "72661433",
   "metadata": {},
   "source": [
    "from hemul.stats import Statistics\n",
    "hest = Statistics(ev, encoder)"
   ]
  },
  {
   "cell_type": "code",
   "execution_count": 14,
   "id": "750eec0b",
   "metadata": {},
   "outputs": [],
   "source": [
    "def sum_reduce(ctxt):\n",
    "    \"\"\"minimum sum\"\"\"\n",
    "    ctxt_ = ev.copy(ctxt)\n",
    "    for i in range(int(np.log2(len(ctxt)))):\n",
    "        tmp = ev.copy(ctxt_)\n",
    "        ev.lrot(tmp, 2**i, inplace=True)\n",
    "        ev.add(ctxt_, tmp, inplace=True)   \n",
    "    return ctxt_\n",
    "def mean(ctxt):\n",
    "    \"\"\"mean without error check\"\"\"\n",
    "    n = algo.encode_repeat(ctxt._n_elements)\n",
    "    summed = sum_reduce(ctxt)\n",
    "    return ev.div_by_plain(summed, n)\n",
    "def check(ctxt):\n",
    "    print(f\"Check scale: {ctxt.logp},  noise budget:{ctxt.logq}\")"
   ]
  },
  {
   "cell_type": "markdown",
   "id": "bc4e197a",
   "metadata": {},
   "source": [
    "일반코드 "
   ]
  },
  {
   "cell_type": "code",
   "execution_count": 15,
   "id": "5f3cd7d5-5148-40d1-b46d-d725e9820b63",
   "metadata": {},
   "outputs": [],
   "source": [
    "data = [1,2,3,4]"
   ]
  },
  {
   "cell_type": "code",
   "execution_count": 18,
   "id": "b708e585",
   "metadata": {},
   "outputs": [
    {
     "name": "stdout",
     "output_type": "stream",
     "text": [
      "1.25\n"
     ]
    }
   ],
   "source": [
    "m = np.mean(data)\n",
    "result = np.sum((data - m)*(data - m))/len(data)\n",
    "print(result)"
   ]
  },
  {
   "cell_type": "markdown",
   "id": "70dff9aa",
   "metadata": {},
   "source": [
    "동형암호버전\n",
    "\n",
    "\n",
    "HEAAN에서 바로 쓸 수 있도록 FASE로 다시 작성"
   ]
  },
  {
   "cell_type": "code",
   "execution_count": 20,
   "id": "dcbe9cce",
   "metadata": {},
   "outputs": [],
   "source": [
    "ctxt = encryptor.encrypt(data)\n",
    "\n",
    "\n",
    "ctxt_mean = mean(ctxt)\n",
    "ev.rescale_next(ctxt_mean)\n",
    "ctxt_mean = algo.put_mask(ctxt_mean, np.arange(ctxt._n_elements))\n",
    "ev.rescale_next(ctxt_mean)\n",
    "ev.mod_down_to(ctxt, ctxt_mean.logq)\n",
    "sub = ev.sub(ctxt, ctxt_mean)\n",
    "squared = ev.mult(sub, sub) # inplace=False\n",
    "ev.rescale_next(squared)\n",
    "summed_eq = sum_reduce(squared)\n",
    "\n",
    "n = encoder.encode([len(data)]*ctxt.nslots) \n",
    "res = ev.div_by_plain(summed_eq, n)"
   ]
  },
  {
   "cell_type": "code",
   "execution_count": 22,
   "id": "03573cc9",
   "metadata": {},
   "outputs": [
    {
     "data": {
      "text/plain": [
       "array([1.25, 1.25, 1.25, ..., 1.25, 1.25, 1.25])"
      ]
     },
     "execution_count": 22,
     "metadata": {},
     "output_type": "execute_result"
    }
   ],
   "source": [
    "decryptor.decrypt(res)"
   ]
  },
  {
   "cell_type": "code",
   "execution_count": 24,
   "id": "fc401284",
   "metadata": {},
   "outputs": [
    {
     "name": "stdout",
     "output_type": "stream",
     "text": [
      "Check scale: 60,  noise budget:150\n",
      "Check scale: 30,  noise budget:120\n",
      "Check scale: 60,  noise budget:120\n",
      "Check scale: 30,  noise budget:150\n",
      "Check scale: 30,  noise budget:90\n",
      "ctxt와 ctxt_mean의 logq (noise budget, level)을 맞춰주어야함\n",
      "Check scale: 30,  noise budget:90\n",
      "Check scale: 30,  noise budget:90\n",
      "Check scale: 30,  noise budget:90\n",
      "Check scale: 60,  noise budget:90\n",
      "Check scale: 30,  noise budget:60\n",
      "Check scale: 30,  noise budget:60\n",
      "Check scale: 60,  noise budget:60\n"
     ]
    }
   ],
   "source": [
    "# 스케일 (logp), noise budget(logq) 확인용\n",
    "ctxt = encryptor.encrypt(data)\n",
    "ctxt_mean = mean(ctxt)\n",
    "check(ctxt_mean)\n",
    "ev.rescale_next(ctxt_mean)\n",
    "check(ctxt_mean)\n",
    "ctxt_mean = algo.put_mask(ctxt_mean, np.arange(ctxt._n_elements))\n",
    "check(ctxt_mean)\n",
    "ev.rescale_next(ctxt_mean)\n",
    "check(ctxt)\n",
    "check(ctxt_mean)\n",
    "print(\"ctxt와 ctxt_mean의 logq (noise budget, level)을 맞춰주어야함\")\n",
    "ev.mod_down_to(ctxt, ctxt_mean.logq)\n",
    "check(ctxt)\n",
    "check(ctxt_mean)\n",
    "sub = ev.sub(ctxt, ctxt_mean)\n",
    "check(sub)\n",
    "squared = ev.mult(sub, sub) # inplace=False\n",
    "check(squared)\n",
    "ev.rescale_next(squared)\n",
    "check(squared)\n",
    "summed_eq = sum_reduce(squared)\n",
    "check(summed_eq)\n",
    "n = encoder.encode([len(data)]*ctxt.nslots) \n",
    "res = ev.div_by_plain(summed_eq, n)\n",
    "check(res)"
   ]
  },
  {
   "cell_type": "code",
   "execution_count": 69,
   "id": "a84496de-002b-4d45-92de-a375e59f5629",
   "metadata": {},
   "outputs": [
    {
     "data": {
      "text/plain": [
       "array([1.25, 1.25, 1.25, ..., 1.25, 1.25, 1.25])"
      ]
     },
     "execution_count": 69,
     "metadata": {},
     "output_type": "execute_result"
    }
   ],
   "source": [
    "decryptor.decrypt(res)"
   ]
  },
  {
   "cell_type": "code",
   "execution_count": 70,
   "id": "9cbe885b-636e-4a5d-9e48-db6f5a258d3d",
   "metadata": {},
   "outputs": [
    {
     "data": {
      "text/plain": [
       "1.25"
      ]
     },
     "execution_count": 70,
     "metadata": {},
     "output_type": "execute_result"
    }
   ],
   "source": [
    "np.var(data)"
   ]
  },
  {
   "cell_type": "markdown",
   "id": "a5d4de94",
   "metadata": {},
   "source": [
    "# RSB data\n",
    "\n",
    "분석 내용은 stats_fhe repository 참조"
   ]
  },
  {
   "cell_type": "code",
   "execution_count": 25,
   "id": "0292aa3a",
   "metadata": {},
   "outputs": [],
   "source": [
    "## 전체 중에 16384개만 사용\n",
    "nslots = 2**14 "
   ]
  },
  {
   "cell_type": "code",
   "execution_count": 27,
   "id": "7a5e7b89",
   "metadata": {},
   "outputs": [],
   "source": [
    "import csv\n",
    "import pandas as pd"
   ]
  },
  {
   "cell_type": "code",
   "execution_count": 28,
   "id": "eb6927c7",
   "metadata": {},
   "outputs": [],
   "source": [
    "\n",
    "fn = 'C:/Users/etri/Dropbox/Deepinsight/2022/2022FHE/방문연구/다운로드/통계청/2018년도 SBR(사업자등록번호 기준) 재현자료.csv'"
   ]
  },
  {
   "cell_type": "code",
   "execution_count": null,
   "id": "92a85a57",
   "metadata": {},
   "outputs": [],
   "source": []
  }
 ],
 "metadata": {
  "kernelspec": {
   "display_name": "Python 3.10.4 ('fhe')",
   "language": "python",
   "name": "python3"
  },
  "language_info": {
   "codemirror_mode": {
    "name": "ipython",
    "version": 3
   },
   "file_extension": ".py",
   "mimetype": "text/x-python",
   "name": "python",
   "nbconvert_exporter": "python",
   "pygments_lexer": "ipython3",
   "version": "3.10.4"
  },
  "vscode": {
   "interpreter": {
    "hash": "5075a704c0d3e9d28fc016097ccb4606b3aa41f4550d939e934d30fcf66246ef"
   }
  }
 },
 "nbformat": 4,
 "nbformat_minor": 5
}
