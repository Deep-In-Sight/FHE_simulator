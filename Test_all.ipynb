{
 "cells": [
  {
   "cell_type": "code",
   "execution_count": 1,
   "id": "618b62ff",
   "metadata": {},
   "outputs": [],
   "source": [
    "%load_ext autoreload\n",
    "%autoreload 2"
   ]
  },
  {
   "cell_type": "code",
   "execution_count": 2,
   "id": "b73411d3",
   "metadata": {},
   "outputs": [],
   "source": [
    "import numpy as np\n",
    "from cipher import Ring, Parameters, Context \n",
    "from scheme import Evaluator, Encryptor, Decryptor, Encoder"
   ]
  },
  {
   "cell_type": "markdown",
   "id": "2c2cb92b",
   "metadata": {},
   "source": [
    "## Test configuration"
   ]
  },
  {
   "cell_type": "code",
   "execution_count": 3,
   "id": "f5d6a114",
   "metadata": {},
   "outputs": [],
   "source": [
    "abs_tol = 1e-5 # error tolerance"
   ]
  },
  {
   "cell_type": "markdown",
   "id": "055aba41",
   "metadata": {},
   "source": [
    "## Context set up"
   ]
  },
  {
   "cell_type": "code",
   "execution_count": 4,
   "id": "f8bc5e61",
   "metadata": {},
   "outputs": [
    {
     "name": "stdout",
     "output_type": "stream",
     "text": [
      " logp: 30\n",
      " logq: 150 \n",
      " logn: 12\n"
     ]
    }
   ],
   "source": [
    "myring = Ring(seed=1234)\n",
    "parms = Parameters(logp = 30, logq = 150, logn = 12)\n",
    "context = Context(parms, myring)\n",
    "\n",
    "sk = context.generate_secret_key()\n",
    "\n",
    "print(context.params)"
   ]
  },
  {
   "cell_type": "markdown",
   "id": "63a8a1c4",
   "metadata": {},
   "source": [
    "## Create Agents"
   ]
  },
  {
   "cell_type": "code",
   "execution_count": 5,
   "id": "4cf82ec5",
   "metadata": {},
   "outputs": [],
   "source": [
    "keys = {\"mult\":context.generate_mult_key(),\n",
    "        \"rot\":{'1':'hi1',\n",
    "               '2':'hi2',\n",
    "               '4':'hi4',\n",
    "               '8':'hi8'}}\n",
    "\n",
    "ev = Evaluator(keys, context)\n",
    "encryptor = Encryptor(context)\n",
    "\n",
    "decryptor = Decryptor(sk)\n",
    "\n",
    "encoder = Encoder(context)"
   ]
  },
  {
   "cell_type": "markdown",
   "id": "6a35e218",
   "metadata": {},
   "source": [
    "## Create a ctxt and attempt to print it \n",
    "Both ndarray and list are OK"
   ]
  },
  {
   "cell_type": "code",
   "execution_count": 6,
   "id": "fb47d593",
   "metadata": {},
   "outputs": [
    {
     "name": "stdout",
     "output_type": "stream",
     "text": [
      "You can't read the content\n"
     ]
    }
   ],
   "source": [
    "ctxt1 = encryptor.encrypt(np.array([1,2,3,4]))\n",
    "ctxt2 = encryptor.encrypt([2,3,3,5])\n",
    "print(ctxt1)"
   ]
  },
  {
   "cell_type": "markdown",
   "id": "ee8ef03d",
   "metadata": {},
   "source": [
    "#### You need to first decrypt it"
   ]
  },
  {
   "cell_type": "code",
   "execution_count": 7,
   "id": "b9ebd491",
   "metadata": {},
   "outputs": [
    {
     "name": "stdout",
     "output_type": "stream",
     "text": [
      "[2. 3. 3. ... 0. 0. 0.]\n"
     ]
    }
   ],
   "source": [
    "decrypted = decryptor.decrypt(ctxt2)\n",
    "print(decrypted)"
   ]
  },
  {
   "cell_type": "markdown",
   "id": "f38c4e95",
   "metadata": {},
   "source": [
    "## Addition"
   ]
  },
  {
   "cell_type": "code",
   "execution_count": 8,
   "id": "e4cb47df",
   "metadata": {},
   "outputs": [
    {
     "name": "stdout",
     "output_type": "stream",
     "text": [
      "[3. 5. 6. ... 0. 0. 0.]\n"
     ]
    }
   ],
   "source": [
    "new_ctxt = ev.add(ctxt1, ctxt2, inplace=False)\n",
    "\n",
    "print(decryptor.decrypt(new_ctxt))"
   ]
  },
  {
   "cell_type": "markdown",
   "id": "982f46b8",
   "metadata": {},
   "source": [
    "### Mult"
   ]
  },
  {
   "cell_type": "code",
   "execution_count": 9,
   "id": "b4456217",
   "metadata": {},
   "outputs": [
    {
     "name": "stdout",
     "output_type": "stream",
     "text": [
      "[2. 6. 9. ... 0. 0. 0.]\n",
      "[2. 6. 9. ... 0. 0. 0.]\n"
     ]
    }
   ],
   "source": [
    "ctxt3 = ev.mult(ctxt1, ctxt2, inplace=False)\n",
    "\n",
    "print(decryptor.decrypt(ctxt3))\n",
    "\n",
    "ev.mult(ctxt1, ctxt2, inplace=True)\n",
    "print(decryptor.decrypt(ctxt1))"
   ]
  },
  {
   "cell_type": "markdown",
   "id": "151d4e92",
   "metadata": {},
   "source": [
    "### mult by plain\n",
    "\n",
    "ptxt can be a\n",
    "1. scalar\n",
    "2. single-element sequence \n",
    "3. n_element-long sequence\n",
    "4. nslots-long sequence"
   ]
  },
  {
   "cell_type": "code",
   "execution_count": 10,
   "id": "cf29bb89-8776-40fe-9e36-2d58d24478ca",
   "metadata": {},
   "outputs": [
    {
     "ename": "ScaleMisMatchError",
     "evalue": "Scales of Ctxts don't match",
     "output_type": "error",
     "traceback": [
      "\u001b[1;31m---------------------------------------------------------------------------\u001b[0m",
      "\u001b[1;31mScaleMisMatchError\u001b[0m                        Traceback (most recent call last)",
      "Input \u001b[1;32mIn [10]\u001b[0m, in \u001b[0;36m<cell line: 2>\u001b[1;34m()\u001b[0m\n\u001b[0;32m      1\u001b[0m ptxt \u001b[38;5;241m=\u001b[39m encoder\u001b[38;5;241m.\u001b[39mencode([\u001b[38;5;241m5\u001b[39m])\n\u001b[1;32m----> 2\u001b[0m \u001b[43mev\u001b[49m\u001b[38;5;241;43m.\u001b[39;49m\u001b[43mmult_by_plain\u001b[49m\u001b[43m(\u001b[49m\u001b[43mctxt1\u001b[49m\u001b[43m,\u001b[49m\u001b[43m \u001b[49m\u001b[43mptxt\u001b[49m\u001b[43m,\u001b[49m\u001b[43m \u001b[49m\u001b[43minplace\u001b[49m\u001b[38;5;241;43m=\u001b[39;49m\u001b[38;5;28;43;01mTrue\u001b[39;49;00m\u001b[43m)\u001b[49m\n",
      "File \u001b[1;32m~\\Documents\\GitHub\\FHE_simulator\\scheme.py:143\u001b[0m, in \u001b[0;36mEvaluator.mult_by_plain\u001b[1;34m(self, ctxt, ptxt, inplace)\u001b[0m\n\u001b[0;32m    141\u001b[0m \u001b[38;5;28;01massert\u001b[39;00m \u001b[38;5;28mself\u001b[39m\u001b[38;5;241m.\u001b[39mmultkey_hash \u001b[38;5;241m==\u001b[39m ctxt\u001b[38;5;241m.\u001b[39m_enckey_hash, \u001b[38;5;124m\"\u001b[39m\u001b[38;5;124mEval key and Enc keys don\u001b[39m\u001b[38;5;124m'\u001b[39m\u001b[38;5;124mt match\u001b[39m\u001b[38;5;124m\"\u001b[39m        \n\u001b[0;32m    142\u001b[0m \u001b[38;5;28;01mif\u001b[39;00m inplace:\n\u001b[1;32m--> 143\u001b[0m     ctxt\u001b[38;5;241m.\u001b[39m_arr \u001b[38;5;241m=\u001b[39m \u001b[38;5;28;43mself\u001b[39;49m\u001b[38;5;241;43m.\u001b[39;49m\u001b[43m_mult_by_plain\u001b[49m\u001b[43m(\u001b[49m\u001b[43mctxt\u001b[49m\u001b[43m,\u001b[49m\u001b[43m \u001b[49m\u001b[43mptxt\u001b[49m\u001b[43m)\u001b[49m\n\u001b[0;32m    144\u001b[0m     ctxt\u001b[38;5;241m.\u001b[39mlogp \u001b[38;5;241m+\u001b[39m\u001b[38;5;241m=\u001b[39m ptxt\u001b[38;5;241m.\u001b[39mlogp\n\u001b[0;32m    145\u001b[0m \u001b[38;5;28;01melse\u001b[39;00m:\n",
      "File \u001b[1;32m~\\Documents\\GitHub\\FHE_simulator\\utils.py:30\u001b[0m, in \u001b[0;36mcheck_compatible.<locals>.func_wrapper\u001b[1;34m(*args, **kwargs)\u001b[0m\n\u001b[0;32m     28\u001b[0m     \u001b[38;5;28;01mreturn\u001b[39;00m func(\u001b[38;5;241m*\u001b[39margs, \u001b[38;5;241m*\u001b[39m\u001b[38;5;241m*\u001b[39mkwargs)\n\u001b[0;32m     29\u001b[0m \u001b[38;5;28;01melse\u001b[39;00m:\n\u001b[1;32m---> 30\u001b[0m     \u001b[38;5;28;01mraise\u001b[39;00m ScaleMisMatchError\n",
      "\u001b[1;31mScaleMisMatchError\u001b[0m: Scales of Ctxts don't match"
     ]
    }
   ],
   "source": [
    "ptxt = encoder.encode([5])\n",
    "ev.mult_by_plain(ctxt1, ptxt, inplace=True)"
   ]
  },
  {
   "cell_type": "code",
   "execution_count": 11,
   "id": "cc3df74d-308c-4d68-b246-bc5296d88a10",
   "metadata": {},
   "outputs": [
    {
     "data": {
      "text/plain": [
       "150"
      ]
     },
     "execution_count": 11,
     "metadata": {},
     "output_type": "execute_result"
    }
   ],
   "source": [
    "context.logq"
   ]
  },
  {
   "cell_type": "code",
   "execution_count": 12,
   "id": "efe22e0a-e33c-47c7-a54e-4af300f9cf8a",
   "metadata": {},
   "outputs": [
    {
     "name": "stdout",
     "output_type": "stream",
     "text": [
      "[10.  0.  0. ...  0.  0.  0.]\n"
     ]
    }
   ],
   "source": [
    "ev.rescale_next(ctxt1) # match scale\n",
    "ev.mult_by_plain(ctxt1, ptxt, inplace=True)\n",
    "print(decryptor.decrypt(ctxt1))"
   ]
  },
  {
   "cell_type": "code",
   "execution_count": 13,
   "id": "f63eb983-98bd-47a4-aa81-9cd41f13e64e",
   "metadata": {},
   "outputs": [
    {
     "data": {
      "text/plain": [
       "120"
      ]
     },
     "execution_count": 13,
     "metadata": {},
     "output_type": "execute_result"
    }
   ],
   "source": [
    "context.logq"
   ]
  },
  {
   "cell_type": "code",
   "execution_count": null,
   "id": "d81cd502-6471-434e-9e54-3cd8960a76b1",
   "metadata": {},
   "outputs": [],
   "source": []
  },
  {
   "cell_type": "markdown",
   "id": "edf6c9ee",
   "metadata": {},
   "source": [
    "## Algorithms\n",
    "### sum"
   ]
  },
  {
   "cell_type": "code",
   "execution_count": 11,
   "id": "1586a999",
   "metadata": {},
   "outputs": [],
   "source": [
    "from algorithms import Algorithms \n",
    "algo = Algorithms(ev)\n",
    "\n",
    "summed = algo.sum_reduce(ctxt1, partial=False)\n",
    "\n",
    "_dec = decryptor.decrypt(summed) # if partial=True, only the first slot if valid.\n",
    "assert np.isclose(np.sum(ctxt1._arr), _dec[0], atol=abs_tol), \"Error!\""
   ]
  },
  {
   "cell_type": "code",
   "execution_count": null,
   "id": "72661433",
   "metadata": {},
   "outputs": [],
   "source": []
  },
  {
   "cell_type": "code",
   "execution_count": null,
   "id": "5058764a",
   "metadata": {},
   "outputs": [],
   "source": []
  }
 ],
 "metadata": {
  "kernelspec": {
   "display_name": "Python 3 (ipykernel)",
   "language": "python",
   "name": "python3"
  },
  "language_info": {
   "codemirror_mode": {
    "name": "ipython",
    "version": 3
   },
   "file_extension": ".py",
   "mimetype": "text/x-python",
   "name": "python",
   "nbconvert_exporter": "python",
   "pygments_lexer": "ipython3",
   "version": "3.9.12"
  }
 },
 "nbformat": 4,
 "nbformat_minor": 5
}
