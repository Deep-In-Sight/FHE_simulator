{
 "cells": [
  {
   "cell_type": "code",
   "execution_count": 1,
   "id": "618b62ff",
   "metadata": {},
   "outputs": [],
   "source": [
    "%load_ext autoreload\n",
    "%autoreload 2"
   ]
  },
  {
   "cell_type": "code",
   "execution_count": 2,
   "id": "b73411d3",
   "metadata": {},
   "outputs": [],
   "source": [
    "import numpy as np\n",
    "from cipher import Ring, Parameters, Context \n",
    "from scheme import Evaluator, Encryptor, Decryptor"
   ]
  },
  {
   "cell_type": "markdown",
   "id": "2c2cb92b",
   "metadata": {},
   "source": [
    "## Test configuration"
   ]
  },
  {
   "cell_type": "code",
   "execution_count": 3,
   "id": "f5d6a114",
   "metadata": {},
   "outputs": [],
   "source": [
    "abs_tol = 1e-5 # error tolerance"
   ]
  },
  {
   "cell_type": "markdown",
   "id": "055aba41",
   "metadata": {},
   "source": [
    "## Context set up"
   ]
  },
  {
   "cell_type": "code",
   "execution_count": 4,
   "id": "f8bc5e61",
   "metadata": {},
   "outputs": [
    {
     "name": "stdout",
     "output_type": "stream",
     "text": [
      " logp: 30\n",
      " logq: 150 \n",
      " logn: 12\n"
     ]
    }
   ],
   "source": [
    "myring = Ring(seed=1234)\n",
    "parms = Parameters(logp = 30, logq = 150, logn = 12)\n",
    "context = Context(parms, myring)\n",
    "\n",
    "sk = context.generate_secret_key()\n",
    "\n",
    "print(context.params)"
   ]
  },
  {
   "cell_type": "markdown",
   "id": "63a8a1c4",
   "metadata": {},
   "source": [
    "## Create Agents"
   ]
  },
  {
   "cell_type": "code",
   "execution_count": 5,
   "id": "4cf82ec5",
   "metadata": {},
   "outputs": [],
   "source": [
    "keys = {\"mult\":context.generate_mult_key(),\n",
    "        \"rot\":{'1':'hi1',\n",
    "               '2':'hi2',\n",
    "               '4':'hi4',\n",
    "               '8':'hi8'}}\n",
    "\n",
    "ev = Evaluator(keys)\n",
    "encryptor = Encryptor(context)\n",
    "\n",
    "decryptor = Decryptor(sk)"
   ]
  },
  {
   "cell_type": "markdown",
   "id": "6a35e218",
   "metadata": {},
   "source": [
    "## Create a ctxt and attempt to print it \n",
    "Both ndarray and list are OK"
   ]
  },
  {
   "cell_type": "code",
   "execution_count": 6,
   "id": "fb47d593",
   "metadata": {},
   "outputs": [
    {
     "name": "stdout",
     "output_type": "stream",
     "text": [
      "You can't read the content\n"
     ]
    }
   ],
   "source": [
    "ctxt1 = encryptor.encrypt(np.array([1,2,3,4]))\n",
    "ctxt2 = encryptor.encrypt([2,3,3,5])\n",
    "print(ctxt1)"
   ]
  },
  {
   "cell_type": "markdown",
   "id": "ee8ef03d",
   "metadata": {},
   "source": [
    "#### You need to first decrypt it"
   ]
  },
  {
   "cell_type": "code",
   "execution_count": 23,
   "id": "b9ebd491",
   "metadata": {},
   "outputs": [
    {
     "name": "stdout",
     "output_type": "stream",
     "text": [
      "[2. 3. 3. ... 0. 0. 0.]\n"
     ]
    }
   ],
   "source": [
    "decrypted = decryptor.decrypt(ctxt2)\n",
    "print(decrypted)"
   ]
  },
  {
   "cell_type": "markdown",
   "id": "f38c4e95",
   "metadata": {},
   "source": [
    "## Addition"
   ]
  },
  {
   "cell_type": "code",
   "execution_count": 24,
   "id": "e4cb47df",
   "metadata": {},
   "outputs": [
    {
     "name": "stdout",
     "output_type": "stream",
     "text": [
      "[3. 5. 6. ... 0. 0. 0.]\n"
     ]
    }
   ],
   "source": [
    "new_ctxt = ev.add(ctxt1, ctxt2, inplace=False)\n",
    "\n",
    "print(decryptor.decrypt(new_ctxt))"
   ]
  },
  {
   "cell_type": "markdown",
   "id": "982f46b8",
   "metadata": {},
   "source": [
    "### Mult"
   ]
  },
  {
   "cell_type": "code",
   "execution_count": 25,
   "id": "b4456217",
   "metadata": {},
   "outputs": [
    {
     "name": "stdout",
     "output_type": "stream",
     "text": [
      "[2. 6. 9. ... 0. 0. 0.]\n",
      "[2. 6. 9. ... 0. 0. 0.]\n"
     ]
    }
   ],
   "source": [
    "ctxt3 = ev.mult(ctxt1, ctxt2, inplace=False)\n",
    "\n",
    "print(decryptor.decrypt(ctxt3))\n",
    "\n",
    "evalu.mult(ctxt1, ctxt2, inplace=True)\n",
    "print(decryptor.decrypt(ctxt1))"
   ]
  },
  {
   "cell_type": "markdown",
   "id": "151d4e92",
   "metadata": {},
   "source": [
    "### mult by plain\n",
    "\n",
    "ptxt can be a\n",
    "1. scalar\n",
    "2. single-element sequence \n",
    "3. n_element-long sequence\n",
    "4. nslots-long sequence"
   ]
  },
  {
   "cell_type": "code",
   "execution_count": null,
   "id": "8fa33aee",
   "metadata": {},
   "outputs": [],
   "source": [
    "ev.mult_by_plain(ctxt1, 5, inplace=True)\n",
    "\n",
    "print(decryptor.decrypt(ctxt1))"
   ]
  },
  {
   "cell_type": "markdown",
   "id": "edf6c9ee",
   "metadata": {},
   "source": [
    "## Algorithms\n",
    "### sum"
   ]
  },
  {
   "cell_type": "code",
   "execution_count": 26,
   "id": "1586a999",
   "metadata": {},
   "outputs": [],
   "source": [
    "from algorithms import Algorithms \n",
    "algo = Algorithms(ev)\n",
    "\n",
    "summed = algo.fhe_sum(ctxt1, partial=False)\n",
    "\n",
    "_dec = decryptor.decrypt(summed) # if partial=True, only the first slot if valid.\n",
    "assert np.isclose(np.sum(ctxt1._arr), _dec[0], atol=abs_tol), \"Error!\""
   ]
  },
  {
   "cell_type": "code",
   "execution_count": null,
   "id": "72661433",
   "metadata": {},
   "outputs": [],
   "source": []
  },
  {
   "cell_type": "code",
   "execution_count": null,
   "id": "5058764a",
   "metadata": {},
   "outputs": [],
   "source": []
  }
 ],
 "metadata": {
  "kernelspec": {
   "display_name": "Python 3 (ipykernel)",
   "language": "python",
   "name": "python3"
  },
  "language_info": {
   "codemirror_mode": {
    "name": "ipython",
    "version": 3
   },
   "file_extension": ".py",
   "mimetype": "text/x-python",
   "name": "python",
   "nbconvert_exporter": "python",
   "pygments_lexer": "ipython3",
   "version": "3.9.7"
  }
 },
 "nbformat": 4,
 "nbformat_minor": 5
}
