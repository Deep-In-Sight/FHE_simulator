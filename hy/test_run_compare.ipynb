{
 "cells": [
  {
   "cell_type": "markdown",
   "id": "ab448f1a",
   "metadata": {},
   "source": [
    "# TorchConv vs. MultConv"
   ]
  },
  {
   "cell_type": "code",
   "execution_count": 5,
   "id": "6051c650",
   "metadata": {},
   "outputs": [
    {
     "name": "stdout",
     "output_type": "stream",
     "text": [
      "The autoreload extension is already loaded. To reload it, use:\n",
      "  %reload_ext autoreload\n"
     ]
    }
   ],
   "source": [
    "%load_ext autoreload\n",
    "%autoreload 2\n",
    "import matplotlib.pyplot as plt \n",
    "from hlee_run import *\n",
    "from hlee_utils import *"
   ]
  },
  {
   "cell_type": "code",
   "execution_count": 6,
   "id": "ae684d07",
   "metadata": {},
   "outputs": [],
   "source": [
    "co=4\n",
    "fp=f\"./models/simple_model_hlee_co{co}.pt\"\n",
    "\n",
    "#fp=\"./models/simple_model_hlee_co16.pt\"\n",
    "#fp=\"./models/simple_model_hlee.pt\""
   ]
  },
  {
   "cell_type": "code",
   "execution_count": 7,
   "id": "ee3900c8",
   "metadata": {
    "scrolled": false
   },
   "outputs": [
    {
     "name": "stdout",
     "output_type": "stream",
     "text": [
      "run torchconv\n",
      "4\n",
      "channel out : 4\n",
      "channel out : 4\n",
      "\n",
      "\n",
      "------------------Parameters--------------------\n",
      "\n",
      "hi,wi,ci (ki,ti) = 32,32,3 (2,1)\n",
      "ho,wo,co (ko,to) = 32,32,4 (2,1)\n",
      "fh,fw = 3,3\n",
      "nslots = 4096\n",
      "U_mpconv : (3, 3, 3, 4)\n",
      "#######################\n",
      "image dims = (32, 32, 3)\n",
      "image dims = (64, 64, 1)\n",
      "[[13. 28.  3.  8. 20. 33.  6. 15. 37. 50. 25. 31. 17. 27. 12. 23. 16. 22.\n",
      "   6. 12. 11. 34.  4.  6. 22. 26. 44. 47. 23. 23. 20. 30. 28. 44.  7. 21.\n",
      "   7.  9.  2. 10.  9.  9. 18. 22. 13. 19. 21. 25.  3.  7. 35. 35.  1.  1.\n",
      "  24. 34.  5. 16. 13. 25.  4.  1. 13. 23.]]\n",
      "[[[45.  0. 33. ...  0. 54.  0.]]\n",
      "\n",
      " [[34. 44. 17. ...  0.  2.  6.]]\n",
      "\n",
      " [[70.  0. 59. ...  0. 34.  0.]]\n",
      "\n",
      " ...\n",
      "\n",
      " [[69.  0. 64. ...  0. 45.  0.]]\n",
      "\n",
      " [[18. 38. 29. ... 56.  8. 22.]]\n",
      "\n",
      " [[66.  0. 64. ...  0. 60.  0.]]]\n",
      "[MultConv] (hi,wi,ci) =(32,32,3),(ho,wo,co)=(32,32,4),(fh,fw)=(3,3)\n",
      "[MultConv] (ki,ti) =(2,1), (ko,to) =(2,1)\n",
      "\n",
      "\n",
      "------------------START MultConv()--------------------\n",
      "\n",
      "[MultConv][(fh,fw) LOOP] rot [  130] #rotation_count = 1\n",
      "[MultConv][(fh,fw) LOOP] rot [  128] #rotation_count = 2\n",
      "[MultConv][(fh,fw) LOOP] rot [  126] #rotation_count = 3\n",
      "[MultConv][(fh,fw) LOOP] rot [    2] #rotation_count = 4\n",
      "[MultConv][(fh,fw) LOOP] rot [    0] #rotation_count = 4\n",
      "[MultConv][(fh,fw) LOOP] rot [   -2] #rotation_count = 5\n",
      "[MultConv][(fh,fw) LOOP] rot [ -126] #rotation_count = 6\n",
      "[MultConv][(fh,fw) LOOP] rot [ -128] #rotation_count = 7\n",
      "[MultConv][(fh,fw) LOOP] rot [ -130] #rotation_count = 8\n",
      "nrows = 3\n",
      "ncols = 3\n",
      "depth = 4096\n",
      "*************************************[0. 0.]\n",
      "[SumSlot][LOOP1] rot [-1] #rotation_count = 9\n",
      "[SumSlot][LOOP1] rot [-64] #rotation_count = 10\n",
      "[]\n",
      "[]\n",
      "\t\t\t\t\t\t\t______________ 0=0+0+0\n",
      "[MultConv][(co) LOOP] rot [    0] #rotation_count = 10\n",
      "*************************************[1. 1.]\n",
      "[SumSlot][LOOP1] rot [-1] #rotation_count = 11\n",
      "[SumSlot][LOOP1] rot [-64] #rotation_count = 12\n",
      "[]\n",
      "[]\n",
      "\t\t\t\t\t\t\t______________ -1=0+0+1\n",
      "[MultConv][(co) LOOP] rot [   -1] #rotation_count = 13\n",
      "*************************************[0. 0.]\n",
      "[SumSlot][LOOP1] rot [-1] #rotation_count = 14\n",
      "[SumSlot][LOOP1] rot [-64] #rotation_count = 15\n",
      "[]\n",
      "[]\n",
      "\t\t\t\t\t\t\t______________ -64=0+64+0\n",
      "[MultConv][(co) LOOP] rot [  -64] #rotation_count = 16\n",
      "*************************************[0. 0.]\n",
      "[SumSlot][LOOP1] rot [-1] #rotation_count = 17\n",
      "[SumSlot][LOOP1] rot [-64] #rotation_count = 18\n",
      "[]\n",
      "[]\n",
      "\t\t\t\t\t\t\t______________ -65=0+64+1\n",
      "[MultConv][(co) LOOP] rot [  -65] #rotation_count = 19\n",
      "Total Rotations = 19\n"
     ]
    },
    {
     "data": {
      "text/plain": [
       "<matplotlib.image.AxesImage at 0x7f950c0e0550>"
      ]
     },
     "execution_count": 7,
     "metadata": {},
     "output_type": "execute_result"
    },
    {
     "data": {
      "image/png": "[encoded data removed]",
      "text/plain": [
       "<Figure size 432x288 with 1 Axes>"
      ]
     },
     "metadata": {
      "needs_background": "light"
     },
     "output_type": "display_data"
    }
   ],
   "source": [
    "run = CompareConv(fimage=\"./cute.jpg\",fparam=fp,kernel_size=3,co=co)\n",
    "torout,mpout,nrots = run.compare()\n",
    "print(f\"Total Rotations = {nrots}\")\n",
    "plt.imshow(mpout[0,:,:])\n",
    "#cv2.imwrite(\"out_ci3_co16.png\",mpout)"
   ]
  },
  {
   "cell_type": "code",
   "execution_count": 12,
   "id": "8dee71eb",
   "metadata": {},
   "outputs": [
    {
     "data": {
      "text/plain": [
       "<matplotlib.image.AxesImage at 0x7f94c5b373a0>"
      ]
     },
     "execution_count": 12,
     "metadata": {},
     "output_type": "execute_result"
    },
    {
     "data": {
      "image/png": "[encoded data removed]",
      "text/plain": [
       "<Figure size 432x288 with 1 Axes>"
      ]
     },
     "metadata": {
      "needs_background": "light"
     },
     "output_type": "display_data"
    }
   ],
   "source": [
    "plt.imshow(torout[0,:,:])"
   ]
  },
  {
   "cell_type": "code",
   "execution_count": null,
   "id": "4cb90b43",
   "metadata": {},
   "outputs": [],
   "source": []
  }
 ],
 "metadata": {
  "kernelspec": {
   "display_name": "Python 3.10.4 ('fhe')",
   "language": "python",
   "name": "python3"
  },
  "language_info": {
   "codemirror_mode": {
    "name": "ipython",
    "version": 3
   },
   "file_extension": ".py",
   "mimetype": "text/x-python",
   "name": "python",
   "nbconvert_exporter": "python",
   "pygments_lexer": "ipython3",
   "version": "3.10.4"
  },
  "vscode": {
   "interpreter": {
    "hash": "60d42a677e1abf850e158ee39e01a5d70da0f6529681f4a4eca4a35dff8a082c"
   }
  }
 },
 "nbformat": 4,
 "nbformat_minor": 5
}
