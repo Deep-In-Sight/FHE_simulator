{
 "cells": [
  {
   "cell_type": "code",
   "execution_count": 1,
   "id": "537f4506-d703-4d21-8b33-c4ab21454a22",
   "metadata": {},
   "outputs": [],
   "source": [
    "%load_ext autoreload\n",
    "%autoreload 2"
   ]
  },
  {
   "cell_type": "code",
   "execution_count": 2,
   "id": "335ab705-d3c0-4015-b25b-982a0e8db0f4",
   "metadata": {},
   "outputs": [],
   "source": [
    "import numpy as np\n",
    "import pandas as pd\n",
    "from cipher import *\n",
    "from ciphertext import Plaintext\n",
    "from scheme import *\n",
    "\n",
    "from algorithms import Algorithms \n",
    "from stats import Statistics\n",
    "from context import set_all"
   ]
  },
  {
   "cell_type": "code",
   "execution_count": 3,
   "id": "9b3c80ab-53ab-4aa9-87ae-0daf5a2691b7",
   "metadata": {},
   "outputs": [],
   "source": [
    "context, ev, encoder, encryptor, decryptor = set_all(30, 150, 12)\n",
    "nslots = context.params.nslots"
   ]
  },
  {
   "cell_type": "markdown",
   "id": "e1b8bb49-bf4e-44d9-ac63-2029f6382a57",
   "metadata": {},
   "source": [
    "### Load data"
   ]
  },
  {
   "cell_type": "code",
   "execution_count": 4,
   "id": "5bf812e4-37fa-4688-b989-e7a4c5518c65",
   "metadata": {},
   "outputs": [
    {
     "name": "stdout",
     "output_type": "stream",
     "text": [
      "Enough slots? 1470 < 4096\n"
     ]
    }
   ],
   "source": [
    "data = pd.read_csv(\"./stat/WA_Fn-UseC_-HR-Employee-Attrition.csv\")\n",
    "new_label = {\"Attrition\": {\"Yes\":1, \"No\":0}}\n",
    "data.replace(new_label , inplace = True)\n",
    "\n",
    "ng1 = data.Attrition.nunique()\n",
    "ng2 = data.JobSatisfaction.nunique()\n",
    "\n",
    "ntot = len(data)\n",
    "print(f\"Enough slots? {ntot} < {context.params.nslots}\")\n",
    "V1 = encryptor.encrypt(data.Attrition.values) \n",
    "V2 = encryptor.encrypt(data.JobSatisfaction.values)"
   ]
  },
  {
   "cell_type": "markdown",
   "id": "c3ec31f3-7dd9-4e39-ad6e-9919f2389393",
   "metadata": {},
   "source": [
    "category 조합을 4 * 2 = 8 까지의 int로 표현"
   ]
  },
  {
   "cell_type": "code",
   "execution_count": 5,
   "id": "b67107cd-6cdb-4a13-99e4-b62b657888e6",
   "metadata": {},
   "outputs": [],
   "source": [
    "p_ng2 = Plaintext(np.repeat(ng2, ntot), nslots=nslots, logp=V1.logp)\n",
    "ev.mult_by_plain(V1,p_ng2, inplace=True)\n",
    "ev.rescale_next(V1)\n",
    "ct = ev.add(V1, V2)"
   ]
  },
  {
   "cell_type": "markdown",
   "id": "12381a1b-141a-49ba-abaa-17cf77ce1392",
   "metadata": {},
   "source": [
    "각 category에 해당하는 값을 count "
   ]
  },
  {
   "cell_type": "markdown",
   "id": "a9cb0e09-ed57-4112-83d5-002f0fd5de59",
   "metadata": {},
   "source": [
    "대소비교"
   ]
  },
  {
   "cell_type": "code",
   "execution_count": 6,
   "id": "cfbfe137-47f8-4b06-ac69-43e3dc1d3e78",
   "metadata": {},
   "outputs": [],
   "source": [
    "algo = Algorithms(ev, encoder)"
   ]
  },
  {
   "cell_type": "code",
   "execution_count": 11,
   "id": "8c834598-5002-4fed-8fc2-b37df4fab2e7",
   "metadata": {},
   "outputs": [],
   "source": [
    "ptmp = Plaintext(np.repeat(0.5, len(ct)), nslots=ct.nslots, logp=ct.logp)\n",
    "compared = algo.comp(ct, ptmp)"
   ]
  },
  {
   "cell_type": "code",
   "execution_count": 22,
   "id": "edf161d3-4587-4373-b3a0-86f7aee1d84e",
   "metadata": {},
   "outputs": [],
   "source": [
    "import math \n",
    "from numpy import polynomial as P\n",
    "def _approx_sign(n):\n",
    "    \"\"\"\n",
    "    Approxiate sign function in [-1,1]\n",
    "    \"\"\"\n",
    "    p_t1 = P.Polynomial([1,0,-1])\n",
    "    p_x  = P.Polynomial([0,1])\n",
    "\n",
    "    def c_(i: int):\n",
    "        return 1/4**i * math.comb(2*i,i)\n",
    "\n",
    "    def term_(i: int):\n",
    "        return c_(i) * p_x * p_t1**i\n",
    "\n",
    "    poly = term_(0)\n",
    "    for nn in range(1,n+1):\n",
    "        poly += term_(nn)\n",
    "    return poly"
   ]
  },
  {
   "cell_type": "code",
   "execution_count": 26,
   "id": "7cff3268-d706-4250-b220-cde11a621f76",
   "metadata": {},
   "outputs": [],
   "source": [
    "p_t1 = P.Polynomial([1,0,-1])"
   ]
  },
  {
   "cell_type": "code",
   "execution_count": 27,
   "id": "da260b9a-7f10-4d8e-9b7e-7dd362a393c2",
   "metadata": {},
   "outputs": [
    {
     "data": {
      "text/latex": [
       "$x \\mapsto \\text{1.0}\\color{LightGray}{ + \\text{0.0}\\,x} - \\text{1.0}\\,x^{2}$"
      ],
      "text/plain": [
       "Polynomial([ 1.,  0., -1.], domain=[-1,  1], window=[-1,  1])"
      ]
     },
     "execution_count": 27,
     "metadata": {},
     "output_type": "execute_result"
    }
   ],
   "source": [
    "p_t1"
   ]
  },
  {
   "cell_type": "code",
   "execution_count": 28,
   "id": "b2c9136e-0ebf-46c4-a5cb-f894ce55f310",
   "metadata": {},
   "outputs": [
    {
     "data": {
      "text/latex": [
       "$x \\mapsto \\color{LightGray}{\\text{0.0}} + \\text{3.7001380920410156}\\,x\\color{LightGray}{ + \\text{0.0}\\,x^{2}} - \\text{12.333793640136719}\\,x^{3}\\color{LightGray}{ + \\text{0.0}\\,x^{4}} + \\text{33.30124282836914}\\,x^{5}\\color{LightGray}{ + \\text{0.0}\\,x^{6}} - \\text{63.430938720703125}\\,x^{7}\\color{LightGray}{ + \\text{0.0}\\,x^{8}} + \\text{86.33655548095703}\\,x^{9}\\color{LightGray}{ + \\text{0.0}\\,x^{10}} - \\text{84.76679992675781}\\,x^{11}\\color{LightGray}{ + \\text{0.0}\\,x^{12}} + \\text{59.771461486816406}\\,x^{13}\\color{LightGray}{ + \\text{0.0}\\,x^{14}} - \\text{29.601104736328125}\\,x^{15}\\color{LightGray}{ + \\text{0.0}\\,x^{16}} + \\text{9.794483184814453}\\,x^{17}\\color{LightGray}{ + \\text{0.0}\\,x^{18}} - \\text{1.9474411010742188}\\,x^{19}\\color{LightGray}{ + \\text{0.0}\\,x^{20}} + \\text{0.17619705200195312}\\,x^{21}$"
      ],
      "text/plain": [
       "Polynomial([  0.        ,   3.70013809,   0.        , -12.33379364,\n",
       "         0.        ,  33.30124283,   0.        , -63.43093872,\n",
       "         0.        ,  86.33655548,   0.        , -84.76679993,\n",
       "         0.        ,  59.77146149,   0.        , -29.60110474,\n",
       "         0.        ,   9.79448318,   0.        ,  -1.9474411 ,\n",
       "         0.        ,   0.17619705], domain=[-1.,  1.], window=[-1.,  1.])"
      ]
     },
     "execution_count": 28,
     "metadata": {},
     "output_type": "execute_result"
    }
   ],
   "source": [
    "fun"
   ]
  },
  {
   "cell_type": "code",
   "execution_count": 23,
   "id": "4967b8ad-53c5-4ca4-802b-74c2de3ecb07",
   "metadata": {},
   "outputs": [],
   "source": [
    "fun = _approx_sign(10)"
   ]
  },
  {
   "cell_type": "code",
   "execution_count": 24,
   "id": "7872afcd-b7f2-4e2b-bbec-27c052708c7c",
   "metadata": {},
   "outputs": [],
   "source": [
    "arr = np.random.rand(10) -0.5"
   ]
  },
  {
   "cell_type": "code",
   "execution_count": 25,
   "id": "2aeb901c-46ee-40ca-9552-6f972b0dd8a0",
   "metadata": {},
   "outputs": [
    {
     "data": {
      "text/plain": [
       "array([ 0.97124285,  0.72893984,  0.75952952, -0.90567384,  0.69450522,\n",
       "        0.1702422 , -0.91571005, -0.68820768,  0.98661768, -0.92283003])"
      ]
     },
     "execution_count": 25,
     "metadata": {},
     "output_type": "execute_result"
    }
   ],
   "source": [
    "fun(arr)"
   ]
  },
  {
   "cell_type": "code",
   "execution_count": null,
   "id": "fe26e7ab-a5cf-4c30-bc19-437b6f5598b1",
   "metadata": {},
   "outputs": [],
   "source": []
  },
  {
   "cell_type": "code",
   "execution_count": null,
   "id": "8a9131e7-8a07-4131-af09-9f4e005b767a",
   "metadata": {},
   "outputs": [],
   "source": []
  },
  {
   "cell_type": "code",
   "execution_count": null,
   "id": "86a3abfd-4133-439a-9a0c-b5279fe41c4a",
   "metadata": {},
   "outputs": [],
   "source": []
  },
  {
   "cell_type": "code",
   "execution_count": 14,
   "id": "5f7edb4a-0e95-45e0-bb3c-99c61897c44c",
   "metadata": {},
   "outputs": [],
   "source": [
    "diff = ev.sub_plain(ct, ptmp)\n",
    "one = Plaintext(arr=np.repeat(1., diff.nslots),\n",
    "             logp = diff.logp, nslots = diff.nslots)\n",
    "half = Plaintext(arr=np.repeat(.5, diff.nslots),\n",
    "             logp = diff.logp, nslots = diff.nslots)\n",
    "sign_plus1 = ev.add_plain(algo.sign(algo.sign(diff)), one)\n",
    "result = ev.mult_by_plain(sign_plus1, half)"
   ]
  },
  {
   "cell_type": "code",
   "execution_count": 17,
   "id": "596425e4-83f4-492e-b65f-547ba687bd30",
   "metadata": {},
   "outputs": [
    {
     "data": {
      "text/plain": [
       "array([ 7.5,  1.5,  6.5, ..., -0.5, -0.5, -0.5])"
      ]
     },
     "execution_count": 17,
     "metadata": {},
     "output_type": "execute_result"
    }
   ],
   "source": [
    "diff._arr"
   ]
  },
  {
   "cell_type": "code",
   "execution_count": null,
   "id": "fdd4d3ca-3da0-49e8-abc5-d6016a6236f7",
   "metadata": {},
   "outputs": [],
   "source": []
  },
  {
   "cell_type": "code",
   "execution_count": 12,
   "id": "32149424-3efa-4fc6-98be-f5af244923d2",
   "metadata": {},
   "outputs": [
    {
     "data": {
      "text/plain": [
       "array([            inf,  5.24691213e+05,             inf, ...,\n",
       "       -1.88737914e-15, -1.88737914e-15, -1.88737914e-15])"
      ]
     },
     "execution_count": 12,
     "metadata": {},
     "output_type": "execute_result"
    }
   ],
   "source": [
    "compared._arr"
   ]
  },
  {
   "cell_type": "code",
   "execution_count": 7,
   "id": "6d40d4ab-61f4-4d6a-88bb-97650da53ff1",
   "metadata": {},
   "outputs": [
    {
     "ename": "NameError",
     "evalue": "name 'ptmp' is not defined",
     "output_type": "error",
     "traceback": [
      "\u001b[1;31m---------------------------------------------------------------------------\u001b[0m",
      "\u001b[1;31mNameError\u001b[0m                                 Traceback (most recent call last)",
      "Input \u001b[1;32mIn [7]\u001b[0m, in \u001b[0;36m<cell line: 1>\u001b[1;34m()\u001b[0m\n\u001b[1;32m----> 1\u001b[0m diff \u001b[38;5;241m=\u001b[39m ev\u001b[38;5;241m.\u001b[39msub_plain(ct, \u001b[43mptmp\u001b[49m)\n",
      "\u001b[1;31mNameError\u001b[0m: name 'ptmp' is not defined"
     ]
    }
   ],
   "source": [
    "diff = ev.sub_plain(ct, ptmp)"
   ]
  },
  {
   "cell_type": "code",
   "execution_count": 8,
   "id": "49b86d2c-4133-439d-b8f0-8bc56841a978",
   "metadata": {},
   "outputs": [
    {
     "ename": "NameError",
     "evalue": "name 'diff' is not defined",
     "output_type": "error",
     "traceback": [
      "\u001b[1;31m---------------------------------------------------------------------------\u001b[0m",
      "\u001b[1;31mNameError\u001b[0m                                 Traceback (most recent call last)",
      "Input \u001b[1;32mIn [8]\u001b[0m, in \u001b[0;36m<cell line: 1>\u001b[1;34m()\u001b[0m\n\u001b[1;32m----> 1\u001b[0m algo\u001b[38;5;241m.\u001b[39msign(\u001b[43mdiff\u001b[49m)\n",
      "\u001b[1;31mNameError\u001b[0m: name 'diff' is not defined"
     ]
    }
   ],
   "source": [
    "algo.sign(diff)"
   ]
  },
  {
   "cell_type": "code",
   "execution_count": 16,
   "id": "8038ff86-951b-4368-91c9-33d81ff3610d",
   "metadata": {},
   "outputs": [
    {
     "data": {
      "text/plain": [
       "array([8., 2., 7., ..., 0., 0., 0.])"
      ]
     },
     "execution_count": 16,
     "metadata": {},
     "output_type": "execute_result"
    }
   ],
   "source": [
    "ct._arr"
   ]
  },
  {
   "cell_type": "code",
   "execution_count": 15,
   "id": "53b2df78-28c6-416b-971d-11fc181bba40",
   "metadata": {},
   "outputs": [
    {
     "data": {
      "text/plain": [
       "array([0.5, 0.5, 0.5, ..., 0.5, 0.5, 0.5])"
      ]
     },
     "execution_count": 15,
     "metadata": {},
     "output_type": "execute_result"
    }
   ],
   "source": [
    "ptmp._arr"
   ]
  },
  {
   "cell_type": "code",
   "execution_count": null,
   "id": "07366a82-fb1c-4b86-a2fb-63a46e292449",
   "metadata": {},
   "outputs": [],
   "source": [
    "bin_count = []\n",
    "n_unique = ng1*ng2\n",
    "\n",
    "for i in range(n_unique):\n",
    "    count = np.sum(comp(np.repeat(i+0.5, len(ct))\n",
    "    bin_count.append()"
   ]
  },
  {
   "cell_type": "code",
   "execution_count": 41,
   "id": "adc42f1b-61cd-4a75-a89c-a00fecc5ce61",
   "metadata": {},
   "outputs": [
    {
     "data": {
      "text/plain": [
       "8.0"
      ]
     },
     "execution_count": 41,
     "metadata": {},
     "output_type": "execute_result"
    }
   ],
   "source": [
    "decryptor.decrypt(ct).max()"
   ]
  },
  {
   "cell_type": "code",
   "execution_count": null,
   "id": "4710fe2b-fc7c-4548-8d65-0a65e20076da",
   "metadata": {},
   "outputs": [],
   "source": []
  }
 ],
 "metadata": {
  "kernelspec": {
   "display_name": "Python 3 (ipykernel)",
   "language": "python",
   "name": "python3"
  },
  "language_info": {
   "codemirror_mode": {
    "name": "ipython",
    "version": 3
   },
   "file_extension": ".py",
   "mimetype": "text/x-python",
   "name": "python",
   "nbconvert_exporter": "python",
   "pygments_lexer": "ipython3",
   "version": "3.10.4"
  }
 },
 "nbformat": 4,
 "nbformat_minor": 5
}
