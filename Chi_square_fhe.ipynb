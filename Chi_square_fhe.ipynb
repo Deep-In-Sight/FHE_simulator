{
 "cells": [
  {
   "cell_type": "code",
   "execution_count": 1,
   "id": "537f4506-d703-4d21-8b33-c4ab21454a22",
   "metadata": {},
   "outputs": [],
   "source": [
    "%load_ext autoreload\n",
    "%autoreload 2"
   ]
  },
  {
   "cell_type": "code",
   "execution_count": 17,
   "id": "e993a3b1-7adc-4e39-8de1-332e3b47af73",
   "metadata": {},
   "outputs": [],
   "source": [
    "import numpy as np\n",
    "import pandas as pd\n",
    "\n",
    "from hemul.cipher import *\n",
    "from hemul.ciphertext import Plaintext\n",
    "from hemul.scheme import *\n",
    "\n",
    "from hemul.algorithms import Algorithms \n",
    "from hemul.stats import Statistics\n",
    "from hemul.context import set_all\n",
    "\n",
    "from math import sqrt\n",
    "from numpy import polynomial as P\n",
    "def _approx_sign(n):\n",
    "    \"\"\"\n",
    "    Approxiate sign function in [-1,1]\n",
    "    \"\"\"\n",
    "    p_t1 = P.Polynomial([1,0,-1])\n",
    "    p_x  = P.Polynomial([0,1])\n",
    "\n",
    "    def c_(i: int):\n",
    "        return 1/4**i * math.comb(2*i,i)\n",
    "\n",
    "    def term_(i: int):\n",
    "        return c_(i) * p_x * p_t1**i\n",
    "\n",
    "    poly = term_(0)\n",
    "    for nn in range(1,n+1):\n",
    "        poly += term_(nn)\n",
    "    return poly\n",
    "\n",
    "def approx_comp(x,v):\n",
    "    return np.array(x > v).astype(float)\n",
    "\n",
    "def get_bincount(arr, nnn, bmin, bmax):\n",
    "    n_larger = [nnn]\n",
    "    for i, bb in enumerate(range(bmin,bmax+1)):\n",
    "        n_larger.append(np.sum(approx_comp(arr,bb+0.5)))\n",
    "\n",
    "    bincount = np.array(n_larger)[:-1] - np.array(n_larger)[1:]\n",
    "    return bincount"
   ]
  },
  {
   "cell_type": "code",
   "execution_count": 3,
   "id": "9b3c80ab-53ab-4aa9-87ae-0daf5a2691b7",
   "metadata": {},
   "outputs": [],
   "source": [
    "context, ev, encoder, encryptor, decryptor = set_all(30, 150, 12)\n",
    "nslots = context.params.nslots"
   ]
  },
  {
   "cell_type": "markdown",
   "id": "e1b8bb49-bf4e-44d9-ac63-2029f6382a57",
   "metadata": {},
   "source": [
    "### Load data\n",
    "\n",
    "빈 슬롯 == 0 이므로, category encoding할 때 1부터 시작해야함.   \n",
    "Yes / No 라고 1/0으로 하지 말 것. "
   ]
  },
  {
   "cell_type": "code",
   "execution_count": 4,
   "id": "5bf812e4-37fa-4688-b989-e7a4c5518c65",
   "metadata": {},
   "outputs": [
    {
     "name": "stdout",
     "output_type": "stream",
     "text": [
      "Enough slots? 1470 < 4096\n"
     ]
    }
   ],
   "source": [
    "data = pd.read_csv(\"./stat/WA_Fn-UseC_-HR-Employee-Attrition.csv\")\n",
    "new_label = {\"Attrition\": {\"Yes\":1, \"No\":0}}\n",
    "data.replace(new_label , inplace = True)\n",
    "\n",
    "ng1 = data.Attrition.nunique()\n",
    "ng2 = data.JobSatisfaction.nunique()\n",
    "\n",
    "ntot = len(data)\n",
    "print(f\"Enough slots? {ntot} < {context.params.nslots}\")\n",
    "V1 = encryptor.encrypt(data.Attrition.values+1) \n",
    "V2 = encryptor.encrypt(data.JobSatisfaction.values)"
   ]
  },
  {
   "cell_type": "code",
   "execution_count": 5,
   "id": "988a0afb-6719-4766-aba5-fca307ee94ae",
   "metadata": {},
   "outputs": [
    {
     "name": "stdout",
     "output_type": "stream",
     "text": [
      "[1233.  237.] [289. 280. 442. 459.]\n"
     ]
    }
   ],
   "source": [
    "bc1 = get_bincount(V1._arr, ntot, 1, 2)\n",
    "bc2 = get_bincount(V2._arr, ntot, 1, 4)\n",
    "\n",
    "print(bc1, bc2)"
   ]
  },
  {
   "cell_type": "markdown",
   "id": "c3ec31f3-7dd9-4e39-ad6e-9919f2389393",
   "metadata": {},
   "source": [
    "category 조합을 4 * 2 = 8 가지의 int로 표현\n",
    "\n",
    "1. V1 = [0,1];  V2 = [0,1,2,3] 일 경우,  \n",
    "4*v1 + v2 = [0,...,7]  :  empty 값인 0과 구별 어려움\n",
    "\n",
    "2. V1 = [0,1];  V2 = [1,2,3,4] 일 경우,  \n",
    "4*v1 + v2 = [1,...,8]  :  결과는 1 ~ 8로 딱 좋으나, V1 bincount때 여전히 0과 구별 어려움. \n",
    "\n",
    "3. V1 = [1,2];  V2 = [1,2,3,4] 일 경우,  \n",
    "  4*v1 + v2 = [5,...,12]  : 분류 가능. 대신 bin의 min과 max를 따로 제공해야함. \n"
   ]
  },
  {
   "cell_type": "code",
   "execution_count": 6,
   "id": "b67107cd-6cdb-4a13-99e4-b62b657888e6",
   "metadata": {},
   "outputs": [
    {
     "name": "stdout",
     "output_type": "stream",
     "text": [
      "[8. 4. 8. ... 0. 0. 0.]\n",
      "[4. 2. 3. ... 0. 0. 0.]\n"
     ]
    }
   ],
   "source": [
    "p_ng2 = Plaintext(np.repeat(ng2, ntot), nslots=nslots, logp=V1.logp)\n",
    "ev.mult_by_plain(V1,p_ng2, inplace=True) ## V1 inplace로 변경됨. \n",
    "ev.rescale_next(V1)\n",
    "print(V1._arr)\n",
    "print(V2._arr)\n",
    "cat_comb = ev.add(V1, V2)"
   ]
  },
  {
   "cell_type": "markdown",
   "id": "12381a1b-141a-49ba-abaa-17cf77ce1392",
   "metadata": {},
   "source": [
    "각 category에 해당하는 값을 count "
   ]
  },
  {
   "cell_type": "markdown",
   "id": "a9cb0e09-ed57-4112-83d5-002f0fd5de59",
   "metadata": {},
   "source": [
    "대소비교"
   ]
  },
  {
   "cell_type": "code",
   "execution_count": 54,
   "id": "cfbfe137-47f8-4b06-ac69-43e3dc1d3e78",
   "metadata": {},
   "outputs": [],
   "source": [
    "algo = Algorithms(ev, encoder)"
   ]
  },
  {
   "cell_type": "markdown",
   "id": "48d26786-c10e-4e92-92c1-3a143eda2965",
   "metadata": {},
   "source": [
    "if 불가하니 bin 갯수만큼의 질문을 반복하는 것 외에 다른 방법은 없는 듯 "
   ]
  },
  {
   "cell_type": "code",
   "execution_count": 59,
   "id": "b71fedcd-726a-4893-a51a-0a15423311e8",
   "metadata": {},
   "outputs": [
    {
     "name": "stdout",
     "output_type": "stream",
     "text": [
      "[223. 234. 369. 407.  66.  46.  73.  52.   0.   0.]\n"
     ]
    }
   ],
   "source": [
    "contin = encryptor.encrypt(get_bincount(cat_comb._arr, ntot, 5, 12))\n",
    "print(contin._arr[:10])"
   ]
  },
  {
   "cell_type": "markdown",
   "id": "004be314-2fb9-414c-a1cd-cb7863e0f4b0",
   "metadata": {},
   "source": [
    "[a,b,c,d] * [A,B]\n",
    "\n",
    "```\n",
    "[a,b,c,d,#,#,#,#]  \n",
    "        *  \n",
    "[A,A,A,A,0,0,0,0]   \n",
    "        +  \n",
    "[#,#,#,#,a,b,c,d]  \n",
    "        *  \n",
    "[0,0,0,0,B,B,B,B]  \n",
    "```"
   ]
  },
  {
   "cell_type": "markdown",
   "id": "915dc2da-2e46-4512-8caa-6fca32110cc2",
   "metadata": {},
   "source": [
    "### col for multiplication"
   ]
  },
  {
   "cell_type": "code",
   "execution_count": 58,
   "id": "4d4f07de-ff97-4e49-93fc-57337fc70793",
   "metadata": {},
   "outputs": [
    {
     "data": {
      "text/plain": [
       "array([223., 234., 369., 407.,  66.,  46.,  73.,  52.,   0.,   0.])"
      ]
     },
     "execution_count": 58,
     "metadata": {},
     "output_type": "execute_result"
    }
   ],
   "source": [
    "contin._arr[:10]"
   ]
  },
  {
   "cell_type": "markdown",
   "id": "05738d4b-a293-44b5-9a42-ed4435559a4b",
   "metadata": {},
   "source": [
    "## m x n array. \n",
    "\n",
    "[[a,b,c,d],\n",
    " [e,f,g,h],\n",
    " [i,j,k,l],\n",
    " ...]\n",
    " \n",
    "최종적으로 필요한 것은 [a+e+i+..., b+f+j+..., ...] * n\n",
    "\n",
    "\n",
    "\n",
    "```\n",
    "  A  B  C  A  B  C  \n",
    "+    A  B  C  A  B  C  \n",
    "+       A  B  C  A  B  C  \n",
    "==\n",
    "     [a1+c1+b1, a2+b2+c2, a3+b3+c3]\n",
    "```       \n",
    "          \n",
    "\n",
    "co\n",
    "\n"
   ]
  },
  {
   "cell_type": "code",
   "execution_count": 73,
   "id": "ccf2c7c1-80e1-4119-8a3c-f01c99e19031",
   "metadata": {},
   "outputs": [
    {
     "name": "stdout",
     "output_type": "stream",
     "text": [
      "[289. 280. 442. 459.  66.  46.  73.  52.   0.   0.]\n",
      "[223. 234. 369. 407.  66.  46.  73.  52.   0.   0.]\n"
     ]
    }
   ],
   "source": [
    "ctxt = ev.copy(contin)\n",
    "\n",
    "for ii in range(1, ng1):\n",
    "    ev.lrot(ctxt, ng2*ii, inplace=True)\n",
    "    col_sum = ev.add(contin, ctxt) \n",
    "    print(col_sum._arr[:10])\n",
    "\n",
    "mask_c = np.zeros(nslots)\n",
    "mask_c[:ng2] =1 # Only first ng2 slots are valid\n",
    "ev.mult_by_plain(col_sum, encoder.encode(mask_c), inplace=True)\n",
    "col_tmp = ev.lrot(col_sum, -ng2, inplace=False)\n",
    "ev.add(col_sum, col_tmp, inplace=True)"
   ]
  },
  {
   "cell_type": "code",
   "execution_count": 72,
   "id": "61f8d3c7-d1c4-4910-bfbc-999e5dffdee2",
   "metadata": {},
   "outputs": [
    {
     "name": "stdout",
     "output_type": "stream",
     "text": [
      "[66. 46. 73. 52.  0.  0.  0.  0.  0.  0.]\n",
      "[289. 280. 442. 459.  66.  46.  73.  52.   0.   0.]\n"
     ]
    }
   ],
   "source": [
    "ctxt = ev.copy(contin)\n",
    "\n",
    "ev.lrot(ctxt, ng2, inplace=True)\n",
    "col_sum = ev.add(contin, ctxt) \n",
    "print(col_sum._arr[:10])\n",
    "\n",
    "mask_c = np.zeros(nslots)\n",
    "mask_c[:ng2] =1 # Only first ng2 slots are valid\n",
    "ev.mult_by_plain(col_sum, encoder.encode(mask_c), inplace=True)\n",
    "col_tmp = ev.lrot(col_sum, -ng2, inplace=False)\n",
    "ev.add(col_sum, col_tmp, inplace=True)"
   ]
  },
  {
   "cell_type": "code",
   "execution_count": 64,
   "id": "3dced533-ee1b-4eac-94d5-3da77e10426c",
   "metadata": {},
   "outputs": [
    {
     "data": {
      "text/plain": [
       "array([289., 280., 442., 459., 289., 280., 442., 459.,   0.,   0.])"
      ]
     },
     "execution_count": 64,
     "metadata": {},
     "output_type": "execute_result"
    }
   ],
   "source": [
    "col_sum._arr[:10]"
   ]
  },
  {
   "cell_type": "markdown",
   "id": "ab643ebc-93bc-4699-88e6-564e09c5e189",
   "metadata": {},
   "source": [
    "### row for multiplication"
   ]
  },
  {
   "cell_type": "code",
   "execution_count": 65,
   "id": "b6e6a762-6303-4ce9-9839-b22207784340",
   "metadata": {},
   "outputs": [],
   "source": [
    "def _row_for_mult(row_sum, ntot, ng1, ng2, nslots, debug=False):\n",
    "    # ng1 < ng2\n",
    "    each_element=[]\n",
    "    for i in range(ng1):\n",
    "        mask = np.zeros(nslots)\n",
    "        mask[i*ng2] = 1/ntot\n",
    "        row_tmp = ev.mult_by_plain(row_sum, encoder.encode(mask), inplace=False)\n",
    "        each_element.append(row_tmp)\n",
    "\n",
    "    # check\n",
    "    if debug:\n",
    "        for ee in each_element:\n",
    "            print(ee._arr[:10])\n",
    "\n",
    "    result = each_element[0]\n",
    "    for ee in each_element[1:]:\n",
    "        ev.add(result, ee, inplace=True)\n",
    "\n",
    "    # check\n",
    "    if debug: print(result._arr[:10])\n",
    "\n",
    "    for i in range(int(sqrt(ng2))):\n",
    "        r_tmp = ev.copy(result)\n",
    "        ev.lrot(r_tmp, -2**i)\n",
    "        ev.add(result, r_tmp, inplace=True)\n",
    "        # check\n",
    "        if debug: print(result._arr[:10])\n",
    "    return result"
   ]
  },
  {
   "cell_type": "code",
   "execution_count": 66,
   "id": "2327d10d-22d5-44e8-a488-f8c662e150ab",
   "metadata": {},
   "outputs": [
    {
     "name": "stdout",
     "output_type": "stream",
     "text": [
      "[1233. 1076.  888.  592.  237.  171.  125.   52.    0.    0.]\n",
      "1233.0 237.0\n"
     ]
    }
   ],
   "source": [
    "row_sum = algo.sum_reduce(contin, nsum=ng2) # 0-th and 4-th slots are valid\n",
    "print(row_sum._arr[:10])\n",
    "print(row_sum._arr[0], row_sum._arr[ng2])"
   ]
  },
  {
   "cell_type": "code",
   "execution_count": 67,
   "id": "840af873-319f-4f15-9760-8156ed99c164",
   "metadata": {},
   "outputs": [],
   "source": [
    "row_mult = _row_for_mult(row_sum, ntot, ng1, ng2, nslots)"
   ]
  },
  {
   "cell_type": "code",
   "execution_count": 68,
   "id": "10ac034c-fc16-4d5b-9f33-5eacda0afe3b",
   "metadata": {},
   "outputs": [
    {
     "name": "stdout",
     "output_type": "stream",
     "text": [
      "60\n",
      "[242.40612245 234.85714286 370.73877551 384.99795918  46.59387755\n",
      "  45.14285714  71.26122449  74.00204082   0.           0.        ]\n",
      "[223. 234. 369. 407.  66.  46.  73.  52.   0.   0.]\n"
     ]
    }
   ],
   "source": [
    "ev.rescale_next(row_mult)\n",
    "ev.rescale_next(col_sum)\n",
    "E = ev.mult(row_mult, col_sum)\n",
    "print(E.logp)\n",
    "ev.rescale_next(E)\n",
    "\n",
    "print(E._arr[:10])\n",
    "print(contin._arr[:10])"
   ]
  },
  {
   "cell_type": "code",
   "execution_count": 69,
   "id": "24603741-1da8-411e-b61c-6d6bc1ee9d4e",
   "metadata": {},
   "outputs": [
    {
     "data": {
      "text/plain": [
       "array([242.40612245, 234.85714286, 370.73877551, 384.99795918,\n",
       "        46.59387755,  45.14285714,  71.26122449,  74.00204082,\n",
       "         0.        ,   0.        ])"
      ]
     },
     "execution_count": 69,
     "metadata": {},
     "output_type": "execute_result"
    }
   ],
   "source": [
    "E._arr[:10]"
   ]
  },
  {
   "cell_type": "code",
   "execution_count": 70,
   "id": "3bb4b448-da6e-4b5b-b217-152975736768",
   "metadata": {},
   "outputs": [],
   "source": [
    "#chi2\n",
    "sub = ev.sub(contin, E, inplace=False)\n",
    "sqr = ev.square(sub, inplace=False)\n",
    "div = algo.divide(sqr,E)\n",
    "chi2 = algo.sum_reduce(div, ng1*ng2)\n"
   ]
  },
  {
   "cell_type": "code",
   "execution_count": 71,
   "id": "58203df1-66b8-45a1-9511-2c6c1f996986",
   "metadata": {},
   "outputs": [
    {
     "data": {
      "text/plain": [
       "array([17.50507701,         nan,         nan, ...,         nan,\n",
       "               nan,         nan])"
      ]
     },
     "execution_count": 71,
     "metadata": {},
     "output_type": "execute_result"
    }
   ],
   "source": [
    "chi2._arr"
   ]
  },
  {
   "cell_type": "code",
   "execution_count": null,
   "id": "759e0a4e-8594-414f-a0e8-54fb9129bc9a",
   "metadata": {},
   "outputs": [],
   "source": []
  },
  {
   "cell_type": "code",
   "execution_count": null,
   "id": "4710fe2b-fc7c-4548-8d65-0a65e20076da",
   "metadata": {},
   "outputs": [],
   "source": []
  }
 ],
 "metadata": {
  "kernelspec": {
   "display_name": "Python 3.10.4 ('fhe')",
   "language": "python",
   "name": "python3"
  },
  "language_info": {
   "codemirror_mode": {
    "name": "ipython",
    "version": 3
   },
   "file_extension": ".py",
   "mimetype": "text/x-python",
   "name": "python",
   "nbconvert_exporter": "python",
   "pygments_lexer": "ipython3",
   "version": "3.10.4"
  },
  "vscode": {
   "interpreter": {
    "hash": "5075a704c0d3e9d28fc016097ccb4606b3aa41f4550d939e934d30fcf66246ef"
   }
  }
 },
 "nbformat": 4,
 "nbformat_minor": 5
}
