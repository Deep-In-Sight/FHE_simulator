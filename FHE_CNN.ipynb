{
 "cells": [
  {
   "cell_type": "code",
   "execution_count": 26,
   "id": "263a5eb9-d019-4479-a4e8-227ef0dd994f",
   "metadata": {},
   "outputs": [],
   "source": [
    "import matplotlib.pyplot as plt \n",
    "\n",
    "\n",
    "from PIL import Image\n",
    "import torch\n",
    "\n",
    "import numpy as np\n",
    "from cipher import *\n",
    "from scheme import *\n",
    "\n",
    "from algorithms import Algorithms \n",
    "from stats import Statistics\n",
    "\n",
    "from torchvision import datasets\n",
    "import torchvision.transforms as transforms"
   ]
  },
  {
   "cell_type": "code",
   "execution_count": 16,
   "id": "da2067fb-6ecd-4252-b0dc-37a907634ee0",
   "metadata": {},
   "outputs": [
    {
     "name": "stdout",
     "output_type": "stream",
     "text": [
      " logp: 30\n",
      " logq: 500 \n",
      " logn: 13\n"
     ]
    }
   ],
   "source": [
    "myring = Ring(seed=1234)\n",
    "parms = Parameters(logp = 30, logq = 500, logn =13)\n",
    "nslots = 2**(parms.logn-1) # -1? \n",
    "context = Context(parms, myring)\n",
    "\n",
    "sk = context.generate_secret_key()\n",
    "\n",
    "print(context.params)\n",
    "\n",
    "keys = {\"mult\":context.generate_mult_key(),\n",
    "        \"rot\":{'1':'hi1',\n",
    "               '2':'hi2',\n",
    "               '4':'hi4',\n",
    "               '8':'hi8'}}\n",
    "ev = Evaluator(keys, context) # Evaluator도 그냥 context만 넣게 할까? \n",
    "\n",
    "encoder = Encoder(context)\n",
    "encryptor = Encryptor(context)\n",
    "\n",
    "decryptor = Decryptor(sk)"
   ]
  },
  {
   "cell_type": "markdown",
   "id": "eb552ddb-7c2e-41c0-b07b-a4c62f1d078e",
   "metadata": {},
   "source": [
    "FASE 라이브러리 API 함수 이름을 살짝 바꿔가지고 최대한 재활용.."
   ]
  },
  {
   "cell_type": "markdown",
   "id": "46910cc5-8590-4841-bc9b-2f991387887d",
   "metadata": {},
   "source": [
    "## Original model"
   ]
  },
  {
   "cell_type": "code",
   "execution_count": 31,
   "id": "c439fdc4-017f-4c0f-8519-fa7d091de0b3",
   "metadata": {},
   "outputs": [],
   "source": [
    "import ResNet20\n",
    "from approximate import approx_relu, approx_sign\n",
    "\n",
    "activation = lambda x : 40 * approx_relu(x/40, degree = 4, repeat=3)\n",
    "\n",
    "org_model = ResNet20.ResNet9(activation=activation)\n",
    "\n",
    "\n",
    "fn_param = \"ResNet9avg_minimaxReLU.pt\"\n",
    "trained_param = torch.load(fn_param)\n",
    "trained_param = {k: v.cpu() for k, v in trained_param.items()} # to cpu()\n",
    "org_model.load_state_dict(trained_param)\n",
    "org_model.eval() ## If not eval(), running_mean and running_var of batch_norm changes\n",
    "\n",
    "# To numpy\n",
    "params_np = {k: v.numpy() for k, v in trained_param.items()}"
   ]
  },
  {
   "cell_type": "code",
   "execution_count": 32,
   "id": "69cfc92b-acef-4b6f-be2e-36cde4b35197",
   "metadata": {},
   "outputs": [
    {
     "data": {
      "text/plain": [
       "ResNet9(\n",
       "  (conv1): Conv2d(3, 64, kernel_size=(3, 3), stride=(1, 1), padding=(1, 1), bias=False)\n",
       "  (bn1): BatchNorm2d(64, eps=1e-05, momentum=0.9, affine=True, track_running_stats=True)\n",
       "  (conv2): Conv2d(64, 128, kernel_size=(3, 3), stride=(1, 1), padding=(1, 1), bias=False)\n",
       "  (bn2): BatchNorm2d(128, eps=1e-05, momentum=0.1, affine=True, track_running_stats=True)\n",
       "  (maxpool): AvgPool2d(kernel_size=2, stride=2, padding=0)\n",
       "  (basicblock1): BasicBlock(\n",
       "    (conv1): Conv2d(128, 128, kernel_size=(3, 3), stride=(1, 1), padding=(1, 1), bias=False)\n",
       "    (bn1): BatchNorm2d(128, eps=1e-05, momentum=0.1, affine=False, track_running_stats=True)\n",
       "    (conv2): Conv2d(128, 128, kernel_size=(3, 3), stride=(1, 1), padding=(1, 1), bias=False)\n",
       "    (bn2): BatchNorm2d(128, eps=1e-05, momentum=0.1, affine=False, track_running_stats=True)\n",
       "    (shortcut): Sequential()\n",
       "  )\n",
       "  (conv3): Conv2d(128, 256, kernel_size=(3, 3), stride=(1, 1), padding=(1, 1), bias=False)\n",
       "  (bn3): BatchNorm2d(256, eps=1e-05, momentum=0.1, affine=True, track_running_stats=True)\n",
       "  (conv4): Conv2d(256, 256, kernel_size=(3, 3), stride=(1, 1), padding=(1, 1), bias=False)\n",
       "  (bn4): BatchNorm2d(256, eps=1e-05, momentum=0.1, affine=True, track_running_stats=True)\n",
       "  (basicblock2): BasicBlock(\n",
       "    (conv1): Conv2d(256, 256, kernel_size=(3, 3), stride=(1, 1), padding=(1, 1), bias=False)\n",
       "    (bn1): BatchNorm2d(256, eps=1e-05, momentum=0.1, affine=False, track_running_stats=True)\n",
       "    (conv2): Conv2d(256, 256, kernel_size=(3, 3), stride=(1, 1), padding=(1, 1), bias=False)\n",
       "    (bn2): BatchNorm2d(256, eps=1e-05, momentum=0.1, affine=False, track_running_stats=True)\n",
       "    (shortcut): Sequential()\n",
       "  )\n",
       "  (linear): Linear(in_features=1024, out_features=10, bias=True)\n",
       ")"
      ]
     },
     "execution_count": 32,
     "metadata": {},
     "output_type": "execute_result"
    }
   ],
   "source": [
    "org_model"
   ]
  },
  {
   "cell_type": "markdown",
   "id": "9b30a217-d2fb-43d5-b3ce-5fb370a9224d",
   "metadata": {},
   "source": [
    "## load a sample image"
   ]
  },
  {
   "cell_type": "code",
   "execution_count": 35,
   "id": "728dc268-ca89-4ce9-8348-6b6148da8e56",
   "metadata": {
    "tags": []
   },
   "outputs": [
    {
     "data": {
      "text/plain": [
       "<matplotlib.image.AxesImage at 0x7fb82274d540>"
      ]
     },
     "execution_count": 35,
     "metadata": {},
     "output_type": "execute_result"
    },
    {
     "data": {
      "image/png": "[encoded data removed]",
      "text/plain": [
       "<Figure size 432x288 with 1 Axes>"
      ]
     },
     "metadata": {
      "needs_background": "light"
     },
     "output_type": "display_data"
    }
   ],
   "source": [
    "img = np.array(Image.open(\"./bird6.png\"))\n",
    "\n",
    "# transfrom: normalize to [0,1]\n",
    "to_tensor = transforms.ToTensor() # [n_channel, nh, nw]\n",
    "img_tensor = to_tensor(img).unsqueeze(0) \n",
    "\n",
    "img_this_example = img_tensor[0] # Assume batch size = 1\n",
    "img_enc = [encryptor.encrypt(this_channel.ravel()) for this_channel in img_this_example]\n",
    "\n",
    "dec = decryptor.decrypt(img_enc[0])[:1024]\n",
    "plt.imshow(dec.reshape(32,32))"
   ]
  },
  {
   "cell_type": "markdown",
   "id": "4d9eb657-673a-4433-a5c7-5ca5dc2488fb",
   "metadata": {},
   "source": [
    "## ResNet: 0. early layers"
   ]
  },
  {
   "cell_type": "code",
   "execution_count": null,
   "id": "2b3fbeee-f45f-4a40-9fc8-09cd15b3030a",
   "metadata": {},
   "outputs": [],
   "source": [
    "def convolve_fhe(rotated_ctxt:List, \n",
    "                kernel:np.ndarray, \n",
    "                sec:SEALContext, \n",
    "                pad_masks:List=None,\n",
    "                eps:float=1e-6,\n",
    "                ) -> List:\n",
    "    \"\"\"\n",
    "    per-channel convolution.\n",
    "\n",
    "    params\n",
    "    ------\n",
    "    rotated_ctxt: \n",
    "        list of rotated ctxts of a channel\n",
    "\n",
    "    ignores multiplciation with vales less than eps. (assumed to be 0)\n",
    "    \n",
    "    NOTE\n",
    "    ----\n",
    "    When the input data is normalized [0,1], non-negligible number of weights \n",
    "    are smaller than 1e-6.\n",
    "    \"\"\"\n",
    "    if pad_masks is None: pad_masks = [False] * len(rotated_ctxt)\n",
    "\n",
    "    rkernel = kernel.ravel()\n",
    "    out_fhe = None\n",
    "    for rk, rr, mask in zip(rkernel, rotated_ctxt, pad_masks):\n",
    "        #print(\"mask\", mask)\n",
    "        if abs(rk) > eps:\n",
    "            if out_fhe is None:\n",
    "                out_fhe = sec.multByConst(rr, rk, broadcast=True, rescale=True)\n",
    "                if mask is not False:\n",
    "                    mm = np.zeros(int(out_fhe.poly_modulus_degree()/2))\n",
    "                    mm[:len(mask)] = mask\n",
    "                    sec.multByConst(out_fhe, mm, inplace=True, rescale=True)\n",
    "            else:\n",
    "                tmp = sec.multByConst(rr, rk, broadcast=True, rescale=True)\n",
    "                if mask is not False:\n",
    "                    mm = np.zeros(int(tmp.poly_modulus_degree()/2))\n",
    "                    mm[:len(mask)] = mask\n",
    "                    sec.multByConst(tmp, mm, inplace=True, rescale=True)\n",
    "                sec.add(out_fhe, tmp, inplace=True)\n",
    "                print(sec.decrypt(out_fhe)[:1024])\n",
    "\n",
    "    return out_fhe\n",
    "\n",
    "def my_conv2D_FHE(sec:SEALContext, \n",
    "                img_enc:List, \n",
    "                nh:int, \n",
    "                nw:int, \n",
    "                convlayer:Conv2d,\n",
    "                stride_in:int =1, \n",
    "                stride_out:int =1, \n",
    "                padding:str =\"same\"):\n",
    "    \"\"\"\n",
    "    \n",
    "    Convolution between encrypted image and plain kernel\n",
    "\n",
    "    parameters\n",
    "    ----------\n",
    "    sec : Ciphertext\n",
    "    stride_in: strides that have applied to img_enc so far\n",
    "    stride_out: stride additionaly applied to img_enc this time\n",
    "    kernel: conv layer weights from a Pytorch model\n",
    "    nh: height of the **original** image\n",
    "    nw: width of the **original** image\n",
    "    \n",
    "    Note\n",
    "    ----\n",
    "    1. converting a list (of list) to a tensor is 'extremely' slow. \n",
    "       So, convert the list to a numpy array first.\n",
    "    2. strided convolution results in sparse ciphertext. \n",
    "       Strides must be tracked to determine value slots of a ctxt.\n",
    "       It's important to distinguish *strides so far* and the *new stride*.\n",
    "    \"\"\"\n",
    "    kernel = convlayer.weight.detach().numpy()\n",
    "    bias = convlayer.bias.detach().numpy()\n",
    "\n",
    "    c_out, c_in, f_h, f_w = kernel.shape\n",
    "    # e.g., new stride_2 to strided_2 = stride_4\n",
    "    stride_out *= stride_in\n",
    "    out_nh, out_nw = get_out_size((nh, nw), (f_h, f_w), \n",
    "                                  stride=stride_out, \n",
    "                                  padding=padding)\n",
    "    \n",
    "    print(\"Output image size\", out_nh, out_nw)\n",
    "    \n",
    "    # 3 - > 5, 5 - > 9 , ... \n",
    "    dilated_shape = ((f_h-1)*stride_in+1,\n",
    "                     (f_w-1)*stride_in+1,)\n",
    "    #dilated_kernel = np.zeros(dilated_shape)\n",
    "\n",
    "    # Striding by using mask\n",
    "    mask = np.zeros(int(sec.parms.poly_modulus_degree()/2))\n",
    "    if stride_out == 1:\n",
    "        mask[:nw*nh] = np.ones(nw*nh)\n",
    "    else :\n",
    "        _mask = np.zeros((nw,nh))\n",
    "        _mask[::stride_out,::stride_out] = 1.\n",
    "        mask[:nw*nh] = _mask.ravel()\n",
    "\n",
    "    #print(mask[:1024].reshape(32,32))\n",
    "    # padding mask\n",
    "    pad_masks = gen_pad_mask((f_h, f_w), (nh, nw))\n",
    "\n",
    "    # rotate each channel\n",
    "    rotated =[]\n",
    "    for channel_enc in img_enc:\n",
    "        #img_aug = aug_ctxt(channel_enc, nh, nw, sec)\n",
    "        rotated.append(rotate_for_conv(channel_enc, nw, \n",
    "                                        dilated_shape[0],\n",
    "                                        dilated_shape[1], \n",
    "                                        sec, \n",
    "                                        stride=stride_in))\n",
    "\n",
    "    ### Main loop ###\n",
    "    conv_out=[]\n",
    "    for this_kernel_in_channel, this_bias in zip(kernel, bias):\n",
    "\n",
    "        # convolve each channel of image and kernel\n",
    "        result_each_out_channel = None\n",
    "        for this_channel, this_kernel in zip(rotated, this_kernel_in_channel):\n",
    "            # 0 - c_in\n",
    "            if result_each_out_channel == None:\n",
    "                result_each_out_channel = convolve_fhe(this_channel, this_kernel, sec, pad_masks)\n",
    "            else:\n",
    "                sec.add(result_each_out_channel,\n",
    "                        convolve_fhe(this_channel, this_kernel, sec, pad_masks), inplace=True)\n",
    "        sec.addConst(result_each_out_channel, this_bias*mask, inplace=True)\n",
    "\n",
    "\n",
    "        conv_out.append(result_each_out_channel)\n",
    "\n",
    "    return conv_out, out_nh, out_nw"
   ]
  }
 ],
 "metadata": {
  "kernelspec": {
   "display_name": "Python 3 (ipykernel)",
   "language": "python",
   "name": "python3"
  },
  "language_info": {
   "codemirror_mode": {
    "name": "ipython",
    "version": 3
   },
   "file_extension": ".py",
   "mimetype": "text/x-python",
   "name": "python",
   "nbconvert_exporter": "python",
   "pygments_lexer": "ipython3",
   "version": "3.10.4"
  }
 },
 "nbformat": 4,
 "nbformat_minor": 5
}
