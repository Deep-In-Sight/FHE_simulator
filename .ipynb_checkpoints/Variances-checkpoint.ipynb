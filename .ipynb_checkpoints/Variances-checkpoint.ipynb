{
 "cells": [
  {
   "cell_type": "markdown",
   "id": "cbdebca9",
   "metadata": {},
   "source": [
    "Need to decide where to put keys  \n",
    "-> Need a use case diagram.\n",
    "\n"
   ]
  },
  {
   "cell_type": "code",
   "execution_count": 6,
   "id": "f1c2b2fd",
   "metadata": {},
   "outputs": [],
   "source": [
    "import numpy as np\n",
    "from cipher import Ring, Parameters, Context, Evaluator, Encryptor, Decryptor"
   ]
  },
  {
   "cell_type": "code",
   "execution_count": 15,
   "id": "b46e4e82",
   "metadata": {},
   "outputs": [],
   "source": [
    "keys = {\"mult\":'hihi',\n",
    "        \"rot\":{'1':'hi1',\n",
    "               '2':'hi2',\n",
    "               '4':'hi4',\n",
    "               '8':'hi8'}}\n",
    "\n",
    "evalu = Evaluator(keys)\n",
    "encryptor = Encryptor(context.enc_key)\n",
    "\n",
    "decryptor = Decryptor(sk)\n",
    "\n",
    "ctxt = encryptor.encrypt(np.array([1,2,3,4,5,6,7,8]))"
   ]
  },
  {
   "cell_type": "code",
   "execution_count": null,
   "id": "36d22ef5",
   "metadata": {},
   "outputs": [],
   "source": []
  },
  {
   "cell_type": "code",
   "execution_count": null,
   "id": "f09802a0",
   "metadata": {},
   "outputs": [],
   "source": []
  },
  {
   "cell_type": "code",
   "execution_count": 17,
   "id": "dabe46c1",
   "metadata": {},
   "outputs": [],
   "source": [
    "def fhe_sum(ctxt):\n",
    "    arr = ctxt._arr\n",
    "    nslots = arr.__len__()\n",
    "    log2n = np.log2(nslots).astype(int)\n",
    "    copied = np.copy(arr)\n",
    "    for i in range(log2n):\n",
    "        copied += np.roll(copied, -2**i)\n",
    "        \n",
    "    return copied"
   ]
  },
  {
   "cell_type": "code",
   "execution_count": null,
   "id": "a7ed69c9",
   "metadata": {},
   "outputs": [],
   "source": []
  },
  {
   "cell_type": "code",
   "execution_count": 18,
   "id": "82916f08",
   "metadata": {},
   "outputs": [
    {
     "data": {
      "text/plain": [
       "array([36, 36, 36, 36, 36, 36, 36, 36])"
      ]
     },
     "execution_count": 18,
     "metadata": {},
     "output_type": "execute_result"
    }
   ],
   "source": [
    "fhe_sum(ctxt)"
   ]
  },
  {
   "cell_type": "code",
   "execution_count": 59,
   "id": "eaa9bcdc",
   "metadata": {},
   "outputs": [
    {
     "data": {
      "text/plain": [
       "36"
      ]
     },
     "execution_count": 59,
     "metadata": {},
     "output_type": "execute_result"
    }
   ],
   "source": [
    "np.sum(arr)"
   ]
  },
  {
   "cell_type": "code",
   "execution_count": 45,
   "id": "4d96b91e",
   "metadata": {},
   "outputs": [],
   "source": [
    "def my_var(arrx):\n",
    "    n = arrx.__len__()\n",
    "    sumx = np.sum(arrx)\n",
    "    meanx = sumx / n\n",
    "    sub = arrx - meanx\n",
    "    squared = sub * sub\n",
    "    return np.sum(squared) * (1./(n))\n",
    "    "
   ]
  },
  {
   "cell_type": "code",
   "execution_count": 34,
   "id": "f010d191",
   "metadata": {},
   "outputs": [],
   "source": [
    "arrx = np.array([1,2,3,4])"
   ]
  },
  {
   "cell_type": "code",
   "execution_count": 27,
   "id": "a0b844c4",
   "metadata": {},
   "outputs": [],
   "source": [
    "diff = np.sum(arrx) - np.mean(arrx)"
   ]
  },
  {
   "cell_type": "code",
   "execution_count": 39,
   "id": "00e75bfa",
   "metadata": {},
   "outputs": [
    {
     "data": {
      "text/plain": [
       "5.0"
      ]
     },
     "execution_count": 39,
     "metadata": {},
     "output_type": "execute_result"
    }
   ],
   "source": [
    "1.5**2 + 0.5**2 + 0.5**2 + 1.5**2"
   ]
  },
  {
   "cell_type": "code",
   "execution_count": 28,
   "id": "3c88e7f5",
   "metadata": {},
   "outputs": [
    {
     "data": {
      "text/plain": [
       "56.25"
      ]
     },
     "execution_count": 28,
     "metadata": {},
     "output_type": "execute_result"
    }
   ],
   "source": [
    "np.sum(diff**2)"
   ]
  },
  {
   "cell_type": "code",
   "execution_count": 46,
   "id": "132ba6ce",
   "metadata": {},
   "outputs": [
    {
     "name": "stdout",
     "output_type": "stream",
     "text": [
      "2.5\n",
      "[-1.5 -0.5  0.5  1.5]\n",
      "[2.25 0.25 0.25 2.25]\n"
     ]
    },
    {
     "data": {
      "text/plain": [
       "1.25"
      ]
     },
     "execution_count": 46,
     "metadata": {},
     "output_type": "execute_result"
    }
   ],
   "source": [
    "my_var(arrx)"
   ]
  },
  {
   "cell_type": "code",
   "execution_count": 36,
   "id": "d1dcacf0",
   "metadata": {},
   "outputs": [
    {
     "data": {
      "text/plain": [
       "2.5"
      ]
     },
     "execution_count": 36,
     "metadata": {},
     "output_type": "execute_result"
    }
   ],
   "source": [
    "np.mean(arrx)"
   ]
  },
  {
   "cell_type": "code",
   "execution_count": 47,
   "id": "5cd2f588",
   "metadata": {},
   "outputs": [
    {
     "data": {
      "text/plain": [
       "1.25"
      ]
     },
     "execution_count": 47,
     "metadata": {},
     "output_type": "execute_result"
    }
   ],
   "source": [
    "np.var(arrx)"
   ]
  },
  {
   "cell_type": "code",
   "execution_count": null,
   "id": "e51a0521",
   "metadata": {},
   "outputs": [],
   "source": [
    "def my_cov(arrx, arry):\n",
    "    sumx = np.sum(arrx)\n",
    "    sumy = np.sum(arry)\n",
    "    meanx = sumx / len(arrx)\n",
    "    meany = sumy / len(arry)\n",
    "    \n",
    "    "
   ]
  },
  {
   "cell_type": "code",
   "execution_count": 4,
   "id": "16c520ce",
   "metadata": {},
   "outputs": [
    {
     "data": {
      "text/plain": [
       "25.575424759098897"
      ]
     },
     "execution_count": 4,
     "metadata": {},
     "output_type": "execute_result"
    }
   ],
   "source": [
    "np.log2(5e7)"
   ]
  },
  {
   "cell_type": "code",
   "execution_count": null,
   "id": "945ab5e6",
   "metadata": {},
   "outputs": [],
   "source": []
  }
 ],
 "metadata": {
  "kernelspec": {
   "display_name": "Python 3 (ipykernel)",
   "language": "python",
   "name": "python3"
  },
  "language_info": {
   "codemirror_mode": {
    "name": "ipython",
    "version": 3
   },
   "file_extension": ".py",
   "mimetype": "text/x-python",
   "name": "python",
   "nbconvert_exporter": "python",
   "pygments_lexer": "ipython3",
   "version": "3.9.7"
  }
 },
 "nbformat": 4,
 "nbformat_minor": 5
}
