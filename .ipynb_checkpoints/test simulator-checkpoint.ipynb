{
 "cells": [
  {
   "cell_type": "code",
   "execution_count": 10,
   "id": "3f738642",
   "metadata": {},
   "outputs": [
    {
     "name": "stdout",
     "output_type": "stream",
     "text": [
      "The autoreload extension is already loaded. To reload it, use:\n",
      "  %reload_ext autoreload\n"
     ]
    }
   ],
   "source": [
    "%load_ext autoreload\n",
    "%autoreload 2"
   ]
  },
  {
   "cell_type": "code",
   "execution_count": 11,
   "id": "e141ea8b",
   "metadata": {},
   "outputs": [],
   "source": [
    "import numpy as np\n",
    "from cipher import Ring, Parameters, Context, Evaluator, Encryptor, Decryptor"
   ]
  },
  {
   "cell_type": "code",
   "execution_count": 12,
   "id": "ea042ecc",
   "metadata": {},
   "outputs": [],
   "source": [
    "myring = Ring(seed=1234)\n",
    "parms = Parameters()\n",
    "context = Context(parms, myring)\n",
    "\n",
    "sk = context.generate_secret_key()"
   ]
  },
  {
   "cell_type": "code",
   "execution_count": 13,
   "id": "d2a8d8f9",
   "metadata": {},
   "outputs": [],
   "source": [
    "keys = {\"mult\":'hihi',\n",
    "        \"rot\":{'1':'hi1',\n",
    "               '2':'hi2',\n",
    "               '4':'hi4',\n",
    "               '8':'hi8'}}\n",
    "\n",
    "evalu = Evaluator(keys)\n",
    "encryptor = Encryptor(context.enc_key)\n",
    "\n",
    "decryptor = Decryptor(sk)\n",
    "\n",
    "ctxt = encryptor.encrypt(np.array([1,2,3,4,5,6,7,8]))"
   ]
  },
  {
   "cell_type": "code",
   "execution_count": 14,
   "id": "b72a5af0",
   "metadata": {},
   "outputs": [
    {
     "data": {
      "text/plain": [
       "You can't read the content"
      ]
     },
     "execution_count": 14,
     "metadata": {},
     "output_type": "execute_result"
    }
   ],
   "source": [
    "ctxt"
   ]
  },
  {
   "cell_type": "code",
   "execution_count": 15,
   "id": "224309a2",
   "metadata": {},
   "outputs": [
    {
     "data": {
      "text/plain": [
       "array([1, 2, 3, 4, 5, 6, 7, 8])"
      ]
     },
     "execution_count": 15,
     "metadata": {},
     "output_type": "execute_result"
    }
   ],
   "source": [
    "# you need to decrypt ctxt to view the data\n",
    "decryptor.decrypt(ctxt)"
   ]
  },
  {
   "cell_type": "markdown",
   "id": "e0714c0f",
   "metadata": {},
   "source": [
    "## Wrong SK"
   ]
  },
  {
   "cell_type": "code",
   "execution_count": 20,
   "id": "b8ed821a",
   "metadata": {},
   "outputs": [
    {
     "ename": "ValueError",
     "evalue": "You have a wrong secret key",
     "output_type": "error",
     "traceback": [
      "\u001b[0;31m---------------------------------------------------------------------------\u001b[0m",
      "\u001b[0;31mValueError\u001b[0m                                Traceback (most recent call last)",
      "\u001b[0;32m/tmp/ipykernel_102823/2208258352.py\u001b[0m in \u001b[0;36m<module>\u001b[0;34m\u001b[0m\n\u001b[1;32m      2\u001b[0m \u001b[0mwrong_decryptor\u001b[0m \u001b[0;34m=\u001b[0m \u001b[0mDecryptor\u001b[0m\u001b[0;34m(\u001b[0m\u001b[0manother_sk\u001b[0m\u001b[0;34m)\u001b[0m\u001b[0;34m\u001b[0m\u001b[0;34m\u001b[0m\u001b[0m\n\u001b[1;32m      3\u001b[0m \u001b[0;34m\u001b[0m\u001b[0m\n\u001b[0;32m----> 4\u001b[0;31m \u001b[0mwrong_decryptor\u001b[0m\u001b[0;34m.\u001b[0m\u001b[0mdecrypt\u001b[0m\u001b[0;34m(\u001b[0m\u001b[0mctxt\u001b[0m\u001b[0;34m)\u001b[0m\u001b[0;34m\u001b[0m\u001b[0;34m\u001b[0m\u001b[0m\n\u001b[0m",
      "\u001b[0;32m~/Work/FHE/Algorithms/cipher.py\u001b[0m in \u001b[0;36mdecrypt\u001b[0;34m(self, ctxt)\u001b[0m\n\u001b[1;32m    122\u001b[0m             \u001b[0;32mreturn\u001b[0m \u001b[0mctxt\u001b[0m\u001b[0;34m.\u001b[0m\u001b[0m_arr\u001b[0m\u001b[0;34m\u001b[0m\u001b[0;34m\u001b[0m\u001b[0m\n\u001b[1;32m    123\u001b[0m         \u001b[0;32melse\u001b[0m\u001b[0;34m:\u001b[0m\u001b[0;34m\u001b[0m\u001b[0;34m\u001b[0m\u001b[0m\n\u001b[0;32m--> 124\u001b[0;31m             \u001b[0;32mraise\u001b[0m \u001b[0mValueError\u001b[0m\u001b[0;34m(\u001b[0m\u001b[0;34m\"You have a wrong secret key\"\u001b[0m\u001b[0;34m)\u001b[0m\u001b[0;34m\u001b[0m\u001b[0;34m\u001b[0m\u001b[0m\n\u001b[0m\u001b[1;32m    125\u001b[0m \u001b[0;34m\u001b[0m\u001b[0m\n\u001b[1;32m    126\u001b[0m \u001b[0;32mclass\u001b[0m \u001b[0mEvaluator\u001b[0m\u001b[0;34m(\u001b[0m\u001b[0;34m)\u001b[0m\u001b[0;34m:\u001b[0m\u001b[0;34m\u001b[0m\u001b[0;34m\u001b[0m\u001b[0m\n",
      "\u001b[0;31mValueError\u001b[0m: You have a wrong secret key"
     ]
    }
   ],
   "source": [
    "another_sk = sk +1\n",
    "wrong_decryptor = Decryptor(another_sk)\n",
    "\n",
    "wrong_decryptor.decrypt(ctxt)"
   ]
  },
  {
   "cell_type": "code",
   "execution_count": null,
   "id": "51d36818",
   "metadata": {},
   "outputs": [],
   "source": []
  },
  {
   "cell_type": "markdown",
   "id": "f505a4e1",
   "metadata": {},
   "source": [
    "## ctxt as a return"
   ]
  },
  {
   "cell_type": "code",
   "execution_count": 21,
   "id": "7874c5f7",
   "metadata": {},
   "outputs": [
    {
     "ename": "TypeError",
     "evalue": "'Encryptor' object is not callable",
     "output_type": "error",
     "traceback": [
      "\u001b[0;31m---------------------------------------------------------------------------\u001b[0m",
      "\u001b[0;31mTypeError\u001b[0m                                 Traceback (most recent call last)",
      "\u001b[0;32m/tmp/ipykernel_102823/3860864740.py\u001b[0m in \u001b[0;36m<module>\u001b[0;34m\u001b[0m\n\u001b[0;32m----> 1\u001b[0;31m \u001b[0mctxt1\u001b[0m \u001b[0;34m=\u001b[0m \u001b[0mencryptor\u001b[0m\u001b[0;34m(\u001b[0m\u001b[0;34m[\u001b[0m\u001b[0;36m1\u001b[0m\u001b[0;34m,\u001b[0m\u001b[0;36m2\u001b[0m\u001b[0;34m,\u001b[0m\u001b[0;36m3\u001b[0m\u001b[0;34m,\u001b[0m\u001b[0;36m4\u001b[0m\u001b[0;34m]\u001b[0m\u001b[0;34m)\u001b[0m\u001b[0;34m\u001b[0m\u001b[0;34m\u001b[0m\u001b[0m\n\u001b[0m",
      "\u001b[0;31mTypeError\u001b[0m: 'Encryptor' object is not callable"
     ]
    }
   ],
   "source": [
    "ctxt1 = encryptor([1,2,3,4])"
   ]
  },
  {
   "cell_type": "code",
   "execution_count": null,
   "id": "67448fde",
   "metadata": {},
   "outputs": [],
   "source": []
  }
 ],
 "metadata": {
  "kernelspec": {
   "display_name": "Python 3 (ipykernel)",
   "language": "python",
   "name": "python3"
  },
  "language_info": {
   "codemirror_mode": {
    "name": "ipython",
    "version": 3
   },
   "file_extension": ".py",
   "mimetype": "text/x-python",
   "name": "python",
   "nbconvert_exporter": "python",
   "pygments_lexer": "ipython3",
   "version": "3.9.7"
  }
 },
 "nbformat": 4,
 "nbformat_minor": 5
}
