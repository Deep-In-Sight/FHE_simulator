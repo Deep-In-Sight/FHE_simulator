{
 "cells": [
  {
   "cell_type": "markdown",
   "id": "2ef6abd5-92b3-4462-a16e-188765f44081",
   "metadata": {},
   "source": [
    "본 예제는 pseudo code를 표현하였습니다.  \n",
    "동형암호 연산에서 반드시 필요한 **rescale**, **moddown** 작업을 보여드립니다. \n",
    "\n",
    "암호문의 기본 특성은\n",
    "1. slot 개수 (고정)\n",
    "2. scale (가변)\n",
    "3. noise budget (가변) \n",
    "이 있습니다. \n",
    "\n",
    "연산에 사용되는 두 암호문은 scale과 mod index (혹은 level, noise budget라고도 표현)가 맞아야합니다.  "
   ]
  },
  {
   "cell_type": "code",
   "execution_count": 5,
   "id": "1a354967-c400-4cf4-a0f4-2552da792456",
   "metadata": {},
   "outputs": [],
   "source": [
    "# 기존 함수\n",
    "def fun(x,y):\n",
    "    return (x**2+y**2)**3\n",
    "\n",
    "# 동형암호 버전\n",
    "def fun_fhe_ver1(x,y):\n",
    "    \"\"\"pseudo code.\n",
    "       *, +은 FHE 전용 연산을 표현\n",
    "       x: scale = 30, level = 0\n",
    "       y: scale = 30, level = 0\n",
    "       1. 예제에서 input 변수의 'scale'은 기본값 30 (2^30)으로 가정\n",
    "       2. 예제에서 input 변수의 mod(level)는 0으로 가정 \n",
    "    \"\"\"\n",
    "    x2 = x*x \n",
    "    # 곱셈 후 x2.scale = x.scale + x.scale = 60으로 증가.\n",
    "    rescale(x2) # 60 -> 30으로 scale down하면 대신 곱셈 깊이(level) 증가 (scale:30, level:1)\n",
    "    y2 = y*y # (scale:60, level:0)\n",
    "    rescale(y2) # 60 -> 30으로 scale down => (s:30, l:1)\n",
    "    z = x2 + y2 # (s:30, l:1) 덧셈은 level 증가, scale 증가 없음, \n",
    "    z2 = z * z # (s:60, l:1)\n",
    "    rescale(z2) # (s:30, l:2)\n",
    "    \n",
    "    moddown(z) # z2와 계산 가능하도록 임의로 level 상향. l1=1 -> l=2, (s:30, l:2)\n",
    "    z3 = z2*z # == z * (z * z) => (s:60, l:2)\n",
    "    return z3 # scale = 60인 암호문을 반환 "
   ]
  },
  {
   "cell_type": "markdown",
   "id": "57109b96-588d-4af1-89fa-ec41ee109f10",
   "metadata": {},
   "source": [
    "1. Binary Op에서 암호문의 scale이 동일하고, 곱셈 깊이가 동일해야 연산 가능합니다\n",
    "2. 모든 연산은 Unary 혹은 Binary"
   ]
  },
  {
   "cell_type": "code",
   "execution_count": 14,
   "id": "c7cc5722-e777-49d3-9207-906f1abf8fbc",
   "metadata": {},
   "outputs": [],
   "source": [
    "def fun_fhe_ver2(x,y):\n",
    "    x2 = x*x # (s:60, l=0)\n",
    "    y2 = y*y # # (s:60, l=0)\n",
    "    # !!! x2, y2 rescale skipped !!!\n",
    "    z = x2 + y2 # (s:60, l:0)\n",
    "    rescale(z) # (s:30, l:1)\n",
    "    z2 = z*z # (s:60, l:1)\n",
    "    rescale(z2) # (s:30, l:2)   \n",
    "    moddown(z) # (s:30, l:2)\n",
    "    \n",
    "    z3 = z2*z # == z * (z * z) => (s:60, l:2)\n",
    "    return z3 "
   ]
  },
  {
   "cell_type": "markdown",
   "id": "fbce7c01-1c8a-45b6-88b1-24418e0770ec",
   "metadata": {},
   "source": [
    "- ver1에서는 rescale이 3회, ver2에서는 rescale이 2회 쓰였습니다\n",
    "- 최적의 rescale, moddown 지점 (그리고 bootstrap 지점)을 컴파일러 최적화로 결정하려합니다 \n",
    "- 이 예제에서 연산 cost는 operand의 `scale`, `level`, 그리고 `built-in function`들의 cost의 함수입니다\n",
    "- f_cost = f_cost(s1, s2, l1, l2, c_rescale, c_moddown, c_mult, c_add)\n",
    "- 곱셈 연산은 operand의 `level`에 따라 속도가 달라집니다  \n",
    "- c_mult = c_mult(l1,l2) \n",
    "\n",
    "따라서 암호문의 level, scale이 컴파일러의 최적화 pass에서 사용될 예정입니다. "
   ]
  }
 ],
 "metadata": {
  "kernelspec": {
   "display_name": "Python 3 (ipykernel)",
   "language": "python",
   "name": "python3"
  },
  "language_info": {
   "codemirror_mode": {
    "name": "ipython",
    "version": 3
   },
   "file_extension": ".py",
   "mimetype": "text/x-python",
   "name": "python",
   "nbconvert_exporter": "python",
   "pygments_lexer": "ipython3",
   "version": "3.10.4"
  }
 },
 "nbformat": 4,
 "nbformat_minor": 5
}
