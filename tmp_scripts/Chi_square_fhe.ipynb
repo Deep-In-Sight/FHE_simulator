{
 "cells": [
  {
   "cell_type": "markdown",
   "metadata": {},
   "source": [
    "This is a PoC of Chi-square algorithm in FHE.  \n",
    "The package serves as a simulator of a FHE library.   \n",
    "A ctxt is not real ciphertext. It has a plain numpy array inside (ctxt._arr)  \n",
    "But the pacakge requires for scale management of Ciphertexts and the availablity of keys. \n",
    "\n",
    "Main Idea of the algorithm is to map any combination of categories into a non-overlapping set of integers.  \n",
    "Then, by counting numbers in each bin, we build the contingency table.  \n",
    "Given a contingency table, calculatng the Chi-square statistics is straightforward.\n",
    "\n",
    "To achieve this, we need a comparator to compare values against each bin boundary.  \n",
    "This package does not ship the functoinality. But BEAST has one.  "
   ]
  },
  {
   "cell_type": "code",
   "execution_count": 10,
   "id": "e993a3b1-7adc-4e39-8de1-332e3b47af73",
   "metadata": {},
   "outputs": [],
   "source": [
    "import numpy as np\n",
    "import pandas as pd\n",
    "\n",
    "from hemul.cipher import *\n",
    "from hemul.scheme import *\n",
    "from hemul.algorithms import Algorithms\n",
    "from hemul.context import set_all\n",
    "from math import sqrt\n",
    "\n",
    "def approx_comp(x,v):\n",
    "    \"\"\"Placeholder\"\"\"\n",
    "    return np.array(x > v).astype(float)\n",
    "\n",
    "def get_bincount(arr, nnn, bmin, bmax):\n",
    "    n_larger = [nnn]\n",
    "    for i, bb in enumerate(range(bmin,bmax+1)):\n",
    "        n_larger.append(np.sum(approx_comp(arr,bb+0.5)))\n",
    "\n",
    "    bincount = np.array(n_larger)[:-1] - np.array(n_larger)[1:]\n",
    "    return bincount"
   ]
  },
  {
   "cell_type": "code",
   "execution_count": 11,
   "id": "9b3c80ab-53ab-4aa9-87ae-0daf5a2691b7",
   "metadata": {},
   "outputs": [
    {
     "name": "stdout",
     "output_type": "stream",
     "text": [
      "FHE context is set\n"
     ]
    }
   ],
   "source": [
    "context, ev, encoder, encryptor, decryptor = set_all(30, 150, 12)\n",
    "nslots = context.params.nslots"
   ]
  },
  {
   "cell_type": "markdown",
   "id": "e1b8bb49-bf4e-44d9-ac63-2029f6382a57",
   "metadata": {},
   "source": [
    "### Load data\n",
    "\n",
    "빈 슬롯 == 0 이므로, category encoding할 때 1부터 시작해야함.   \n",
    "Yes / No 라고 1/0으로 하지 말 것. "
   ]
  },
  {
   "cell_type": "code",
   "execution_count": 12,
   "id": "5bf812e4-37fa-4688-b989-e7a4c5518c65",
   "metadata": {},
   "outputs": [
    {
     "name": "stdout",
     "output_type": "stream",
     "text": [
      "Enough slots? 1470 < 4096\n"
     ]
    }
   ],
   "source": [
    "data = pd.read_csv(\"../stat/WA_Fn-UseC_-HR-Employee-Attrition.csv\")\n",
    "new_label = {\"Attrition\": {\"Yes\":1, \"No\":0}}\n",
    "data.replace(new_label , inplace = True)\n",
    "\n",
    "ng1 = data.Attrition.nunique()\n",
    "ng2 = data.JobSatisfaction.nunique()\n",
    "\n",
    "ntot = len(data)\n",
    "print(f\"Enough slots? {ntot} < {context.params.nslots}\")\n",
    "V1 = encryptor.encrypt(data.Attrition.values+1) \n",
    "V2 = encryptor.encrypt(data.JobSatisfaction.values)"
   ]
  },
  {
   "cell_type": "code",
   "execution_count": 13,
   "id": "988a0afb-6719-4766-aba5-fca307ee94ae",
   "metadata": {},
   "outputs": [
    {
     "name": "stdout",
     "output_type": "stream",
     "text": [
      "[1233.  237.] [289. 280. 442. 459.]\n"
     ]
    }
   ],
   "source": [
    "bc1 = get_bincount(V1._arr, ntot, 1, 2)\n",
    "bc2 = get_bincount(V2._arr, ntot, 1, 4)\n",
    "\n",
    "print(bc1, bc2)"
   ]
  },
  {
   "cell_type": "markdown",
   "id": "c3ec31f3-7dd9-4e39-ad6e-9919f2389393",
   "metadata": {},
   "source": [
    "category 조합을 4 * 2 = 8 가지의 int로 표현\n",
    "\n",
    "1. V1 = [0,1];  V2 = [0,1,2,3] 일 경우,  \n",
    "4*v1 + v2 = [0,...,7]  :  empty 값인 0과 구별 어려움\n",
    "\n",
    "2. V1 = [0,1];  V2 = [1,2,3,4] 일 경우,  \n",
    "4*v1 + v2 = [1,...,8]  :  결과는 1 ~ 8로 딱 좋으나, V1 bincount때 여전히 0과 구별 어려움. \n",
    "\n",
    "3. V1 = [1,2];  V2 = [1,2,3,4] 일 경우,  \n",
    "  4*v1 + v2 = [5,...,12]  : 분류 가능. 대신 bin의 min과 max를 따로 제공해야함. \n"
   ]
  },
  {
   "cell_type": "code",
   "execution_count": 14,
   "id": "b67107cd-6cdb-4a13-99e4-b62b657888e6",
   "metadata": {},
   "outputs": [
    {
     "name": "stdout",
     "output_type": "stream",
     "text": [
      "[8. 4. 8. ... 0. 0. 0.]\n",
      "[4. 2. 3. ... 0. 0. 0.]\n"
     ]
    }
   ],
   "source": [
    "p_ng2 = Plaintext(np.repeat(ng2, ntot), nslots=nslots, logp=V1.logp)\n",
    "ev.mult_by_plain(V1,p_ng2, inplace=True) ## V1 inplace로 변경됨. \n",
    "ev.rescale_next(V1)\n",
    "ev.mod_down_by(V2, V1.logp, inplace=True)\n",
    "print(V1._arr)\n",
    "print(V2._arr)\n",
    "cat_comb = ev.add(V1, V2)"
   ]
  },
  {
   "cell_type": "markdown",
   "id": "12381a1b-141a-49ba-abaa-17cf77ce1392",
   "metadata": {},
   "source": [
    "#### 각 category에 해당하는 값을 count \n",
    "대소비교"
   ]
  },
  {
   "cell_type": "code",
   "execution_count": 15,
   "id": "e95def82",
   "metadata": {},
   "outputs": [],
   "source": [
    "v = [1,2,3,4]\n",
    "input_ctxt = encryptor.encrypt(v)"
   ]
  },
  {
   "cell_type": "code",
   "execution_count": 16,
   "id": "f25b82a2",
   "metadata": {},
   "outputs": [],
   "source": [
    "ctxt1 = approx_comp(1.5, input_ctxt._arr)\n",
    "# == [0.000001, 0.99999, 0.99999, 0.99999]\n",
    "\n",
    "ctxt2 = approx_comp(2.5, input_ctxt._arr)\n",
    "# == [0.000001, 0.000001, 0.99999, 0.99999]\n",
    "\n",
    "ctxt3 = approx_comp(3.5, input_ctxt._arr)\n",
    "# == [0.0000001, 0.000001, 0.0000001, 0.99999]\n",
    "\n",
    "bin = ctxt1 + ctxt2 + ctxt3 "
   ]
  },
  {
   "cell_type": "code",
   "execution_count": 17,
   "id": "cfbfe137-47f8-4b06-ac69-43e3dc1d3e78",
   "metadata": {},
   "outputs": [],
   "source": [
    "algo = Algorithms(ev, encoder)"
   ]
  },
  {
   "cell_type": "markdown",
   "id": "48d26786-c10e-4e92-92c1-3a143eda2965",
   "metadata": {},
   "source": [
    "if 불가하니 bin 갯수만큼의 질문을 반복하는 것 외에 다른 방법은 없는 듯 "
   ]
  },
  {
   "cell_type": "code",
   "execution_count": 18,
   "id": "b71fedcd-726a-4893-a51a-0a15423311e8",
   "metadata": {},
   "outputs": [
    {
     "name": "stdout",
     "output_type": "stream",
     "text": [
      "[223. 234. 369. 407.  66.  46.  73.  52.   0.   0.]\n"
     ]
    }
   ],
   "source": [
    "contin = encryptor.encrypt(get_bincount(cat_comb._arr, ntot, 5, 12))\n",
    "print(contin._arr[:10])"
   ]
  },
  {
   "cell_type": "markdown",
   "id": "004be314-2fb9-414c-a1cd-cb7863e0f4b0",
   "metadata": {},
   "source": [
    "[a,b,c,d] * [A,B]\n",
    "\n",
    "```\n",
    "[a,b,c,d,#,#,#,#]  \n",
    "        *  \n",
    "[A,A,A,A,0,0,0,0]   \n",
    "        +  \n",
    "[#,#,#,#,a,b,c,d]  \n",
    "        *  \n",
    "[0,0,0,0,B,B,B,B]  \n",
    "```"
   ]
  },
  {
   "cell_type": "markdown",
   "id": "915dc2da-2e46-4512-8caa-6fca32110cc2",
   "metadata": {},
   "source": [
    "### col for multiplication"
   ]
  },
  {
   "cell_type": "code",
   "execution_count": 19,
   "id": "4d4f07de-ff97-4e49-93fc-57337fc70793",
   "metadata": {},
   "outputs": [
    {
     "data": {
      "text/plain": [
       "array([223., 234., 369., 407.,  66.,  46.,  73.,  52.,   0.,   0.])"
      ]
     },
     "execution_count": 19,
     "metadata": {},
     "output_type": "execute_result"
    }
   ],
   "source": [
    "contin._arr[:10]"
   ]
  },
  {
   "cell_type": "markdown",
   "id": "05738d4b-a293-44b5-9a42-ed4435559a4b",
   "metadata": {},
   "source": [
    "## m x n array. \n",
    "\n",
    "[[a,b,c,d],\n",
    " [e,f,g,h],\n",
    " [i,j,k,l],\n",
    " ...]\n",
    " \n",
    "최종적으로 필요한 것은 [a+e+i+..., b+f+j+..., ...] * n\n",
    "\n",
    "\n",
    "\n",
    "```\n",
    "  A  B  C  A  B  C  \n",
    "+    A  B  C  A  B  C  \n",
    "+       A  B  C  A  B  C  \n",
    "==\n",
    "     [a1+c1+b1, a2+b2+c2, a3+b3+c3]\n",
    "```       \n",
    "          \n",
    "\n",
    "co\n",
    "\n"
   ]
  },
  {
   "cell_type": "code",
   "execution_count": 20,
   "id": "61f8d3c7-d1c4-4910-bfbc-999e5dffdee2",
   "metadata": {},
   "outputs": [
    {
     "name": "stdout",
     "output_type": "stream",
     "text": [
      "[289. 280. 442. 459.  66.  46.  73.  52.   0.   0.]\n"
     ]
    }
   ],
   "source": [
    "ctxt = ev.copy(contin)\n",
    "\n",
    "ev.lrot(ctxt, ng2, inplace=True)\n",
    "col_sum = ev.add(contin, ctxt) \n",
    "print(col_sum._arr[:10])\n",
    "\n",
    "mask_c = np.zeros(nslots)\n",
    "mask_c[:ng2] =1 # Only first ng2 slots are valid\n",
    "ev.mult_by_plain(col_sum, encoder.encode(mask_c), inplace=True)\n",
    "col_tmp = ev.lrot(col_sum, -ng2, inplace=False)\n",
    "ev.add(col_sum, col_tmp, inplace=True)"
   ]
  },
  {
   "cell_type": "markdown",
   "id": "ab643ebc-93bc-4699-88e6-564e09c5e189",
   "metadata": {},
   "source": [
    "### row for multiplication"
   ]
  },
  {
   "cell_type": "code",
   "execution_count": 21,
   "id": "b6e6a762-6303-4ce9-9839-b22207784340",
   "metadata": {},
   "outputs": [],
   "source": [
    "def _row_for_mult(row_sum, ntot, ng1, ng2, nslots, debug=False):\n",
    "    # ng1 < ng2\n",
    "    each_element=[]\n",
    "    for i in range(ng1):\n",
    "        mask = np.zeros(nslots)\n",
    "        mask[i*ng2] = 1/ntot\n",
    "        row_tmp = ev.mult_by_plain(row_sum, encoder.encode(mask), inplace=False)\n",
    "        each_element.append(row_tmp)\n",
    "\n",
    "    result = each_element[0]\n",
    "    for ee in each_element[1:]:\n",
    "        ev.add(result, ee, inplace=True)\n",
    "\n",
    "    for i in range(int(sqrt(ng2))):\n",
    "        r_tmp = ev.copy(result)\n",
    "        ev.lrot(r_tmp, -2**i)\n",
    "        ev.add(result, r_tmp, inplace=True)\n",
    "\n",
    "    return result"
   ]
  },
  {
   "cell_type": "code",
   "execution_count": 22,
   "id": "2327d10d-22d5-44e8-a488-f8c662e150ab",
   "metadata": {},
   "outputs": [
    {
     "name": "stdout",
     "output_type": "stream",
     "text": [
      "[1233. 1076.  888.  592.  237.  171.  125.   52.    0.    0.]\n",
      "1233.0 237.0\n"
     ]
    }
   ],
   "source": [
    "row_sum = algo.sum_reduce(contin, nsum=ng2) # 0-th and 4-th slots are valid\n",
    "print(row_sum._arr[:10])\n",
    "print(row_sum._arr[0], row_sum._arr[ng2])"
   ]
  },
  {
   "cell_type": "code",
   "execution_count": 23,
   "id": "840af873-319f-4f15-9760-8156ed99c164",
   "metadata": {},
   "outputs": [],
   "source": [
    "row_mult = _row_for_mult(row_sum, ntot, ng1, ng2, nslots)"
   ]
  },
  {
   "cell_type": "code",
   "execution_count": 24,
   "id": "10ac034c-fc16-4d5b-9f33-5eacda0afe3b",
   "metadata": {},
   "outputs": [
    {
     "name": "stdout",
     "output_type": "stream",
     "text": [
      "60\n",
      "[242.40612245 234.85714286 370.73877551 384.99795918  46.59387755\n",
      "  45.14285714  71.26122449  74.00204082   0.           0.        ]\n",
      "[223. 234. 369. 407.  66.  46.  73.  52.   0.   0.]\n"
     ]
    }
   ],
   "source": [
    "ev.rescale_next(row_mult)\n",
    "ev.rescale_next(col_sum)\n",
    "E = ev.mult(row_mult, col_sum)\n",
    "print(E.logp)\n",
    "ev.rescale_next(E)\n",
    "\n",
    "print(E._arr[:10])\n",
    "print(contin._arr[:10])"
   ]
  },
  {
   "cell_type": "code",
   "execution_count": 25,
   "id": "3bb4b448-da6e-4b5b-b217-152975736768",
   "metadata": {},
   "outputs": [
    {
     "name": "stderr",
     "output_type": "stream",
     "text": [
      "/home/hoseung/Work/FHE/FHE_simulator/hemul/algorithms.py:145: RuntimeWarning: invalid value encountered in divide\n",
      "  new_ctxt._arr /= ctxt2._arr\n"
     ]
    }
   ],
   "source": [
    "#chi2\n",
    "ev.match_mod(contin, E)\n",
    "sub = ev.sub(contin, E, inplace=False)\n",
    "sqr = ev.square(sub, inplace=False)\n",
    "div = algo.divide(sqr,E)\n",
    "chi2 = algo.sum_reduce(div, ng1*ng2)\n"
   ]
  },
  {
   "cell_type": "code",
   "execution_count": 26,
   "id": "58203df1-66b8-45a1-9511-2c6c1f996986",
   "metadata": {},
   "outputs": [
    {
     "data": {
      "text/plain": [
       "array([17.50507701,         nan,         nan, ...,         nan,\n",
       "               nan,         nan])"
      ]
     },
     "execution_count": 26,
     "metadata": {},
     "output_type": "execute_result"
    }
   ],
   "source": [
    "chi2._arr"
   ]
  }
 ],
 "metadata": {
  "kernelspec": {
   "display_name": "Python 3.10.4 ('fhe')",
   "language": "python",
   "name": "python3"
  },
  "language_info": {
   "codemirror_mode": {
    "name": "ipython",
    "version": 3
   },
   "file_extension": ".py",
   "mimetype": "text/x-python",
   "name": "python",
   "nbconvert_exporter": "python",
   "pygments_lexer": "ipython3",
   "version": "3.10.11"
  },
  "vscode": {
   "interpreter": {
    "hash": "5075a704c0d3e9d28fc016097ccb4606b3aa41f4550d939e934d30fcf66246ef"
   }
  }
 },
 "nbformat": 4,
 "nbformat_minor": 5
}
