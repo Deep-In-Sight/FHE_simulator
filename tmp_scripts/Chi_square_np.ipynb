{
 "cells": [
  {
   "cell_type": "code",
   "execution_count": 1,
   "id": "01c5b3cc-3c59-4ed0-ab0c-37c45b258e05",
   "metadata": {},
   "outputs": [],
   "source": [
    "import pandas as pd\n",
    "import matplotlib.pyplot as plt\n",
    "import seaborn as sns\n",
    "import numpy as np\n",
    "from scipy import stats"
   ]
  },
  {
   "cell_type": "code",
   "execution_count": null,
   "id": "a5ef0efe-109b-4daa-97e6-7574c17e8d48",
   "metadata": {},
   "outputs": [],
   "source": [
    "data = pd.read_csv(\"./stat/WA_Fn-UseC_-HR-Employee-Attrition.csv\")\n",
    "data.head()"
   ]
  },
  {
   "cell_type": "markdown",
   "id": "2ab34c45-b1f4-4a17-ad5f-dbb0fb5de26d",
   "metadata": {},
   "source": [
    "### 카테고리를 정해진 숫자로 변환\n",
    "\n",
    "* np.bincount는 연속된 정수로 encode된 상황을 가정함"
   ]
  },
  {
   "cell_type": "code",
   "execution_count": 24,
   "id": "98eaaa7d-0ea1-4110-91ef-ed21d7bc3ac0",
   "metadata": {},
   "outputs": [],
   "source": [
    "new_label = {\"Attrition\": {\"Yes\":1, \"No\":0}}\n",
    "data.replace(new_label , inplace = True)"
   ]
  },
  {
   "cell_type": "code",
   "execution_count": 63,
   "id": "16faf5c9-d821-47dd-afe5-20b1e8fccbfc",
   "metadata": {},
   "outputs": [
    {
     "name": "stdout",
     "output_type": "stream",
     "text": [
      "attrition [1 0 1 ... 0 0 0]\n",
      "Job satisfaction [4 2 3 ... 2 2 3]\n"
     ]
    }
   ],
   "source": [
    "# 제공되어야할 정보\n",
    "ng1 = data.Attrition.nunique() # = [0,1]\n",
    "ng2 = data.JobSatisfaction.nunique() # [1,2,3,4]\n",
    "\n",
    "ntot = len(data)\n",
    "\n",
    "V1 = data.Attrition.values\n",
    "V2 = data.JobSatisfaction.values\n",
    "\n",
    "print(\"attrition\", V1)\n",
    "print(\"Job satisfaction\", V2)"
   ]
  },
  {
   "cell_type": "markdown",
   "id": "b4bb468b-325f-42ab-bd4a-92c250bdce21",
   "metadata": {},
   "source": [
    "### Crosstab"
   ]
  },
  {
   "cell_type": "code",
   "execution_count": 102,
   "id": "797a2a69-83a1-48a3-a26d-55eea1a12efd",
   "metadata": {},
   "outputs": [
    {
     "name": "stdout",
     "output_type": "stream",
     "text": [
      "Contingency Table\n",
      "[[223 234 369 407]\n",
      " [ 66  46  73  52]]\n",
      "[1233  237]\n"
     ]
    }
   ],
   "source": [
    "ct = ng2*V1+V2 # -> 4 x 2 category를 1~8로 표현\n",
    "\n",
    "\n",
    "ct = [0, 1, 7, 5, 1, 3, 5, 7, ...] # 1400개\n",
    "\n",
    "\n",
    "obs = np.bincount(ct)[1:]\n",
    "print(\"Contingency Table\")\n",
    "print(obs.reshape(2,-1))\n",
    "\n",
    "row_sum = np.bincount(V1) # [0,1]\n",
    "col_sum = np.bincount(V2)[1:] # 0,[1,2,3,4]\n",
    "print(row_sum)"
   ]
  },
  {
   "cell_type": "code",
   "execution_count": 101,
   "id": "c9661575-5ce9-4846-b9a1-b85756f44409",
   "metadata": {},
   "outputs": [
    {
     "data": {
      "text/plain": [
       "[242.4061224489796,\n",
       " 234.85714285714286,\n",
       " 370.7387755102041,\n",
       " 384.99795918367346,\n",
       " 46.593877551020405,\n",
       " 45.142857142857146,\n",
       " 71.26122448979592,\n",
       " 74.00204081632653]"
      ]
     },
     "execution_count": 101,
     "metadata": {},
     "output_type": "execute_result"
    }
   ],
   "source": [
    "E = [] # expected frequency\n",
    "for j in range(ng1): # ng1 = 2\n",
    "    for v in col_sum: \n",
    "        E.append(v * row_sum[j] /ntot)\n",
    "E"
   ]
  },
  {
   "cell_type": "code",
   "execution_count": 92,
   "id": "d6af6647-ce3e-42c0-9cdd-83dd76565d45",
   "metadata": {},
   "outputs": [
    {
     "name": "stdout",
     "output_type": "stream",
     "text": [
      "17.505077010348\n"
     ]
    }
   ],
   "source": [
    "chi2 = ((obs - E)**2/E).sum()\n",
    "print(chi2)\n",
    "\n"
   ]
  },
  {
   "cell_type": "markdown",
   "id": "89f9f506-3328-4dfa-a1ae-e7a9f8d39eec",
   "metadata": {},
   "source": [
    "### Degree of freedom"
   ]
  },
  {
   "cell_type": "code",
   "execution_count": 95,
   "id": "1aa0b1ea-7fba-4c09-bd6c-49723cee55ce",
   "metadata": {},
   "outputs": [],
   "source": [
    "dof = (ng1-1) * (ng2 - 1)"
   ]
  },
  {
   "cell_type": "markdown",
   "id": "e503c005-2dfd-4dcd-9578-6a81504b9482",
   "metadata": {},
   "source": [
    "### Interpretation"
   ]
  },
  {
   "cell_type": "code",
   "execution_count": 99,
   "id": "81f11b5e-de9f-4200-8aa0-879b6ff928bf",
   "metadata": {},
   "outputs": [
    {
     "name": "stdout",
     "output_type": "stream",
     "text": [
      "0.000556300451038716\n"
     ]
    }
   ],
   "source": [
    "p = 1 - stats.chi2.cdf(chi2, dof)\n",
    "\n",
    "print(p) # Maybe there's no correlation between the two"
   ]
  },
  {
   "cell_type": "code",
   "execution_count": null,
   "id": "f8a2cb03-3a4a-460d-a950-1dbdc73f23a5",
   "metadata": {},
   "outputs": [],
   "source": []
  }
 ],
 "metadata": {
  "kernelspec": {
   "display_name": "Python 3 (ipykernel)",
   "language": "python",
   "name": "python3"
  },
  "language_info": {
   "codemirror_mode": {
    "name": "ipython",
    "version": 3
   },
   "file_extension": ".py",
   "mimetype": "text/x-python",
   "name": "python",
   "nbconvert_exporter": "python",
   "pygments_lexer": "ipython3",
   "version": "3.11.3"
  }
 },
 "nbformat": 4,
 "nbformat_minor": 5
}
