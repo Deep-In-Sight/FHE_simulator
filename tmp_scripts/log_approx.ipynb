{
 "cells": [
  {
   "cell_type": "code",
   "execution_count": 1,
   "id": "32d8e418",
   "metadata": {},
   "outputs": [],
   "source": [
    "%load_ext autoreload\n",
    "%autoreload 2"
   ]
  },
  {
   "cell_type": "markdown",
   "id": "9f868787",
   "metadata": {},
   "source": [
    "_n_elements보다는 tile tensor처럼 {'stride':1, 'begin':-8, 'end': 8} 이런 식이 좋을 듯. "
   ]
  },
  {
   "cell_type": "code",
   "execution_count": 2,
   "id": "f1c2b2fd",
   "metadata": {},
   "outputs": [],
   "source": [
    "import matplotlib.pyplot as plt \n",
    "\n",
    "import numpy as np\n",
    "from cipher import *\n",
    "from scheme import *\n",
    "\n",
    "from algorithms import Algorithms \n",
    "from stats import Statistics"
   ]
  },
  {
   "cell_type": "code",
   "execution_count": 3,
   "id": "ee6a63e6",
   "metadata": {},
   "outputs": [
    {
     "name": "stdout",
     "output_type": "stream",
     "text": [
      " logp: 30\n",
      " logq: 150 \n",
      " logn: 12\n"
     ]
    }
   ],
   "source": [
    "myring = Ring(seed=1234)\n",
    "parms = Parameters(logp = 30, logq = 150, logn = 12)\n",
    "nslots = 2**parms.logn\n",
    "context = Context(parms, myring)\n",
    "\n",
    "sk = context.generate_secret_key()\n",
    "\n",
    "print(context.params)"
   ]
  },
  {
   "cell_type": "code",
   "execution_count": 4,
   "id": "b46e4e82",
   "metadata": {},
   "outputs": [],
   "source": [
    "keys = {\"mult\":context.generate_mult_key(),\n",
    "        \"rot\":{'1':'hi1',\n",
    "               '2':'hi2',\n",
    "               '4':'hi4',\n",
    "               '8':'hi8'}}\n",
    "ev = Evaluator(keys, context) # Evaluator도 그냥 context만 넣게 할까? \n",
    "\n",
    "encoder = Encoder(context)\n",
    "encryptor = Encryptor(context)\n",
    "\n",
    "decryptor = Decryptor(sk)\n",
    "\n",
    "arr = np.array([1,2,3,4,5,6,7,8])\n",
    "\n",
    "ctxt = encryptor.encrypt(arr)"
   ]
  },
  {
   "cell_type": "code",
   "execution_count": 5,
   "id": "04b643d7",
   "metadata": {},
   "outputs": [],
   "source": [
    "algo = Algorithms(ev, encoder)\n",
    "\n",
    "st = Statistics(ev, encoder)\n",
    "\n",
    "check = Checker()"
   ]
  },
  {
   "cell_type": "markdown",
   "id": "32226e18-3a77-45f5-afcd-c37b106be6a3",
   "metadata": {},
   "source": [
    "### 자연로그"
   ]
  },
  {
   "cell_type": "code",
   "execution_count": 56,
   "id": "1bcdfc57-4552-4240-8060-7d41c6ddab56",
   "metadata": {},
   "outputs": [
    {
     "name": "stdout",
     "output_type": "stream",
     "text": [
      "[-2.30258509 -1.47590652 -1.02961942 -0.72213472 -0.48729513 -0.29725152\n",
      " -0.13762138  0.        ]\n"
     ]
    }
   ],
   "source": [
    "arr = np.linspace(0.1,1,8)\n",
    "print(np.log(arr))"
   ]
  },
  {
   "cell_type": "markdown",
   "id": "c7b9a73d-498c-49ca-837c-69f5f4eb0b36",
   "metadata": {},
   "source": [
    "### 로그 근사"
   ]
  },
  {
   "cell_type": "code",
   "execution_count": 57,
   "id": "ad578f00-d9c0-4353-8670-37a757b846bd",
   "metadata": {},
   "outputs": [],
   "source": [
    "def ln_approx(v):\n",
    "    x = v-1\n",
    "    x2 = x*x\n",
    "    x4 = x2*x2\n",
    "    x6 = x4*x2\n",
    "    x8 = x4*x4\n",
    "    return x - x2/2 + x*x2/3 - x4/4 + x*x4/5 - x6/6 + x/7 - x8/8 + x8*x/9"
   ]
  },
  {
   "cell_type": "code",
   "execution_count": 58,
   "id": "f36492a6-1bdf-44d0-9b75-8c9896121ef9",
   "metadata": {},
   "outputs": [],
   "source": [
    "l_app = ln_approx(arr)"
   ]
  },
  {
   "cell_type": "code",
   "execution_count": 61,
   "id": "25615533-4041-4c4d-a2ce-ea5a7e17a738",
   "metadata": {},
   "outputs": [
    {
     "data": {
      "image/png": "[encoded data removed]",
      "text/plain": [
       "<Figure size 432x288 with 1 Axes>"
      ]
     },
     "metadata": {
      "needs_background": "light"
     },
     "output_type": "display_data"
    }
   ],
   "source": [
    "plt.plot(l_app, label=\"approx\")\n",
    "plt.plot(np.log(arr), label=\"numpy\")\n",
    "plt.legend()\n",
    "plt.show()"
   ]
  },
  {
   "cell_type": "markdown",
   "id": "24a95cab-645a-4909-bb91-4f8ef1f6d02b",
   "metadata": {},
   "source": [
    "### 로그 근사, 동형암호"
   ]
  },
  {
   "cell_type": "code",
   "execution_count": 6,
   "id": "c9636b93-8177-4a79-9505-760a076d1508",
   "metadata": {},
   "outputs": [],
   "source": [
    "def fun(x,y):\n",
    "    return (x**2+y**2)**3"
   ]
  },
  {
   "cell_type": "code",
   "execution_count": 13,
   "id": "74ec483a-b678-4b5d-9a1e-b6e810ab6bfe",
   "metadata": {},
   "outputs": [],
   "source": [
    "def fun_fhe_ver1(x,y):\n",
    "    \"\"\"pseudo code.\n",
    "       *, +은 FHE 전용 연산을 표현\n",
    "       x: scale = 30, level = 0\n",
    "       y: scale = 30, level = 0\n",
    "       1. 예제에서 input 변수의 'scale'은 기본값 30 (2^30)으로 가정\n",
    "       2. 예제에서 input 변수의 mod(level)는 0으로 가정 \n",
    "       3. 최대 곱셈 깊이를 도달하면 연산을 진행할 수 없고, bootstrapping이 필요함.\n",
    "    \"\"\"\n",
    "    x2 = x*x \n",
    "    # 곱셈 후 x2.scale = x.scale + x.scale = 60으로 증가.\n",
    "    rescale(x2) # 60 -> 30으로 scale down하면 대신 곱셈 깊이(level) 증가 (scale:30, level:1)\n",
    "    y2 = y*y # (scale:60, level:0)\n",
    "    rescale(y2) # 60 -> 30으로 scale down => (s:30, l:1)\n",
    "    z = x2 + y2 # (s:30, l:1) 덧셈은 level 증가, scale 증가 없음, \n",
    "    z2 = z * z # (s:60, l:1)\n",
    "    rescale(z2) # (s:30, l:2)\n",
    "    \n",
    "    moddown(z) # z2와 계산 가능하도록 임의로 level 상향. l1=1 -> l=2, (s:30, l:2)\n",
    "    z3 = z2*z # == z * (z * z) => (s:60, l:2)\n",
    "    return z3 # scale = 60인 암호문을 반환 \n",
    "\n",
    "    # rescale(z3) # 최종 결과 scale down 할 수도 있고 안 할 수도 있음. \n",
    "    # rescale 여부는 컴파일러가 분석하여 계산 속도에 유리한 쪽으로 결정.    "
   ]
  },
  {
   "cell_type": "markdown",
   "id": "57109b96-588d-4af1-89fa-ec41ee109f10",
   "metadata": {},
   "source": [
    "1. Binary Op에서 암호문의 scale이 동일하고, 곱셈 깊이가 동일해야 연산 가능\n",
    "2. 모든 연산은 Unary 혹은 Binary\n",
    "3. scale이 작은 암호문의 계산 시간보다 scale이 큰 암호문의 계산 시간이 더 오래 걸림 (backend마다 다름)"
   ]
  },
  {
   "cell_type": "code",
   "execution_count": 14,
   "id": "c7cc5722-e777-49d3-9207-906f1abf8fbc",
   "metadata": {},
   "outputs": [],
   "source": [
    "def fun_fhe_ver2(x,y):\n",
    "    x2 = x*x # (s:60, l=0)\n",
    "    y2 = y*y # # (s:60, l=0)\n",
    "    # !!! x2, y2 rescale skipped !!!\n",
    "    z = x2 + y2 # (s:60, l:0)\n",
    "    rescale(z) # (s:30, l:1)\n",
    "    z2 = z*z # (s:60, l:1)\n",
    "    rescale(z2) # (s:30, l:2)   \n",
    "    moddown(z) # (s:30, l:2)\n",
    "    \n",
    "    z3 = z2*z # == z * (z * z) => (s:60, l:2)\n",
    "    return z3 "
   ]
  },
  {
   "cell_type": "markdown",
   "id": "fbce7c01-1c8a-45b6-88b1-24418e0770ec",
   "metadata": {},
   "source": [
    "- ver1에서는 rescale이 3회, ver2에서는 rescale이 2회 필요 \n",
    "- 프로그램의 context에 따라 유리한 선택이 달라짐\n",
    "- 따라서 컴파일러에서 최적화 필요\n",
    "- 이 예제에서 최적화 cost는 operand의 `scale`, `level`, 그리고 `built-in function`들의 cost의 함수\n",
    "- f_cost = f_cost(s1, s2, l1, l2, c_rescale, c_moddown, c_mult, c_add)\n",
    "- 곱셈 연산은 operand의 `level`에 따라 속도가 달라짐\n",
    "- c_mult = c_mult(l1,l2) "
   ]
  },
  {
   "cell_type": "code",
   "execution_count": null,
   "id": "0eb7ce64-5d7c-4619-875b-4e10fbf3646d",
   "metadata": {},
   "outputs": [],
   "source": []
  }
 ],
 "metadata": {
  "kernelspec": {
   "display_name": "Python 3 (ipykernel)",
   "language": "python",
   "name": "python3"
  },
  "language_info": {
   "codemirror_mode": {
    "name": "ipython",
    "version": 3
   },
   "file_extension": ".py",
   "mimetype": "text/x-python",
   "name": "python",
   "nbconvert_exporter": "python",
   "pygments_lexer": "ipython3",
   "version": "3.10.4"
  }
 },
 "nbformat": 4,
 "nbformat_minor": 5
}
