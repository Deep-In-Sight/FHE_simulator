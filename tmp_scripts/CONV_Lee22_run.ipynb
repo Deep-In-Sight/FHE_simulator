{
 "cells": [
  {
   "cell_type": "code",
   "execution_count": 1,
   "id": "dd5d03a2",
   "metadata": {},
   "outputs": [],
   "source": [
    "import torch \n",
    "import matplotlib.pyplot as plt \n",
    "import numpy as np\n",
    "import hemul\n",
    "from hemul.algorithms import Algorithms \n",
    "from hemul.context import set_all\n",
    "\n",
    "from hemul.comparator import appr_relu"
   ]
  },
  {
   "cell_type": "code",
   "execution_count": 2,
   "id": "5839541e",
   "metadata": {},
   "outputs": [],
   "source": [
    "context, ev, encoder, encryptor, decryptor = set_all(30, 450, 14)\n",
    "nslots = context.params.nslots\n",
    "#coeff_modulus = [60,30,30,30,30,30,60]"
   ]
  },
  {
   "cell_type": "code",
   "execution_count": 3,
   "id": "16dfc1a7",
   "metadata": {},
   "outputs": [
    {
     "name": "stdout",
     "output_type": "stream",
     "text": [
      "channel out : 16\n",
      "channel out : 16\n"
     ]
    },
    {
     "data": {
      "text/plain": [
       "<All keys matched successfully>"
      ]
     },
     "execution_count": 3,
     "metadata": {},
     "output_type": "execute_result"
    }
   ],
   "source": [
    "from hy.hlee_model import ConvNeuralNet_simple\n",
    "from torch.nn import functional as F\n",
    "\n",
    "co=16\n",
    "fp=f\"./hy/models/simple_model_hlee_co{co}.pt\"\n",
    "\n",
    "tor_model = ConvNeuralNet_simple(num_classes=10, activation=F.relu, co=co)\n",
    "tor_model.load_state_dict(torch.load(fp))"
   ]
  },
  {
   "cell_type": "code",
   "execution_count": 4,
   "id": "f365561a",
   "metadata": {},
   "outputs": [],
   "source": [
    "from heResNet import HEResNet\n",
    "from hemul.comparator import appr_relu\n",
    "resnet_conf = {\"activation\":appr_relu,\n",
    "               \"relu_alpha\":12,\n",
    "               \"num_class\":10,\n",
    "               \"num_layers\":20,\n",
    "               \"nslots\":nslots,}"
   ]
  },
  {
   "cell_type": "code",
   "execution_count": 5,
   "id": "12d3b3af",
   "metadata": {},
   "outputs": [
    {
     "ename": "AttributeError",
     "evalue": "'ConvNeuralNet_simple' object has no attribute 'conv_layer2a'",
     "output_type": "error",
     "traceback": [
      "\u001b[0;31m---------------------------------------------------------------------------\u001b[0m",
      "\u001b[0;31mAttributeError\u001b[0m                            Traceback (most recent call last)",
      "Cell \u001b[0;32mIn [5], line 1\u001b[0m\n\u001b[0;32m----> 1\u001b[0m fhe_model \u001b[39m=\u001b[39m HEResNet(tor_model, resnet_conf)\n",
      "File \u001b[0;32m~/Work/FHE/FHE_simulator/heResNet.py:37\u001b[0m, in \u001b[0;36mHEResNet.__init__\u001b[0;34m(self, tor_model, conf)\u001b[0m\n\u001b[1;32m     32\u001b[0m \u001b[39m##\u001b[39;00m\n\u001b[1;32m     33\u001b[0m \u001b[39m## To do: more automatic configuration\u001b[39;00m\n\u001b[1;32m     34\u001b[0m \u001b[39m##\u001b[39;00m\n\u001b[1;32m     35\u001b[0m \u001b[39mself\u001b[39m\u001b[39m.\u001b[39mconv1 \u001b[39m=\u001b[39m Multipxed_conv(tor_model\u001b[39m.\u001b[39mconv_layer1\u001b[39m.\u001b[39mweight\u001b[39m.\u001b[39mdetach()\u001b[39m.\u001b[39mnumpy(), \n\u001b[1;32m     36\u001b[0m                 \u001b[39m32\u001b[39m, \u001b[39m32\u001b[39m, \u001b[39m1\u001b[39m, \u001b[39m1\u001b[39m, \u001b[39m1\u001b[39m, \u001b[39m8\u001b[39m, \u001b[39m2\u001b[39m, \u001b[39m2\u001b[39m, \u001b[39mself\u001b[39m\u001b[39m.\u001b[39mnslots)\n\u001b[0;32m---> 37\u001b[0m \u001b[39mself\u001b[39m\u001b[39m.\u001b[39mconv2a \u001b[39m=\u001b[39m Multipxed_conv(tor_model\u001b[39m.\u001b[39;49mconv_layer2a\u001b[39m.\u001b[39mweight\u001b[39m.\u001b[39mdetach()\u001b[39m.\u001b[39mnumpy(), \n\u001b[1;32m     38\u001b[0m                         \u001b[39m32\u001b[39m, \u001b[39m32\u001b[39m, \u001b[39m1\u001b[39m, \u001b[39m1\u001b[39m, \u001b[39m1\u001b[39m, \u001b[39m2\u001b[39m, \u001b[39m2\u001b[39m, \u001b[39m8\u001b[39m, \u001b[39mself\u001b[39m\u001b[39m.\u001b[39mnslots)\n\u001b[1;32m     39\u001b[0m \u001b[39mself\u001b[39m\u001b[39m.\u001b[39mconv2b \u001b[39m=\u001b[39m Multipxed_conv(tor_model\u001b[39m.\u001b[39mconv_layer2b\u001b[39m.\u001b[39mweight\u001b[39m.\u001b[39mdetach()\u001b[39m.\u001b[39mnumpy(), \n\u001b[1;32m     40\u001b[0m                         \u001b[39m32\u001b[39m, \u001b[39m32\u001b[39m, \u001b[39m1\u001b[39m, \u001b[39m1\u001b[39m, \u001b[39m1\u001b[39m, \u001b[39m2\u001b[39m, \u001b[39m2\u001b[39m, \u001b[39m8\u001b[39m, \u001b[39mself\u001b[39m\u001b[39m.\u001b[39mnslots)\n\u001b[1;32m     41\u001b[0m \u001b[39mself\u001b[39m\u001b[39m.\u001b[39mconv3a1 \u001b[39m=\u001b[39m Multipxed_conv(tor_model\u001b[39m.\u001b[39mconv_layer1\u001b[39m.\u001b[39mweight\u001b[39m.\u001b[39mdetach()\u001b[39m.\u001b[39mnumpy(), \n\u001b[1;32m     42\u001b[0m                         \u001b[39m16\u001b[39m, \u001b[39m16\u001b[39m, \u001b[39m1\u001b[39m, \u001b[39m2\u001b[39m, \u001b[39m1\u001b[39m, \u001b[39m2\u001b[39m, \u001b[39m4\u001b[39m, \u001b[39m16\u001b[39m, \u001b[39mself\u001b[39m\u001b[39m.\u001b[39mnslots)\n",
      "File \u001b[0;32m~/anaconda3/envs/fhe/lib/python3.10/site-packages/torch/nn/modules/module.py:1207\u001b[0m, in \u001b[0;36mModule.__getattr__\u001b[0;34m(self, name)\u001b[0m\n\u001b[1;32m   1205\u001b[0m     \u001b[39mif\u001b[39;00m name \u001b[39min\u001b[39;00m modules:\n\u001b[1;32m   1206\u001b[0m         \u001b[39mreturn\u001b[39;00m modules[name]\n\u001b[0;32m-> 1207\u001b[0m \u001b[39mraise\u001b[39;00m \u001b[39mAttributeError\u001b[39;00m(\u001b[39m\"\u001b[39m\u001b[39m'\u001b[39m\u001b[39m{}\u001b[39;00m\u001b[39m'\u001b[39m\u001b[39m object has no attribute \u001b[39m\u001b[39m'\u001b[39m\u001b[39m{}\u001b[39;00m\u001b[39m'\u001b[39m\u001b[39m\"\u001b[39m\u001b[39m.\u001b[39mformat(\n\u001b[1;32m   1208\u001b[0m     \u001b[39mtype\u001b[39m(\u001b[39mself\u001b[39m)\u001b[39m.\u001b[39m\u001b[39m__name__\u001b[39m, name))\n",
      "\u001b[0;31mAttributeError\u001b[0m: 'ConvNeuralNet_simple' object has no attribute 'conv_layer2a'"
     ]
    }
   ],
   "source": [
    "fhe_model = HEResNet(tor_model, resnet_conf)"
   ]
  },
  {
   "cell_type": "markdown",
   "id": "0a094efd",
   "metadata": {},
   "source": [
    "## Pytorch data loader"
   ]
  },
  {
   "cell_type": "code",
   "execution_count": 18,
   "id": "d899ad1a",
   "metadata": {},
   "outputs": [
    {
     "name": "stdout",
     "output_type": "stream",
     "text": [
      "torch.Size([1, 3, 32, 32])\n"
     ]
    }
   ],
   "source": [
    "import torchvision.transforms as transforms\n",
    "\n",
    "img = np.array(Image.open(\"./bird6.png\"))\n",
    "to_tensor = transforms.ToTensor() # [n_channel, nh, nw]\n",
    "img_tensor = to_tensor(img).unsqueeze(0) # [n_batch, n_channel, nh, nw]\n",
    "n_batch, n_channel, nh, nw = img_tensor.shape\n",
    "\n",
    "print(img_tensor.shape)"
   ]
  },
  {
   "cell_type": "code",
   "execution_count": 25,
   "id": "af6f68f4",
   "metadata": {},
   "outputs": [],
   "source": [
    "from hemul.comparator import appr_relu\n",
    "from heconv import *"
   ]
  },
  {
   "cell_type": "code",
   "execution_count": 31,
   "id": "3e6824dd",
   "metadata": {},
   "outputs": [],
   "source": [
    "mpacked = VEC(multiplex(img),nslots)"
   ]
  },
  {
   "cell_type": "code",
   "execution_count": null,
   "id": "6e100ad0",
   "metadata": {},
   "outputs": [],
   "source": []
  },
  {
   "cell_type": "code",
   "execution_count": null,
   "id": "04cbac80",
   "metadata": {},
   "outputs": [],
   "source": []
  },
  {
   "cell_type": "code",
   "execution_count": null,
   "id": "16111fb0",
   "metadata": {},
   "outputs": [],
   "source": []
  },
  {
   "cell_type": "code",
   "execution_count": 34,
   "id": "b1ec6001",
   "metadata": {},
   "outputs": [
    {
     "data": {
      "text/plain": [
       "ConvNeuralNet_simple(\n",
       "  (conv_layer1): Conv2d(3, 16, kernel_size=(3, 3), stride=(1, 1), padding=same)\n",
       "  (conv_layer2): Conv2d(16, 16, kernel_size=(3, 3), stride=(1, 1), padding=same)\n",
       "  (pool): AvgPool2d(kernel_size=2, stride=2, padding=0)\n",
       "  (conv_layer3): Conv2d(16, 32, kernel_size=(3, 3), stride=(1, 1), padding=same)\n",
       "  (bn1): BatchNorm2d(32, eps=1e-05, momentum=0.1, affine=True, track_running_stats=True)\n",
       "  (conv_layer4): Conv2d(32, 64, kernel_size=(3, 3), stride=(1, 1), padding=same)\n",
       "  (conv_layer5): Conv2d(64, 64, kernel_size=(3, 3), stride=(1, 1), padding=same)\n",
       "  (bn2): BatchNorm2d(64, eps=1e-05, momentum=0.1, affine=True, track_running_stats=True)\n",
       "  (fc1): Linear(in_features=1024, out_features=128, bias=True)\n",
       "  (fc2): Linear(in_features=128, out_features=10, bias=True)\n",
       ")"
      ]
     },
     "execution_count": 34,
     "metadata": {},
     "output_type": "execute_result"
    }
   ],
   "source": [
    "tor_model"
   ]
  },
  {
   "cell_type": "code",
   "execution_count": null,
   "id": "a923c819",
   "metadata": {},
   "outputs": [],
   "source": [
    "fhe_model"
   ]
  },
  {
   "cell_type": "code",
   "execution_count": null,
   "id": "9396db47",
   "metadata": {},
   "outputs": [],
   "source": []
  },
  {
   "cell_type": "code",
   "execution_count": 5,
   "id": "3d86c5cd",
   "metadata": {},
   "outputs": [],
   "source": [
    "import ResNet20\n",
    "from approximate import approx_relu, approx_sign\n",
    "\n",
    "activation = lambda x : 40 * approx_relu(x/40, degree = 4, repeat=3)\n",
    "\n",
    "org_model = ResNet20.ResNet9(activation=activation)\n",
    "\n",
    "\n",
    "fn_param = \"ResNet9avg_minimaxReLU.pt\"\n",
    "trained_param = torch.load(fn_param)\n",
    "trained_param = {k: v.cpu() for k, v in trained_param.items()} # to cpu()\n",
    "org_model.load_state_dict(trained_param)\n",
    "org_model.eval() ## If not eval(), running_mean and running_var of batch_norm changes\n",
    "\n",
    "# To numpy\n",
    "params_np = {k: v.numpy() for k, v in trained_param.items()}"
   ]
  }
 ],
 "metadata": {
  "kernelspec": {
   "display_name": "Python 3 (ipykernel)",
   "language": "python",
   "name": "python3"
  },
  "language_info": {
   "codemirror_mode": {
    "name": "ipython",
    "version": 3
   },
   "file_extension": ".py",
   "mimetype": "text/x-python",
   "name": "python",
   "nbconvert_exporter": "python",
   "pygments_lexer": "ipython3",
   "version": "3.10.4"
  },
  "vscode": {
   "interpreter": {
    "hash": "60d42a677e1abf850e158ee39e01a5d70da0f6529681f4a4eca4a35dff8a082c"
   }
  }
 },
 "nbformat": 4,
 "nbformat_minor": 5
}
