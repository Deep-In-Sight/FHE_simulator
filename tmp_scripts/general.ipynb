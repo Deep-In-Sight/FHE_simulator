{
 "cells": [
  {
   "cell_type": "code",
   "execution_count": null,
   "id": "f1c2b2fd",
   "metadata": {},
   "outputs": [],
   "source": [
    "import numpy as np\n",
    "\n",
    "# 동형암호 시뮬레이터 모듈\n",
    "from cipher import *\n",
    "from scheme import *\n",
    "from algorithms import Algorithms \n",
    "from stats import Statistics"
   ]
  },
  {
   "cell_type": "markdown",
   "id": "afd672a2-d7b8-4889-996e-97dcbb5e0cb5",
   "metadata": {},
   "source": [
    "### 동형암호 (글로벌) 파라미터 설정"
   ]
  },
  {
   "cell_type": "code",
   "execution_count": 6,
   "id": "45839166-be04-46df-8f69-c1d1f27dacdf",
   "metadata": {},
   "outputs": [
    {
     "name": "stdout",
     "output_type": "stream",
     "text": [
      " logp: 30\n",
      " logq: 150 \n",
      " logn: 12\n"
     ]
    }
   ],
   "source": [
    "parms = Parameters(logp = 30, logq = 150, logn = 12)\n",
    "nslots = 2**parms.logn\n",
    "myring = Ring(seed=1234)\n",
    "context = Context(parms, myring)\n",
    "print(context.params)"
   ]
  },
  {
   "cell_type": "markdown",
   "id": "ed1be782-a304-48e2-98b4-8e174150c2e6",
   "metadata": {},
   "source": [
    "logq / logp = 150/30 = 5 이므로, 본 예제에서는 하나의 암호문은 연속으로 *5회까지만 곱셈 가능*합니다.  \n",
    "그 이상은 noise가 지나치게 증가하여 'refresh'(=bootstrapping) 작업이 필요합니다.  \n",
    "\n",
    "logq가 크면 허용되는 곱셈 깊이가 늘어나는 대신 모든 연산이 조금씩 느려지는 문제가 생기고,  \n",
    "logq가 너무 작으면 아주 비싼 bootstrapping 연산을 자주 사용해야 하는 문제가 생깁니다.  \n",
    "따라서 최적의 파라미터를 찾으려면 프로그램이 끝날 때 까지 **가장 깊은 곱셈이 몇 회 일어나는지** 체크할 수 있어야 합니다. "
   ]
  },
  {
   "cell_type": "code",
   "execution_count": 7,
   "id": "19e20e9e-c4b1-4527-81af-402714cef7bc",
   "metadata": {},
   "outputs": [],
   "source": [
    "# 암호 키 생성\n",
    "sk = context.generate_secret_key()\n",
    "\n",
    "keys = {\"mult\":context.generate_mult_key(),\n",
    "        \"rot\":{'1':'hi1',\n",
    "               '2':'hi2',\n",
    "               '4':'hi4',\n",
    "               '8':'hi8'}}\n",
    "\n",
    "# 암호화, 복호화, 연산 agent\n",
    "ev = Evaluator(keys, context) \n",
    "encoder = Encoder(context)\n",
    "encryptor = Encryptor(context)\n",
    "decryptor = Decryptor(sk)"
   ]
  },
  {
   "cell_type": "markdown",
   "id": "e569efc8-6466-4d28-9398-8f916bd1d8f4",
   "metadata": {},
   "source": [
    "#### 통계 연산 모듈 준비"
   ]
  },
  {
   "cell_type": "code",
   "execution_count": 68,
   "id": "04b643d7",
   "metadata": {},
   "outputs": [],
   "source": [
    "algo = Algorithms(ev, encoder)\n",
    "st = Statistics(ev, encoder)\n",
    "check = Checker()"
   ]
  },
  {
   "cell_type": "markdown",
   "id": "bb4f5f96",
   "metadata": {},
   "source": [
    "### variance 알고리즘 예시"
   ]
  },
  {
   "cell_type": "markdown",
   "id": "fa20fb2b-054c-45fa-ad06-a2ecfa301f29",
   "metadata": {},
   "source": [
    "#### 일반적인 버전\n",
    "\n",
    "$$\n",
    "var = \\frac{\\Sigma(x_i - (\\bar{x}))^2}{n}\n",
    "$$"
   ]
  },
  {
   "cell_type": "code",
   "execution_count": 71,
   "id": "0cc4eaba-d649-449d-aea6-72fe4d14425f",
   "metadata": {},
   "outputs": [
    {
     "name": "stdout",
     "output_type": "stream",
     "text": [
      "일반 알고리즘, 5.25\n",
      "numpy' result, 5.25\n"
     ]
    }
   ],
   "source": [
    "arr = np.array([1,2,3,4,5,6,7,8])\n",
    "\n",
    "mean = np.mean(arr)\n",
    "var = np.sum((arr - mean)**2)/len(arr)\n",
    "print(\"일반 알고리즘,\", var)\n",
    "print(\"numpy' result,\", np.var(arr))"
   ]
  },
  {
   "cell_type": "markdown",
   "id": "c6bf8a11-9ce8-4e28-a838-50fd65755234",
   "metadata": {},
   "source": [
    "#### 동형암호 버전"
   ]
  },
  {
   "cell_type": "code",
   "execution_count": 70,
   "id": "ac05aed7",
   "metadata": {},
   "outputs": [
    {
     "name": "stdout",
     "output_type": "stream",
     "text": [
      "Absolute error within: 1.0E-06\n",
      "Relative error within: 1.0E-04\n"
     ]
    }
   ],
   "source": [
    "ctxt = encryptor.encrypt(arr)\n",
    "var = st.variance(ctxt)\n",
    "\n",
    "check.close(var._arr[0], np.var(arr))"
   ]
  },
  {
   "cell_type": "markdown",
   "id": "85ca615a-6b15-4d38-b0ac-067922496480",
   "metadata": {},
   "source": [
    "## 소스코드 \n",
    "https://github.com/Deep-In-Sight/FHE_simulator/blob/9fb4ce2e0ea513181b7b29626de5120947e19bea/stats.py#L18\n",
    "\n",
    "알고리즘 관련은 나머지 두 예제에서 설명 드립니다. "
   ]
  },
  {
   "cell_type": "markdown",
   "id": "f6187b4a-de35-4e7e-833e-fa902b4871ce",
   "metadata": {},
   "source": [
    "```python\n",
    "def variance(self, ctxt):\n",
    "    ev = self.evaluator\n",
    "    algo = self.algorithms\n",
    "\n",
    "    n = algo.encode_repeat(ctxt._n_elements)\n",
    "    mean = self.mean(ctxt, partial=True, duplicate=True)\n",
    "    self.evaluator.rescale_next(mean)\n",
    "    mean = algo.put_mask(mean, np.arange(ctxt._n_elements))\n",
    "    self.evaluator.rescale_next(mean)\n",
    "    sub = ev.sub(ctxt, mean)\n",
    "    squared = ev.mult(sub, sub, inplace=False) # Or, square()\n",
    "    self.evaluator.rescale_next(squared)\n",
    "\n",
    "    summed_sq = algo.sum_reduce(squared, partial=True, duplicate=False)\n",
    "    return ev.div_by_plain(summed_sq, n)\n",
    "\n",
    "\n",
    "def mean(self, ctxt, partial=True, duplicate=True):\n",
    "    ev = self.evaluator\n",
    "    algo = self.algorithms\n",
    "\n",
    "    n = algo.encode_repeat(ctxt._n_elements)\n",
    "    summed = algo.sum_reduce(ctxt, partial=partial, duplicate=duplicate)\n",
    "    return ev.div_by_plain(summed, n)\n",
    "\n",
    "\n",
    "def sum_reduce(self,\n",
    "                ctxt:CiphertextStat, \n",
    "                partial=False, \n",
    "                duplicate=False): \n",
    "    if not partial and duplicate:\n",
    "        raise ValueError(\"Partial = False, duplicate = True not allowed.\")\n",
    "    ev = self.evaluator\n",
    "\n",
    "    if partial:\n",
    "        n = ctxt._n_elements\n",
    "    else:\n",
    "        n = ctxt.nslots\n",
    "    log2n = np.log2(n).astype(int)\n",
    "\n",
    "    # keep the original ctxt intact\n",
    "    ctxt_ = ev.copy(ctxt)\n",
    "    if duplicate:\n",
    "        # shifted copy\n",
    "        rot_copy = ev.copy(ctxt)\n",
    "        ev.lrot(rot_copy, -ctxt_._n_elements)\n",
    "\n",
    "        ev.add(ctxt_, rot_copy, inplace=True)\n",
    "    for i in range(log2n):\n",
    "        tmp = ev.copy(ctxt_)\n",
    "        ev.lrot(tmp, 2**i, inplace=True)\n",
    "        ev.add(ctxt_, tmp, inplace=True)\n",
    "    return ctxt_\n",
    "```"
   ]
  },
  {
   "cell_type": "markdown",
   "id": "908783e3-c95b-4482-9ef3-e37bc049fada",
   "metadata": {},
   "source": [
    "#### 동형암호 구성 \n",
    "\n",
    "\n",
    "type :=  \n",
    "clear text (일반문)| plain text | ciphertext \n",
    "\n",
    " - 일반문을 encode하면 plain text, plain text를 encrypt하면 ciphertext가 됩니다\n",
    " - plain text 와 ciphertext는 2^n 길이의 벡터\n",
    " - ciphertext는 동형암호 scheme (backend library)에 따라 한 가지 정밀도의 int나 float으로 고정 \n",
    "- **plain text**는 *nslots*, *scale* 특성을,   \n",
    "- **ciphertext**는 *nslots*, *scale*, *mod* 특성을 갖습니다.   \n",
    "- 암호화 후 내용물을 알 수 없으므로 부호나 정밀도에 대한 고려는 없습니다.\n",
    " \n",
    " \n",
    "Op:=  (연산 결과는 모두 cipher)   \n",
    "cipher-cipher mult | cipher-plain mult |  \n",
    "cipher-cipher add | cipher-plain add |  \n",
    "cipher-cipher sub | cipher-plain sub |  \n",
    "mod_switch(cipher) | rescale(cipher) | bootstrap(cipher) |  \n",
    "square(cipher) | negate(cipher) | rotate(cipher, x) \n",
    "가 있습니다.  \n",
    "- backend 라이브러리마다 한 두가지 보조 연산이 추가됩니다\n",
    "- cipher - clear 혹은 plain - clear 연산은 없습니다.\n",
    "- 일반 자료형은 control flow에 활용됩니다.  \n",
    "- ciphertext에 bitwise, comparison, 분기 관련 연산은 적용되지 않습니다. \n",
    "- division도 없습니다 "
   ]
  },
  {
   "cell_type": "code",
   "execution_count": null,
   "id": "6d7c473a-23cf-4e67-99eb-2b9c016d7396",
   "metadata": {},
   "outputs": [],
   "source": []
  }
 ],
 "metadata": {
  "kernelspec": {
   "display_name": "Python 3 (ipykernel)",
   "language": "python",
   "name": "python3"
  },
  "language_info": {
   "codemirror_mode": {
    "name": "ipython",
    "version": 3
   },
   "file_extension": ".py",
   "mimetype": "text/x-python",
   "name": "python",
   "nbconvert_exporter": "python",
   "pygments_lexer": "ipython3",
   "version": "3.10.4"
  }
 },
 "nbformat": 4,
 "nbformat_minor": 5
}
