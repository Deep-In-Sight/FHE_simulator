{
 "cells": [
  {
   "cell_type": "markdown",
   "id": "138e133a",
   "metadata": {},
   "source": [
    "## 7-layer Resnet .. ?"
   ]
  },
  {
   "cell_type": "code",
   "execution_count": 1,
   "id": "426e47ab",
   "metadata": {},
   "outputs": [],
   "source": [
    "from hemul import comparator"
   ]
  },
  {
   "cell_type": "code",
   "execution_count": 2,
   "id": "368e9c9b",
   "metadata": {},
   "outputs": [],
   "source": [
    "apr = comparator.ApprRelu()"
   ]
  },
  {
   "cell_type": "code",
   "execution_count": null,
   "id": "d362eb3f",
   "metadata": {},
   "outputs": [],
   "source": []
  }
 ],
 "metadata": {
  "kernelspec": {
   "display_name": "Python 3 (ipykernel)",
   "language": "python",
   "name": "python3"
  },
  "language_info": {
   "codemirror_mode": {
    "name": "ipython",
    "version": 3
   },
   "file_extension": ".py",
   "mimetype": "text/x-python",
   "name": "python",
   "nbconvert_exporter": "python",
   "pygments_lexer": "ipython3",
   "version": "3.10.4"
  }
 },
 "nbformat": 4,
 "nbformat_minor": 5
}
