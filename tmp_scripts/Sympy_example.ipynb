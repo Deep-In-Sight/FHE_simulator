{
 "cells": [
  {
   "cell_type": "code",
   "execution_count": 2,
   "id": "b8eefeb3",
   "metadata": {},
   "outputs": [],
   "source": [
    "import sympy as sp"
   ]
  },
  {
   "cell_type": "code",
   "execution_count": 3,
   "id": "f0cc1452",
   "metadata": {},
   "outputs": [],
   "source": [
    "p,q,n = sp.symbols('p,q,n')"
   ]
  },
  {
   "cell_type": "code",
   "execution_count": 4,
   "id": "be0d58ca",
   "metadata": {},
   "outputs": [],
   "source": [
    "eq1 = p * q * n"
   ]
  },
  {
   "cell_type": "code",
   "execution_count": 5,
   "id": "3459a19b",
   "metadata": {},
   "outputs": [
    {
     "data": {
      "text/latex": [
       "$\\displaystyle n p q$"
      ],
      "text/plain": [
       "n*p*q"
      ]
     },
     "execution_count": 5,
     "metadata": {},
     "output_type": "execute_result"
    }
   ],
   "source": [
    "sp.expand(eq1)"
   ]
  },
  {
   "cell_type": "code",
   "execution_count": 9,
   "id": "b3ddafda",
   "metadata": {},
   "outputs": [
    {
     "data": {
      "text/latex": [
       "$\\displaystyle 12$"
      ],
      "text/plain": [
       "12"
      ]
     },
     "execution_count": 9,
     "metadata": {},
     "output_type": "execute_result"
    }
   ],
   "source": [
    "eq1.subs([(n,1),(p,3),(q,4)])"
   ]
  },
  {
   "cell_type": "code",
   "execution_count": null,
   "id": "d1c3f224",
   "metadata": {},
   "outputs": [],
   "source": []
  },
  {
   "cell_type": "code",
   "execution_count": null,
   "id": "0c41a243",
   "metadata": {},
   "outputs": [],
   "source": []
  }
 ],
 "metadata": {
  "kernelspec": {
   "display_name": "Python 3 (ipykernel)",
   "language": "python",
   "name": "python3"
  },
  "language_info": {
   "codemirror_mode": {
    "name": "ipython",
    "version": 3
   },
   "file_extension": ".py",
   "mimetype": "text/x-python",
   "name": "python",
   "nbconvert_exporter": "python",
   "pygments_lexer": "ipython3",
   "version": "3.10.6"
  }
 },
 "nbformat": 4,
 "nbformat_minor": 5
}
