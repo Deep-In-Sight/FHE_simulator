{
 "cells": [
  {
   "cell_type": "code",
   "execution_count": 1,
   "id": "2f335bae",
   "metadata": {},
   "outputs": [],
   "source": [
    "from hemul import heaan"
   ]
  },
  {
   "cell_type": "code",
   "execution_count": 2,
   "id": "bc53ead1",
   "metadata": {},
   "outputs": [
    {
     "data": {
      "text/plain": [
       "<module 'hemul.HEAAN' from '/home/hoseung/Work/FHE_simulator/hemul/HEAAN.cpython-310-x86_64-linux-gnu.so'>"
      ]
     },
     "execution_count": 2,
     "metadata": {},
     "output_type": "execute_result"
    }
   ],
   "source": [
    "heaan.he"
   ]
  },
  {
   "cell_type": "code",
   "execution_count": 3,
   "id": "c986dad3",
   "metadata": {},
   "outputs": [
    {
     "name": "stdout",
     "output_type": "stream",
     "text": [
      "Initializing the scheme as the data owner\n",
      "saving secret key done.\n",
      "HEAAN CKKS setup is ready \n"
     ]
    }
   ],
   "source": [
    "hec = heaan.HEAANContext(15, 30, 600, boot=False, load_sk=False, rot_l='all')"
   ]
  },
  {
   "cell_type": "code",
   "execution_count": null,
   "id": "792e6209",
   "metadata": {},
   "outputs": [],
   "source": [
    "fhemodel = ResNetHEAAN(hec)"
   ]
  },
  {
   "cell_type": "code",
   "execution_count": null,
   "id": "7c3a7ab3",
   "metadata": {},
   "outputs": [],
   "source": [
    "logqBoot = 35\n",
    "hec.parms.logqBoot = logqBoot\n",
    "algo = CommonAlgorithms(hec, \"HEAAN\")"
   ]
  },
  {
   "cell_type": "markdown",
   "id": "787cf0e1",
   "metadata": {},
   "source": [
    "### Set context"
   ]
  },
  {
   "cell_type": "markdown",
   "id": "c612a912",
   "metadata": {},
   "source": [
    "context, ev, encoder, encryptor, decryptor = set_all(logp, logq, logn)"
   ]
  },
  {
   "cell_type": "code",
   "execution_count": 8,
   "id": "39ee70ee",
   "metadata": {},
   "outputs": [
    {
     "data": {
      "text/plain": [
       "<hemul.HEAAN.SchemeAlgo at 0x7f1bc98d7870>"
      ]
     },
     "execution_count": 8,
     "metadata": {},
     "output_type": "execute_result"
    }
   ],
   "source": [
    "#hec.encode\n",
    "#hec.encrypt\n",
    "#hec.decrypt\n",
    "hec.algo."
   ]
  },
  {
   "cell_type": "code",
   "execution_count": null,
   "id": "0fd4fb69",
   "metadata": {},
   "outputs": [],
   "source": []
  }
 ],
 "metadata": {
  "kernelspec": {
   "display_name": "Python 3 (ipykernel)",
   "language": "python",
   "name": "python3"
  },
  "language_info": {
   "codemirror_mode": {
    "name": "ipython",
    "version": 3
   },
   "file_extension": ".py",
   "mimetype": "text/x-python",
   "name": "python",
   "nbconvert_exporter": "python",
   "pygments_lexer": "ipython3",
   "version": "3.10.4"
  }
 },
 "nbformat": 4,
 "nbformat_minor": 5
}
