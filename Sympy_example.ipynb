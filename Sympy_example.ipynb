{
 "cells": [
  {
   "cell_type": "code",
   "execution_count": 2,
   "id": "77598f30",
   "metadata": {},
   "outputs": [
    {
     "name": "stdout",
     "output_type": "stream",
     "text": [
      "Collecting sympy\n",
      "  Downloading sympy-1.10.1-py3-none-any.whl (6.4 MB)\n",
      "\u001b[K     |████████████████████████████████| 6.4 MB 5.4 MB/s eta 0:00:01\n",
      "\u001b[?25hCollecting mpmath>=0.19\n",
      "  Downloading mpmath-1.2.1-py3-none-any.whl (532 kB)\n",
      "\u001b[K     |████████████████████████████████| 532 kB 4.8 MB/s eta 0:00:01\n",
      "\u001b[?25hInstalling collected packages: mpmath, sympy\n",
      "Successfully installed mpmath-1.2.1 sympy-1.10.1\n"
     ]
    }
   ],
   "source": [
    "! pip install sympy"
   ]
  },
  {
   "cell_type": "code",
   "execution_count": 3,
   "id": "b8eefeb3",
   "metadata": {},
   "outputs": [],
   "source": [
    "import sympy as sp"
   ]
  },
  {
   "cell_type": "code",
   "execution_count": 4,
   "id": "f0cc1452",
   "metadata": {},
   "outputs": [],
   "source": [
    "x, y, z = sp.symbols('x,y,z')"
   ]
  },
  {
   "cell_type": "code",
   "execution_count": 6,
   "id": "be0d58ca",
   "metadata": {},
   "outputs": [],
   "source": [
    "p = (x*4 + 7*x**3 + 41*x**2 - 5*x + 123) * (3*x*4 + 5*x**3 + 71*x**2 - 3*x + 121) * (x*4 + 7*x**3 + 41*x**2 - 5*x + 123) * (3*x*4 + 5*x**3 + 71*x**2 - 3*x + 121)"
   ]
  },
  {
   "cell_type": "code",
   "execution_count": 8,
   "id": "5a992a6d",
   "metadata": {},
   "outputs": [
    {
     "data": {
      "text/latex": [
       "$\\displaystyle 1225 x^{12} + 49140 x^{11} + 700634 x^{10} + 4291676 x^{9} + 12243951 x^{8} + 29733640 x^{7} + 86785284 x^{6} + 74921800 x^{5} + 279125199 x^{4} + 79374980 x^{3} + 408319906 x^{2} + 29349276 x + 221503689$"
      ],
      "text/plain": [
       "1225*x**12 + 49140*x**11 + 700634*x**10 + 4291676*x**9 + 12243951*x**8 + 29733640*x**7 + 86785284*x**6 + 74921800*x**5 + 279125199*x**4 + 79374980*x**3 + 408319906*x**2 + 29349276*x + 221503689"
      ]
     },
     "execution_count": 8,
     "metadata": {},
     "output_type": "execute_result"
    }
   ],
   "source": [
    "sp.expand(p)"
   ]
  },
  {
   "cell_type": "code",
   "execution_count": 9,
   "id": "676ff3bd",
   "metadata": {},
   "outputs": [
    {
     "data": {
      "text/latex": [
       "$\\displaystyle \\left(5 x^{3} + 71 x^{2} + 9 x + 121\\right)^{2} \\left(7 x^{3} + 41 x^{2} - x + 123\\right)^{2}$"
      ],
      "text/plain": [
       "(5*x**3 + 71*x**2 + 9*x + 121)**2*(7*x**3 + 41*x**2 - x + 123)**2"
      ]
     },
     "execution_count": 9,
     "metadata": {},
     "output_type": "execute_result"
    }
   ],
   "source": [
    "sp.factor(sp.expand(p))"
   ]
  },
  {
   "cell_type": "code",
   "execution_count": null,
   "id": "f74d825b",
   "metadata": {},
   "outputs": [],
   "source": []
  }
 ],
 "metadata": {
  "kernelspec": {
   "display_name": "Python 3 (ipykernel)",
   "language": "python",
   "name": "python3"
  },
  "language_info": {
   "codemirror_mode": {
    "name": "ipython",
    "version": 3
   },
   "file_extension": ".py",
   "mimetype": "text/x-python",
   "name": "python",
   "nbconvert_exporter": "python",
   "pygments_lexer": "ipython3",
   "version": "3.10.4"
  }
 },
 "nbformat": 4,
 "nbformat_minor": 5
}
