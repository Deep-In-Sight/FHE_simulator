{
 "cells": [
  {
   "cell_type": "code",
   "execution_count": 10,
   "id": "33e1fbbe",
   "metadata": {},
   "outputs": [],
   "source": [
    "from diseal import seal\n",
    "import numpy as np"
   ]
  },
  {
   "cell_type": "code",
   "execution_count": 2,
   "id": "3790cbe8",
   "metadata": {},
   "outputs": [],
   "source": [
    "parms = seal.EncryptionParameters(seal.scheme_type.ckks)"
   ]
  },
  {
   "cell_type": "markdown",
   "id": "47eb5dfa",
   "metadata": {},
   "source": [
    "poly_mod = 8192일 때, coeff_Modulus가 총합 얼마까지 가능? "
   ]
  },
  {
   "cell_type": "code",
   "execution_count": 22,
   "id": "d79cb51b",
   "metadata": {},
   "outputs": [],
   "source": [
    "poly_modulus_degree = 8192*2\n",
    "scale = 40\n",
    "\n",
    "coeff_scales = [60] + [scale]*8 +[60]\n",
    "parms.set_poly_modulus_degree(poly_modulus_degree)\n",
    "parms.set_coeff_modulus(seal.CoeffModulus.Create(poly_modulus_degree, coeff_scales))"
   ]
  },
  {
   "cell_type": "code",
   "execution_count": 6,
   "id": "71ee2f6a",
   "metadata": {},
   "outputs": [],
   "source": [
    "context = seal.SEALContext(parms)\n",
    "keygenerator = seal.KeyGenerator(context)\n",
    "sk = keygenerator.secret_key()"
   ]
  },
  {
   "cell_type": "code",
   "execution_count": 7,
   "id": "d452f5b3",
   "metadata": {},
   "outputs": [],
   "source": [
    "pk = keygenerator.create_public_key()\n",
    "gk = keygenerator.create_galois_keys()\n",
    "rk = keygenerator.create_relin_keys()"
   ]
  },
  {
   "cell_type": "code",
   "execution_count": 9,
   "id": "fefa4282",
   "metadata": {},
   "outputs": [],
   "source": [
    "encryptor = seal.Encryptor(context, pk)\n",
    "evaluator = seal.Evaluator(context)\n",
    "decryptor = seal.Decryptor(context, sk)\n",
    "encoder   = seal.CKKSEncoder(context)"
   ]
  },
  {
   "cell_type": "code",
   "execution_count": 14,
   "id": "cd75775b",
   "metadata": {},
   "outputs": [],
   "source": [
    "nslots = encoder.slot_count()"
   ]
  },
  {
   "cell_type": "code",
   "execution_count": 46,
   "id": "feb5c8d2",
   "metadata": {},
   "outputs": [
    {
     "name": "stdout",
     "output_type": "stream",
     "text": [
      "[0.04884344 0.09937436 0.08188748 ... 0.53452455 0.72398056 0.14601238]\n"
     ]
    }
   ],
   "source": [
    "arr = np.random.rand(nslots)\n",
    "print(arr)\n",
    "ptxt = encoder.encode(arr, 2**scale)"
   ]
  },
  {
   "cell_type": "code",
   "execution_count": 36,
   "id": "4e045af7",
   "metadata": {},
   "outputs": [],
   "source": [
    "def decrypt(ctxt):\n",
    "    decp = decryptor.decrypt(ctxt)\n",
    "    return encoder.decode(decp)\n",
    "\n",
    "def _sum_reduce_seal(evaluator, galois_keys, nslots, ctx: seal.Ciphertext, n=None):\n",
    "    \"\"\"return the sum of a Ciphertext (repeated nslot times), SEAL version\n",
    "    \"\"\"        \n",
    "    if n is None:\n",
    "        n = int(np.log2(nslots))\n",
    "\n",
    "    temp = seal.Ciphertext()\n",
    "    output = seal.Ciphertext()\n",
    "\n",
    "    for i in range(n):\n",
    "        if i == 0:\n",
    "            temp = evaluator.rotate_vector(ctx, 2**i, galois_keys)\n",
    "            output = evaluator.add(ctx, temp)\n",
    "        else:\n",
    "            temp = evaluator.rotate_vector(output, 2**i, galois_keys)\n",
    "            evaluator.add_inplace(output, temp)\n",
    "    return output"
   ]
  },
  {
   "cell_type": "code",
   "execution_count": 50,
   "id": "275b4d81",
   "metadata": {},
   "outputs": [],
   "source": [
    "res = _sum_reduce_seal(evaluator, gk, nslots, ctxt)"
   ]
  },
  {
   "cell_type": "code",
   "execution_count": 53,
   "id": "35011d90",
   "metadata": {},
   "outputs": [],
   "source": [
    "dec = decrypt(res)"
   ]
  },
  {
   "cell_type": "code",
   "execution_count": 51,
   "id": "81fd223c",
   "metadata": {},
   "outputs": [
    {
     "data": {
      "text/plain": [
       "4130.119460423652"
      ]
     },
     "execution_count": 51,
     "metadata": {},
     "output_type": "execute_result"
    }
   ],
   "source": [
    "np.sum(arr)"
   ]
  },
  {
   "cell_type": "code",
   "execution_count": 54,
   "id": "2ebf56fd",
   "metadata": {},
   "outputs": [
    {
     "name": "stdout",
     "output_type": "stream",
     "text": [
      "[4130.11945216 4130.11946023 4130.11945937 4130.11946065 4130.11946061\n",
      " 4130.11945999 4130.1194585  4130.11946061 4130.11945972 4130.1194601\n",
      " 4130.1194591  4130.11945946 4130.11946115 4130.1194604  4130.11945862\n",
      " 4130.11946102 4130.11945759 4130.11945931 4130.11945867 4130.11946029\n",
      " 4130.11946071 4130.11946011 4130.11945869 4130.11946001 4130.11946018\n",
      " 4130.11945944 4130.11945946 4130.1194608  4130.11946101 4130.11946059]\n"
     ]
    }
   ],
   "source": [
    "print(dec[:30])"
   ]
  },
  {
   "cell_type": "code",
   "execution_count": null,
   "id": "ead9d57f",
   "metadata": {},
   "outputs": [],
   "source": []
  }
 ],
 "metadata": {
  "kernelspec": {
   "display_name": "Python 3 (ipykernel)",
   "language": "python",
   "name": "python3"
  },
  "language_info": {
   "codemirror_mode": {
    "name": "ipython",
    "version": 3
   },
   "file_extension": ".py",
   "mimetype": "text/x-python",
   "name": "python",
   "nbconvert_exporter": "python",
   "pygments_lexer": "ipython3",
   "version": "3.10.4"
  }
 },
 "nbformat": 4,
 "nbformat_minor": 5
}
