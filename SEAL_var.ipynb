{
 "cells": [
  {
   "cell_type": "code",
   "execution_count": 1,
   "id": "33e1fbbe",
   "metadata": {},
   "outputs": [],
   "source": [
    "from diseal import seal\n",
    "import numpy as np"
   ]
  },
  {
   "cell_type": "code",
   "execution_count": 2,
   "id": "3790cbe8",
   "metadata": {},
   "outputs": [],
   "source": [
    "parms = seal.EncryptionParameters(seal.scheme_type.ckks)"
   ]
  },
  {
   "cell_type": "markdown",
   "id": "47eb5dfa",
   "metadata": {},
   "source": [
    "poly_mod = 8192일 때, coeff_Modulus가 총합 얼마까지 가능? "
   ]
  },
  {
   "cell_type": "code",
   "execution_count": null,
   "id": "e910825e",
   "metadata": {},
   "outputs": [],
   "source": [
    "op = {\"scheme\":scheme, \"relin\":relin,\"batch\":batch,\"level\":level,\"equation\":equation,\"rotate\":rotate} \n",
    "\n",
    "if op[\"batch\"] is True: \n",
    "\n",
    "    print(f\"Q = {Q}\\nTotal Bit Length = {sum(Q)}\") \n",
    "\n",
    "    print(f\"Max Bit Count = {seal.CoeffModulus.MaxBitCount(N)}\") \n",
    "\n",
    "    if sum(Q) > seal.CoeffModulus.MaxBitCount(N) :  \n",
    "\n",
    "        print(f\"Bit length  should be limited to MaxBitCount.\") \n",
    "\n",
    " \n",
    "\n",
    "if op[\"scheme\"]==ckks: \n",
    "\n",
    "    for i in op: \n",
    "\n",
    "        if op[i]==False: \n",
    "\n",
    "            print(\"[WARNING]CKKS comes with relin/batch/level.\") \n",
    "\n",
    " \n",
    "\n",
    " \n",
    "\n",
    " \n",
    "\n",
    " \n",
    "\n",
    " \n",
    "\n",
    " \n",
    "\n",
    " \n",
    "\n",
    "#--------------------------- Get Variable Name String \n",
    "\n",
    "def namestr(obj,namespace): \n",
    "\n",
    "    get_name=[name for name in namespace if namespace[name] is obj] \n",
    "\n",
    "    return get_name[0] \n",
    "\n",
    " \n",
    "\n",
    "#--------------------------- [seal] Get parms_id   \n",
    "\n",
    "def get_parms_id(var): \n",
    "\n",
    "    return context.get_context_data(var.parms_id()) \n",
    " \n",
    "\n",
    "#--------------------------- [seal] Get bit lenght of the scale  \n",
    "\n",
    "def nscales(operand): \n",
    "\n",
    "    return np.round(np.log2(operand.scale())) \n",
    "\n",
    "\n",
    "#--------------------------- [seal] Get chain index \n",
    "\n",
    "def chain_idx(var): \n",
    "\n",
    "    return get_parms_id(var).chain_index() \n",
    "\n",
    " \n",
    "#--------------------------- [seal] info : size(dimension), chain index, scale, noise_budget(bfv/bgv only)  \n",
    "\n",
    "def check_point(var): \n",
    "\n",
    "    print(f\"\\t[ CHECK ] \")#\"{namestr(var,globals())} ----------------\") \n",
    "\n",
    "    print(f'\\t[  Size   ] {var.size()} [bit]') \n",
    "\n",
    "    print(f'\\t[ Chain ID] {chain_idx(var)}')   \n",
    "\n",
    "    print(f'\\t[ Scale   ] {nscales(var)}') \n",
    "\n",
    "    if(op[\"scheme\"]==bfv or op[\"scheme\"]==bgv): \n",
    "\n",
    "        budget = decryptor.invariant_noise_budget(var) \n",
    "\n",
    "        print(f'\\t[Encrypted] budget = {budget} [bit]\\n')     \n",
    "\n",
    "\n",
    "#--------------------------- print 1D vector into 2D matrix \n",
    "\n",
    "def print_matrix(mat,nrows,nprecision): \n",
    "\n",
    "    np.set_printoptions(precision=nprecision) \n",
    "\n",
    "    M = list() \n",
    "\n",
    "    dim = np.size(mat) \n",
    "\n",
    "    chunk_size = int(np.round(1.0*dim/nrows)) \n",
    "\n",
    "    for i in range(0,dim,chunk_size): \n",
    "\n",
    "        M.append(mat[i:i+chunk_size])   \n",
    "\n",
    "    print(M)   \n",
    "\n",
    " \n",
    "#--------------------------- [seal] copy variables when manipulating them only within functions \n",
    "\n",
    "def copy_input(x_org): \n",
    "\n",
    "    if type(x_org)==seal.Ciphertext:         \n",
    "\n",
    "        x = seal.Ciphertext(x_org) \n",
    "\n",
    "    elif type(x_org)==seal.Plaintext:        \n",
    "\n",
    "        x = seal.Plaintext(x_org) \n",
    "\n",
    "    else:  \n",
    "\n",
    "        x = x_org \n",
    "\n",
    "    return x \n",
    "\n",
    " \n",
    "#--------------------------- [seal] match scales of elements in xs = [c,...] \n",
    "\n",
    "def match_scales(xs,names): \n",
    "\n",
    "    while(nscales(xs[0]) != nscales(xs[1])): \n",
    "\n",
    "        idx = int(~(nscales(xs[0]) > nscales(xs[1]))) \n",
    "\n",
    "        evaluator.rescale_to_next_inplace(xs[idx]) \n",
    "\n",
    "        #print(f\"\\t\\t\\t\\t[rescaled] {names[idx]} to {nscales(xs[idx])}\") \n",
    "\n",
    "    return xs \n",
    "\n",
    "\n",
    "\n",
    "#--------------------------- [seal] match levels (chain index) of elements in xs = [c,...] \n",
    "\n",
    "def match_levels(xs,names): \n",
    "\n",
    "    #print(f\"[0](lv1,lv2)=({chain_idx(xs[0])},{chain_idx(xs[1])})\") \n",
    "\n",
    "    while(chain_idx(xs[0])!=chain_idx(xs[1])): \n",
    "\n",
    "        idx = int(~( chain_idx(xs[0]) > chain_idx(xs[1]))) \n",
    "\n",
    "        evaluator.mod_switch_to_inplace(xs[idx],xs[~idx].parms_id()) \n",
    "\n",
    "        #print(f\"\\t\\t\\t\\t[ mod sw ]{names[idx]} to {chain_idx(xs[idx])}\") \n",
    "\n",
    "    return xs "
   ]
  },
  {
   "cell_type": "code",
   "execution_count": 60,
   "id": "581aa911",
   "metadata": {},
   "outputs": [],
   "source": [
    "def check_ctxt(ctxt):\n",
    "    cd = context.get_context_data(ctxt.parms_id())\n",
    "    print(\"parms id\", cd.parms_id())\n",
    "    print(\"Scale\", np.log2(ctxt.scale()))"
   ]
  },
  {
   "cell_type": "code",
   "execution_count": 57,
   "id": "2cb60097",
   "metadata": {},
   "outputs": [],
   "source": [
    "def decrypt(ctxt):\n",
    "    decp = decryptor.decrypt(ctxt)\n",
    "    return encoder.decode(decp)\n",
    "\n",
    "def _sum_reduce_seal(evaluator, galois_keys, nslots, ctx: seal.Ciphertext, n=None):\n",
    "    \"\"\"return the sum of a Ciphertext (repeated nslot times), SEAL version\n",
    "    \"\"\"        \n",
    "    if n is None:\n",
    "        n = int(np.log2(nslots))\n",
    "\n",
    "    temp = seal.Ciphertext()\n",
    "    output = seal.Ciphertext()\n",
    "\n",
    "    for i in range(n):\n",
    "        if i == 0:\n",
    "            temp = evaluator.rotate_vector(ctx, 2**i, galois_keys)\n",
    "            output = evaluator.add(ctx, temp)\n",
    "        else:\n",
    "            temp = evaluator.rotate_vector(output, 2**i, galois_keys)\n",
    "            evaluator.add_inplace(output, temp)\n",
    "    return output"
   ]
  },
  {
   "cell_type": "code",
   "execution_count": 64,
   "id": "d51c584a",
   "metadata": {},
   "outputs": [],
   "source": [
    "def eval_mean(ctxt):\n",
    "    \"\"\"\n",
    "    # Is it faster to give only one value than nslot-long plain text?\n",
    "    \"\"\"\n",
    "    ctxt = _sum_reduce_seal(evaluator, gk, nslots, ctxt)\n",
    "    evaluator.multiply_plain_inplace(ctxt, encoder.encode([1/nslots], 2**scale))\n",
    "    return ctxt"
   ]
  },
  {
   "cell_type": "code",
   "execution_count": 8,
   "id": "d79cb51b",
   "metadata": {},
   "outputs": [],
   "source": [
    "poly_modulus_degree = 8192*2\n",
    "scale = 30\n",
    "\n",
    "coeff_scales = [60] + [scale]*8 +[60]\n",
    "parms.set_poly_modulus_degree(poly_modulus_degree)\n",
    "parms.set_coeff_modulus(seal.CoeffModulus.Create(poly_modulus_degree, coeff_scales))"
   ]
  },
  {
   "cell_type": "code",
   "execution_count": 10,
   "id": "71ee2f6a",
   "metadata": {},
   "outputs": [],
   "source": [
    "context = seal.SEALContext(parms)\n",
    "keygenerator = seal.KeyGenerator(context)\n",
    "sk = keygenerator.secret_key()"
   ]
  },
  {
   "cell_type": "code",
   "execution_count": 11,
   "id": "d452f5b3",
   "metadata": {},
   "outputs": [],
   "source": [
    "pk = keygenerator.create_public_key()\n",
    "gk = keygenerator.create_galois_keys()\n",
    "rk = keygenerator.create_relin_keys()"
   ]
  },
  {
   "cell_type": "code",
   "execution_count": 12,
   "id": "fefa4282",
   "metadata": {},
   "outputs": [],
   "source": [
    "encryptor = seal.Encryptor(context, pk)\n",
    "evaluator = seal.Evaluator(context)\n",
    "decryptor = seal.Decryptor(context, sk)\n",
    "encoder   = seal.CKKSEncoder(context)"
   ]
  },
  {
   "cell_type": "code",
   "execution_count": 13,
   "id": "cd75775b",
   "metadata": {},
   "outputs": [],
   "source": [
    "nslots = encoder.slot_count()"
   ]
  },
  {
   "cell_type": "code",
   "execution_count": 75,
   "id": "feb5c8d2",
   "metadata": {},
   "outputs": [
    {
     "name": "stdout",
     "output_type": "stream",
     "text": [
      "[3.50853717 3.69029299 3.62067451 ... 3.64165775 3.32951568 3.75489862]\n"
     ]
    }
   ],
   "source": [
    "arr = np.random.rand(nslots) + 3\n",
    "print(arr)\n",
    "ptxt = encoder.encode(arr, 2**scale)"
   ]
  },
  {
   "cell_type": "code",
   "execution_count": 100,
   "id": "58d40d49",
   "metadata": {},
   "outputs": [],
   "source": [
    "ctxt = encryptor.encrypt(ptxt)"
   ]
  },
  {
   "cell_type": "code",
   "execution_count": 101,
   "id": "e0baab7c",
   "metadata": {},
   "outputs": [],
   "source": [
    "mean = eval_mean(ctxt)"
   ]
  },
  {
   "cell_type": "code",
   "execution_count": 102,
   "id": "452871a6",
   "metadata": {},
   "outputs": [],
   "source": [
    "evaluator.rescale_to_next_inplace(mean)"
   ]
  },
  {
   "cell_type": "code",
   "execution_count": 103,
   "id": "cbb5f400",
   "metadata": {},
   "outputs": [
    {
     "name": "stdout",
     "output_type": "stream",
     "text": [
      "parms id [7124486971406016613, 9200588442819745994, 9633530931110124529, 17700107536045618697]\n",
      "Scale 30.00013208737876\n"
     ]
    },
    {
     "data": {
      "text/plain": [
       "array([ 3.50757826e+00,  5.73187725e-03,  2.69910104e-03, ...,\n",
       "       -7.90402264e-05, -3.76156212e-05, -2.69679731e-05])"
      ]
     },
     "execution_count": 103,
     "metadata": {},
     "output_type": "execute_result"
    }
   ],
   "source": [
    "check_ctxt(mean)\n",
    "decrypt(mean)"
   ]
  },
  {
   "cell_type": "code",
   "execution_count": 104,
   "id": "35011d90",
   "metadata": {
    "scrolled": true
   },
   "outputs": [],
   "source": [
    "dec = decrypt(ctxt)"
   ]
  },
  {
   "cell_type": "code",
   "execution_count": 105,
   "id": "2ebf56fd",
   "metadata": {},
   "outputs": [
    {
     "name": "stdout",
     "output_type": "stream",
     "text": [
      "3.5085379886027135\n"
     ]
    }
   ],
   "source": [
    "print(dec[0])"
   ]
  },
  {
   "cell_type": "code",
   "execution_count": 106,
   "id": "0effbc7f",
   "metadata": {},
   "outputs": [
    {
     "name": "stdout",
     "output_type": "stream",
     "text": [
      "parms id [13137530424728705773, 5253044371671211702, 18366098092035193399, 10828290947916765783]\n",
      "Scale 30.0\n"
     ]
    }
   ],
   "source": [
    "check_ctxt(ctxt)"
   ]
  },
  {
   "cell_type": "code",
   "execution_count": 107,
   "id": "f0a77f30",
   "metadata": {},
   "outputs": [],
   "source": [
    "scaled = evaluator.mod_switch_to_next(ctxt)"
   ]
  },
  {
   "cell_type": "code",
   "execution_count": 110,
   "id": "2f8010c5",
   "metadata": {},
   "outputs": [
    {
     "name": "stdout",
     "output_type": "stream",
     "text": [
      "parms id [7124486971406016613, 9200588442819745994, 9633530931110124529, 17700107536045618697]\n",
      "Scale 30.0\n",
      "parms id [7124486971406016613, 9200588442819745994, 9633530931110124529, 17700107536045618697]\n",
      "Scale 30.00013208737876\n"
     ]
    }
   ],
   "source": [
    "check_ctxt(scaled)\n",
    "check_ctxt(mean)"
   ]
  },
  {
   "cell_type": "code",
   "execution_count": null,
   "id": "237b264d",
   "metadata": {},
   "outputs": [],
   "source": []
  },
  {
   "cell_type": "code",
   "execution_count": 109,
   "id": "ead9d57f",
   "metadata": {},
   "outputs": [
    {
     "ename": "ValueError",
     "evalue": "scale mismatch",
     "output_type": "error",
     "traceback": [
      "\u001b[0;31m---------------------------------------------------------------------------\u001b[0m",
      "\u001b[0;31mValueError\u001b[0m                                Traceback (most recent call last)",
      "Input \u001b[0;32mIn [109]\u001b[0m, in \u001b[0;36m<cell line: 1>\u001b[0;34m()\u001b[0m\n\u001b[0;32m----> 1\u001b[0m subtracted \u001b[38;5;241m=\u001b[39m \u001b[43mevaluator\u001b[49m\u001b[38;5;241;43m.\u001b[39;49m\u001b[43msub\u001b[49m\u001b[43m(\u001b[49m\u001b[43mscaled\u001b[49m\u001b[43m,\u001b[49m\u001b[43m \u001b[49m\u001b[43mmean\u001b[49m\u001b[43m)\u001b[49m\n",
      "\u001b[0;31mValueError\u001b[0m: scale mismatch"
     ]
    }
   ],
   "source": [
    "subtracted = evaluator.sub(scaled, mean)"
   ]
  },
  {
   "cell_type": "code",
   "execution_count": null,
   "id": "247ce791",
   "metadata": {},
   "outputs": [],
   "source": []
  },
  {
   "cell_type": "code",
   "execution_count": null,
   "id": "9c1e2d54",
   "metadata": {},
   "outputs": [],
   "source": []
  }
 ],
 "metadata": {
  "kernelspec": {
   "display_name": "Python 3 (ipykernel)",
   "language": "python",
   "name": "python3"
  },
  "language_info": {
   "codemirror_mode": {
    "name": "ipython",
    "version": 3
   },
   "file_extension": ".py",
   "mimetype": "text/x-python",
   "name": "python",
   "nbconvert_exporter": "python",
   "pygments_lexer": "ipython3",
   "version": "3.10.4"
  }
 },
 "nbformat": 4,
 "nbformat_minor": 5
}
