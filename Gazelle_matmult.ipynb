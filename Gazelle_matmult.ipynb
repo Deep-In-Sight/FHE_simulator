{
 "cells": [
  {
   "cell_type": "code",
   "execution_count": 8,
   "id": "5ab222a4",
   "metadata": {},
   "outputs": [],
   "source": [
    "import numpy as np\n",
    "import matplotlib.pyplot as plt "
   ]
  },
  {
   "cell_type": "markdown",
   "id": "42b84555",
   "metadata": {},
   "source": [
    "A. Naive"
   ]
  },
  {
   "cell_type": "code",
   "execution_count": 1,
   "id": "cab13c9b",
   "metadata": {},
   "outputs": [],
   "source": [
    "def pack(arr, n=1024):\n",
    "    newarr = np.zeros(n, dtype=int)\n",
    "    newarr[:len(arr)] = arr\n",
    "    return newarr\n",
    "    \n",
    "def rotate_sum(arr, n=None, debug=False):\n",
    "    # Only length of power of 2 is allowed\n",
    "    assert np.ceil(np.log2(len(arr))) == int(np.log2(len(arr)))\\\n",
    "        , \"array length not power of 2. Consider zero-padding\"\n",
    "    \n",
    "    # if n_valid < n_arr and only single valid output slot is sufficient,\n",
    "    # I can remove one rotation. -- to be implemented\n",
    "    if n is None:\n",
    "        n = len(arr)\n",
    "    for i in range(int(np.log2(n))):\n",
    "        arr += np.roll(arr, -2**i)\n",
    "        if debug:\n",
    "            print(arr)\n",
    "    return arr"
   ]
  },
  {
   "cell_type": "code",
   "execution_count": 2,
   "id": "ce31ec90",
   "metadata": {},
   "outputs": [
    {
     "ename": "NameError",
     "evalue": "name 'np' is not defined",
     "output_type": "error",
     "traceback": [
      "\u001b[0;31m---------------------------------------------------------------------------\u001b[0m",
      "\u001b[0;31mNameError\u001b[0m                                 Traceback (most recent call last)",
      "Cell \u001b[0;32mIn [2], line 1\u001b[0m\n\u001b[0;32m----> 1\u001b[0m arr \u001b[39m=\u001b[39m pack(np\u001b[39m.\u001b[39marange(\u001b[39m1\u001b[39m,\u001b[39m11\u001b[39m), \u001b[39m2\u001b[39m\u001b[39m*\u001b[39m\u001b[39m*\u001b[39m\u001b[39m4\u001b[39m)\n\u001b[1;32m      2\u001b[0m \u001b[39mprint\u001b[39m(np\u001b[39m.\u001b[39msum(arr))\n\u001b[1;32m      3\u001b[0m \u001b[39mprint\u001b[39m(arr)\n",
      "\u001b[0;31mNameError\u001b[0m: name 'np' is not defined"
     ]
    }
   ],
   "source": [
    "arr = pack(np.arange(1,11), 2**4)\n",
    "print(np.sum(arr))\n",
    "print(arr)\n",
    "rotate_sum(arr)"
   ]
  },
  {
   "cell_type": "code",
   "execution_count": null,
   "id": "48b39f2e",
   "metadata": {},
   "outputs": [],
   "source": [
    "ni = 4\n",
    "no =  4\n",
    "\n",
    "W0 = np.arange(ni*no).reshape(no,ni)\n",
    "W1 = [pack(w) for w in W0]\n",
    "V0 = np.random.randint(1,10,ni)\n",
    "V1 = pack(V0)"
   ]
  },
  {
   "cell_type": "code",
   "execution_count": 3,
   "id": "0f5e5abf",
   "metadata": {},
   "outputs": [
    {
     "ename": "NameError",
     "evalue": "name 'W0' is not defined",
     "output_type": "error",
     "traceback": [
      "\u001b[0;31m---------------------------------------------------------------------------\u001b[0m",
      "\u001b[0;31mNameError\u001b[0m                                 Traceback (most recent call last)",
      "Cell \u001b[0;32mIn [3], line 1\u001b[0m\n\u001b[0;32m----> 1\u001b[0m \u001b[39mprint\u001b[39m(W0)\n\u001b[1;32m      2\u001b[0m \u001b[39mprint\u001b[39m(W1)\n",
      "\u001b[0;31mNameError\u001b[0m: name 'W0' is not defined"
     ]
    }
   ],
   "source": [
    "print(W0)\n",
    "print(W1)"
   ]
  },
  {
   "cell_type": "code",
   "execution_count": 4,
   "id": "b843a29d",
   "metadata": {},
   "outputs": [
    {
     "ename": "NameError",
     "evalue": "name 'np' is not defined",
     "output_type": "error",
     "traceback": [
      "\u001b[0;31m---------------------------------------------------------------------------\u001b[0m",
      "\u001b[0;31mNameError\u001b[0m                                 Traceback (most recent call last)",
      "Cell \u001b[0;32mIn [4], line 1\u001b[0m\n\u001b[0;32m----> 1\u001b[0m np\u001b[39m.\u001b[39mmatmul(W0,W1)\n",
      "\u001b[0;31mNameError\u001b[0m: name 'np' is not defined"
     ]
    }
   ],
   "source": [
    "np.matmul(W0,W1)"
   ]
  },
  {
   "cell_type": "markdown",
   "id": "f63a90dd",
   "metadata": {},
   "source": [
    "## Output Packing\n",
    "\n",
    "naive_result의 output을 rotate - sum해서 하나로 합치기. \n",
    "-> 근데 에러가 너무 커져서 문제라고? \n",
    "곱하기 한번 더 하는 것 뿐인데...  \n",
    "충분한 정확도를 확보하기 위해 64bit 이상이 필요하고, 그러려면 DCRT가 필요한데 DCRT는 느리고, 알고리즘으로 해결하겠다고 함"
   ]
  },
  {
   "cell_type": "markdown",
   "id": "150f0697",
   "metadata": {},
   "source": [
    "### Input Packing\n",
    "\n",
    "또 다른 방법으론, ni << n일 때, 하나의 ctxt에 데이터를 반복해서 tile하는 방법. "
   ]
  },
  {
   "cell_type": "code",
   "execution_count": 484,
   "id": "40bc98c0",
   "metadata": {},
   "outputs": [
    {
     "data": {
      "text/plain": [
       "array([[ 0,  1,  2,  3],\n",
       "       [ 4,  5,  6,  7],\n",
       "       [ 8,  9, 10, 11],\n",
       "       [12, 13, 14, 15],\n",
       "       [ 0,  0,  0,  0]])"
      ]
     },
     "execution_count": 484,
     "metadata": {},
     "output_type": "execute_result"
    }
   ],
   "source": [
    "W3 = pack(W0.ravel())\n",
    "W3[:ni*no+ni].reshape(no+1,-1)"
   ]
  },
  {
   "cell_type": "code",
   "execution_count": 485,
   "id": "5bc129b5",
   "metadata": {
    "scrolled": true
   },
   "outputs": [
    {
     "name": "stdout",
     "output_type": "stream",
     "text": [
      "[9 3 7 1 9]\n"
     ]
    }
   ],
   "source": [
    "V3 = pack(np.tile(V0, ni))\n",
    "print(V3[:ni+1])"
   ]
  },
  {
   "cell_type": "code",
   "execution_count": 486,
   "id": "95c414cc",
   "metadata": {},
   "outputs": [
    {
     "data": {
      "text/plain": [
       "array([ 20, 100, 180, 260])"
      ]
     },
     "execution_count": 486,
     "metadata": {},
     "output_type": "execute_result"
    }
   ],
   "source": [
    "result = rotate_sum(W3*V3, n=ni, debug=False)\n",
    "\n",
    "result[::ni][:no]"
   ]
  },
  {
   "cell_type": "markdown",
   "id": "c6effc46",
   "metadata": {},
   "source": [
    "## Halevi Shoup"
   ]
  },
  {
   "cell_type": "code",
   "execution_count": 559,
   "id": "79fdeb90",
   "metadata": {},
   "outputs": [],
   "source": [
    "def get_diagonal(arr):\n",
    "    nr, nc = arr.shape\n",
    "    new_mat = np.zeros((nr, nc), dtype=arr.dtype)\n",
    "    \n",
    "    for j in range(nr):\n",
    "        for i in range(nc):\n",
    "            new_mat[j, i] = arr[i%nr, (i+j)%nc]\n",
    "            #new_mat[j, i] = arr[i%nr, (i+j)%nc]\n",
    "    return new_mat"
   ]
  },
  {
   "cell_type": "code",
   "execution_count": 561,
   "id": "e03428ef",
   "metadata": {},
   "outputs": [
    {
     "data": {
      "text/plain": [
       "array([[ 0,  5, 10, 15],\n",
       "       [ 1,  6, 11, 12],\n",
       "       [ 2,  7,  8, 13],\n",
       "       [ 3,  4,  9, 14]])"
      ]
     },
     "execution_count": 561,
     "metadata": {},
     "output_type": "execute_result"
    }
   ],
   "source": [
    "W4 = get_diagonal(W0)\n",
    "W4"
   ]
  },
  {
   "cell_type": "code",
   "execution_count": 562,
   "id": "0b537c7b",
   "metadata": {},
   "outputs": [
    {
     "name": "stdout",
     "output_type": "stream",
     "text": [
      "[ 0  5 10 15] [3 9 4 6]\n",
      "[ 1  6 11 12] [9 4 6 3]\n",
      "[ 2  7  8 13] [4 6 3 9]\n",
      "[ 3  4  9 14] [6 3 9 4]\n"
     ]
    }
   ],
   "source": [
    "HS_result = None\n",
    "for i in range(ni):\n",
    "    if HS_result is None:\n",
    "        HS_result = W4[i] * np.roll(V0,-i)\n",
    "        print(W4[i], np.roll(V0,-i))\n",
    "    else:\n",
    "        HS_result += W4[i] * np.roll(V0,-i)\n",
    "        print(W4[i], np.roll(V0,-i))"
   ]
  },
  {
   "cell_type": "code",
   "execution_count": 563,
   "id": "1c5257ce",
   "metadata": {},
   "outputs": [
    {
     "name": "stdout",
     "output_type": "stream",
     "text": [
      "[ 35 123 211 299]\n",
      "[ 35 123 211 299]\n"
     ]
    }
   ],
   "source": [
    "print(HS_result)\n",
    "print(np.matmul(W0, V0))"
   ]
  },
  {
   "cell_type": "markdown",
   "id": "1863e006",
   "metadata": {},
   "source": [
    "### Diagonal, rectangular\n",
    "\n",
    "no = 4이므로, 벡터끼리 곱하기가 ni번 반복되어 no=4인 벡터로 합쳐져야함. \n",
    "\n",
    "근데 input vector가 이미 8짜리인데? \n",
    "\n",
    "WW가 (4,8)이면 (8,4) 바꿔야함.\n",
    "\n",
    "\n",
    "\n",
    "[[a,b,c],\n",
    " [d,e,f]]\n",
    "x\n",
    "[1,2,3]\n",
    "\n",
    "-> \n",
    "[[a,e],\n",
    " [b,f],\n",
    " [c,d]] \n",
    "x\n",
    "[[1,2],\n",
    " [2,3],\n",
    " [3,1]]\n",
    "  \n",
    "로 바꿔야함.\n",
    "= [(1a+2b+3c), (2e+3f+1d)]"
   ]
  },
  {
   "cell_type": "code",
   "execution_count": 10,
   "id": "4e5616c7",
   "metadata": {},
   "outputs": [],
   "source": [
    "def get_diagonal(arr):\n",
    "    nr, nc = arr.shape\n",
    "    new_mat = np.zeros((nc, nr), dtype=arr.dtype)\n",
    "    \n",
    "    for j in range(nr):\n",
    "        for i in range(nc):\n",
    "            new_mat[i, j%nr] = arr[i%nr, (i+j)%nc]\n",
    "            #new_mat[j, i] = arr[i%nr, (i+j)%nc]\n",
    "    return new_mat"
   ]
  },
  {
   "cell_type": "code",
   "execution_count": 11,
   "id": "beb61d5d",
   "metadata": {},
   "outputs": [
    {
     "data": {
      "text/plain": [
       "array([[ 0,  1,  2,  3],\n",
       "       [ 4,  5,  6,  7],\n",
       "       [ 8,  9, 10, 11],\n",
       "       [12, 13, 14, 15]])"
      ]
     },
     "execution_count": 11,
     "metadata": {},
     "output_type": "execute_result"
    }
   ],
   "source": [
    "W0"
   ]
  },
  {
   "cell_type": "code",
   "execution_count": 12,
   "id": "75a592c4",
   "metadata": {},
   "outputs": [
    {
     "data": {
      "text/plain": [
       "array([7, 3, 2, 2])"
      ]
     },
     "execution_count": 12,
     "metadata": {},
     "output_type": "execute_result"
    }
   ],
   "source": [
    "V0"
   ]
  },
  {
   "cell_type": "code",
   "execution_count": 13,
   "id": "37fa1dc4",
   "metadata": {},
   "outputs": [
    {
     "data": {
      "text/plain": [
       "array([[ 0,  1,  2,  3],\n",
       "       [ 5,  6,  7,  4],\n",
       "       [10, 11,  8,  9],\n",
       "       [15, 12, 13, 14]])"
      ]
     },
     "execution_count": 13,
     "metadata": {},
     "output_type": "execute_result"
    }
   ],
   "source": [
    "W5 = get_diagonal(W0)\n",
    "W5"
   ]
  },
  {
   "cell_type": "code",
   "execution_count": 14,
   "id": "6c4c4975",
   "metadata": {},
   "outputs": [],
   "source": [
    "ni = 3\n",
    "no = 2\n",
    "\n",
    "W0 = np.arange(ni*no).reshape(no,ni)\n",
    "W1 = [pack(w) for w in W0]\n",
    "V0 = np.random.randint(1,10,ni)\n",
    "V1 = pack(V0)"
   ]
  },
  {
   "cell_type": "code",
   "execution_count": 15,
   "id": "98348b05",
   "metadata": {},
   "outputs": [
    {
     "data": {
      "text/plain": [
       "array([[0, 1, 2],\n",
       "       [3, 4, 5]])"
      ]
     },
     "execution_count": 15,
     "metadata": {},
     "output_type": "execute_result"
    }
   ],
   "source": [
    "W0"
   ]
  },
  {
   "cell_type": "code",
   "execution_count": 16,
   "id": "d298d431",
   "metadata": {},
   "outputs": [
    {
     "data": {
      "text/plain": [
       "array([[0, 1],\n",
       "       [4, 5],\n",
       "       [2, 0]])"
      ]
     },
     "execution_count": 16,
     "metadata": {},
     "output_type": "execute_result"
    }
   ],
   "source": [
    "W5 = get_diagonal(W0)\n",
    "\n",
    "W5"
   ]
  },
  {
   "cell_type": "code",
   "execution_count": 17,
   "id": "7da04353",
   "metadata": {},
   "outputs": [],
   "source": [
    "def diagonal_matmult(WW, VV):\n",
    "    HS_result = None\n",
    "    nr, nc = WW.shape\n",
    "    for i in range(nc):\n",
    "        if HS_result is None:\n",
    "            HS_result = WW[i] * VV\n",
    "        else:\n",
    "            HS_result += WW[i] * np.roll(VV,-i)\n",
    "    return HS_result"
   ]
  },
  {
   "cell_type": "code",
   "execution_count": 18,
   "id": "2cd68efa",
   "metadata": {},
   "outputs": [
    {
     "ename": "ValueError",
     "evalue": "operands could not be broadcast together with shapes (2,) (3,) ",
     "output_type": "error",
     "traceback": [
      "\u001b[0;31m---------------------------------------------------------------------------\u001b[0m",
      "\u001b[0;31mValueError\u001b[0m                                Traceback (most recent call last)",
      "Cell \u001b[0;32mIn [18], line 1\u001b[0m\n\u001b[0;32m----> 1\u001b[0m hs \u001b[39m=\u001b[39m diagonal_matmult(W5, V0)\n",
      "Cell \u001b[0;32mIn [17], line 6\u001b[0m, in \u001b[0;36mdiagonal_matmult\u001b[0;34m(WW, VV)\u001b[0m\n\u001b[1;32m      4\u001b[0m \u001b[39mfor\u001b[39;00m i \u001b[39min\u001b[39;00m \u001b[39mrange\u001b[39m(nc):\n\u001b[1;32m      5\u001b[0m     \u001b[39mif\u001b[39;00m HS_result \u001b[39mis\u001b[39;00m \u001b[39mNone\u001b[39;00m:\n\u001b[0;32m----> 6\u001b[0m         HS_result \u001b[39m=\u001b[39m WW[i] \u001b[39m*\u001b[39;49m VV\n\u001b[1;32m      7\u001b[0m     \u001b[39melse\u001b[39;00m:\n\u001b[1;32m      8\u001b[0m         HS_result \u001b[39m+\u001b[39m\u001b[39m=\u001b[39m WW[i] \u001b[39m*\u001b[39m np\u001b[39m.\u001b[39mroll(VV,\u001b[39m-\u001b[39mi)\n",
      "\u001b[0;31mValueError\u001b[0m: operands could not be broadcast together with shapes (2,) (3,) "
     ]
    }
   ],
   "source": [
    "hs = diagonal_matmult(W5, V0)"
   ]
  },
  {
   "cell_type": "code",
   "execution_count": 573,
   "id": "1e0b600f",
   "metadata": {},
   "outputs": [
    {
     "data": {
      "text/plain": [
       "array([ 39, 247, 418, 596,  85, 197, 346, 488])"
      ]
     },
     "execution_count": 573,
     "metadata": {},
     "output_type": "execute_result"
    }
   ],
   "source": [
    "hs"
   ]
  },
  {
   "cell_type": "code",
   "execution_count": 574,
   "id": "08a889da",
   "metadata": {},
   "outputs": [
    {
     "data": {
      "text/plain": [
       "array([ 124,  444,  764, 1084])"
      ]
     },
     "execution_count": 574,
     "metadata": {},
     "output_type": "execute_result"
    }
   ],
   "source": [
    "np.matmul(W0, V0)"
   ]
  },
  {
   "cell_type": "code",
   "execution_count": null,
   "id": "f6364e51",
   "metadata": {},
   "outputs": [],
   "source": []
  },
  {
   "cell_type": "markdown",
   "id": "ddbbfa22",
   "metadata": {},
   "source": [
    "### Hybrid method"
   ]
  },
  {
   "cell_type": "code",
   "execution_count": 5,
   "id": "c37ec207",
   "metadata": {},
   "outputs": [],
   "source": [
    "def get_diagonal(arr):\n",
    "    nr, nc = arr.shape\n",
    "    new_mat = np.zeros((nr, nc), dtype=arr.dtype)\n",
    "    \n",
    "    for j in range(nr):\n",
    "        for i in range(nc):\n",
    "            new_mat[j, i] = arr[(i+j)%nr,i]\n",
    "    return new_mat"
   ]
  },
  {
   "cell_type": "code",
   "execution_count": 20,
   "id": "5db5f97b",
   "metadata": {},
   "outputs": [],
   "source": [
    "def get_diagonal2(arr, ndiv=2):\n",
    "    \"\"\"Hybrid\n",
    "    \"\"\"\n",
    "    nrow, ncol = arr.shape\n",
    "    nnrow, nncol = int(nrow / ndiv), int(ncol * ndiv)\n",
    "    assert nrow/ndiv == nrow // ndiv, f\"can't divide the matrix by {ndiv}\"\n",
    "    new_mat = arr.transpose((1,0,2)).reshape(nnrow,nncol)\n",
    "    return new_mat"
   ]
  },
  {
   "cell_type": "code",
   "execution_count": 21,
   "id": "78b3612c",
   "metadata": {},
   "outputs": [
    {
     "data": {
      "text/plain": [
       "array([7, 6, 8])"
      ]
     },
     "execution_count": 21,
     "metadata": {},
     "output_type": "execute_result"
    }
   ],
   "source": [
    "V0"
   ]
  },
  {
   "cell_type": "code",
   "execution_count": 22,
   "id": "2981b62a",
   "metadata": {},
   "outputs": [
    {
     "ename": "ValueError",
     "evalue": "axes don't match array",
     "output_type": "error",
     "traceback": [
      "\u001b[0;31m---------------------------------------------------------------------------\u001b[0m",
      "\u001b[0;31mValueError\u001b[0m                                Traceback (most recent call last)",
      "Cell \u001b[0;32mIn [22], line 1\u001b[0m\n\u001b[0;32m----> 1\u001b[0m WW \u001b[39m=\u001b[39m get_diagonal2(W0,\u001b[39m2\u001b[39;49m)\n\u001b[1;32m      2\u001b[0m \u001b[39mfor\u001b[39;00m i \u001b[39min\u001b[39;00m \u001b[39mrange\u001b[39m(ni):\n\u001b[1;32m      3\u001b[0m     WW \u001b[39m*\u001b[39m np\u001b[39m.\u001b[39mroll(V0, \u001b[39m-\u001b[39mi)\n",
      "Cell \u001b[0;32mIn [20], line 7\u001b[0m, in \u001b[0;36mget_diagonal2\u001b[0;34m(arr, ndiv)\u001b[0m\n\u001b[1;32m      5\u001b[0m nnrow, nncol \u001b[39m=\u001b[39m \u001b[39mint\u001b[39m(nrow \u001b[39m/\u001b[39m ndiv), \u001b[39mint\u001b[39m(ncol \u001b[39m*\u001b[39m ndiv)\n\u001b[1;32m      6\u001b[0m \u001b[39massert\u001b[39;00m nrow\u001b[39m/\u001b[39mndiv \u001b[39m==\u001b[39m nrow \u001b[39m/\u001b[39m\u001b[39m/\u001b[39m ndiv, \u001b[39mf\u001b[39m\u001b[39m\"\u001b[39m\u001b[39mcan\u001b[39m\u001b[39m'\u001b[39m\u001b[39mt divide the matrix by \u001b[39m\u001b[39m{\u001b[39;00mndiv\u001b[39m}\u001b[39;00m\u001b[39m\"\u001b[39m\n\u001b[0;32m----> 7\u001b[0m new_mat \u001b[39m=\u001b[39m arr\u001b[39m.\u001b[39;49mtranspose((\u001b[39m1\u001b[39;49m,\u001b[39m0\u001b[39;49m,\u001b[39m2\u001b[39;49m))\u001b[39m.\u001b[39mreshape(nnrow,nncol)\n\u001b[1;32m      8\u001b[0m \u001b[39mreturn\u001b[39;00m new_mat\n",
      "\u001b[0;31mValueError\u001b[0m: axes don't match array"
     ]
    }
   ],
   "source": [
    "WW = get_diagonal2(W0,2)\n",
    "for i in range(ni):\n",
    "    WW * np.roll(V0, -i)"
   ]
  },
  {
   "cell_type": "code",
   "execution_count": null,
   "id": "2a575ff4",
   "metadata": {},
   "outputs": [],
   "source": []
  },
  {
   "cell_type": "code",
   "execution_count": null,
   "id": "cc6c71bb",
   "metadata": {},
   "outputs": [],
   "source": []
  },
  {
   "cell_type": "code",
   "execution_count": 14,
   "id": "53106036",
   "metadata": {},
   "outputs": [],
   "source": []
  },
  {
   "cell_type": "code",
   "execution_count": 9,
   "id": "273d7340",
   "metadata": {},
   "outputs": [],
   "source": [
    "d = 4 \n",
    "\n",
    "mat1 = np.arange(d*d).reshape((d,d))\n",
    "mat2 = np.arange(d*d).reshape((d,d))\n",
    "\n",
    "ans = np.matmul(mat1, mat2)\n"
   ]
  },
  {
   "cell_type": "code",
   "execution_count": 10,
   "id": "ad4891e6",
   "metadata": {},
   "outputs": [],
   "source": [
    "from hemul.matrix import *\n",
    "\n",
    "MM = MatrixMultiplicator(d)"
   ]
  },
  {
   "cell_type": "code",
   "execution_count": 11,
   "id": "c408e4bb",
   "metadata": {},
   "outputs": [],
   "source": [
    "emat1 = encode_matrix_to_vector(mat1)\n",
    "emat2 = encode_matrix_to_vector(mat2)\n",
    "result = decode_vector_to_matrix(MM.matmul(emat1, emat2))"
   ]
  },
  {
   "cell_type": "code",
   "execution_count": 12,
   "id": "50289178",
   "metadata": {},
   "outputs": [
    {
     "data": {
      "text/plain": [
       "array([[ 56.,  62.,  68.,  74.],\n",
       "       [152., 174., 196., 218.],\n",
       "       [248., 286., 324., 362.],\n",
       "       [344., 398., 452., 506.]])"
      ]
     },
     "execution_count": 12,
     "metadata": {},
     "output_type": "execute_result"
    }
   ],
   "source": [
    "result"
   ]
  },
  {
   "cell_type": "code",
   "execution_count": 20,
   "id": "7157db84",
   "metadata": {},
   "outputs": [
    {
     "data": {
      "text/plain": [
       "array([[ 56,  62,  68,  74],\n",
       "       [152, 174, 196, 218],\n",
       "       [248, 286, 324, 362],\n",
       "       [344, 398, 452, 506]])"
      ]
     },
     "execution_count": 20,
     "metadata": {},
     "output_type": "execute_result"
    }
   ],
   "source": [
    "ans"
   ]
  },
  {
   "cell_type": "code",
   "execution_count": 13,
   "id": "88f031f9",
   "metadata": {},
   "outputs": [
    {
     "data": {
      "text/plain": [
       "True"
      ]
     },
     "execution_count": 13,
     "metadata": {},
     "output_type": "execute_result"
    }
   ],
   "source": [
    "np.all(result == ans)"
   ]
  },
  {
   "cell_type": "code",
   "execution_count": null,
   "id": "d0f55927",
   "metadata": {},
   "outputs": [],
   "source": []
  }
 ],
 "metadata": {
  "kernelspec": {
   "display_name": "Python 3.10.4 ('fhe')",
   "language": "python",
   "name": "python3"
  },
  "language_info": {
   "codemirror_mode": {
    "name": "ipython",
    "version": 3
   },
   "file_extension": ".py",
   "mimetype": "text/x-python",
   "name": "python",
   "nbconvert_exporter": "python",
   "pygments_lexer": "ipython3",
   "version": "3.10.6"
  },
  "vscode": {
   "interpreter": {
    "hash": "60d42a677e1abf850e158ee39e01a5d70da0f6529681f4a4eca4a35dff8a082c"
   }
  }
 },
 "nbformat": 4,
 "nbformat_minor": 5
}
