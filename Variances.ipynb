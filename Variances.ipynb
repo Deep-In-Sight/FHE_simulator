{
 "cells": [
  {
   "cell_type": "code",
   "execution_count": 1,
   "id": "32d8e418",
   "metadata": {},
   "outputs": [],
   "source": [
    "%load_ext autoreload\n",
    "%autoreload 2"
   ]
  },
  {
   "cell_type": "code",
   "execution_count": 2,
   "id": "f1c2b2fd",
   "metadata": {},
   "outputs": [],
   "source": [
    "import numpy as np\n",
    "from cipher import *\n",
    "from scheme import *"
   ]
  },
  {
   "cell_type": "code",
   "execution_count": 3,
   "id": "ee6a63e6",
   "metadata": {},
   "outputs": [
    {
     "name": "stdout",
     "output_type": "stream",
     "text": [
      " logp: 30\n",
      " logq: 150 \n",
      " logn: 12\n"
     ]
    }
   ],
   "source": [
    "myring = Ring(seed=1234)\n",
    "parms = Parameters(logp = 30, logq = 150, logn = 12)\n",
    "nslots = 2**parms.logn\n",
    "context = Context(parms, myring)\n",
    "\n",
    "sk = context.generate_secret_key()\n",
    "\n",
    "print(context.params)"
   ]
  },
  {
   "cell_type": "code",
   "execution_count": 4,
   "id": "b46e4e82",
   "metadata": {},
   "outputs": [],
   "source": [
    "keys = {\"mult\":context.generate_mult_key(),\n",
    "        \"rot\":{'1':'hi1',\n",
    "               '2':'hi2',\n",
    "               '4':'hi4',\n",
    "               '8':'hi8'}}\n",
    "ev = Evaluator(keys) # Evaluator도 그냥 context만 넣게 할까? \n",
    "encryptor = Encryptor(context)\n",
    "\n",
    "decryptor = Decryptor(sk)\n",
    "\n",
    "ctxt = encryptor.encrypt(np.array([1,2,3,4,5,6,7,8]))"
   ]
  },
  {
   "cell_type": "code",
   "execution_count": 5,
   "id": "5477d39f",
   "metadata": {},
   "outputs": [
    {
     "data": {
      "text/plain": [
       "2797295717590756220"
      ]
     },
     "execution_count": 5,
     "metadata": {},
     "output_type": "execute_result"
    }
   ],
   "source": [
    "ctxt._enckey_hash"
   ]
  },
  {
   "cell_type": "code",
   "execution_count": 12,
   "id": "88d3e35f",
   "metadata": {},
   "outputs": [],
   "source": [
    "def fhe_sum(ctxt, evaluator): \n",
    "    arr = ctxt._arr\n",
    "    n_elements = ctxt._n_elements\n",
    "    log2n = np.log2(n_elements).astype(int)\n",
    "\n",
    "    for i in range(log2n):\n",
    "        tmp = evaluator.copy(ctxt)\n",
    "        evaluator.lrot(tmp, 2**i, inplace=True)\n",
    "        evaluator.add(ctxt, tmp, inplace=True)\n",
    "    \n",
    "    return ctxt"
   ]
  },
  {
   "cell_type": "code",
   "execution_count": null,
   "id": "a7ed69c9",
   "metadata": {},
   "outputs": [],
   "source": []
  },
  {
   "cell_type": "code",
   "execution_count": 15,
   "id": "82916f08",
   "metadata": {},
   "outputs": [],
   "source": [
    "summed = fhe_sum(ctxt, ev)"
   ]
  },
  {
   "cell_type": "code",
   "execution_count": null,
   "id": "ccef3f31",
   "metadata": {},
   "outputs": [],
   "source": []
  },
  {
   "cell_type": "code",
   "execution_count": 59,
   "id": "eaa9bcdc",
   "metadata": {},
   "outputs": [
    {
     "data": {
      "text/plain": [
       "36"
      ]
     },
     "execution_count": 59,
     "metadata": {},
     "output_type": "execute_result"
    }
   ],
   "source": [
    "np.sum(arr)"
   ]
  },
  {
   "cell_type": "code",
   "execution_count": 11,
   "id": "4d96b91e",
   "metadata": {},
   "outputs": [],
   "source": [
    "def my_var(arrx):\n",
    "    n = arrx.__len__()\n",
    "    sumx = np.sum(arrx)\n",
    "    meanx = sumx / n\n",
    "    sub = arrx - meanx\n",
    "    squared = sub * sub\n",
    "    return np.sum(squared) * (1./(n))\n",
    "    "
   ]
  },
  {
   "cell_type": "code",
   "execution_count": 12,
   "id": "f010d191",
   "metadata": {},
   "outputs": [],
   "source": [
    "arrx = np.array([1,2,3,4])"
   ]
  },
  {
   "cell_type": "code",
   "execution_count": 13,
   "id": "a0b844c4",
   "metadata": {},
   "outputs": [],
   "source": [
    "diff = np.sum(arrx) - np.mean(arrx)"
   ]
  },
  {
   "cell_type": "code",
   "execution_count": 39,
   "id": "00e75bfa",
   "metadata": {},
   "outputs": [
    {
     "data": {
      "text/plain": [
       "5.0"
      ]
     },
     "execution_count": 39,
     "metadata": {},
     "output_type": "execute_result"
    }
   ],
   "source": [
    "1.5**2 + 0.5**2 + 0.5**2 + 1.5**2"
   ]
  },
  {
   "cell_type": "code",
   "execution_count": 28,
   "id": "3c88e7f5",
   "metadata": {},
   "outputs": [
    {
     "data": {
      "text/plain": [
       "56.25"
      ]
     },
     "execution_count": 28,
     "metadata": {},
     "output_type": "execute_result"
    }
   ],
   "source": [
    "np.sum(diff**2)"
   ]
  },
  {
   "cell_type": "code",
   "execution_count": 14,
   "id": "132ba6ce",
   "metadata": {},
   "outputs": [
    {
     "data": {
      "text/plain": [
       "1.25"
      ]
     },
     "execution_count": 14,
     "metadata": {},
     "output_type": "execute_result"
    }
   ],
   "source": [
    "my_var(arrx)"
   ]
  },
  {
   "cell_type": "code",
   "execution_count": 15,
   "id": "d1dcacf0",
   "metadata": {},
   "outputs": [
    {
     "data": {
      "text/plain": [
       "2.5"
      ]
     },
     "execution_count": 15,
     "metadata": {},
     "output_type": "execute_result"
    }
   ],
   "source": [
    "np.mean(arrx)"
   ]
  },
  {
   "cell_type": "code",
   "execution_count": 16,
   "id": "5cd2f588",
   "metadata": {},
   "outputs": [
    {
     "data": {
      "text/plain": [
       "1.25"
      ]
     },
     "execution_count": 16,
     "metadata": {},
     "output_type": "execute_result"
    }
   ],
   "source": [
    "np.var(arrx)"
   ]
  },
  {
   "cell_type": "code",
   "execution_count": null,
   "id": "ac05aed7",
   "metadata": {},
   "outputs": [],
   "source": []
  },
  {
   "cell_type": "code",
   "execution_count": null,
   "id": "e51a0521",
   "metadata": {},
   "outputs": [],
   "source": [
    "def my_cov(arrx, arry):\n",
    "    sumx = np.sum(arrx)\n",
    "    sumy = np.sum(arry)\n",
    "    meanx = sumx / len(arrx)\n",
    "    meany = sumy / len(arry)\n",
    "    \n",
    "    "
   ]
  },
  {
   "cell_type": "code",
   "execution_count": 4,
   "id": "16c520ce",
   "metadata": {},
   "outputs": [
    {
     "data": {
      "text/plain": [
       "25.575424759098897"
      ]
     },
     "execution_count": 4,
     "metadata": {},
     "output_type": "execute_result"
    }
   ],
   "source": [
    "np.log2(5e7)"
   ]
  },
  {
   "cell_type": "code",
   "execution_count": null,
   "id": "945ab5e6",
   "metadata": {},
   "outputs": [],
   "source": []
  }
 ],
 "metadata": {
  "kernelspec": {
   "display_name": "Python 3 (ipykernel)",
   "language": "python",
   "name": "python3"
  },
  "language_info": {
   "codemirror_mode": {
    "name": "ipython",
    "version": 3
   },
   "file_extension": ".py",
   "mimetype": "text/x-python",
   "name": "python",
   "nbconvert_exporter": "python",
   "pygments_lexer": "ipython3",
   "version": "3.9.0"
  }
 },
 "nbformat": 4,
 "nbformat_minor": 5
}
