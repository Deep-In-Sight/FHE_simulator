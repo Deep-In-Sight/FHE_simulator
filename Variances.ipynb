{
 "cells": [
  {
   "cell_type": "code",
   "execution_count": 1,
   "id": "32d8e418",
   "metadata": {},
   "outputs": [],
   "source": [
    "%load_ext autoreload\n",
    "%autoreload 2"
   ]
  },
  {
   "cell_type": "markdown",
   "id": "9f868787",
   "metadata": {},
   "source": [
    "_n_elements보다는 tile tensor처럼 {'stride':1, 'begin':-8, 'end': 8} 이런 식이 좋을 듯. "
   ]
  },
  {
   "cell_type": "code",
   "execution_count": 2,
   "id": "f1c2b2fd",
   "metadata": {},
   "outputs": [],
   "source": [
    "import numpy as np\n",
    "from cipher import *\n",
    "from scheme import *\n",
    "\n",
    "from algorithms import Algorithms \n",
    "from stats import Statistics"
   ]
  },
  {
   "cell_type": "code",
   "execution_count": 3,
   "id": "ee6a63e6",
   "metadata": {},
   "outputs": [
    {
     "name": "stdout",
     "output_type": "stream",
     "text": [
      " logp: 30\n",
      " logq: 150 \n",
      " logn: 12\n"
     ]
    }
   ],
   "source": [
    "myring = Ring(seed=1234)\n",
    "parms = Parameters(logp = 30, logq = 150, logn = 12)\n",
    "nslots = 2**parms.logn\n",
    "context = Context(parms, myring)\n",
    "\n",
    "sk = context.generate_secret_key()\n",
    "\n",
    "print(context.params)"
   ]
  },
  {
   "cell_type": "code",
   "execution_count": 4,
   "id": "b46e4e82",
   "metadata": {},
   "outputs": [],
   "source": [
    "keys = {\"mult\":context.generate_mult_key(),\n",
    "        \"rot\":{'1':'hi1',\n",
    "               '2':'hi2',\n",
    "               '4':'hi4',\n",
    "               '8':'hi8'}}\n",
    "ev = Evaluator(keys) # Evaluator도 그냥 context만 넣게 할까? \n",
    "encryptor = Encryptor(context)\n",
    "\n",
    "decryptor = Decryptor(sk)\n",
    "\n",
    "arr = np.array([1,2,3,4,5,6,7,8])\n",
    "\n",
    "ctxt = encryptor.encrypt(arr)"
   ]
  },
  {
   "cell_type": "code",
   "execution_count": 20,
   "id": "04b643d7",
   "metadata": {},
   "outputs": [],
   "source": [
    "algo = Algorithms(ev)\n",
    "\n",
    "st = Statistics(algo, ev)\n",
    "\n",
    "check = Checker()"
   ]
  },
  {
   "cell_type": "markdown",
   "id": "bb4f5f96",
   "metadata": {},
   "source": [
    "### variance"
   ]
  },
  {
   "cell_type": "code",
   "execution_count": 21,
   "id": "ac05aed7",
   "metadata": {},
   "outputs": [
    {
     "name": "stdout",
     "output_type": "stream",
     "text": [
      "Absolute error within: 1.0E-06\n",
      "Relative error within: 1.0E-04\n"
     ]
    }
   ],
   "source": [
    "arr = np.array([1,2,3,4,5,6,7,8])\n",
    "\n",
    "ctxt = encryptor.encrypt(arr)\n",
    "var = st.variance(ctxt)\n",
    "\n",
    "check.close(var._arr[0], np.var(arr))"
   ]
  },
  {
   "cell_type": "markdown",
   "id": "c2b1faef",
   "metadata": {},
   "source": [
    "### Covariance"
   ]
  },
  {
   "cell_type": "code",
   "execution_count": 22,
   "id": "d9ef4e03",
   "metadata": {},
   "outputs": [
    {
     "name": "stdout",
     "output_type": "stream",
     "text": [
      "Absolute error within: 1.0E-06\n",
      "Relative error within: 1.0E-04\n"
     ]
    }
   ],
   "source": [
    "arr1 = np.array([1,6,3,2,4,6,8,2])\n",
    "arr2 = np.arange(3,11)\n",
    "\n",
    "ctxt1 = encryptor.encrypt(arr1)\n",
    "ctxt2 = encryptor.encrypt(arr2)\n",
    "cov = st.cov(ctxt1, ctxt2)\n",
    "\n",
    "check.close(cov._arr[0], np.cov(arr1, arr2)[0,1])"
   ]
  },
  {
   "cell_type": "code",
   "execution_count": 23,
   "id": "27075095",
   "metadata": {},
   "outputs": [
    {
     "data": {
      "text/plain": [
       "array([[6., 2.],\n",
       "       [2., 6.]])"
      ]
     },
     "execution_count": 23,
     "metadata": {},
     "output_type": "execute_result"
    }
   ],
   "source": [
    "np.cov(arr1, arr2)"
   ]
  },
  {
   "cell_type": "markdown",
   "id": "e8a78566",
   "metadata": {},
   "source": [
    "### Coeffcient of variance"
   ]
  },
  {
   "cell_type": "code",
   "execution_count": 36,
   "id": "5903eabe",
   "metadata": {},
   "outputs": [
    {
     "name": "stdout",
     "output_type": "stream",
     "text": [
      "Absolute error within: 1.0E-06\n",
      "Relative error within: 1.0E-04\n"
     ]
    }
   ],
   "source": [
    "result = st.coef_var(ctxt)\n",
    "\n",
    "check.close(result._arr[0], np.var(arr) / np.mean(arr))"
   ]
  },
  {
   "cell_type": "markdown",
   "id": "84417a97",
   "metadata": {},
   "source": [
    "## Correleation Coefficient"
   ]
  },
  {
   "cell_type": "code",
   "execution_count": 22,
   "id": "945ab5e6",
   "metadata": {},
   "outputs": [
    {
     "data": {
      "text/plain": [
       "array([222])"
      ]
     },
     "execution_count": 22,
     "metadata": {},
     "output_type": "execute_result"
    }
   ],
   "source": [
    "np.correlate(arr1, arr2)"
   ]
  },
  {
   "cell_type": "code",
   "execution_count": 27,
   "id": "c0dbdca8",
   "metadata": {},
   "outputs": [
    {
     "data": {
      "text/plain": [
       "array([[1.        , 0.33333333],\n",
       "       [0.33333333, 1.        ]])"
      ]
     },
     "execution_count": 27,
     "metadata": {},
     "output_type": "execute_result"
    }
   ],
   "source": [
    "np.corrcoef(arr1, arr2)"
   ]
  },
  {
   "cell_type": "code",
   "execution_count": null,
   "id": "de98c153",
   "metadata": {},
   "outputs": [],
   "source": []
  }
 ],
 "metadata": {
  "kernelspec": {
   "display_name": "Python 3 (ipykernel)",
   "language": "python",
   "name": "python3"
  },
  "language_info": {
   "codemirror_mode": {
    "name": "ipython",
    "version": 3
   },
   "file_extension": ".py",
   "mimetype": "text/x-python",
   "name": "python",
   "nbconvert_exporter": "python",
   "pygments_lexer": "ipython3",
   "version": "3.9.7"
  }
 },
 "nbformat": 4,
 "nbformat_minor": 5
}
