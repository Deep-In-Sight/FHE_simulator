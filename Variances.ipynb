{
 "cells": [
  {
   "cell_type": "code",
   "execution_count": 66,
   "id": "f1c2b2fd",
   "metadata": {},
   "outputs": [],
   "source": [
    "import numpy as np\n",
    "\n",
    "# 동형암호 시뮬레이터 모듈\n",
    "from cipher import *\n",
    "from scheme import *\n",
    "from algorithms import Algorithms \n",
    "from stats import Statistics"
   ]
  },
  {
   "cell_type": "markdown",
   "id": "026ec449-7cdb-4e61-a267-4dd108795f57",
   "metadata": {},
   "source": [
    "동형암호 (글로벌) 파라미터 설정"
   ]
  },
  {
   "cell_type": "code",
   "execution_count": 67,
   "id": "19e20e9e-c4b1-4527-81af-402714cef7bc",
   "metadata": {},
   "outputs": [
    {
     "name": "stdout",
     "output_type": "stream",
     "text": [
      " logp: 30\n",
      " logq: 150 \n",
      " logn: 12\n"
     ]
    }
   ],
   "source": [
    "myring = Ring(seed=1234)\n",
    "parms = Parameters(logp = 30, logq = 150, logn = 12)\n",
    "nslots = 2**parms.logn\n",
    "context = Context(parms, myring)\n",
    "\n",
    "sk = context.generate_secret_key()\n",
    "print(context.params)\n",
    "\n",
    "keys = {\"mult\":context.generate_mult_key(),\n",
    "        \"rot\":{'1':'hi1',\n",
    "               '2':'hi2',\n",
    "               '4':'hi4',\n",
    "               '8':'hi8'}}\n",
    "\n",
    "# 암호화, 복호화, 연산 agent\n",
    "ev = Evaluator(keys, context) \n",
    "encoder = Encoder(context)\n",
    "encryptor = Encryptor(context)\n",
    "decryptor = Decryptor(sk)"
   ]
  },
  {
   "cell_type": "code",
   "execution_count": 68,
   "id": "04b643d7",
   "metadata": {},
   "outputs": [],
   "source": [
    "# 통계 연산 모듈\n",
    "algo = Algorithms(ev, encoder)\n",
    "st = Statistics(ev, encoder)\n",
    "check = Checker()"
   ]
  },
  {
   "cell_type": "markdown",
   "id": "bb4f5f96",
   "metadata": {},
   "source": [
    "### variance"
   ]
  },
  {
   "cell_type": "markdown",
   "id": "fa20fb2b-054c-45fa-ad06-a2ecfa301f29",
   "metadata": {},
   "source": [
    "#### 일반\n",
    "\n",
    "$$\n",
    "var = \\frac{\\Sigma(x_i - (\\bar{x}))^2}{n}\n",
    "$$"
   ]
  },
  {
   "cell_type": "code",
   "execution_count": 71,
   "id": "0cc4eaba-d649-449d-aea6-72fe4d14425f",
   "metadata": {},
   "outputs": [
    {
     "name": "stdout",
     "output_type": "stream",
     "text": [
      "일반 알고리즘, 5.25\n",
      "numpy' result, 5.25\n"
     ]
    }
   ],
   "source": [
    "arr = np.array([1,2,3,4,5,6,7,8])\n",
    "\n",
    "mean = np.mean(arr)\n",
    "var = np.sum((arr - mean)**2)/len(arr)\n",
    "print(\"일반 알고리즘,\", var)\n",
    "print(\"numpy' result,\", np.var(arr))"
   ]
  },
  {
   "cell_type": "markdown",
   "id": "c6bf8a11-9ce8-4e28-a838-50fd65755234",
   "metadata": {},
   "source": [
    "#### 동형암호 버전"
   ]
  },
  {
   "cell_type": "code",
   "execution_count": 70,
   "id": "ac05aed7",
   "metadata": {},
   "outputs": [
    {
     "name": "stdout",
     "output_type": "stream",
     "text": [
      "Absolute error within: 1.0E-06\n",
      "Relative error within: 1.0E-04\n"
     ]
    }
   ],
   "source": [
    "ctxt = encryptor.encrypt(arr)\n",
    "var = st.variance(ctxt)\n",
    "\n",
    "check.close(var._arr[0], np.var(arr))"
   ]
  },
  {
   "cell_type": "markdown",
   "id": "849b6216-f842-4f03-8e3b-7577c1fa15cc",
   "metadata": {},
   "source": []
  },
  {
   "cell_type": "markdown",
   "id": "85ca615a-6b15-4d38-b0ac-067922496480",
   "metadata": {},
   "source": [
    "## 소스코드 \n",
    "https://github.com/Deep-In-Sight/FHE_simulator/blob/9fb4ce2e0ea513181b7b29626de5120947e19bea/stats.py#L18"
   ]
  },
  {
   "cell_type": "markdown",
   "id": "f6187b4a-de35-4e7e-833e-fa902b4871ce",
   "metadata": {},
   "source": [
    "```python\n",
    "def variance(self, ctxt):\n",
    "    ev = self.evaluator\n",
    "    algo = self.algorithms\n",
    "\n",
    "    n = algo.encode_repeat(ctxt._n_elements)\n",
    "    mean = self.mean(ctxt, partial=True, duplicate=True)\n",
    "    self.evaluator.rescale_next(mean)\n",
    "    mean = algo.put_mask(mean, np.arange(ctxt._n_elements))\n",
    "    self.evaluator.rescale_next(mean)\n",
    "    sub = ev.sub(ctxt, mean)\n",
    "    squared = ev.mult(sub, sub, inplace=False) # Or, square()\n",
    "    self.evaluator.rescale_next(squared)\n",
    "\n",
    "    summed_sq = algo.sum_reduce(squared, partial=True, duplicate=False)\n",
    "    return ev.div_by_plain(summed_sq, n)\n",
    "\n",
    "\n",
    "def mean(self, ctxt, partial=True, duplicate=True):\n",
    "    ev = self.evaluator\n",
    "    algo = self.algorithms\n",
    "\n",
    "    n = algo.encode_repeat(ctxt._n_elements)\n",
    "    summed = algo.sum_reduce(ctxt, partial=partial, duplicate=duplicate)\n",
    "    return ev.div_by_plain(summed, n)\n",
    "\n",
    "\n",
    "def sum_reduce(self,\n",
    "                ctxt:CiphertextStat, \n",
    "                partial=False, \n",
    "                duplicate=False): \n",
    "    if not partial and duplicate:\n",
    "        raise ValueError(\"Partial = False, duplicate = True not allowed.\")\n",
    "    ev = self.evaluator\n",
    "\n",
    "    if partial:\n",
    "        n = ctxt._n_elements\n",
    "    else:\n",
    "        n = ctxt.nslots\n",
    "    log2n = np.log2(n).astype(int)\n",
    "\n",
    "    # keep the original ctxt intact\n",
    "    ctxt_ = ev.copy(ctxt)\n",
    "    if duplicate:\n",
    "        # shifted copy\n",
    "        rot_copy = ev.copy(ctxt)\n",
    "        ev.lrot(rot_copy, -ctxt_._n_elements)\n",
    "\n",
    "        ev.add(ctxt_, rot_copy, inplace=True)\n",
    "    for i in range(log2n):\n",
    "        tmp = ev.copy(ctxt_)\n",
    "        ev.lrot(tmp, 2**i, inplace=True)\n",
    "        ev.add(ctxt_, tmp, inplace=True)\n",
    "    return ctxt_\n",
    "```"
   ]
  },
  {
   "cell_type": "code",
   "execution_count": null,
   "id": "c378e323-959b-4c77-a579-bba2ac7499fe",
   "metadata": {},
   "outputs": [],
   "source": []
  }
 ],
 "metadata": {
  "kernelspec": {
   "display_name": "Python 3 (ipykernel)",
   "language": "python",
   "name": "python3"
  },
  "language_info": {
   "codemirror_mode": {
    "name": "ipython",
    "version": 3
   },
   "file_extension": ".py",
   "mimetype": "text/x-python",
   "name": "python",
   "nbconvert_exporter": "python",
   "pygments_lexer": "ipython3",
   "version": "3.9.12"
  }
 },
 "nbformat": 4,
 "nbformat_minor": 5
}
