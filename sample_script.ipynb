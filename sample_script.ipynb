{
 "cells": [
  {
   "cell_type": "code",
   "execution_count": 1,
   "id": "ee4c39cb-4226-44a6-816d-fda02210a50a",
   "metadata": {},
   "outputs": [],
   "source": [
    "import numpy as np\n",
    "import matplotlib.pyplot as plt \n",
    "\n",
    "from scipy.stats import alpha, beta, arcsine, argus, betaprime"
   ]
  },
  {
   "cell_type": "code",
   "execution_count": 2,
   "id": "171ba4bf",
   "metadata": {},
   "outputs": [],
   "source": [
    "def gen_fake_data(nelements = 10000):\n",
    "    data = np.zeros(nelements, dtype=[(\"a\", float), (\"b\", float), (\"c\", float), (\"d\", float)])\n",
    "\n",
    "    a, b = 2.3, 0.8\n",
    "    data['a'] = beta.pdf(np.linspace(beta.ppf(0.01, a, b),\n",
    "                               beta.ppf(0.99, a, b), nelements)\n",
    "                               ,a, b)\n",
    "    a, b = 1.3, 1.2\n",
    "    data['b'] = beta.pdf(np.linspace(beta.ppf(0.01, a, b),\n",
    "                                beta.ppf(0.99, a, b), nelements)\n",
    "                               ,a, b) + \\\n",
    "                arcsine.pdf(np.linspace(arcsine.ppf(0.01),\n",
    "                    arcsine.ppf(0.99),  nelements))\n",
    "    chi=1\n",
    "    a = 3.7\n",
    "    data['c'] = argus.pdf(np.linspace(argus.ppf(0.01, chi),\n",
    "                                argus.ppf(0.99, chi), nelements)\n",
    "                                ,chi) +\\\n",
    "                alpha.pdf(np.linspace(alpha.ppf(0.01, a),\n",
    "                                alpha.ppf(0.99, a), nelements)\n",
    "                                ,a)\n",
    "    chi = 0.3\n",
    "    data['d'] = argus.pdf(np.linspace(argus.ppf(0.01, chi),\n",
    "                                argus.ppf(0.99, chi), nelements)\n",
    "                                ,chi)\n",
    "    return data"
   ]
  },
  {
   "cell_type": "code",
   "execution_count": 4,
   "id": "32e231db",
   "metadata": {},
   "outputs": [
    {
     "data": {
      "text/plain": [
       "Text(0.5, 0.98, 'Original data distribution')"
      ]
     },
     "execution_count": 4,
     "metadata": {},
     "output_type": "execute_result"
    },
    {
     "data": {
      "image/png": "[encoded data removed]",
      "text/plain": [
       "<Figure size 432x288 with 4 Axes>"
      ]
     },
     "metadata": {
      "needs_background": "light"
     },
     "output_type": "display_data"
    }
   ],
   "source": [
    "data = gen_fake_data(10000)\n",
    "fig, axs = plt.subplots(2,2)\n",
    "axs[0,0].plot(data['a'])\n",
    "axs[0,1].plot(data['b'])\n",
    "axs[1,0].plot(data['c'])\n",
    "axs[1,1].plot(data['d'])\n",
    "fig.suptitle(\"Original data distribution\")"
   ]
  },
  {
   "cell_type": "markdown",
   "id": "2a2f251a",
   "metadata": {},
   "source": [
    "### Use Case 1: \n",
    "기업1의 민감정보 a, b, c의 전체 기업에 대한 백분율 / rank 계산하여 투자 적합성, f(a,b,c)를 계산"
   ]
  },
  {
   "cell_type": "code",
   "execution_count": null,
   "id": "f6263f10",
   "metadata": {},
   "outputs": [],
   "source": [
    "from fhe import Server, Client\n",
    "\n",
    "# 모든 민감 데이터를 암호화하여 가지고 있는 서버\n",
    "server = Server(login_method, data=data)\n",
    "\n",
    "# user는 서버와 연결하고, 서버에서 제공하는 encryption key로 자신의 데이터를 암호화.\n",
    "user = Client(server.Encrypt_key)"
   ]
  },
  {
   "cell_type": "code",
   "execution_count": null,
   "id": "f6940bb2",
   "metadata": {},
   "outputs": [],
   "source": [
    "user.set_data = {'a':0.1, 'b':2, 'c':3, 'd':0.2}\n",
    "user.encrypt()"
   ]
  },
  {
   "cell_type": "code",
   "execution_count": 19,
   "id": "2c66c574",
   "metadata": {},
   "outputs": [],
   "source": [
    "class FHE_Server:\n",
    "    def __init__(self):\n",
    "        pass\n",
    "    \n",
    "    def login(self):\n",
    "        pass\n",
    "        \n",
    "\n",
    "class Server_Complex_algorithm(FHE_Server):\n",
    "    def __init__(self):\n",
    "        super().__init__()\n",
    "        pass\n",
    "    \n",
    "    def expected_company_value(self, company_data):\n",
    "        \"\"\"run some FHE algorithms\"\"\"\n",
    "        return \n",
    "    \n",
    "    def is_company_unicorn(self, company_data):\n",
    "        \"\"\"determine if the company is unicorn.\"\"\"\n",
    "        return \n",
    "\n",
    "    def invest_score(self, data):\n",
    "        \"\"\"do something\"\"\"\n",
    "        ev = self.fhe_evaluator\n",
    "        # check for fields\n",
    "        if self._check_feild_avail(data):\n",
    "            rank_a = ev.get_univariate_rank(data, dataset=\"통계청기업정보1\", field = \"a\")\n",
    "            rank_b = ev.get_univariate_rank(data, dataset=\"통계청기업정보1\", field = \"b\")\n",
    "            rank_c = ev.get_univariate_rank(data, dataset=\"통계청기업정보1\", field = \"c\")\n",
    "        else:\n",
    "            raise ValueError\n",
    "            \n",
    "        return a+b*c"
   ]
  },
  {
   "cell_type": "code",
   "execution_count": 8,
   "id": "28a4f533",
   "metadata": {},
   "outputs": [
    {
     "name": "stdout",
     "output_type": "stream",
     "text": [
      "A회사는 투자 적합도가 85.32%입니다.\n"
     ]
    }
   ],
   "source": [
    "fitness = server.invest_score(user.data)\n",
    "\n",
    "\n",
    "print(f\"A회사는 투자 적합도가 {fitness:.2f}%입니다.\")"
   ]
  },
  {
   "cell_type": "markdown",
   "id": "52bef8a3",
   "metadata": {},
   "source": [
    "## Use Case 2:\n",
    "민감정보의 활용을 장려하기 위해 모델 distribution을 제공\n",
    "\n",
    "0. 민감정보는 암호화 되어있음\n",
    "1. 민감정보 a,b,c,d에 대한 통계적 특성 계산 (min, max, mean, mode, moments, quantile 등등...)\n",
    "2. 특정 분포 모델을 가정하여 민감정보 a,b,c,d의 원래 분포를 재건\n",
    "3. 재건된 가짜 데이터에 대해 후속 분석 진행 "
   ]
  },
  {
   "cell_type": "code",
   "execution_count": null,
   "id": "bb9d9849",
   "metadata": {},
   "outputs": [],
   "source": [
    "from fhe import Server, Client\n",
    "\n",
    "# FHE 연산이 가능한 서버. 데이터는 User 소유.\n",
    "server = Server(login_method, data=data)\n",
    "\n",
    "# user는 서버와 연결하고, user가 secret key를 생성\n",
    "user = Client(server.Encrypt_key)"
   ]
  },
  {
   "cell_type": "code",
   "execution_count": null,
   "id": "0f4f7efc",
   "metadata": {},
   "outputs": [],
   "source": [
    "# send encrypted data\n",
    "enc_summary_stat = server.summary_stat(field=\"a_very_important_property\", dataset='통계청기업정보1')\n",
    "\n",
    "\n",
    "summary_stat = user.decrypt(enc_summary_stat)\n",
    "summary_stat_multi_dim = server.summary_stat(field=[\"a_very_important_property\", \"another_property\"],\n",
    "                                           dataset='통계청기업정보1')"
   ]
  },
  {
   "cell_type": "code",
   "execution_count": 20,
   "id": "ab948a76",
   "metadata": {},
   "outputs": [],
   "source": [
    "summary_stat = {'n_elements':50000000, \n",
    "                'mean':10.3,\n",
    "                'mode':7.124,\n",
    "                'min': 0.2,\n",
    "                'max': 30.06,\n",
    "                'q1': 22.93,\n",
    "                'q3': 4.2,\n",
    "                'var':10.59,\n",
    "                'std':3.25423,\n",
    "                'skewness':0.64,\n",
    "                'kurtosis':2.93}"
   ]
  },
  {
   "cell_type": "code",
   "execution_count": 21,
   "id": "d85a3e66",
   "metadata": {},
   "outputs": [
    {
     "name": "stdout",
     "output_type": "stream",
     "text": [
      "{'n_elements': 50000000, 'mean': 10.3, 'mode': 7.124, 'min': 0.2, 'max': 30.06, 'q1': 22.93, 'q3': 4.2, 'var': 10.59, 'std': 3.25423, 'skewness': 0.64, 'kurtosis': 2.93}\n"
     ]
    }
   ],
   "source": [
    "print(summary_stat)"
   ]
  },
  {
   "cell_type": "code",
   "execution_count": 22,
   "id": "729975dd",
   "metadata": {},
   "outputs": [],
   "source": [
    "def guess_org_dist(summary_stat):\n",
    "    \"\"\"some fancy statstical technic + good enough assumptions\"\"\"\n",
    "    pass\n",
    "    return "
   ]
  },
  {
   "cell_type": "code",
   "execution_count": null,
   "id": "bc307809",
   "metadata": {},
   "outputs": [],
   "source": [
    "recovered_dist = guess_org_dist(summary_stat) #recovered_dist = betaprime(13,2) "
   ]
  },
  {
   "cell_type": "code",
   "execution_count": 33,
   "id": "e972e3f3",
   "metadata": {},
   "outputs": [],
   "source": [
    "x = np.linspace(summary_stat['min'], summary_stat['max'], summary_stat['n_elements'])"
   ]
  },
  {
   "cell_type": "code",
   "execution_count": 36,
   "id": "3673b9cb",
   "metadata": {},
   "outputs": [
    {
     "data": {
      "text/plain": [
       "[<matplotlib.lines.Line2D at 0x7f3b3d3e7520>]"
      ]
     },
     "execution_count": 36,
     "metadata": {},
     "output_type": "execute_result"
    },
    {
     "data": {
      "image/png": "[encoded data removed]",
      "text/plain": [
       "<Figure size 432x288 with 1 Axes>"
      ]
     },
     "metadata": {
      "needs_background": "light"
     },
     "output_type": "display_data"
    }
   ],
   "source": [
    "plt.plot(x, recovered_dist.pdf(x))"
   ]
  },
  {
   "cell_type": "code",
   "execution_count": 44,
   "id": "7776c228",
   "metadata": {},
   "outputs": [
    {
     "data": {
      "image/png": "[encoded data removed]",
      "text/plain": [
       "<Figure size 432x288 with 1 Axes>"
      ]
     },
     "metadata": {
      "needs_background": "light"
     },
     "output_type": "display_data"
    }
   ],
   "source": [
    "plt.hist(recovered_dist.pdf(x))\n",
    "plt.title(\"de-identified distribution of the property A\")\n",
    "plt.show()"
   ]
  },
  {
   "cell_type": "code",
   "execution_count": null,
   "id": "608aa2d2",
   "metadata": {},
   "outputs": [],
   "source": []
  }
 ],
 "metadata": {
  "kernelspec": {
   "display_name": "Python 3 (ipykernel)",
   "language": "python",
   "name": "python3"
  },
  "language_info": {
   "codemirror_mode": {
    "name": "ipython",
    "version": 3
   },
   "file_extension": ".py",
   "mimetype": "text/x-python",
   "name": "python",
   "nbconvert_exporter": "python",
   "pygments_lexer": "ipython3",
   "version": "3.9.0"
  }
 },
 "nbformat": 4,
 "nbformat_minor": 5
}
