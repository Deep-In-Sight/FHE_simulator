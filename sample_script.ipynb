{
 "cells": [
  {
   "cell_type": "code",
   "execution_count": 9,
   "id": "e5c80cd6",
   "metadata": {},
   "outputs": [],
   "source": [
    "import numpy as np\n"
   ]
  },
  {
   "cell_type": "markdown",
   "id": "6c074182",
   "metadata": {},
   "source": [
    "# Python/Scipy version"
   ]
  },
  {
   "cell_type": "code",
   "execution_count": 14,
   "id": "8a99e15f",
   "metadata": {},
   "outputs": [
    {
     "name": "stdout",
     "output_type": "stream",
     "text": [
      "[-0.35765076  1.12437825  0.44046479 ...  0.19204732  0.41584933\n",
      " -1.06710839]\n"
     ]
    }
   ],
   "source": [
    "from scipy import stats\n",
    "import matplotlib.pyplot as plt \n",
    "\n",
    "data_col1 = np.random.randn(50000)\n",
    "print(data_col1)"
   ]
  },
  {
   "cell_type": "code",
   "execution_count": 17,
   "id": "e501bacd",
   "metadata": {},
   "outputs": [],
   "source": [
    "k = stats.kurtosis(data_col1)"
   ]
  },
  {
   "cell_type": "code",
   "execution_count": 19,
   "id": "8af6eed8",
   "metadata": {},
   "outputs": [],
   "source": [
    "distnames = ['laplace', 'norm', 'uniform']"
   ]
  },
  {
   "cell_type": "code",
   "execution_count": 25,
   "id": "76d4db82",
   "metadata": {},
   "outputs": [
    {
     "data": {
      "image/png": "[encoded data removed]",
      "text/plain": [
       "<Figure size 432x288 with 1 Axes>"
      ]
     },
     "metadata": {
      "needs_background": "light"
     },
     "output_type": "display_data"
    }
   ],
   "source": [
    "x = np.linspace(-5,5,100)\n",
    "ax = plt.subplot()\n",
    "for distname in distnames:\n",
    "    if distname == 'uniform':\n",
    "        dist = getattr(stats, distname)(loc=-2, scale=4)\n",
    "    else:\n",
    "        dist = getattr(stats, distname)\n",
    "    data = dist.rvs(size=1000)\n",
    "    kur = kurtosis(data, fisher=True)\n",
    "    y = dist.pdf(x)\n",
    "    ax.plot(x, y, label=\"{}, {}\".format(distname, round(kur, 3)))\n",
    "    ax.legend()"
   ]
  },
  {
   "cell_type": "code",
   "execution_count": 26,
   "id": "1a01be56",
   "metadata": {},
   "outputs": [],
   "source": [
    "dd = stats.bernoulli(p=0.6)"
   ]
  },
  {
   "cell_type": "code",
   "execution_count": 43,
   "id": "6e0d0ab1",
   "metadata": {},
   "outputs": [
    {
     "data": {
      "text/plain": [
       "array([0])"
      ]
     },
     "execution_count": 43,
     "metadata": {},
     "output_type": "execute_result"
    }
   ],
   "source": [
    "dd.rvs(1)"
   ]
  },
  {
   "cell_type": "code",
   "execution_count": 30,
   "id": "93d4bb4c",
   "metadata": {},
   "outputs": [],
   "source": [
    "\n",
    "x = np.random.rand(1000)\n",
    "ax.plot(x, dd.pmf(x))\n",
    "plt.show()"
   ]
  },
  {
   "cell_type": "code",
   "execution_count": 48,
   "id": "20b840f4",
   "metadata": {},
   "outputs": [],
   "source": []
  },
  {
   "cell_type": "code",
   "execution_count": 55,
   "id": "d14e99bc",
   "metadata": {},
   "outputs": [],
   "source": [
    "def recover_distribution(N, mean, mode, median, range, moments, variance):\n",
    "    \"\"\"\n",
    "    통계학자들이 만들어내길 기대...  \n",
    "    \n",
    "    예) \n",
    "    1. R의 momentify 패키지(https://stats.stackexchange.com/questions/141652/constructing-a-continuous-distribution-to-match-m-moments); \n",
    "    2. https://en.wikipedia.org/wiki/Pearson_distribution \n",
    "    \"\"\"\n",
    "    a, b = 2.31, 0.627\n",
    "    dist = stats.beta(a, b)\n",
    "    # check\n",
    "    mean, var, skew, kurt = dist.stats(moments='mvsk')\n",
    "    print(mean, var, skew, kurt)\n",
    "    # input의 mean, var, skew, kurt와 거의 일치하는 값이 나와야함. \n",
    "    \n",
    "    return dist.rvs(size=N)"
   ]
  },
  {
   "cell_type": "code",
   "execution_count": 57,
   "id": "69398fc6",
   "metadata": {},
   "outputs": [
    {
     "name": "stdout",
     "output_type": "stream",
     "text": [
      "0.7865168539325842 0.04264874077027537 -1.1240714863228223 0.5654574834055228\n"
     ]
    }
   ],
   "source": [
    "newdata = recover_distribution(1000, \n",
    "                               0.7865168539325842, \n",
    "                               0.4, \n",
    "                               0.432, \n",
    "                               [-0.4, 1.2], \n",
    "                               [0.5, 0.3, -1.1240714863228223, 0.5654574834055228], \n",
    "                               0.04264874077027537)"
   ]
  },
  {
   "cell_type": "code",
   "execution_count": 58,
   "id": "c53ed6da",
   "metadata": {},
   "outputs": [
    {
     "data": {
      "text/plain": [
       "(array([  8.,  11.,  22.,  43.,  48.,  69.,  90., 125., 199., 385.]),\n",
       " array([0.07148899, 0.16433992, 0.25719085, 0.35004178, 0.44289271,\n",
       "        0.53574364, 0.62859457, 0.72144549, 0.81429642, 0.90714735,\n",
       "        0.99999828]),\n",
       " <BarContainer object of 10 artists>)"
      ]
     },
     "execution_count": 58,
     "metadata": {},
     "output_type": "execute_result"
    },
    {
     "data": {
      "image/png": "[encoded data removed]",
      "text/plain": [
       "<Figure size 432x288 with 1 Axes>"
      ]
     },
     "metadata": {
      "needs_background": "light"
     },
     "output_type": "display_data"
    }
   ],
   "source": [
    "plt.hist(newdata)"
   ]
  },
  {
   "cell_type": "markdown",
   "id": "37c1b7c8",
   "metadata": {},
   "source": [
    "예) 민감점보의 summary statistics를 구하여 proxy 분포를 얻어내고, 그 분포를 통계 분석에 활용. \n",
    "\n",
    "### Univariate\n",
    "mean, median, mode, 25- 75 percentile, var, std, 1,2,3,4-th moment(Skewness, Kurtosis), ...\n",
    "\n",
    "proxy_data = make_fake_dist(mean, median, mode, 25- 75 percentile, var, std, 1,2,3,4-th moment(Skewness, Kurtosis))\n",
    "##### do fancy plots"
   ]
  },
  {
   "cell_type": "code",
   "execution_count": null,
   "id": "b12ba386",
   "metadata": {},
   "outputs": [],
   "source": [
    "class HomomorphicStatistics()\n",
    "    def __init__(self):\n",
    "        pass\n",
    "    def kurtosis(self, ctxt):\n",
    "        return stats.kurtosis"
   ]
  },
  {
   "cell_type": "code",
   "execution_count": null,
   "id": "a6472b8e",
   "metadata": {},
   "outputs": [],
   "source": []
  },
  {
   "cell_type": "markdown",
   "id": "d2d25ad2",
   "metadata": {},
   "source": [
    "# Client side"
   ]
  },
  {
   "cell_type": "markdown",
   "id": "ac5c2e7a",
   "metadata": {},
   "source": [
    "## establish connection to server\n",
    "\n",
    "## Encrypt data locally\n",
    "\n",
    "## run local analysis script"
   ]
  },
  {
   "cell_type": "code",
   "execution_count": null,
   "id": "0082a199",
   "metadata": {},
   "outputs": [],
   "source": [
    "## local analysis script\n",
    "\n",
    "\n",
    "\n",
    "std = "
   ]
  },
  {
   "cell_type": "code",
   "execution_count": 5,
   "id": "cd852589",
   "metadata": {},
   "outputs": [
    {
     "name": "stdout",
     "output_type": "stream",
     "text": [
      "[0.26087087 0.57244416 0.2727303  ... 0.36360699 0.10566148 0.69670038]\n"
     ]
    }
   ],
   "source": [
    "data_col1 = np.random.rand(50000000)\n",
    "print(data_col1)"
   ]
  },
  {
   "cell_type": "code",
   "execution_count": 6,
   "id": "4fc97601",
   "metadata": {},
   "outputs": [],
   "source": [
    "enc_data = data_col1"
   ]
  },
  {
   "cell_type": "markdown",
   "id": "684ac4ac",
   "metadata": {},
   "source": [
    "# Server\n",
    "\n",
    "## load homomorphic_stat package"
   ]
  },
  {
   "cell_type": "code",
   "execution_count": 7,
   "id": "5f0a0778",
   "metadata": {},
   "outputs": [],
   "source": [
    "recieved_data = enc_data"
   ]
  },
  {
   "cell_type": "code",
   "execution_count": null,
   "id": "9a2830e5",
   "metadata": {},
   "outputs": [],
   "source": [
    "k = hst.kurtosis(recieved_data)"
   ]
  },
  {
   "cell_type": "code",
   "execution_count": null,
   "id": "91d541b4",
   "metadata": {},
   "outputs": [],
   "source": []
  },
  {
   "cell_type": "code",
   "execution_count": null,
   "id": "dfd87dad",
   "metadata": {},
   "outputs": [],
   "source": []
  }
 ],
 "metadata": {
  "kernelspec": {
   "display_name": "Python 3 (ipykernel)",
   "language": "python",
   "name": "python3"
  },
  "language_info": {
   "codemirror_mode": {
    "name": "ipython",
    "version": 3
   },
   "file_extension": ".py",
   "mimetype": "text/x-python",
   "name": "python",
   "nbconvert_exporter": "python",
   "pygments_lexer": "ipython3",
   "version": "3.9.0"
  }
 },
 "nbformat": 4,
 "nbformat_minor": 5
}
